{
 "cells": [
  {
   "cell_type": "markdown",
   "metadata": {},
   "source": [
    "# Compute uni-mutational fractions"
   ]
  },
  {
   "cell_type": "code",
   "execution_count": 1,
   "metadata": {
    "execution": {
     "iopub.execute_input": "2021-04-06T23:33:58.597197Z",
     "iopub.status.busy": "2021-04-06T23:33:58.596078Z",
     "iopub.status.idle": "2021-04-06T23:34:27.549989Z",
     "shell.execute_reply": "2021-04-06T23:34:27.550630Z"
    }
   },
   "outputs": [],
   "source": [
    "%run \"Header.ipynb\"\n",
    "%run \"LoadMutationJSONData.ipynb\"\n",
    "%run \"GeneUtils.ipynb\""
   ]
  },
  {
   "cell_type": "markdown",
   "metadata": {},
   "source": [
    "## Compute uni-mutational fractions: $N_1$, $N_2$, $N_3$ for each position in the genome\n",
    "\n",
    "NOTE: in the paper we use different numbers (N2 instead of N1, etc), but the idea is the same\n",
    "\n",
    "(We make the simplifying assumption in the following text that all reads contain only nucleotides, and don't contain degenerate bases like $Y$ or $N$.)\n",
    "\n",
    "For a genomic position $P$ with a reference nucleotide $R \\in \\{A, C, G, T\\}$, we consider three values: $N_1$, $N_2$, and $N_3$. __Ignoring reads aligned to $P$ that match $R$__, a read aligned to $P$ can have one of three other nucleotides at this position (for example, if $R$ is $A$, then these \"non-matching\" reads should only describe $C$, $G$, or $T$).\n",
    "\n",
    "$N_1$, $N_2$, and $N_3$ define the number of non-matching reads aligned to $P$ for each of these three remaining nucleoides, such that $N_1 \\geq N_2 \\geq N_3$:\n",
    "\n",
    "- $N_1$ is the number of non-matching reads that contain the most common \"alternate\" nucleotide at $P$.\n",
    "- $N_2$ is the number of non-matching reads for the second-most common \"alternate\" nucleotide at $P$.\n",
    "- $N_3$ is the number of non-matching reads for the third-most (least) common \"alternate\" nucleotide at $P$.\n",
    "\n",
    "For example, if a given position in a reference sequence is $G$ and the covering reads for this position are:\n",
    "\n",
    "- 100 $G$\n",
    "- 1 $T$\n",
    "- 50 $C$\n",
    "- 5 $A$\n",
    "\n",
    "Then we would say that $N_1$ = 50 (for $C$), $N_2$ = 5 (for $A$), and $N_3$ = 1 (for $T$).\n",
    "\n",
    "We note that, for low-coverage and/or stable genomic positions, some or all of $N_1$, $N_2$, and $N_3$ may be zero.\n",
    "\n",
    "We are interested in computing $f = \\dfrac{N_1}{N_1 + N_2 + N_3}$ (which is only defined when $N_1 > 0$).\n",
    "\n",
    "For a position with reasonably high coverage, high values of this fraction (at most $f = 1$) indicate that the metagenome likely has one primary \"alternate\" nucleotide at this position, while lower values (at lowest $f = \\dfrac{1}{3}$) indicate that there are likely multiple \"common\" alternate nucleotides."
   ]
  },
  {
   "cell_type": "code",
   "execution_count": 2,
   "metadata": {
    "execution": {
     "iopub.execute_input": "2021-04-06T23:34:27.609383Z",
     "iopub.status.busy": "2021-04-06T23:34:27.599548Z",
     "iopub.status.idle": "2021-04-06T23:34:35.008105Z",
     "shell.execute_reply": "2021-04-06T23:34:35.007373Z"
    }
   },
   "outputs": [],
   "source": [
    "seq2pos2f = {}\n",
    "for seq in SEQS:\n",
    "    seq2pos2f[seq] = {}\n",
    "    for pos in seq2pos2matchct[seq]:\n",
    "        non_matches = seq2pos2mismatches[seq][pos]\n",
    "        if len(non_matches) > 0:\n",
    "            non_match_cts = non_matches.values()\n",
    "            f = max(non_match_cts) / sum(non_match_cts)\n",
    "            seq2pos2f[seq][pos] = f\n",
    "#             if max(non_match_cts) > seq2pos2matchct[seq][pos]:\n",
    "#                 print(\"Seq {} at pos {} has reference that isn't consensus of aligned reads.\".format(\n",
    "#                     seq2name[seq], pos\n",
    "#                 ))\n",
    "#                 print(\"Num matches: {}, mismatches: {}\".format(seq2pos2matchct[seq][pos], non_matches))\n",
    "        else:\n",
    "            # There are no non-matches, so N1, N2, and N3 are all 0. This means that f is undefined\n",
    "            # (since it'd be 0 / 0).\n",
    "            seq2pos2f[seq][pos] = None\n",
    "            \n",
    "# The following code computes \"f\" across the genomes.\n",
    "# The plots are... not very informative.\n",
    "#     pyplot.scatter([int(x) for x in seq2pos2f[seq].keys()], seq2pos2f[seq].values(), c=SCATTERPLOT_PT_COLOR)\n",
    "#     pyplot.title(\"{}: f across genome, where defined and where coverage $\\geq$ {}\".format(\n",
    "#         seq2name[seq], MIN_COV\n",
    "#     ))\n",
    "#     pyplot.xlabel(\"Sequence position\")\n",
    "#     pyplot.ylabel(r\"$\\dfrac{N_1}{N_1 + N_2 + N_3}$\")\n",
    "#     pyplot.locator_params(axis=\"x\", nbins=5)\n",
    "#     use_thousands_sep(pyplot.gca().xaxis)\n",
    "#     pyplot.show()"
   ]
  }
 ],
 "metadata": {
  "kernelspec": {
   "display_name": "Python (qiime2-2021.2)",
   "language": "python",
   "name": "myenv"
  },
  "language_info": {
   "codemirror_mode": {
    "name": "ipython",
    "version": 3
   },
   "file_extension": ".py",
   "mimetype": "text/x-python",
   "name": "python",
   "nbconvert_exporter": "python",
   "pygments_lexer": "ipython3",
   "version": "3.7.9"
  }
 },
 "nbformat": 4,
 "nbformat_minor": 4
}
