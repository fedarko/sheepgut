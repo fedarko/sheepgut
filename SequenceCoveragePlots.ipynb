{
 "cells": [
  {
   "cell_type": "markdown",
   "metadata": {},
   "source": [
    "# Coverage statistics / plots of selected sequences"
   ]
  },
  {
   "cell_type": "code",
   "execution_count": null,
   "metadata": {},
   "outputs": [],
   "source": [
    "%run \"Header.ipynb\"\n",
    "%run \"LoadMutationJSONData.ipynb\""
   ]
  },
  {
   "cell_type": "markdown",
   "metadata": {},
   "source": [
    "### Real quick: what are the average coverages of each sequence?"
   ]
  },
  {
   "cell_type": "code",
   "execution_count": null,
   "metadata": {},
   "outputs": [],
   "source": [
    "for seq in SEQS:\n",
    "    covs = seq2pos2totalcov[seq].values()\n",
    "    mean_cov = mean(covs)\n",
    "    median_cov = median(covs)\n",
    "    print(\"Sequence {} has average coverage {} and median coverage {}.\".format(seq, mean_cov, median_cov))"
   ]
  },
  {
   "cell_type": "markdown",
   "metadata": {},
   "source": [
    "### Plot coverages across genomes"
   ]
  },
  {
   "cell_type": "code",
   "execution_count": null,
   "metadata": {},
   "outputs": [],
   "source": [
    "def show_coverage_plot(seq, axes, binlen=None, verbose=False):\n",
    "    \"\"\"seq should be an entry in SEQS. binlen can be None (if every position should be plotted),\n",
    "    or it can be an integer -- in which case this will bin this many positions and just plot\n",
    "    the average coverage within each bin (bins are not guaranteed to correspond to a uniform number\n",
    "    of positions in the sequence unless the length of the sequence is exactly divisible by binlen).\n",
    "    \"\"\"\n",
    "    # seq2pos2cov stores positions as strings, but we need to plot them as ints\n",
    "    int_positions = sorted([int(p) for p in seq2pos2totalcov[seq].keys()])\n",
    "    \n",
    "    # quick sanity check: int_positions should not have any gaps\n",
    "    assert int_positions == list(range(1, len(int_positions) + 1))\n",
    "    \n",
    "    str_positions = [str(p) for p in int_positions]\n",
    "    coverages = [seq2pos2totalcov[seq][pos] for pos in str_positions]\n",
    "    \n",
    "    title = \"{}: Coverage across genome (length {:,} bp)\".format(seq2name[seq], len(int_positions))\n",
    "    \n",
    "    if binlen is None:\n",
    "        axes.scatter(int_positions, coverages, c=SCATTERPLOT_PT_COLOR)\n",
    "    else:\n",
    "        seqlen = len(int_positions)\n",
    "        if verbose: print(\"Doing binning. Seq len for {} is {}\".format(seq, seqlen))\n",
    "        if binlen < 1 or binlen > seqlen:\n",
    "            # A bin length of 1 shouldn't change anything, compared with binlen=None (since at that\n",
    "            # point each bin maps one-to-one to a position); a bin length equal to the sequence length\n",
    "            # just transforms this into plotting a single point with the average coverage across the\n",
    "            # whole sequence. Anything below or above either of these makes no sense.\n",
    "            raise ValueError(\"binlen is outside of [1, seq length].\")\n",
    "        binned_positions = []\n",
    "        binned_coverages = []\n",
    "        left_pos = 1\n",
    "        while left_pos + binlen - 1 <= seqlen:\n",
    "            # The -1 is needed to fit things in properly.\n",
    "            # For example, say our sequence is ABCDEFGHIJKLMNOP (start = 1, end = 16).\n",
    "            # Bins w/ length 3:                1234567890123456\n",
    "            #                                  ---===---===---=\n",
    "            # The [left pos, right pos] intervals are:\n",
    "            # [1, 3], [4, 6], [7, 9], [10, 12], [13, 15], [16]\n",
    "            right_pos = left_pos + binlen - 1\n",
    "            binned_positions.append((left_pos + right_pos) / 2)\n",
    "            positions = range(left_pos, right_pos + 1)\n",
    "            mean_cov = mean([coverages[p - 1] for p in positions])\n",
    "            if mean_cov > 8000:\n",
    "                print(\"Bin with average coverage > 8 kbp in {} from [{}, {}]\".format(\n",
    "                    seq2name[seq], left_pos, right_pos\n",
    "                ))\n",
    "                if mean_cov > 40000:\n",
    "                    print(\"ALSO THIS SAME BIN HAS AVERAGE COVERAGE > 40 kbp: cov is {:,}\".format(mean_cov))\n",
    "            binned_coverages.append(mean_cov)\n",
    "            if verbose: print(\"Created bin for [{}, {}]\".format(left_pos, right_pos))\n",
    "            left_pos = right_pos + 1\n",
    "\n",
    "        # Unless seqlen was evenly divisible by binlen, there will be some extra positions not\n",
    "        # in any bins yet (at the right end of the sequence). Create a new bin to hold these.\n",
    "        if left_pos <= seqlen:\n",
    "            positions = range(left_pos, seqlen + 1)\n",
    "            binned_positions.append((positions[0] + positions[-1]) / 2)\n",
    "            mean_cov = mean([coverages[p - 1] for p in positions])\n",
    "            binned_coverages.append(mean_cov)\n",
    "            if verbose: print(\"Created extra bin for [{}, {}]\".format(positions[0], positions[-1]))\n",
    "            title += \"\\nEvery dot but the rightmost represents a bin of {:,} bp.\".format(binlen)\n",
    "            title += \" The rightmost dot is a bin of {:,} bp.\".format(len(positions))\n",
    "        else:\n",
    "            title += \"\\nEvery dot represents a bin of {:,} bp.\".format(binlen)\n",
    "\n",
    "        axes.scatter(binned_positions, binned_coverages, c=SCATTERPLOT_PT_COLOR)\n",
    "        \n",
    "    axes.set_title(title)\n",
    "    axes.set_xlabel(\"Sequence position\")\n",
    "    if binlen is None:\n",
    "        axes.set_ylabel(\"Coverage\")\n",
    "    else:\n",
    "        axes.set_ylabel(\"Average coverage within each bin\")\n",
    "    \n",
    "    # Limit the number of ticks on the x-axis, to avoid overlapping position labels.\n",
    "    # https://stackoverflow.com/a/13418954\n",
    "    axes.locator_params(axis=\"x\", nbins=10)\n",
    "    \n",
    "    use_thousands_sep(axes.get_xaxis())\n",
    "    use_thousands_sep(axes.get_yaxis())\n",
    "    \n",
    "    axes.set_ylim(0)"
   ]
  },
  {
   "cell_type": "markdown",
   "metadata": {},
   "source": [
    "#### Coverages: no binning, one dot per position"
   ]
  },
  {
   "cell_type": "code",
   "execution_count": null,
   "metadata": {},
   "outputs": [],
   "source": [
    "figN, (ax1N, ax2N, ax3N) = pyplot.subplots(3, gridspec_kw={\"hspace\": 0.3})\n",
    "show_coverage_plot(\"edge_6104\", ax1N)\n",
    "show_coverage_plot(\"edge_1671\", ax2N)\n",
    "show_coverage_plot(\"edge_2358\", ax3N)\n",
    "figN.set_size_inches(15, 20)"
   ]
  },
  {
   "cell_type": "markdown",
   "metadata": {},
   "source": [
    "#### Coverages: with binning every 1 kbp\n",
    "Subplot stuff based on [the matplotlib docs](https://matplotlib.org/3.1.0/gallery/subplots_axes_and_figures/subplots_demo.html) and [this Stack Overflow comment](https://stackoverflow.com/a/35881382) (from which I learned about `gridspec_kw`)."
   ]
  },
  {
   "cell_type": "code",
   "execution_count": null,
   "metadata": {},
   "outputs": [],
   "source": [
    "fig, (ax1, ax2, ax3) = pyplot.subplots(3, gridspec_kw={\"hspace\": 0.3})\n",
    "show_coverage_plot(\"edge_6104\", ax1, binlen=1000)\n",
    "show_coverage_plot(\"edge_1671\", ax2, binlen=1000)\n",
    "show_coverage_plot(\"edge_2358\", ax3, binlen=1000)\n",
    "fig.set_size_inches(15, 20)\n",
    "# Remove gratuitous whitespace in saved image: https://stackoverflow.com/a/11847260\n",
    "fig.savefig(\"figs/seq-coverage-binned.png\", bbox_inches=\"tight\")"
   ]
  },
  {
   "cell_type": "code",
   "execution_count": null,
   "metadata": {},
   "outputs": [],
   "source": [
    "int_positions = sorted([int(p) for p in seq2pos2totalcov[\"edge_2358\"].keys()])\n",
    "\n",
    "# quick sanity check: int_positions should not have any gaps\n",
    "assert int_positions == list(range(1, len(int_positions) + 1))\n",
    "\n",
    "str_positions = [str(p) for p in int_positions]\n",
    "covs = [seq2pos2totalcov[\"edge_2358\"][pos] for pos in str_positions]"
   ]
  },
  {
   "cell_type": "code",
   "execution_count": null,
   "metadata": {},
   "outputs": [],
   "source": [
    "outlier_positions = []\n",
    "outlier_covs = []\n",
    "for i, c in enumerate(covs, 1):\n",
    "    if c < 2000:\n",
    "        outlier_positions.append(i)\n",
    "        outlier_covs.append(c)\n",
    "print(\"{} positions with cov < 2,000x\".format(len(outlier_positions)))\n",
    "print(\"Average cov of these positions: {:.2f}x\".format(mean(outlier_covs)))"
   ]
  },
  {
   "cell_type": "code",
   "execution_count": null,
   "metadata": {},
   "outputs": [],
   "source": [
    "print(outlier_positions)"
   ]
  },
  {
   "cell_type": "code",
   "execution_count": null,
   "metadata": {},
   "outputs": [],
   "source": []
  }
 ],
 "metadata": {
  "kernelspec": {
   "display_name": "Python (qiime2-2021.2)",
   "language": "python",
   "name": "myenv"
  },
  "language_info": {
   "codemirror_mode": {
    "name": "ipython",
    "version": 3
   },
   "file_extension": ".py",
   "mimetype": "text/x-python",
   "name": "python",
   "nbconvert_exporter": "python",
   "pygments_lexer": "ipython3",
   "version": "3.6.13"
  }
 },
 "nbformat": 4,
 "nbformat_minor": 4
}
