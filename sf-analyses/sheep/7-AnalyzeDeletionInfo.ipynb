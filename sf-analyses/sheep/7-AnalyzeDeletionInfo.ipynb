{
 "cells": [
  {
   "cell_type": "markdown",
   "id": "1bfbe246",
   "metadata": {},
   "source": [
    "# Deletion analyses: SheepGut\n",
    "\n",
    "We've got a few goals here:\n",
    "\n",
    "1. Identify \"deletion rich\" reads, aka those that have lots of deletions in their CIGAR strings.\n",
    "\n",
    "2. Identify \"deletion rich\" contigs, aka those that have many \"deletion rich\" positions. (And I guess there are many ways to classify a position as deletion rich, hm.)\n",
    "\n",
    "We'll use the TSV files we just generated to create plots about these things."
   ]
  },
  {
   "cell_type": "markdown",
   "id": "466129ab",
   "metadata": {},
   "source": [
    "## 1. Deletion-heavy reads (SheepGut)"
   ]
  }
 ],
 "metadata": {
  "kernelspec": {
   "display_name": "Python 3 (ipykernel)",
   "language": "python",
   "name": "python3"
  },
  "language_info": {
   "codemirror_mode": {
    "name": "ipython",
    "version": 3
   },
   "file_extension": ".py",
   "mimetype": "text/x-python",
   "name": "python",
   "nbconvert_exporter": "python",
   "pygments_lexer": "ipython3",
   "version": "3.7.6"
  }
 },
 "nbformat": 4,
 "nbformat_minor": 5
}
