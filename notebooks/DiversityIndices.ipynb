{
 "cells": [
  {
   "cell_type": "markdown",
   "metadata": {},
   "source": [
    "# Compute diversity indices"
   ]
  },
  {
   "cell_type": "code",
   "execution_count": 1,
   "metadata": {},
   "outputs": [],
   "source": [
    "%run \"Header.ipynb\""
   ]
  },
  {
   "cell_type": "code",
   "execution_count": 31,
   "metadata": {},
   "outputs": [],
   "source": [
    "import math\n",
    "import pysam\n",
    "import pysamstats\n",
    "import skbio"
   ]
  },
  {
   "cell_type": "markdown",
   "metadata": {},
   "source": [
    "## Parameters of the diversity index: $p$ and $m$\n",
    "\n",
    "See paper for description."
   ]
  },
  {
   "cell_type": "code",
   "execution_count": 26,
   "metadata": {},
   "outputs": [],
   "source": [
    "m = 5\n",
    "\n",
    "# The possible values of p we'll try. These are NOT p-values so i'm not gonna call them that lmao\n",
    "# We exclude p = 0 since computing m/0 is obviously uh not gonna work out\n",
    "percentages = [2, 1, 0.5, 0.25, 0.1, 0.05]\n",
    "\n",
    "# No edges with length < this will be included in the diversity index\n",
    "MIN_SEQ_LEN = 1e6"
   ]
  },
  {
   "cell_type": "markdown",
   "metadata": {},
   "source": [
    "## Compute diversity index for varying values of $p$\n",
    "\n",
    "Note that not all genomes that pass the filter for one value of $p$ will pass the filter for other values of $p$. This is expected."
   ]
  },
  {
   "cell_type": "code",
   "execution_count": 4,
   "metadata": {},
   "outputs": [],
   "source": [
    "# This should include all edges' alignments now, not just the three selected genomes!\n",
    "bf = pysam.AlignmentFile(\"../main-workflow/output/fully-filtered-and-sorted-aln.bam\", \"rb\")"
   ]
  },
  {
   "cell_type": "markdown",
   "metadata": {},
   "source": [
    "### Get a mapping of sequence (edge) name to sequence length"
   ]
  },
  {
   "cell_type": "code",
   "execution_count": 24,
   "metadata": {},
   "outputs": [
    {
     "name": "stdout",
     "output_type": "stream",
     "text": [
      "seq2len contains 78,793 entries. The length of edge_1 is 39,565 bp.\n"
     ]
    }
   ],
   "source": [
    "# Compute mapping of edge name to length -- need to know this for some of the computations below.\n",
    "#\n",
    "# We don't use skbio.DNA.read() for this since that seems to only return a single sequence from the\n",
    "# FASTA file at once (it's configurable with the seq_num parameter, but I don't want to accidentally\n",
    "# make this a \"Schlemiel the Painter's\" algorithm by first iterating to seq 1, then starting over and\n",
    "# iterating to seq 2, and so on. Easiest to just handle this parsing from scratch.\n",
    "\n",
    "seq2len = {}\n",
    "seqname = None\n",
    "with open(\"../main-workflow/output/all_edges.fasta\", \"r\") as fastafile:\n",
    "    \n",
    "    # Assumes that sequences are not split up over multiple lines (so a FASTA file with N sequences\n",
    "    # should have only 2N lines, maybe 2N + 1 if there's an extra empty newline at the bottom of the file)\n",
    "    for linenum, line in enumerate(fastafile):\n",
    "    \n",
    "        if line.startswith(\">\"):\n",
    "            if linenum % 2 != 0:\n",
    "                raise ValueError(\"something weird with > location in all_edges.fasta. Go yell at Marcus.\")\n",
    "            seqname = line.strip()[1:]\n",
    "        else:\n",
    "            if linenum % 2 != 1:\n",
    "                raise ValueError(\"something weird with non > location in all_edges.fasta. Go yell at Marcus.\")\n",
    "            if seqname is None:\n",
    "                raise ValueError(\"No sequence name set yet?\")\n",
    "                \n",
    "            seqlen = len(line.strip())\n",
    "            seq2len[seqname] = seqlen\n",
    "            seqname = None\n",
    "\n",
    "print(f\"seq2len contains {len(seq2len):,} entries. The length of edge_1 is {seq2len['edge_1']:,} bp.\")"
   ]
  },
  {
   "cell_type": "code",
   "execution_count": 38,
   "metadata": {},
   "outputs": [
    {
     "name": "stdout",
     "output_type": "stream",
     "text": [
      "468 / 78,793 seqs have a length of at least 1,000,000 bp.\n"
     ]
    }
   ],
   "source": [
    "num_long_enough_seqs = 0\n",
    "for seq in seq2len:\n",
    "    if seq2len[seq] >= MIN_SEQ_LEN:\n",
    "        num_long_enough_seqs += 1\n",
    "print(f\"{num_long_enough_seqs:,} / {len(seq2len):,} seqs have a length of at least {MIN_SEQ_LEN:,.0f} bp.\")"
   ]
  },
  {
   "cell_type": "markdown",
   "metadata": {},
   "source": [
    "### Actually compute the diversity indices"
   ]
  },
  {
   "cell_type": "code",
   "execution_count": null,
   "metadata": {},
   "outputs": [
    {
     "name": "stdout",
     "output_type": "stream",
     "text": [
      "On seq edge_1 (1 / 78,793) (0.00%)... Skipping since sequence length < 1,000,000 bp.\n",
      "On seq edge_2 (2 / 78,793) (0.00%)... Skipping since sequence length < 1,000,000 bp.\n",
      "On seq edge_3 (3 / 78,793) (0.00%)... Skipping since sequence length < 1,000,000 bp.\n",
      "On seq edge_4 (4 / 78,793) (0.01%)... Skipping since sequence length < 1,000,000 bp.\n",
      "On seq edge_5 (5 / 78,793) (0.01%)... Skipping since sequence length < 1,000,000 bp.\n",
      "On seq edge_6 (6 / 78,793) (0.01%)... Skipping since sequence length < 1,000,000 bp.\n",
      "On seq edge_7 (7 / 78,793) (0.01%)... Skipping since sequence length < 1,000,000 bp.\n",
      "On seq edge_8 (8 / 78,793) (0.01%)... Length = 1.71 Mbp. Progress: **********\n",
      "\tDiversity index is defined for 6 / 6 values of p: [2, 1, 0.5, 0.25, 0.1, 0.05].\n",
      "On seq edge_9 (9 / 78,793) (0.01%)... Skipping since sequence length < 1,000,000 bp.\n",
      "On seq edge_10 (10 / 78,793) (0.01%)... Length = 1.56 Mbp. Progress: **********\n",
      "\tDiversity index is defined for 3 / 6 values of p: [2, 1, 0.5].\n",
      "On seq edge_11 (11 / 78,793) (0.01%)... Skipping since sequence length < 1,000,000 bp.\n",
      "On seq edge_12 (12 / 78,793) (0.02%)... Skipping since sequence length < 1,000,000 bp.\n",
      "On seq edge_13 (13 / 78,793) (0.02%)... Skipping since sequence length < 1,000,000 bp.\n",
      "On seq edge_14 (14 / 78,793) (0.02%)... Skipping since sequence length < 1,000,000 bp.\n",
      "On seq edge_15 (15 / 78,793) (0.02%)... Length = 3.93 Mbp. Progress: ****"
     ]
    }
   ],
   "source": [
    "# Some stuff we precompute to avoid doing this a zillion times unnecessarily\n",
    "p2mincov = {p: m / p for p in percentages}\n",
    "p2pct = {p: p / 100 for p in percentages}\n",
    "\n",
    "# The main results of this work will be saved here.\n",
    "p2seq2dividx = {p: {} for p in percentages}\n",
    "\n",
    "num_seqs = len(seq2len)\n",
    "\n",
    "for si, seq in enumerate(seq2len.keys(), 1):\n",
    "    pct = 100 * (si / num_seqs)\n",
    "    print(f\"On seq {seq} ({si:,} / {num_seqs:,}) ({pct:.2f}%)...\", end=\" \", flush=True)\n",
    "    \n",
    "    # Immediately ignore sequences with length < 1 Mbp.\n",
    "    if seq2len[seq] < MIN_SEQ_LEN:\n",
    "        print(f\"Skipping since sequence length < {MIN_SEQ_LEN:,.0f} bp.\")\n",
    "        continue\n",
    "    else:\n",
    "        print(f\"Length = {seq2len[seq] / 1e6:,.2f} Mbp. Progress:\", end=\" \", flush=True)\n",
    "    \n",
    "    # Keep track of how many positions in this sequence are sufficiently covered (the classification of a\n",
    "    # position as sufficiently covered or not will depend on the value of p set).\n",
    "    # We'll then use this to determine whether or not we can compute the diversity index for a sequence for\n",
    "    # a given value of p.\n",
    "    p2sufficientlycoveredpositionct = {p: 0 for p in percentages}\n",
    "    \n",
    "    # Numbers of identified p-mutations within just the sufficiently-covered positions for a given p for this\n",
    "    # sequence.\n",
    "    p2mutationct = {p: 0 for p in percentages}\n",
    "    \n",
    "    one_tenth_len = math.floor(seq2len[seq] / 10)\n",
    "    \n",
    "    # Go through each position in the sequence's pileup and look for sufficiently-covered positions and\n",
    "    # p-mutations within those sufficiently-covered positions.\n",
    "    #\n",
    "    # See bam-to-jsons.py for a description of why these params are useful.\n",
    "    for ri, rec in enumerate(\n",
    "        pysamstats.stat_variation(\n",
    "            bf, chrom=seq, fafile=\"../main-workflow/output/all_edges.fasta\", start=0, end=seq2len[seq],\n",
    "            truncate=True, pad=True, max_depth=1e6\n",
    "        ),\n",
    "        1\n",
    "    ):\n",
    "        # very simple progress bar for my own sake. might miss a few dots here and there\n",
    "        if ri % one_tenth_len == 0:\n",
    "            print(\"*\", end=\"\", flush=True)\n",
    "            \n",
    "        matches = rec[\"matches\"]\n",
    "        mismatches = rec[\"mismatches\"]\n",
    "        # NOTE: As with \"coverage\" in the coverage plots, this doesn't take into account deletions at a\n",
    "        # given position. That info is available through pysamstats so we could use it here if desired.\n",
    "        cov = matches + mismatches\n",
    "        \n",
    "        # Rather than looking at (mismatches / cov), we instead look at each alternate non-matching nucleotide\n",
    "        # individually.\n",
    "        nonmatches = set(\"ACGT\") - set(rec[\"ref\"])\n",
    "        \n",
    "        for p in percentages:\n",
    "            if cov >= p2mincov[p]:\n",
    "                p2sufficientlycoveredpositionct[p] += 1\n",
    "                \n",
    "                for nm in nonmatches:\n",
    "                    if (rec[nm] / cov) > p2pct[p]:\n",
    "                        p2mutationct[p] += 1\n",
    "                        # Only count a given position once -- even if it contains multiple distinct p-mutations\n",
    "                        # (e.g. if we set p = 1% and a given position has 95% reference [A], 2% C, 3% G,\n",
    "                        # then that one position would only count as a single p-mutation).\n",
    "                        #\n",
    "                        # I guess this behavior could be changed if desired, although it would alter the\n",
    "                        # interpretation of the diversity index since it'd no longer be constrained to [0, 1].\n",
    "                        # (I guess the range would then be [0, 3]? Where a div index of 3 means that there are\n",
    "                        # 3 p-mutations per reference position...? eesh.)\n",
    "                        break\n",
    "    \n",
    "    # Now that we've looked through all positions, see which value(s) of p we can compute the div index for\n",
    "    # for this sequence. Do so, and save the resulting info.\n",
    "    valid_p = []\n",
    "    half_seq_len = 0.5 * seq2len[seq]\n",
    "    for p in percentages:\n",
    "        if p2sufficientlycoveredpositionct[p] >= half_seq_len:\n",
    "            valid_p.append(p)\n",
    "            p2seq2dividx[p][seq] = p2mutationct[p] / p2sufficientlycoveredpositionct[p]\n",
    "            \n",
    "    print(f\"\\n\\tDiversity index is defined for {len(valid_p)} / {len(percentages)} values of p: {valid_p}.\")"
   ]
  },
  {
   "cell_type": "markdown",
   "metadata": {},
   "source": [
    "## Visualize the diversity index\n",
    "\n",
    "Histograms sharing the x-axis (should go from 0 to 1 I guess -- maybe convert to percentages idk)\n",
    "\n",
    "Highlight CAMP, BACTERIA, and BACTEROIDALES as vertical lines colored using same colors as logratio / covlen plots on each histogram!"
   ]
  },
  {
   "cell_type": "code",
   "execution_count": null,
   "metadata": {},
   "outputs": [],
   "source": []
  }
 ],
 "metadata": {
  "kernelspec": {
   "display_name": "Python 3",
   "language": "python",
   "name": "python3"
  },
  "language_info": {
   "codemirror_mode": {
    "name": "ipython",
    "version": 3
   },
   "file_extension": ".py",
   "mimetype": "text/x-python",
   "name": "python",
   "nbconvert_exporter": "python",
   "pygments_lexer": "ipython3",
   "version": "3.7.10"
  }
 },
 "nbformat": 4,
 "nbformat_minor": 4
}
