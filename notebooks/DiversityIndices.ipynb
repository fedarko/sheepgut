{
 "cells": [
  {
   "cell_type": "markdown",
   "metadata": {},
   "source": [
    "# Compute diversity indices"
   ]
  },
  {
   "cell_type": "code",
   "execution_count": 2,
   "metadata": {},
   "outputs": [],
   "source": [
    "%run \"Header.ipynb\""
   ]
  },
  {
   "cell_type": "code",
   "execution_count": 3,
   "metadata": {},
   "outputs": [],
   "source": [
    "import pysam\n",
    "import pysamstats"
   ]
  },
  {
   "cell_type": "markdown",
   "metadata": {},
   "source": [
    "## Parameters of the diversity index: $p$ and $m$\n",
    "\n",
    "See paper for description."
   ]
  },
  {
   "cell_type": "code",
   "execution_count": null,
   "metadata": {},
   "outputs": [],
   "source": [
    "m = 5\n",
    "# The possible values of p we'll try. These are NOT p-values so i'm not gonna call them that lmao\n",
    "# We exclude p = 0 since computing m/0 is obviously uh not gonna work out\n",
    "percentages = [2, 1, 0.5, 0.25, 0.1, 0.05]"
   ]
  },
  {
   "cell_type": "markdown",
   "metadata": {},
   "source": [
    "## Compute diversity index for varying values of $p$\n",
    "\n",
    "Note that not all genomes that pass the filter for one value of $p$ will pass the filter for other values of $p$. This is expected."
   ]
  },
  {
   "cell_type": "code",
   "execution_count": null,
   "metadata": {},
   "outputs": [],
   "source": [
    "# This should include all edges' alignments now, not just the three selected genomes\n",
    "bf = pysam.AlignmentFile(\"../main-workflow/output/fully-filtered-and-sorted-aln.bam\", \"rb\")"
   ]
  },
  {
   "cell_type": "code",
   "execution_count": null,
   "metadata": {},
   "outputs": [],
   "source": [
    "p2mincov = {p: m / p for p in percentages}\n",
    "\n",
    "p2seq2dividx = {p: {} for p in percentages}\n",
    "\n",
    "for si, seq in enumerate(bf.references, 1):\n",
    "    pct = 100 * (si / bf.nreferences)\n",
    "    print(f\"On seq {seq} ({si:,} / {bf.nreferences:,}) ({pcf:.2f}%)...\")\n",
    "    \n",
    "    # TODO: immediately ignore sequences with length < 1 Mbp.\n",
    "    \n",
    "    # TODO: Do I need to specify start and end explicitly here, or will the defaults just cover the whole seq?\n",
    "    # Can get edge length by reading the all_edges.fasta file with skbio I guess.\n",
    "    # See bam-to-jsons.py for a description of why these params are useful.\n",
    "    for ri, rec in enumerate(\n",
    "        pysamstats.stat_variation(\n",
    "            bf, chrom=seq, fafile=\"output/all_edges.fasta\", truncate=True, pad=True, max_depth=1e6\n",
    "        ),\n",
    "        1\n",
    "    ):\n",
    "        for p in vals_of_p:\n",
    "            pass\n",
    "            # Figure out how many positions have coverage > p2mincov[p]\n",
    "            # If it exceeds 50% of the length of this sequence, it's sufficiently covered. compute the index and\n",
    "            # update p2seq2dividx.\n",
    "            # ah dang I guess we do have to load the fasta file to get sequence length"
   ]
  },
  {
   "cell_type": "markdown",
   "metadata": {},
   "source": [
    "## Visualize the diversity index\n",
    "\n",
    "Histograms sharing the x-axis (should go from 0 to 1 I guess -- maybe convert to percentages idk)\n",
    "\n",
    "Highlight CAMP, BACTERIA, and BACTEROIDALES as vertical lines colored using same colors as logratio / covlen plots on each histogram!"
   ]
  },
  {
   "cell_type": "code",
   "execution_count": null,
   "metadata": {},
   "outputs": [],
   "source": []
  }
 ],
 "metadata": {
  "kernelspec": {
   "display_name": "Python 3",
   "language": "python",
   "name": "python3"
  },
  "language_info": {
   "codemirror_mode": {
    "name": "ipython",
    "version": 3
   },
   "file_extension": ".py",
   "mimetype": "text/x-python",
   "name": "python",
   "nbconvert_exporter": "python",
   "pygments_lexer": "ipython3",
   "version": "3.7.10"
  }
 },
 "nbformat": 4,
 "nbformat_minor": 4
}
