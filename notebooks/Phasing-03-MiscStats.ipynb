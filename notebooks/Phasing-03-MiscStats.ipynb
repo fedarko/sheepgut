{
 "cells": [
  {
   "cell_type": "markdown",
   "id": "46c5ce6a",
   "metadata": {},
   "source": [
    "# Plot various distributions of mutated position information"
   ]
  },
  {
   "cell_type": "code",
   "execution_count": 2,
   "id": "d15ff1f5",
   "metadata": {},
   "outputs": [],
   "source": [
    "%run \"Header.ipynb\"\n",
    "import pickle\n",
    "from linked_mutations_utils import find_mutated_positions"
   ]
  },
  {
   "cell_type": "markdown",
   "id": "13fa7575",
   "metadata": {},
   "source": [
    "## Compute info"
   ]
  },
  {
   "cell_type": "code",
   "execution_count": null,
   "id": "72b5a99b",
   "metadata": {},
   "outputs": [
    {
     "name": "stdout",
     "output_type": "stream",
     "text": [
      "Computing distribution info for seq CAMP...\n",
      "\tFinding mutated positions for seq CAMP... "
     ]
    }
   ],
   "source": [
    "# In all of these three dicts, each seq points to a list where each value is from one\n",
    "# pair of consecutive mutated positions.\n",
    "\n",
    "# Describes distances between positions.\n",
    "seq2dists = {}\n",
    "\n",
    "# Describes number of reads supporting the most common nucleotide pair at these positions.\n",
    "seq2reads = {}\n",
    "\n",
    "# Describes link value of this most common nucleotide pair at these positions.\n",
    "seq2links = {}\n",
    "\n",
    "for i, seq in enumerate(SEQS):\n",
    "    print(f\"Computing distribution info for seq {seq2name[seq]}...\")\n",
    "    \n",
    "    print(f\"\\tFinding mutated positions for seq {seq2name[seq]}...\", end=\" \", flush=True)\n",
    "    mutated_positions = find_mutated_positions(seq)\n",
    "    print(\"Done.\")\n",
    "    \n",
    "    with open(f\"phasing-data/{seq}_pospair2ntpair2freq.pickle\", \"rb\") as loadster:\n",
    "        pospair2ntpair2freq = pickle.load(loadster)\n",
    "        \n",
    "    with open(f\"phasing-data/{seq}_pos2nt2freq.pickle\", \"rb\") as loadster:\n",
    "        pos2nt2freq = pickle.load(loadster)\n",
    "    \n",
    "    seq2dists[seq] = []\n",
    "    seq2reads[seq] = []\n",
    "    seq2links[seq] = []\n",
    "    \n",
    "    print(f\"\\tLooking through pairs of consecutive mutated positions in seq {seq2name[seq]}...\")\n",
    "    \n",
    "    for mpi, left_mutpos in enumerate(mutated_positions):\n",
    "        if mpi == len(mutated_positions) - 1 and seq in (\"edge_2358\", \"edge_1671\"):\n",
    "            # Loop around the genome if it's a circular sequence.\n",
    "            # Edge 6104 is excluded from this because it's just a linear sequence --\n",
    "            # its full \"genome\" likely has not been completely assembled.\n",
    "            #\n",
    "            # Note that although the reads here probably go from left_mutpos -> mutated_positions[0], we\n",
    "            # sort these positions the other way in this pair because the pairs are stored in sorted order.\n",
    "            pospair = (mutated_positions[0], left_mutpos)\n",
    "            \n",
    "            # NOTE: mutated_positions, as with pospair2ntpair2freq, uses 0-indexed positions.\n",
    "            # I don't thiiiink it makes a difference here (since in e.g. (p + x) - (p + x + 5), the x's\n",
    "            # representing 1-indexing cancel out), though.\n",
    "            #\n",
    "            # This holds up under scrutiny of some examples: in the case where left_mutpos is the\n",
    "            # actual last position (not just the last mutated position, the last POSITION) in the\n",
    "            # genome (before looping), and mutated_positions[0] is similarly the first POSITION in\n",
    "            # the genome, the distance is (length + 0 - (length - 1)) = 1.\n",
    "            seq2dists[seq].append(seq2len[seq] + mutated_positions[0] - left_mutpos)\n",
    "        else:\n",
    "            pospair = (left_mutpos, mutated_positions[mpi + 1])\n",
    "            seq2dists[seq].append(mutated_positions[mpi + 1] - left_mutpos)\n",
    "            \n",
    "        if pospair in pospair2ntpair2freq:\n",
    "            max_freq_nt_pair = max(\n",
    "                pospair2ntpair2freq[pospair].keys(),\n",
    "                key=lambda ntpair: pospair2ntpair2freq[pospair][ntpair]\n",
    "            )\n",
    "            pair_reads = pospair2ntpair2freq[pospair][max_freq_nt_pair]\n",
    "            seq2reads[seq].append(pair_reads)\n",
    "            \n",
    "            allele_1_freq = pos2nt2freq[pospair[0]][max_freq_nt_pair[0]]\n",
    "            allele_2_freq = pos2nt2freq[pospair[1]][max_freq_nt_pair[1]]\n",
    "            # Computation is done the same way as when adding link data to the graph in the previous phasing ntbk\n",
    "            # I'm pretty dang sure that the denominator here can never be zero, b/c that would imply neither of\n",
    "            # these alleles were observed in a read and we KNOW that can't be the case\n",
    "            # ...but if this turns into a ZeroDivisionError in the future, feel free to send me an angry email \n",
    "            link = pair_reads / max(allele_1_freq, allele_2_freq)\n",
    "            seq2links[seq].append(link)\n",
    "        else:\n",
    "            # This pair was never seen together on the same read :(\n",
    "            seq2reads[seq].append(0)\n",
    "            seq2links[seq].append(0)\n",
    "\n",
    "with open(f\"phasing-data/seq2dists.pickle\", \"wb\") as dumpster:\n",
    "    dumpster.write(pickle.dumps(seq2dists))\n",
    "            \n",
    "with open(f\"phasing-data/seq2reads.pickle\", \"wb\") as dumpster:\n",
    "    dumpster.write(pickle.dumps(seq2reads))\n",
    "    \n",
    "with open(f\"phasing-data/seq2links.pickle\", \"wb\") as dumpster:\n",
    "    dumpster.write(pickle.dumps(seq2links))"
   ]
  },
  {
   "cell_type": "code",
   "execution_count": null,
   "id": "c424129f",
   "metadata": {},
   "outputs": [],
   "source": []
  }
 ],
 "metadata": {
  "kernelspec": {
   "display_name": "Python 3",
   "language": "python",
   "name": "python3"
  },
  "language_info": {
   "codemirror_mode": {
    "name": "ipython",
    "version": 3
   },
   "file_extension": ".py",
   "mimetype": "text/x-python",
   "name": "python",
   "nbconvert_exporter": "python",
   "pygments_lexer": "ipython3",
   "version": "3.7.10"
  }
 },
 "nbformat": 4,
 "nbformat_minor": 5
}
