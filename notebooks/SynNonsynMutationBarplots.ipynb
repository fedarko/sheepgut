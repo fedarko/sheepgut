{
 "cells": [
  {
   "cell_type": "markdown",
   "metadata": {},
   "source": [
    "# $R_S$ and $R_N$ barplots for each genome\n",
    "\n",
    "TODO get this working!"
   ]
  },
  {
   "cell_type": "code",
   "execution_count": 1,
   "metadata": {},
   "outputs": [],
   "source": [
    "%run \"Header.ipynb\""
   ]
  },
  {
   "cell_type": "code",
   "execution_count": 12,
   "metadata": {},
   "outputs": [],
   "source": [
    "import json\n",
    "import skbio\n",
    "from parse_sco import parse_sco"
   ]
  },
  {
   "cell_type": "code",
   "execution_count": 4,
   "metadata": {},
   "outputs": [],
   "source": [
    "with open(\"matrix-jsons/seq2gene2codon2alignedcodons.json\", \"r\") as jf:\n",
    "    seq2gene2codon2alignedcodons = json.load(jf)"
   ]
  },
  {
   "cell_type": "markdown",
   "metadata": {},
   "source": [
    "## _minfreq_ values\n",
    "\n",
    "Currently the same as in the codon mutation notebook. I guess these should be a shared variable, ideally? But that might be too much work for its own good."
   ]
  },
  {
   "cell_type": "code",
   "execution_count": 10,
   "metadata": {},
   "outputs": [],
   "source": [
    "percentages = [2, 1, 0.5, 0.25, 0.1, 0.05, 0]"
   ]
  },
  {
   "cell_type": "code",
   "execution_count": 18,
   "metadata": {
    "scrolled": true
   },
   "outputs": [
    {
     "name": "stdout",
     "output_type": "stream",
     "text": [
      "On percentage 2%.\n",
      "\tOn seq edge_6104.\n",
      "\tOn seq edge_1671.\n",
      "\tOn seq edge_2358.\n"
     ]
    },
    {
     "ename": "KeyboardInterrupt",
     "evalue": "",
     "output_type": "error",
     "traceback": [
      "\u001b[0;31m---------------------------------------------------------------------------\u001b[0m",
      "\u001b[0;31mKeyboardInterrupt\u001b[0m                         Traceback (most recent call last)",
      "\u001b[0;32m<ipython-input-18-9af09fac0ca2>\u001b[0m in \u001b[0;36m<module>\u001b[0;34m\u001b[0m\n\u001b[1;32m     40\u001b[0m                 \u001b[0;31m# problematic codons as of writing this, mostly in edge_1671 -- something might be wrong with\u001b[0m\u001b[0;34m\u001b[0m\u001b[0;34m\u001b[0m\u001b[0;34m\u001b[0m\u001b[0m\n\u001b[1;32m     41\u001b[0m                 \u001b[0;31m# the alignment, which I had to recover from a backup recently -- will rerun and check).\u001b[0m\u001b[0;34m\u001b[0m\u001b[0;34m\u001b[0m\u001b[0;34m\u001b[0m\u001b[0m\n\u001b[0;32m---> 42\u001b[0;31m                 \u001b[0;32mif\u001b[0m \u001b[0mnum_aligned_codons\u001b[0m \u001b[0;34m>\u001b[0m \u001b[0;36m0\u001b[0m \u001b[0;32mand\u001b[0m \u001b[0mcodon_seq\u001b[0m \u001b[0;32min\u001b[0m \u001b[0maligned_codons\u001b[0m\u001b[0;34m:\u001b[0m\u001b[0;34m\u001b[0m\u001b[0;34m\u001b[0m\u001b[0m\n\u001b[0m\u001b[1;32m     43\u001b[0m \u001b[0;34m\u001b[0m\u001b[0m\n\u001b[1;32m     44\u001b[0m                     \u001b[0malt_codon_frac\u001b[0m \u001b[0;34m=\u001b[0m \u001b[0;34m(\u001b[0m\u001b[0mnum_aligned_codons\u001b[0m \u001b[0;34m-\u001b[0m \u001b[0maligned_codons\u001b[0m\u001b[0;34m[\u001b[0m\u001b[0mcodon_seq\u001b[0m\u001b[0;34m]\u001b[0m\u001b[0;34m)\u001b[0m \u001b[0;34m/\u001b[0m \u001b[0mnum_aligned_codons\u001b[0m\u001b[0;34m\u001b[0m\u001b[0;34m\u001b[0m\u001b[0m\n",
      "\u001b[0;31mKeyboardInterrupt\u001b[0m: "
     ]
    }
   ],
   "source": [
    "# Record R_S and R_N values for each sequence for each percentages, so we can separate computation from plotting\n",
    "# somewhat\n",
    "p2seq2vals = {}\n",
    "for p in percentages:\n",
    "    print(f\"On percentage {p}%.\")\n",
    "    p2seq2vals[p] = {}\n",
    "    \n",
    "    # Code partially yanked from the mutation matrix notebook\n",
    "    for seq in SEQS:\n",
    "        print(f\"\\tOn seq {seq}.\")\n",
    "        \n",
    "        singlent_synonymous_codon_mutation_ct = 0\n",
    "        singlent_nonsynonymous_codon_mutation_ct = 0\n",
    "        \n",
    "        fasta = skbio.DNA.read(\"../seqs/{}.fasta\".format(seq))\n",
    "        df = parse_sco(\"../seqs/genes/{}.sco\".format(seq))\n",
    "        \n",
    "        for gene_data in df.itertuples():\n",
    "            \n",
    "            for cpleft in range(gene_data.LeftEnd, gene_data.RightEnd + 1, 3):\n",
    "\n",
    "                # Make note of the codon sequence and amino acid encoded by this codon in the \"reference\" genome.\n",
    "                # (Keep in mind that the gene data in the .sco file uses 1-indexed coords, so we need to convert\n",
    "                # accordingly.)\n",
    "                codon_dna = fasta[cpleft - 1: cpleft + 2]\n",
    "                if gene_data.Strand == \"-\":\n",
    "                    codon_dna = codon_dna.reverse_complement()\n",
    "\n",
    "                codon_seq = str(codon_dna)\n",
    "\n",
    "                aligned_codons = seq2gene2codon2alignedcodons[seq][str(gene_data.Index)][str(cpleft)]\n",
    "                num_aligned_codons = sum(aligned_codons.values())\n",
    "\n",
    "                # If num_aligned_codons is 0, then it means no reads fully covered this codon. So we can't\n",
    "                # \"call\" this codon as mutated.\n",
    "                # \n",
    "                # Similarly, if the reference codon sequence isn't even included in the aligned codons (but if\n",
    "                # there are still other codons included in the alignment???), we're likely\n",
    "                # at a weird low-coverage portion of the alignment. Ignore these cases (there are 116 such\n",
    "                # problematic codons as of writing this, mostly in edge_1671 -- something might be wrong with\n",
    "                # the alignment, which I had to recover from a backup recently -- will rerun and check).\n",
    "                if num_aligned_codons > 0 and codon_seq in aligned_codons:\n",
    "                    \n",
    "                    alt_codon_frac = (num_aligned_codons - aligned_codons[codon_seq]) / num_aligned_codons\n",
    "\n",
    "                    # Use the value of minfreq depending on the outermost loop\n",
    "                    if alt_codon_frac > (p / 100):\n",
    "\n",
    "                        # Subset aligned_codons to just the alternate codons. I guess we could also just use \"del\".\n",
    "                        alt_codons = {c: aligned_codons[c] for c in aligned_codons if c != codon_seq}\n",
    "\n",
    "                        # Retrieve max-freq alternate codon.\n",
    "                        # Based on https://stackoverflow.com/a/280156.\n",
    "                        # (Note that if there's a tie, the result is arbitrary. As mentioned in paper.)\n",
    "                        max_freq_alt_codon = max(alt_codons, key=alt_codons.get)\n",
    "                        \n",
    "                        # If the max freq alt codon is only a single nucleotide different from the original codon,\n",
    "                        # update the singlent_* variables accordingly. Otherwise, ignore this case.\n",
    "                        \n",
    "                        num_diffs = 0\n",
    "                        for pos in (0, 1, 2):\n",
    "                            if max_freq_alt_codon[pos] != codon_seq[pos]:\n",
    "                                num_diffs += 1\n",
    "                        if num_diffs > 1:\n",
    "                            continue\n",
    "                        elif num_diffs == 1:\n",
    "                            aa = str(codon_dna.translate())\n",
    "                            aa2 = str(skbio.DNA(max_freq_alt_codon).translate())\n",
    "                            if aa == aa2:\n",
    "                                singlent_synonymous_codon_mutation_ct += 1\n",
    "                            else:\n",
    "                                singlent_nonsynonymous_codon_mutation_ct += 1\n",
    "                        else:\n",
    "                            # This should never happen, since we filtered out codon_seq from the alt_codons\n",
    "                            # dict already.\n",
    "                            raise ValueError(f\"Seems like {max_freq_alt_codon} is identical to {codon_seq}???\")\n",
    "                            \n",
    "        p2seq2vals[p][seq] = {}\n",
    "        p2seq2vals[p][seq][\"rs\"] = singlent_synonymous_codon_mutation_ct\n",
    "        p2seq2vals[p][seq][\"rs\"] = singlent_nonsynonymous_codon_mutation_ct"
   ]
  },
  {
   "cell_type": "code",
   "execution_count": null,
   "metadata": {},
   "outputs": [],
   "source": []
  }
 ],
 "metadata": {
  "kernelspec": {
   "display_name": "Python 3",
   "language": "python",
   "name": "python3"
  },
  "language_info": {
   "codemirror_mode": {
    "name": "ipython",
    "version": 3
   },
   "file_extension": ".py",
   "mimetype": "text/x-python",
   "name": "python",
   "nbconvert_exporter": "python",
   "pygments_lexer": "ipython3",
   "version": "3.7.10"
  }
 },
 "nbformat": 4,
 "nbformat_minor": 4
}
