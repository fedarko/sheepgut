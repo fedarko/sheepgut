{
 "cells": [
  {
   "cell_type": "markdown",
   "metadata": {},
   "source": [
    "# Syn vs Nonsyn and Non-nonsense vs Nonsense mutation rates\n",
    "\n",
    "## Based on positions, instead of codons!\n",
    "\n",
    "This makes it easier to use these for FDR estimation."
   ]
  },
  {
   "cell_type": "code",
   "execution_count": 3,
   "metadata": {
    "execution": {
     "iopub.execute_input": "2021-06-11T23:10:33.663085Z",
     "iopub.status.busy": "2021-06-11T23:10:33.662193Z",
     "iopub.status.idle": "2021-06-11T23:10:33.952730Z",
     "shell.execute_reply": "2021-06-11T23:10:33.951742Z"
    }
   },
   "outputs": [],
   "source": [
    "%run \"Header.ipynb\"\n",
    "%run \"GeneUtils.ipynb\""
   ]
  },
  {
   "cell_type": "code",
   "execution_count": 4,
   "metadata": {
    "execution": {
     "iopub.execute_input": "2021-06-11T23:10:33.957180Z",
     "iopub.status.busy": "2021-06-11T23:10:33.956355Z",
     "iopub.status.idle": "2021-06-11T23:10:36.326771Z",
     "shell.execute_reply": "2021-06-11T23:10:36.326016Z"
    }
   },
   "outputs": [],
   "source": [
    "import json\n",
    "import pickle\n",
    "import skbio\n",
    "import pileup\n",
    "from collections import defaultdict\n",
    "from parse_sco import parse_sco"
   ]
  },
  {
   "cell_type": "code",
   "execution_count": 5,
   "metadata": {},
   "outputs": [],
   "source": [
    "seq2pos2pileup = pileup.load()"
   ]
  },
  {
   "cell_type": "markdown",
   "metadata": {},
   "source": [
    "## Percentages (values of $p$) for naive mutation calling\n",
    "\n",
    "### Values we use for plotting\n",
    "Currently the same as in the codon mutation notebook. I guess these should be a shared variable, ideally? But that might be too much work for its own good."
   ]
  },
  {
   "cell_type": "code",
   "execution_count": 6,
   "metadata": {
    "execution": {
     "iopub.execute_input": "2021-06-11T23:10:38.533094Z",
     "iopub.status.busy": "2021-06-11T23:10:38.532287Z",
     "iopub.status.idle": "2021-06-11T23:10:38.534094Z",
     "shell.execute_reply": "2021-06-11T23:10:38.534727Z"
    }
   },
   "outputs": [],
   "source": [
    "percentages = [2, 1, 0.5, 0.25, 0.15]"
   ]
  },
  {
   "cell_type": "markdown",
   "metadata": {},
   "source": [
    "### Full values, used for plotting a FDR curve elsewhere\n",
    "\n",
    "Copied from the target/decoy notebook. may be nice to generalize to shared code too i guess"
   ]
  },
  {
   "cell_type": "code",
   "execution_count": 7,
   "metadata": {},
   "outputs": [
    {
     "name": "stdout",
     "output_type": "stream",
     "text": [
      "First two percentages: [4.99, 4.98]\n",
      "Last two percentages: [0.16, 0.15]\n",
      "Number of percentages: 485\n"
     ]
    }
   ],
   "source": [
    "# Percentages go from 4.99%, 4.98%, ..., 0.16%, 0.15%\n",
    "full_percentages = [p / 100 for p in range(15, 500, 1)][::-1]\n",
    "print(f\"First two percentages: {full_percentages[:2]}\")\n",
    "print(f\"Last two percentages: {full_percentages[-2:]}\")\n",
    "print(f\"Number of percentages: {len(full_percentages):,}\")"
   ]
  },
  {
   "cell_type": "code",
   "execution_count": 8,
   "metadata": {},
   "outputs": [],
   "source": [
    "# Sanity check -- we can just compute this data for all of the stuff in full_percentages\n",
    "# and then for the stuff we wanna plot in this notebook just focus on the values in percentages\n",
    "for p in percentages:\n",
    "    assert p in full_percentages, f\"{p}% not in full_percentages\""
   ]
  },
  {
   "cell_type": "markdown",
   "metadata": {},
   "source": [
    "## Compute possible (non)synonymous and (non)nonsense mutations, in general\n",
    "\n",
    "Not specific to a given MAG -- just in the context of all possible codons, using the standard genetic code."
   ]
  },
  {
   "cell_type": "code",
   "execution_count": 9,
   "metadata": {},
   "outputs": [],
   "source": [
    "codons = []\n",
    "dna = \"ACGT\"\n",
    "for x in dna:\n",
    "    for y in dna:\n",
    "        for z in dna:\n",
    "            codons.append(x+y+z)\n",
    "            \n",
    "# Maps the 64 codons --> [1, 2, 3] --> an integer 0, 1, 2, or 3, indicating how many of the 3 mutations\n",
    "# from this CP in this codon into another nucleotide are synonymous (si) or nonsynonymous (ni)\n",
    "codon2cp2si = defaultdict(dict)\n",
    "codon2cp2ni = defaultdict(dict)\n",
    "\n",
    "# Like above, but for non-nonsense (nnsi) or nonsense (nsi) mutations and only for the 61 sense codons\n",
    "codon2cp2nnsi = defaultdict(dict)\n",
    "codon2cp2nsi = defaultdict(dict)\n",
    "\n",
    "stop_codons = []\n",
    "\n",
    "for c in codons:\n",
    "    is_not_stop = not (str(skbio.DNA(c).translate()) == \"*\")\n",
    "    if not is_not_stop:\n",
    "        stop_codons.append(c)\n",
    "    for pos in [0, 1, 2]:\n",
    "        si = 0\n",
    "        ni = 0\n",
    "        nnsi = 0\n",
    "        nsi = 0\n",
    "        for alt_nt in set(dna) - set(c[pos]):\n",
    "            alt_codon = c[:pos] + alt_nt + c[pos + 1:]\n",
    "            aa1 = str(skbio.DNA(c).translate())\n",
    "            aa2 = str(skbio.DNA(alt_codon).translate())\n",
    "            if aa1 == aa2:\n",
    "                si += 1\n",
    "                if is_not_stop:\n",
    "                    nnsi += 1\n",
    "            else:\n",
    "                ni += 1\n",
    "                if is_not_stop:\n",
    "                    if aa2 == \"*\":\n",
    "                        nsi += 1\n",
    "                    else:\n",
    "                        nnsi += 1\n",
    "                    \n",
    "        assert si + ni == 3\n",
    "        codon2cp2si[c][pos + 1] = si\n",
    "        codon2cp2ni[c][pos + 1] = ni\n",
    "        \n",
    "        if is_not_stop:\n",
    "            assert nsi + nnsi == 3\n",
    "            codon2cp2nnsi[c][pos + 1] = nnsi\n",
    "            codon2cp2nsi[c][pos + 1] = nsi\n",
    "            \n",
    "assert len(codon2cp2si) == len(codon2cp2ni) == 64\n",
    "assert len(codon2cp2nnsi) == len(codon2cp2nsi) == 61\n",
    "assert len(stop_codons) == 3"
   ]
  },
  {
   "cell_type": "markdown",
   "metadata": {},
   "source": [
    "## Use these numbers to compute $\\sum_i S_i$ (and $N_i$, $NNS_i$, $NS_i$) for all MAGs"
   ]
  },
  {
   "cell_type": "code",
   "execution_count": 18,
   "metadata": {},
   "outputs": [
    {
     "name": "stdout",
     "output_type": "stream",
     "text": [
      "CAMP: On gene 1 / 1,297. So far 0 poss nonsyn and 0 poss nonsense positions.\n",
      "On position 712 (CP 1)\n",
      "\tPosition is reasonable and in just 1 gene\n",
      "On position 711 (CP 2)\n",
      "\tPosition is reasonable and in just 1 gene\n",
      "On position 710 (CP 3)\n",
      "\tPosition is reasonable and in just 1 gene\n",
      "On position 709 (CP 1)\n",
      "\tPosition is reasonable and in just 1 gene\n",
      "On position 708 (CP 2)\n",
      "\tPosition is reasonable and in just 1 gene\n",
      "On position 707 (CP 3)\n",
      "\tPosition is reasonable and in just 1 gene\n",
      "On position 706 (CP 1)\n",
      "\tPosition is reasonable and in just 1 gene\n",
      "On position 705 (CP 2)\n",
      "\tPosition is reasonable and in just 1 gene\n",
      "On position 704 (CP 3)\n",
      "\tPosition is reasonable and in just 1 gene\n",
      "On position 703 (CP 1)\n",
      "\tPosition is reasonable and in just 1 gene\n",
      "On position 702 (CP 2)\n",
      "\tPosition is reasonable and in just 1 gene\n",
      "On position 701 (CP 3)\n",
      "\tPosition is reasonable and in just 1 gene\n",
      "On position 700 (CP 1)\n",
      "\tPosition is reasonable and in just 1 gene\n",
      "On position 699 (CP 2)\n",
      "\tPosition is reasonable and in just 1 gene\n",
      "On position 698 (CP 3)\n",
      "\tPosition is reasonable and in just 1 gene\n",
      "On position 697 (CP 1)\n",
      "\tPosition is reasonable and in just 1 gene\n",
      "On position 696 (CP 2)\n",
      "\tPosition is reasonable and in just 1 gene\n",
      "On position 695 (CP 3)\n",
      "\tPosition is reasonable and in just 1 gene\n",
      "On position 694 (CP 1)\n",
      "\tPosition is reasonable and in just 1 gene\n",
      "On position 693 (CP 2)\n",
      "\tPosition is reasonable and in just 1 gene\n",
      "On position 692 (CP 3)\n",
      "\tPosition is reasonable and in just 1 gene\n",
      "On position 691 (CP 1)\n",
      "\tPosition is reasonable and in just 1 gene\n",
      "On position 690 (CP 2)\n",
      "\tPosition is reasonable and in just 1 gene\n",
      "On position 689 (CP 3)\n",
      "\tPosition is reasonable and in just 1 gene\n",
      "On position 688 (CP 1)\n",
      "\tPosition is reasonable and in just 1 gene\n",
      "On position 687 (CP 2)\n",
      "\tPosition is reasonable and in just 1 gene\n",
      "On position 686 (CP 3)\n",
      "\tPosition is reasonable and in just 1 gene\n",
      "On position 685 (CP 1)\n",
      "\tPosition is reasonable and in just 1 gene\n",
      "On position 684 (CP 2)\n",
      "\tPosition is reasonable and in just 1 gene\n",
      "On position 683 (CP 3)\n",
      "\tPosition is reasonable and in just 1 gene\n",
      "On position 682 (CP 1)\n",
      "\tPosition is reasonable and in just 1 gene\n",
      "On position 681 (CP 2)\n",
      "\tPosition is reasonable and in just 1 gene\n"
     ]
    },
    {
     "ename": "KeyboardInterrupt",
     "evalue": "",
     "output_type": "error",
     "traceback": [
      "\u001b[0;31m---------------------------------------------------------------------------\u001b[0m",
      "\u001b[0;31mKeyboardInterrupt\u001b[0m                         Traceback (most recent call last)",
      "\u001b[0;32m<ipython-input-18-2954e380084a>\u001b[0m in \u001b[0;36m<module>\u001b[0;34m\u001b[0m\n\u001b[1;32m    114\u001b[0m                                 \u001b[0mmutated_parent_codon_fwd_str\u001b[0m \u001b[0;34m=\u001b[0m \u001b[0malt_nt\u001b[0m \u001b[0;34m+\u001b[0m \u001b[0mparent_codon_fwd_str\u001b[0m\u001b[0;34m[\u001b[0m\u001b[0;36m1\u001b[0m\u001b[0;34m:\u001b[0m\u001b[0;34m]\u001b[0m\u001b[0;34m\u001b[0m\u001b[0;34m\u001b[0m\u001b[0m\n\u001b[1;32m    115\u001b[0m \u001b[0;34m\u001b[0m\u001b[0m\n\u001b[0;32m--> 116\u001b[0;31m                             \u001b[0mmutated_parent_codon_str\u001b[0m \u001b[0;34m=\u001b[0m \u001b[0mstr\u001b[0m\u001b[0;34m(\u001b[0m\u001b[0mskbio\u001b[0m\u001b[0;34m.\u001b[0m\u001b[0mDNA\u001b[0m\u001b[0;34m(\u001b[0m\u001b[0mmutated_parent_codon_fwd_str\u001b[0m\u001b[0;34m)\u001b[0m\u001b[0;34m.\u001b[0m\u001b[0mreverse_complement\u001b[0m\u001b[0;34m(\u001b[0m\u001b[0;34m)\u001b[0m\u001b[0;34m)\u001b[0m\u001b[0;34m\u001b[0m\u001b[0;34m\u001b[0m\u001b[0m\n\u001b[0m\u001b[1;32m    117\u001b[0m \u001b[0;34m\u001b[0m\u001b[0m\n\u001b[1;32m    118\u001b[0m                         \u001b[0maa1\u001b[0m \u001b[0;34m=\u001b[0m \u001b[0mstr\u001b[0m\u001b[0;34m(\u001b[0m\u001b[0mskbio\u001b[0m\u001b[0;34m.\u001b[0m\u001b[0mDNA\u001b[0m\u001b[0;34m(\u001b[0m\u001b[0mparent_codon_str\u001b[0m\u001b[0;34m)\u001b[0m\u001b[0;34m.\u001b[0m\u001b[0mtranslate\u001b[0m\u001b[0;34m(\u001b[0m\u001b[0;34m)\u001b[0m\u001b[0;34m)\u001b[0m\u001b[0;34m\u001b[0m\u001b[0;34m\u001b[0m\u001b[0m\n",
      "\u001b[0;32m~/miniconda3/envs/mut-analyses/lib/python3.7/site-packages/skbio/sequence/_sequence.py\u001b[0m in \u001b[0;36m__str__\u001b[0;34m(self)\u001b[0m\n\u001b[1;32m   1073\u001b[0m \u001b[0;34m\u001b[0m\u001b[0m\n\u001b[1;32m   1074\u001b[0m         \"\"\"\n\u001b[0;32m-> 1075\u001b[0;31m         \u001b[0;32mreturn\u001b[0m \u001b[0mstr\u001b[0m\u001b[0;34m(\u001b[0m\u001b[0mself\u001b[0m\u001b[0;34m.\u001b[0m\u001b[0m_string\u001b[0m\u001b[0;34m.\u001b[0m\u001b[0mdecode\u001b[0m\u001b[0;34m(\u001b[0m\u001b[0;34m\"ascii\"\u001b[0m\u001b[0;34m)\u001b[0m\u001b[0;34m)\u001b[0m\u001b[0;34m\u001b[0m\u001b[0;34m\u001b[0m\u001b[0m\n\u001b[0m\u001b[1;32m   1076\u001b[0m \u001b[0;34m\u001b[0m\u001b[0m\n\u001b[1;32m   1077\u001b[0m     \u001b[0;34m@\u001b[0m\u001b[0mstable\u001b[0m\u001b[0;34m(\u001b[0m\u001b[0mas_of\u001b[0m\u001b[0;34m=\u001b[0m\u001b[0;34m\"0.4.0\"\u001b[0m\u001b[0;34m)\u001b[0m\u001b[0;34m\u001b[0m\u001b[0;34m\u001b[0m\u001b[0m\n",
      "\u001b[0;32m~/miniconda3/envs/mut-analyses/lib/python3.7/site-packages/skbio/sequence/_sequence.py\u001b[0m in \u001b[0;36m_string\u001b[0;34m(self)\u001b[0m\n\u001b[1;32m    425\u001b[0m     \u001b[0;34m@\u001b[0m\u001b[0mproperty\u001b[0m\u001b[0;34m\u001b[0m\u001b[0;34m\u001b[0m\u001b[0m\n\u001b[1;32m    426\u001b[0m     \u001b[0;32mdef\u001b[0m \u001b[0m_string\u001b[0m\u001b[0;34m(\u001b[0m\u001b[0mself\u001b[0m\u001b[0;34m)\u001b[0m\u001b[0;34m:\u001b[0m\u001b[0;34m\u001b[0m\u001b[0;34m\u001b[0m\u001b[0m\n\u001b[0;32m--> 427\u001b[0;31m         \u001b[0;32mreturn\u001b[0m \u001b[0mself\u001b[0m\u001b[0;34m.\u001b[0m\u001b[0m_bytes\u001b[0m\u001b[0;34m.\u001b[0m\u001b[0mtostring\u001b[0m\u001b[0;34m(\u001b[0m\u001b[0;34m)\u001b[0m\u001b[0;34m\u001b[0m\u001b[0;34m\u001b[0m\u001b[0m\n\u001b[0m\u001b[1;32m    428\u001b[0m \u001b[0;34m\u001b[0m\u001b[0m\n\u001b[1;32m    429\u001b[0m     \u001b[0;34m@\u001b[0m\u001b[0mclassonlymethod\u001b[0m\u001b[0;34m\u001b[0m\u001b[0;34m\u001b[0m\u001b[0m\n",
      "\u001b[0;31mKeyboardInterrupt\u001b[0m: "
     ]
    }
   ],
   "source": [
    "# seq --> list of 1-indexed positions where a mutation here can be nonsyn or nonsense\n",
    "seq2poss_nonsyn_positions = {}\n",
    "seq2poss_nonsense_positions = {}\n",
    "\n",
    "# Total poss numbers of single-nucleotide (non)synonymous and (non)nonsense mutations throughout the genomes\n",
    "seq2poss_si = defaultdict(int)\n",
    "seq2poss_ni = defaultdict(int)\n",
    "seq2poss_nnsi = defaultdict(int)\n",
    "seq2poss_nsi = defaultdict(int)\n",
    "\n",
    "# Defined the same as in the earlier codon-based S/N notebook.\n",
    "p2seq2obs_si = {p: defaultdict(int) for p in full_percentages}\n",
    "p2seq2obs_ni = {p: defaultdict(int) for p in full_percentages}\n",
    "p2seq2obs_nnsi = {p: defaultdict(int) for p in full_percentages}\n",
    "p2seq2obs_nsi = {p: defaultdict(int) for p in full_percentages}\n",
    "\n",
    "for seq in SEQS:\n",
    "    df = parse_sco(f\"../seqs/genes/{seq}.sco\")\n",
    "    fasta = skbio.DNA.read(f\"../seqs/{seq}.fasta\")\n",
    "    # Figure out quickly which positions are in multiple genes, so we can ignore them\n",
    "    pos_to_genes = get_parent_gene_info_of_many_positions(df)\n",
    "    \n",
    "    poss_nonsyn_pos = []\n",
    "    poss_nonsense_pos = []\n",
    "    \n",
    "    for gene in df.itertuples():\n",
    "        print(\n",
    "            f\"{seq2name[seq]}: On gene {gene.Index:,} / {len(df.index):,}. \"\n",
    "            f\"So far {len(poss_nonsyn_pos):,} poss nonsyn and {len(poss_nonsense_pos):,} \"\n",
    "            f\"poss nonsense positions.\"\n",
    "        )\n",
    "        # The order of positions we go through is dependent on gene orientation:\n",
    "        # left --> right if this is a \"+\" strand gene,\n",
    "        # right --> left if this is a \"-\" strand gene.\n",
    "        pos_interval = get_pos_interval_from_gene(gene)\n",
    "        \n",
    "        # We'll update these values as we walk through the gene.\n",
    "        # curr_codon_cp1_pos indicates CP1 (the left end for + genes, the right end for - genes)\n",
    "        # of the current gene. It's 1-indexed, along with the gene coordinates.\n",
    "        curr_codon_cp1_pos = pos_interval[0]\n",
    "        # Always either 1, 2, or 3\n",
    "        cp = 1\n",
    "        \n",
    "        for pos in pos_interval:\n",
    "            print(f\"On position {pos:,} (CP {cp})\")\n",
    "            if cp == 1:\n",
    "                # It's easier to sync this at the top rather than bottom of the loop because the positions\n",
    "                # in pos_interval could be increasing or decreasing depending on the gene's strand\n",
    "                curr_codon_cp1_pos = pos\n",
    "            \n",
    "            # We don't attempt mutation calling at multi-gene positions, or at\n",
    "            # unreasonable (ref != consensus) positions.\n",
    "            \n",
    "            # ... And now we actually naively try to call a mutation at this position (trying lots of\n",
    "            # values of p at once so we can create an FDR curve, barplots, etc).\n",
    "            pos_pileup = seq2pos2pileup[seq][pos]\n",
    "            \n",
    "            if len(pos_to_genes[pos]) == 1 and pileup.is_reasonable(pos_pileup):\n",
    "                \n",
    "                print(\"\\tPosition is reasonable and in just 1 gene\")\n",
    "                if gene.Strand == \"+\":\n",
    "                    # The skbio sequence is 0-indexed, so we gotta subtract by 1\n",
    "                    parent_codon_fasta = fasta[curr_codon_cp1_pos - 1: curr_codon_cp1_pos + 2]\n",
    "                    parent_codon_str = str(parent_codon_fasta)\n",
    "                    \n",
    "                elif gene.Strand == \"-\":\n",
    "                    parent_codon_fasta = fasta[curr_codon_cp1_pos - 3: curr_codon_cp1_pos]\n",
    "                    parent_codon_fwd_str = str(parent_codon_fasta)\n",
    "                    parent_codon_str = str(parent_codon_fasta.reverse_complement())\n",
    "                \n",
    "                else:\n",
    "                    raise ValueError(f\"Invalid strand: {gene.Strand}\")\n",
    "                \n",
    "                # Update possible Si|Ni and NNSi|NSi values based on this position and its parent codon.\n",
    "                seq2poss_si[seq] += codon2cp2si[parent_codon_str][cp]\n",
    "                seq2poss_ni[seq] += codon2cp2ni[parent_codon_str][cp]\n",
    "                if codon2cp2ni[parent_codon_str][cp] > 0:\n",
    "                    poss_nonsyn_pos.append(pos)\n",
    "                    \n",
    "                in_sense_codon = (parent_codon_str not in stop_codons)\n",
    "                if in_sense_codon:\n",
    "                    seq2poss_nnsi[seq] += codon2cp2nnsi[parent_codon_str][cp]\n",
    "                    seq2poss_nsi[seq] += codon2cp2nsi[parent_codon_str][cp]\n",
    "                    if codon2cp2nsi[parent_codon_str][cp] > 0:\n",
    "                        poss_nonsense_pos.append(pos)\n",
    "                \n",
    "                for p in full_percentages:\n",
    "                    \n",
    "                    # Since we currently define mutations as a binary thing (either a position is mutated\n",
    "                    # or it isn't), we can precompute the step of figuring out the mutated codon resulting from\n",
    "                    # a position being called a mutation -- and we can thus figure out in advance if this position\n",
    "                    # will be a (non)synonymous or (non)nonsense mutation, before actually calling it a mutation\n",
    "                    # (...should save some time).\n",
    "                    \n",
    "                    if pileup.any_mismatches(pos_pileup):\n",
    "                        alt_nt = pileup.get_alt_nt_if_reasonable(pos_pileup)\n",
    "                        \n",
    "                        # if alt_nt is None, it means this position was unreasonable -- but we've already\n",
    "                        # verified above that this position is reasonable!\n",
    "                        assert alt_nt is not None\n",
    "                        \n",
    "                        # Construct a \"mutated\" version of this position's parent codon, with just this\n",
    "                        # alternate nucleotide changed. This doesn't take into account the possibility\n",
    "                        # of other positions within this codon being mutated, which is a notable limitation\n",
    "                        # of this approach.\n",
    "                        if gene.Strand == \"+\":\n",
    "                            mutated_parent_codon_str = parent_codon_str[:cp - 1] + alt_nt + parent_codon_str[cp:]\n",
    "                        else:\n",
    "                            if cp == 1:\n",
    "                                mutated_parent_codon_fwd_str = parent_codon_fwd_str[:2] + alt_nt\n",
    "                            elif cp == 2:\n",
    "                                mutated_parent_codon_fwd_str = parent_codon_fwd_str[:1] + alt_nt + parent_codon_fwd_str[2:]\n",
    "                            else:\n",
    "                                mutated_parent_codon_fwd_str = alt_nt + parent_codon_fwd_str[1:]\n",
    "                                \n",
    "                            mutated_parent_codon_str = str(skbio.DNA(mutated_parent_codon_fwd_str).reverse_complement())\n",
    "                        \n",
    "                        aa1 = str(skbio.DNA(parent_codon_str).translate())\n",
    "                        aa2 = str(skbio.DNA(mutated_parent_codon_str).translate())\n",
    "                        \n",
    "                        if pileup.naively_call_mutation(pos_pileup, p, only_call_if_rare=True):\n",
    "                            if aa1 == aa2:\n",
    "                                p2seq2obs_si[p][seq] += 1\n",
    "                            else:\n",
    "                                p2seq2obs_ni[p][seq] += 1\n",
    "                                \n",
    "                            if in_sense_codon:\n",
    "                                if aa2 == \"*\":\n",
    "                                    p2seq2obs_nsi[p][seq] += 1\n",
    "                                else:\n",
    "                                    p2seq2obs_nnsi[p][seq] += 1\n",
    "                        \n",
    "            cp = next_cp(cp)\n",
    "        raise ValueError(\"yeetus\")\n",
    "    seq2poss_nonsyn_positions[seq] = poss_nonsyn_pos\n",
    "    seq2poss_nonsense_positions[seq] = poss_nonsense_pos"
   ]
  },
  {
   "cell_type": "code",
   "execution_count": 13,
   "metadata": {},
   "outputs": [
    {
     "data": {
      "text/plain": [
       "defaultdict(int, {})"
      ]
     },
     "execution_count": 13,
     "metadata": {},
     "output_type": "execute_result"
    }
   ],
   "source": [
    "p2seq2obs_si[0.15]"
   ]
  },
  {
   "cell_type": "code",
   "execution_count": null,
   "metadata": {},
   "outputs": [],
   "source": [
    "for seq in SEQS:\n",
    "    n = len(seq2poss_nonsyn_positions[seq])\n",
    "    ns = len(seq2poss_nonsense_positions[seq])\n",
    "    ratio = n / ns\n",
    "    print(\n",
    "        f\"{seq}: {n:,} possible nonsyn and \"\n",
    "        f\"{ns:,} possible nonsense mutations. Ratio of #nonsyn to #nonsense: {ratio:.2f}\"\n",
    "    )"
   ]
  },
  {
   "cell_type": "code",
   "execution_count": null,
   "metadata": {},
   "outputs": [],
   "source": []
  }
 ],
 "metadata": {
  "kernelspec": {
   "display_name": "Python 3",
   "language": "python",
   "name": "python3"
  },
  "language_info": {
   "codemirror_mode": {
    "name": "ipython",
    "version": 3
   },
   "file_extension": ".py",
   "mimetype": "text/x-python",
   "name": "python",
   "nbconvert_exporter": "python",
   "pygments_lexer": "ipython3",
   "version": "3.7.10"
  }
 },
 "nbformat": 4,
 "nbformat_minor": 4
}
