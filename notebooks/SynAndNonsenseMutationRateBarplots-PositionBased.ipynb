{
 "cells": [
  {
   "cell_type": "markdown",
   "metadata": {},
   "source": [
    "# Syn vs Nonsyn and Non-nonsense vs Nonsense mutation rates\n",
    "\n",
    "## Based on positions, instead of codons!\n",
    "\n",
    "This makes it easier to use these for FDR estimation."
   ]
  },
  {
   "cell_type": "code",
   "execution_count": 7,
   "metadata": {
    "execution": {
     "iopub.execute_input": "2021-06-11T23:10:33.663085Z",
     "iopub.status.busy": "2021-06-11T23:10:33.662193Z",
     "iopub.status.idle": "2021-06-11T23:10:33.952730Z",
     "shell.execute_reply": "2021-06-11T23:10:33.951742Z"
    }
   },
   "outputs": [],
   "source": [
    "%run \"Header.ipynb\"\n",
    "%run \"GeneUtils.ipynb\""
   ]
  },
  {
   "cell_type": "code",
   "execution_count": 8,
   "metadata": {
    "execution": {
     "iopub.execute_input": "2021-06-11T23:10:33.957180Z",
     "iopub.status.busy": "2021-06-11T23:10:33.956355Z",
     "iopub.status.idle": "2021-06-11T23:10:36.326771Z",
     "shell.execute_reply": "2021-06-11T23:10:36.326016Z"
    }
   },
   "outputs": [],
   "source": [
    "import json\n",
    "import pickle\n",
    "import skbio\n",
    "import pileup\n",
    "from statistics import median\n",
    "from math import log\n",
    "from collections import defaultdict\n",
    "from matplotlib import pyplot\n",
    "from parse_sco import parse_sco"
   ]
  },
  {
   "cell_type": "markdown",
   "metadata": {},
   "source": [
    "## Percentages (values of $p$) for naive mutation calling\n",
    "\n",
    "### Values we use for plotting\n",
    "Currently the same as in the codon mutation notebook. I guess these should be a shared variable, ideally? But that might be too much work for its own good."
   ]
  },
  {
   "cell_type": "code",
   "execution_count": 9,
   "metadata": {
    "execution": {
     "iopub.execute_input": "2021-06-11T23:10:38.533094Z",
     "iopub.status.busy": "2021-06-11T23:10:38.532287Z",
     "iopub.status.idle": "2021-06-11T23:10:38.534094Z",
     "shell.execute_reply": "2021-06-11T23:10:38.534727Z"
    }
   },
   "outputs": [],
   "source": [
    "percentages = [2, 1, 0.5, 0.25, 0.15]"
   ]
  },
  {
   "cell_type": "markdown",
   "metadata": {},
   "source": [
    "### Full values, used for plotting a FDR curve elsewhere\n",
    "\n",
    "Copied from the target/decoy notebook. may be nice to generalize to shared code too i guess"
   ]
  },
  {
   "cell_type": "code",
   "execution_count": 10,
   "metadata": {},
   "outputs": [
    {
     "name": "stdout",
     "output_type": "stream",
     "text": [
      "First two percentages: [4.99, 4.98]\n",
      "Last two percentages: [0.16, 0.15]\n",
      "Number of percentages: 485\n"
     ]
    }
   ],
   "source": [
    "# Percentages go from 4.99%, 4.98%, ..., 0.16%, 0.15%\n",
    "full_percentages = [p / 100 for p in range(15, 500, 1)][::-1]\n",
    "print(f\"First two percentages: {full_percentages[:2]}\")\n",
    "print(f\"Last two percentages: {full_percentages[-2:]}\")\n",
    "print(f\"Number of percentages: {len(full_percentages):,}\")"
   ]
  },
  {
   "cell_type": "code",
   "execution_count": 11,
   "metadata": {},
   "outputs": [],
   "source": [
    "# Sanity check -- we can just compute this data for all of the stuff in full_percentages\n",
    "# and then for the stuff we wanna plot in this notebook just focus on the values in percentages\n",
    "for p in percentages:\n",
    "    assert p in full_percentages, f\"{p}% not in full_percentages\""
   ]
  },
  {
   "cell_type": "markdown",
   "metadata": {},
   "source": [
    "## Compute possible (non)synonymous and (non)nonsense mutations, in general\n",
    "\n",
    "Not specific to a given MAG -- just in the context of all possible codons, using the standard genetic code."
   ]
  },
  {
   "cell_type": "code",
   "execution_count": 12,
   "metadata": {},
   "outputs": [],
   "source": [
    "codons = []\n",
    "dna = \"ACGT\"\n",
    "for x in dna:\n",
    "    for y in dna:\n",
    "        for z in dna:\n",
    "            codons.append(x+y+z)\n",
    "            \n",
    "# Maps the 64 codons --> [1, 2, 3] --> an integer 0, 1, 2, or 3, indicating how many of the 3 mutations\n",
    "# from this CP in this codon into another nucleotide are synonymous (si) or nonsynonymous (ni)\n",
    "codon2cp2si = defaultdict(dict)\n",
    "codon2cp2ni = defaultdict(dict)\n",
    "\n",
    "# Like above, but for non-nonsense (nnsi) or nonsense (nsi) mutations and only for the 61 sense codons\n",
    "codon2cp2nnsi = defaultdict(dict)\n",
    "codon2cp2nsi = defaultdict(dict)\n",
    "\n",
    "stop_codons = []\n",
    "\n",
    "for c in codons:\n",
    "    is_not_stop = not (str(skbio.DNA(c).translate()) == \"*\")\n",
    "    if not is_not_stop:\n",
    "        stop_codons.append(c)\n",
    "    for pos in [0, 1, 2]:\n",
    "        si = 0\n",
    "        ni = 0\n",
    "        nnsi = 0\n",
    "        nsi = 0\n",
    "        for alt_nt in set(dna) - set(c[pos]):\n",
    "            alt_codon = c[:pos] + alt_nt + c[pos + 1:]\n",
    "            aa1 = str(skbio.DNA(c).translate())\n",
    "            aa2 = str(skbio.DNA(alt_codon).translate())\n",
    "            if aa1 == aa2:\n",
    "                si += 1\n",
    "                if is_not_stop:\n",
    "                    nnsi += 1\n",
    "            else:\n",
    "                ni += 1\n",
    "                if is_not_stop:\n",
    "                    if aa2 == \"*\":\n",
    "                        nsi += 1\n",
    "                    else:\n",
    "                        nnsi += 1\n",
    "                    \n",
    "        assert si + ni == 3\n",
    "        codon2cp2si[c][pos + 1] = si\n",
    "        codon2cp2ni[c][pos + 1] = ni\n",
    "        \n",
    "        if is_not_stop:\n",
    "            assert nsi + nnsi == 3\n",
    "            codon2cp2nnsi[c][pos + 1] = nnsi\n",
    "            codon2cp2nsi[c][pos + 1] = nsi\n",
    "            \n",
    "assert len(codon2cp2si) == len(codon2cp2ni) == 64\n",
    "assert len(codon2cp2nnsi) == len(codon2cp2nsi) == 61\n",
    "assert len(stop_codons) == 3"
   ]
  },
  {
   "cell_type": "markdown",
   "metadata": {},
   "source": [
    "## Use these numbers to compute $\\sum_i S_i$ (and $N_i$, $NNS_i$, $NS_i$) for all MAGs"
   ]
  },
  {
   "cell_type": "code",
   "execution_count": null,
   "metadata": {},
   "outputs": [],
   "source": [
    "# seq --> list of 1-indexed positions where a mutation here can be nonsyn or nonsense\n",
    "seq2poss_nonsyn_positions = {}\n",
    "seq2poss_nonsense_positions = {}\n",
    "\n",
    "# Total poss numbers of single-nucleotide (non)synonymous and (non)nonsense mutations throughout the genomes\n",
    "seq2poss_si = defaultdict(int)\n",
    "seq2poss_ni = defaultdict(int)\n",
    "seq2poss_nnsi = defaultdict(int)\n",
    "seq2poss_nsi = defaultdict(int)\n",
    "\n",
    "for seq in SEQS:\n",
    "    df = parse_sco(f\"../seqs/genes/{seq}.sco\")\n",
    "    fasta = skbio.DNA.read(f\"../seqs/{seq}.fasta\")\n",
    "    # Figure out quickly which positions are in multiple genes, so we can ignore them\n",
    "    pos_to_genes = get_parent_gene_info_of_many_positions(df)\n",
    "    \n",
    "    poss_nonsyn_pos = []\n",
    "    poss_nonsense_pos = []\n",
    "    \n",
    "    for gene in df.itertuples():\n",
    "        print(\n",
    "            f\"{seq2name[seq]}: On gene {gene.Index:,} / {len(df.index):,}. \"\n",
    "            f\"So far {len(poss_nonsyn_pos):,} poss nonsyn and {len(poss_nonsense_pos):,} \"\n",
    "            f\"poss nonsense positions.\"\n",
    "        )\n",
    "        # The order of positions we go through is dependent on gene orientation:\n",
    "        # left --> right if this is a \"+\" strand gene,\n",
    "        # right --> left if this is a \"-\" strand gene.\n",
    "        pos_interval = get_pos_interval_from_gene(gene)\n",
    "        \n",
    "        # We'll update these values as we walk through the gene.\n",
    "        # curr_codon_cp1_pos indicates CP1 (the left end for + genes, the right end for - genes)\n",
    "        # of the current gene. It's 1-indexed, along with the gene coordinates.\n",
    "        curr_codon_cp1_pos = pos_interval[0]\n",
    "        # Always either 1, 2, or 3\n",
    "        cp = 1\n",
    "        \n",
    "        for pos in pos_interval:\n",
    "            if cp == 1:\n",
    "                # It's easier to sync this at the top rather than bottom of the loop because the positions\n",
    "                # in pos_interval could be increasing or decreasing depending on the gene's strand\n",
    "                curr_codon_cp1_pos = pos\n",
    "            \n",
    "            num_parent_genes = len(pos_to_genes[pos])\n",
    "            if num_parent_genes == 1:\n",
    "                \n",
    "                if gene.Strand == \"+\":\n",
    "                    # The skbio sequence is 0-indexed, so we gotta subtract by 1\n",
    "                    parent_codon_fasta = fasta[curr_codon_cp1_pos - 1: curr_codon_cp1_pos + 2]\n",
    "                elif gene.Strand == \"-\":\n",
    "                    parent_codon_fasta = fasta[curr_codon_cp1_pos - 3: curr_codon_cp1_pos].reverse_complement()\n",
    "                else:\n",
    "                    raise ValueError(f\"Invalid strand: {gene.Strand}\")\n",
    "                \n",
    "                parent_codon_str = str(parent_codon_fasta)\n",
    "                seq2poss_si[seq] += codon2cp2si[parent_codon_str][cp]\n",
    "                seq2poss_ni[seq] += codon2cp2ni[parent_codon_str][cp]\n",
    "                if codon2cp2ni[parent_codon_str][cp] > 0:\n",
    "                    poss_nonsyn_pos.append(pos)\n",
    "                    \n",
    "                if parent_codon_str not in stop_codons:\n",
    "                    seq2poss_nnsi[seq] += codon2cp2nnsi[parent_codon_str][cp]\n",
    "                    seq2poss_nsi[seq] += codon2cp2nsi[parent_codon_str][cp]\n",
    "                    if codon2cp2nsi[parent_codon_str][cp] > 0:\n",
    "                        poss_nonsense_pos.append(pos)\n",
    "                    \n",
    "            cp = next_cp(cp)\n",
    "    seq2poss_nonsyn_positions[seq] = poss_nonsyn_pos\n",
    "    seq2poss_nonsense_positions[seq] = poss_nonsense_pos"
   ]
  },
  {
   "cell_type": "code",
   "execution_count": 14,
   "metadata": {},
   "outputs": [
    {
     "name": "stdout",
     "output_type": "stream",
     "text": [
      "edge_6104: 1,045,732 possible nonsyn and 132,806 possible nonsense mutations. Ratio of #nonsyn to #nonsense: 7.87\n",
      "edge_1671: 1,685,006 possible nonsyn and 240,546 possible nonsense mutations. Ratio of #nonsyn to #nonsense: 7.00\n",
      "edge_2358: 1,917,615 possible nonsyn and 227,810 possible nonsense mutations. Ratio of #nonsyn to #nonsense: 8.42\n"
     ]
    }
   ],
   "source": [
    "for seq in SEQS:\n",
    "    n = len(seq2poss_nonsyn_positions[seq])\n",
    "    ns = len(seq2poss_nonsense_positions[seq])\n",
    "    ratio = n / ns\n",
    "    print(\n",
    "        f\"{seq}: {n:,} possible nonsyn and \"\n",
    "        f\"{ns:,} possible nonsense mutations. Ratio of #nonsyn to #nonsense: {ratio:.2f}\"\n",
    "    )"
   ]
  },
  {
   "cell_type": "code",
   "execution_count": null,
   "metadata": {},
   "outputs": [],
   "source": []
  }
 ],
 "metadata": {
  "kernelspec": {
   "display_name": "Python 3",
   "language": "python",
   "name": "python3"
  },
  "language_info": {
   "codemirror_mode": {
    "name": "ipython",
    "version": 3
   },
   "file_extension": ".py",
   "mimetype": "text/x-python",
   "name": "python",
   "nbconvert_exporter": "python",
   "pygments_lexer": "ipython3",
   "version": "3.7.10"
  }
 },
 "nbformat": 4,
 "nbformat_minor": 4
}
