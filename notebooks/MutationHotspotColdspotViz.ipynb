{
 "cells": [
  {
   "cell_type": "markdown",
   "metadata": {},
   "source": [
    "# Show plots of mutation locations throughout the genomes"
   ]
  },
  {
   "cell_type": "code",
   "execution_count": 1,
   "metadata": {
    "execution": {
     "iopub.execute_input": "2021-06-19T09:12:46.072627Z",
     "iopub.status.busy": "2021-06-19T09:12:46.071700Z",
     "iopub.status.idle": "2021-06-19T09:12:46.350765Z",
     "shell.execute_reply": "2021-06-19T09:12:46.349866Z"
    }
   },
   "outputs": [],
   "source": [
    "%run \"Header.ipynb\""
   ]
  },
  {
   "cell_type": "code",
   "execution_count": 2,
   "metadata": {},
   "outputs": [],
   "source": [
    "%run \"LoadMutationJSONData.ipynb\""
   ]
  },
  {
   "cell_type": "code",
   "execution_count": 3,
   "metadata": {},
   "outputs": [],
   "source": [
    "import time\n",
    "import skbio\n",
    "from parse_sco import parse_sco"
   ]
  },
  {
   "cell_type": "markdown",
   "metadata": {},
   "source": [
    "## Parameters of the diversity index: $p$ and $m$\n",
    "\n",
    "See paper for description. These are currently copied from the diversity index notebook; ideally, should be loaded from the same place I guess."
   ]
  },
  {
   "cell_type": "code",
   "execution_count": 6,
   "metadata": {
    "execution": {
     "iopub.execute_input": "2021-06-19T09:12:46.900714Z",
     "iopub.status.busy": "2021-06-19T09:12:46.899915Z",
     "iopub.status.idle": "2021-06-19T09:12:46.902209Z",
     "shell.execute_reply": "2021-06-19T09:12:46.901568Z"
    }
   },
   "outputs": [],
   "source": [
    "m = 5\n",
    "\n",
    "percentages = [50, 25, 10, 5, 2, 1, 0.5, 0.25, 0.1, 0.05]\n",
    "\n",
    "p2pct = get_p2pct(percentages)\n",
    "p2mincov = get_p2mincov(percentages, m)\n",
    "\n",
    "# We skip 0.25% (since BACTERIA isn't sufficiently covered for it, although I guess we could show CAMP /\n",
    "# BACTEROIDALES if desired) and we skip 0.1%, 0.05%, etc. since none of the 3 selected genomes are suff.\n",
    "# covered for these percentages\n",
    "percentages_were_gonna_use = percentages[:-2]"
   ]
  },
  {
   "cell_type": "markdown",
   "metadata": {},
   "source": [
    "## Precompute the mutation / coverage data for each genome for each $p$\n",
    "\n",
    "This doesn't save time if we're just rerunning this notebook once, but it makes it __a lot__ easier to repeatedly redo the visualization part of things -- which is really useful in tweaking the figure to make it pretty (moving around labels/legends, changing sizes, etc.)"
   ]
  },
  {
   "cell_type": "code",
   "execution_count": null,
   "metadata": {
    "scrolled": true
   },
   "outputs": [
    {
     "name": "stdout",
     "output_type": "stream",
     "text": [
      "Percentages (values of p we're going to use): [50, 25, 10, 5, 2, 1, 0.5, 0.25]\n",
      "On seq edge_6104...\n",
      "\tRetrieving sequence-level data...\n"
     ]
    }
   ],
   "source": [
    "seq2p2within_gene_muts = {}\n",
    "seq2p2intergenic_muts = {}\n",
    "seq2p2sufficiently_covered_positions = {}\n",
    "seq2p2insufficiently_covered_positions = {}\n",
    "\n",
    "print(f\"Percentages (values of p we're going to use): {percentages_were_gonna_use}\")\n",
    "for si, seq in enumerate(SEQS):\n",
    "    print(f\"On seq {seq}...\")\n",
    "\n",
    "    t1 = time.time()\n",
    "    print(\"\\tRetrieving sequence-level data...\")\n",
    "    genes_df = parse_sco(f\"../seqs/genes/{seq}.sco\")\n",
    "    sequence = str(skbio.DNA.read(f\"../seqs/{seq}.fasta\"))\n",
    "    positions = range(1, seq2len[seq] + 1)\n",
    "    pos_to_genes = get_parent_gene_info_of_many_positions(1, seq2len[seq], genes_df)\n",
    "    t2 = time.time()\n",
    "    print(f\"\\tDone retrieving data. Time taken: {t2 - t1:,.2f} sec.\")\n",
    "    \n",
    "    p2within_gene_muts = {p: [] for p in percentages_were_gonna_use}\n",
    "    p2intergenic_muts = {p: [] for p in percentages_were_gonna_use}\n",
    "    p2sufficiently_covered_positions = {p: [] for p in percentages_were_gonna_use}\n",
    "    p2insufficiently_covered_positions = {p: [] for p in percentages_were_gonna_use}\n",
    "    \n",
    "    print(\"\\tGoing through positions...\")\n",
    "    for pos in positions:\n",
    "        if pos % 1e5 == 0:\n",
    "            print(f\"\\t\\tOn position {pos:,} / {seq2len[seq]:,} bp.\")\n",
    "        cov = seq2pos2totalcov[seq][str(pos)]\n",
    "        for p in percentages_were_gonna_use:\n",
    "            if cov >= p2mincov[p]:\n",
    "                # Only call mutations based on individual nt mutations, not aggregates.\n",
    "                # Similar to diversity index computation.\n",
    "                nonmatches = set(\"ACGT\") - set(sequence[pos - 1])\n",
    "                alt_freqs = seq2pos2mismatches[seq][str(pos)]\n",
    "                for alt in alt_freqs:\n",
    "                    if (alt_freqs[alt] / cov) > p2pct[p]:\n",
    "                        num_genes = len(pos_to_genes[pos])\n",
    "                        if num_genes == 0:\n",
    "                            p2intergenic_muts[p].append(pos)\n",
    "                        else:\n",
    "                            p2within_gene_muts[p].append(pos)\n",
    "                        break\n",
    "                p2sufficiently_covered_positions[p].append(pos)\n",
    "            else:\n",
    "                p2insufficiently_covered_positions[p].append(pos)\n",
    "                \n",
    "    seq2p2within_gene_muts[seq] = p2within_gene_muts\n",
    "    seq2p2intergenic_muts[seq] = p2intergenic_muts\n",
    "    seq2p2sufficiently_covered_positions[seq] = p2sufficiently_covered_positions\n",
    "    seq2p2insufficiently_covered_positions[seq] = p2insufficiently_covered_positions"
   ]
  },
  {
   "cell_type": "code",
   "execution_count": null,
   "metadata": {
    "scrolled": false
   },
   "outputs": [],
   "source": [
    "num_rows = 3 * len(percentages_were_gonna_use)\n",
    "# For some reason, when I *don't* use constrained_layout, there's a ton of extra whitespace at the top of the\n",
    "# figure. No idea what causes it in this plot specifically.\n",
    "fig, ax = pyplot.subplots(num_rows, 1, gridspec_kw={\"hspace\": 1.5}, constrained_layout=True)\n",
    "\n",
    "YMAX = 0.25\n",
    "\n",
    "for si, seq in enumerate(SEQS):\n",
    "    print(f\"On seq {seq} (length {seq2len[seq]:,} bp)...\")\n",
    "    for pi, p in enumerate(percentages_were_gonna_use):\n",
    "        \n",
    "        ax_idx = (si * len(percentages_were_gonna_use)) + pi\n",
    "        \n",
    "        #print(f\"\\tOn percentage p = {p}%...\", end=\" \")\n",
    "        #print(f\"axis index: {ax_idx} / {num_rows - 1}\")\n",
    "        \n",
    "        within_gene_muts = seq2p2within_gene_muts[seq][p]\n",
    "        intergenic_muts = seq2p2intergenic_muts[seq][p]\n",
    "        num_p_muts = len(within_gene_muts) + len(intergenic_muts)\n",
    "        sufficiently_covered_positions = seq2p2sufficiently_covered_positions[seq][p]\n",
    "        insufficiently_covered_positions = seq2p2insufficiently_covered_positions[seq][p]\n",
    "\n",
    "        # We use the first ax for BACTERIA because (as of writing) CAMP has no insufficiently covered\n",
    "        # positions for the top value of p, so no insufficient position info shows up in the legend.\n",
    "        # BACTERIA, on the other hand, has cov drops -- which actually helps cover all cases we\n",
    "        # show in the legend in this case.\n",
    "        if seq == \"edge_1671\" and pi == 0:\n",
    "            wgm_label = \"Mutations within one or more genes\"\n",
    "            igm_label = \"Mutations within intergenic regions\"\n",
    "            sc_label = \"Sufficiently-covered positions\"\n",
    "            ic_label = \"Insufficiently-covered positions\"\n",
    "        else:\n",
    "            wgm_label = igm_label = sc_label = ic_label = None\n",
    "\n",
    "        if ax_idx == num_rows - 1:\n",
    "            ax[ax_idx].set_xlabel(\"Sequence position (bp)\")\n",
    "\n",
    "        # Draw vertical lines indicating called p-mutations\n",
    "        # We make it a point to draw these *before* the horizontal lines so that the horizontal lines\n",
    "        # are drawn on top\n",
    "        ax[ax_idx].vlines(within_gene_muts, 0, YMAX, color=\"#000000\", linewidth=0.5, label=wgm_label)\n",
    "        ax[ax_idx].vlines(intergenic_muts, 0, YMAX, color=cp2color[4], linewidth=0.5, label=igm_label)\n",
    "        \n",
    "        # Draw horizontal lines indicating sufficiently and insufficiently-covered positions\n",
    "        for type_of_positions, color, label in (\n",
    "            (sufficiently_covered_positions, \"#aaaaaa\", sc_label),\n",
    "            (insufficiently_covered_positions, \"#cc3322\", ic_label)\n",
    "        ):\n",
    "            if len(type_of_positions) > 0:\n",
    "                runs = convert_to_runs(type_of_positions)\n",
    "                run_starts = [r[0] for r in runs]\n",
    "                run_ends = [r[1] for r in runs]\n",
    "                ax[ax_idx].hlines(\n",
    "                    [0] * len(run_starts), run_starts, [s + 1 for s in run_ends],\n",
    "                    color=color, linewidth=30, label=label\n",
    "                )\n",
    "                debug_runs = False\n",
    "                if debug_runs:\n",
    "                    if color == \"#aaaaaa\":\n",
    "                        prefix = \"Sufficiently-covered\"\n",
    "                    else:\n",
    "                        prefix = \"Insufficiently-covered\"\n",
    "                    print(f\"\\t{prefix} runs for {seq} at p = {p}%:\")\n",
    "                    print(f\"\\t\\tStarts: {run_starts}\")\n",
    "                    print(f\"\\t\\tEnds: {run_ends}\")\n",
    "\n",
    "        if pi == 0:\n",
    "            ax[ax_idx].set_title(\"\\n\\n\" + r\"$\\bf{\" + seq2name[seq] + \"}$\")\n",
    "        \n",
    "        leftlabel = r\"$p = \\bf{\" + str(p) + \"}$%\"\n",
    "        # Use {,} to remove unneeded spaces around thousands separators, which are automatically\n",
    "        # added due to MathTeX stuff:\n",
    "        rightlabel = r\"$\\bf{\" + f\"{num_p_muts:,}\".replace(\",\", \"{,}\") + \"}$\\n$p$-mutation\"\n",
    "        \n",
    "        # Use nice grammar, since BACTERIA at p=25% has exactly one p-mutation as of writing :P\n",
    "        if num_p_muts != 1:\n",
    "            rightlabel += \"s\"\n",
    "            \n",
    "        # We can position the left and right labels (adjacent to the y-axis) using ax.text(),\n",
    "        # which defaults to data coordinates -- so the x and y values here are comparable to the x and y\n",
    "        # values we used for the mutation positions, blocks of sufficiently/insufficiently covered positions,\n",
    "        # etc. above.\n",
    "        loffset = seq2len[seq] * 0.025\n",
    "        roffset = seq2len[seq] * 0.04\n",
    "        ax[ax_idx].text(-loffset, 0.03, leftlabel, ha=\"center\", color=\"#555555\")\n",
    "        ax[ax_idx].text(seq2len[seq] + roffset, 0.03, rightlabel, ha=\"center\", color=\"#555555\")\n",
    "        \n",
    "        # Hide y-axis numbers / ticks, since they don't really have meaning in this plot:\n",
    "        # https://stackoverflow.com/a/2176591\n",
    "        ax[ax_idx].set_yticks([])\n",
    "\n",
    "        ax[ax_idx].set_ylim(0, YMAX)\n",
    "        \n",
    "        # Crude method of forcing the x ticks to include 1 bp (the start of each sequence). Could be\n",
    "        # generalized to each sequence, since this doesn't vary between percentage values.\n",
    "        xticks = [1]\n",
    "        curr_x_pos = 200000\n",
    "        while curr_x_pos <= seq2len[seq]:\n",
    "            xticks.append(curr_x_pos)\n",
    "            curr_x_pos += 200000\n",
    "        ax[ax_idx].set_xticks(xticks)\n",
    "        \n",
    "        # For some reason the use_thousands_separator() function I defined in the header notebook breaks\n",
    "        # here? I get a weird error about numpy numbers not being convertable to integers or something.\n",
    "        # However, the following approach (similar to that used in the diversity indices ntbk) does the same\n",
    "        # thing and works fine, far as I can tell.\n",
    "        ax[ax_idx].xaxis.set_major_formatter(\"{x:,.0f}\")\n",
    "        \n",
    "        # the purpose of setting the upper x limit is to avoid unsightly things where mutations near the\n",
    "        # end of a genome \"go beyond\" the gray/red bars (this happens in BACTEROIDALES esp as of writing).\n",
    "        #\n",
    "        # We include up to 1 above the seq len because each \"block\" of (in)sufficiently covered positions\n",
    "        # ranges from [block start in 1-indexed coords, block end in 1-indexed coords + 1] so that blocks\n",
    "        # of 1 position technically take up space. Think this is reasonable, although granted: 1-pos-length\n",
    "        # blocks really aren't visible at this range.\n",
    "        ax[ax_idx].set_xlim(1, seq2len[seq] + 1)\n",
    "\n",
    "        # Make the plot white: https://stackoverflow.com/a/4708018\n",
    "        ax[ax_idx].patch.set_facecolor(\"None\")\n",
    "        ax[ax_idx].patch.set_edgecolor(\"None\")\n",
    "        ax[ax_idx].patch.set_alpha(0)\n",
    "    \n",
    "legend = fig.legend(loc=(0.78, 0.965), facecolor=\"white\", edgecolor=\"white\")\n",
    "\n",
    "# Ignore linewidth used in the figure legends for position markers: https://stackoverflow.com/a/9707180\n",
    "# This is because the thick line width for the insuff-covered positions ends up being drawn \"over\"\n",
    "# the suff-covered positions' symbol in the legend, which looks gross. Note that we *do* want to keep the\n",
    "# line widths for the mutation position symbols, to disambiguate things.\n",
    "# In order to distinguish between these handles in the legend, we just use the order of the handles...\n",
    "# because from some testing, the get_label(), _label, etc. methods/params of the legend handles don't seem\n",
    "# to return anything useful ._.\n",
    "for li, legobj in enumerate(legend.legendHandles):\n",
    "    if li > 1:\n",
    "        legobj.set_linewidth(10)\n",
    "        \n",
    "fig.set_size_inches(19, 24)\n",
    "fig.suptitle(\"Locations of $p$-mutations throughout the three selected genomes\", x=0.5, y=1, fontsize=18)\n",
    "fig.savefig(\"figs/mutation-locations.png\", bbox_inches=\"tight\")"
   ]
  },
  {
   "cell_type": "code",
   "execution_count": null,
   "metadata": {},
   "outputs": [],
   "source": []
  }
 ],
 "metadata": {
  "kernelspec": {
   "display_name": "Python 3",
   "language": "python",
   "name": "python3"
  },
  "language_info": {
   "codemirror_mode": {
    "name": "ipython",
    "version": 3
   },
   "file_extension": ".py",
   "mimetype": "text/x-python",
   "name": "python",
   "nbconvert_exporter": "python",
   "pygments_lexer": "ipython3",
   "version": "3.7.10"
  }
 },
 "nbformat": 4,
 "nbformat_minor": 4
}
