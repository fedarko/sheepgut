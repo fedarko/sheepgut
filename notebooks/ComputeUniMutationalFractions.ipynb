{
 "cells": [
  {
   "cell_type": "markdown",
   "metadata": {},
   "source": [
    "# Compute uni-mutational fractions"
   ]
  },
  {
   "cell_type": "code",
   "execution_count": 1,
   "metadata": {
    "execution": {
     "iopub.execute_input": "2021-06-12T03:37:40.745049Z",
     "iopub.status.busy": "2021-06-12T03:37:40.744111Z",
     "iopub.status.idle": "2021-06-12T03:37:57.872940Z",
     "shell.execute_reply": "2021-06-12T03:37:57.873653Z"
    }
   },
   "outputs": [],
   "source": [
    "%run \"Header.ipynb\"\n",
    "%run \"GeneUtils.ipynb\""
   ]
  },
  {
   "cell_type": "code",
   "execution_count": 1,
   "metadata": {},
   "outputs": [],
   "source": [
    "import pileup\n",
    "seq2pos2pileup = pileup.load()"
   ]
  },
  {
   "cell_type": "markdown",
   "metadata": {},
   "source": [
    "## Compute uni-mutational fraction for each position in the genome\n",
    "\n",
    "... Rather than write it out again here, just see the paper appendix on this"
   ]
  },
  {
   "cell_type": "code",
   "execution_count": 2,
   "metadata": {
    "execution": {
     "iopub.execute_input": "2021-06-12T03:37:57.948804Z",
     "iopub.status.busy": "2021-06-12T03:37:57.912695Z",
     "iopub.status.idle": "2021-06-12T03:38:04.150254Z",
     "shell.execute_reply": "2021-06-12T03:38:04.149472Z"
    }
   },
   "outputs": [],
   "source": [
    "seq2pos2f = {}\n",
    "\n",
    "for seq in SEQS:\n",
    "    seq2pos2f[seq] = {}\n",
    "    for pos in range(1, seq2len[seq] + 1):\n",
    "        mismatch_cts = pileup.get_mismatch_cts(seq2pos2pileup[seq][pos])\n",
    "        sum_mismatches = sum(mismatch_cts)\n",
    "        if sum_mismatches > 0:\n",
    "            f = max(mismatch_cts) / sum_mismatches\n",
    "            seq2pos2f[seq][pos] = f\n",
    "        else:\n",
    "            # There are no non-matches, so N2, N3, and N4 are all 0. This means that f is undefined\n",
    "            # (since it'd be 0 / 0).\n",
    "            seq2pos2f[seq][pos] = None"
   ]
  }
 ],
 "metadata": {
  "kernelspec": {
   "display_name": "Python 3",
   "language": "python",
   "name": "python3"
  },
  "language_info": {
   "codemirror_mode": {
    "name": "ipython",
    "version": 3
   },
   "file_extension": ".py",
   "mimetype": "text/x-python",
   "name": "python",
   "nbconvert_exporter": "python",
   "pygments_lexer": "ipython3",
   "version": "3.7.10"
  }
 },
 "nbformat": 4,
 "nbformat_minor": 4
}
