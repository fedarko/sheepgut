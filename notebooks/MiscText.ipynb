{
 "cells": [
  {
   "cell_type": "markdown",
   "id": "alike-occurrence",
   "metadata": {},
   "source": [
    "# Generate misc. text files that can be loaded directly into LaTeX\n",
    "\n",
    "The objective of this is to reduce the amount of stuff I have to keep updating in the report manually -- this should both reduce errors and save time when re-running things.\n",
    "\n",
    "This file does not necessarily generate all of the stuff in `misc-text/` -- I will probably split this up if it gets unwieldy."
   ]
  },
  {
   "cell_type": "code",
   "execution_count": 1,
   "id": "gentle-color",
   "metadata": {
    "execution": {
     "iopub.execute_input": "2021-06-13T00:31:33.086516Z",
     "iopub.status.busy": "2021-06-13T00:31:33.085597Z",
     "iopub.status.idle": "2021-06-13T00:31:51.390603Z",
     "shell.execute_reply": "2021-06-13T00:31:51.389643Z"
    }
   },
   "outputs": [],
   "source": [
    "%run \"Header.ipynb\"\n",
    "%run \"GeneUtils.ipynb\"\n",
    "import pileup\n",
    "seq2pos2pileup = pileup.load()"
   ]
  },
  {
   "cell_type": "markdown",
   "id": "innocent-surgeon",
   "metadata": {},
   "source": [
    "## Describe the number of mutated positions with \"ties\" in the most-common mutation\n",
    "\n",
    "As might be expected, there are not a lot of these positions."
   ]
  },
  {
   "cell_type": "code",
   "execution_count": 2,
   "id": "piano-reservation",
   "metadata": {
    "execution": {
     "iopub.execute_input": "2021-06-13T00:31:51.465587Z",
     "iopub.status.busy": "2021-06-13T00:31:51.429409Z",
     "iopub.status.idle": "2021-06-13T00:31:58.955458Z",
     "shell.execute_reply": "2021-06-13T00:31:58.954724Z"
    }
   },
   "outputs": [],
   "source": [
    "p = 0.5 / 100\n",
    "\n",
    "numties = 0\n",
    "for seq in SEQS:\n",
    "    for pos in range(1, seq2len[seq] + 1):\n",
    "        if pileup.naively_call_mutation(seq2pos2pileup[seq][pos], p):\n",
    "            alts = pileup.get_mismatch_cts(seq2pos2pileup[seq][pos])\n",
    "            if alts.count(max(alts)) > 1:\n",
    "                numties += 1\n",
    "\n",
    "with open(\"misc-text/num-alt-nt-ties.tex\", \"w\") as of:\n",
    "    # see https://tex.stackexchange.com/a/18018\n",
    "    of.write(\"{}\\endinput\".format(numties))"
   ]
  },
  {
   "cell_type": "markdown",
   "id": "dental-mortgage",
   "metadata": {},
   "source": [
    "## Count the number of reads with supplementary alignments, and with _overlapping_ supplementary alignments"
   ]
  },
  {
   "cell_type": "code",
   "execution_count": 3,
   "id": "ancient-duplicate",
   "metadata": {
    "execution": {
     "iopub.execute_input": "2021-06-13T00:31:58.964157Z",
     "iopub.status.busy": "2021-06-13T00:31:58.963307Z",
     "iopub.status.idle": "2021-06-13T00:32:51.045107Z",
     "shell.execute_reply": "2021-06-13T00:32:51.045816Z"
    }
   },
   "outputs": [
    {
     "name": "stdout",
     "output_type": "stream",
     "text": [
      "On seq CAMP.\n",
      "Average number of alignments of reads with supp alignments: 2.07484\n",
      "Unique reads in unfiltered aln: 503,385\n",
      "Unique reads in filtered aln: 503,385\n",
      "On seq BACTERIA.\n",
      "Average number of alignments of reads with supp alignments: 2.04318\n",
      "Unique reads in unfiltered aln: 268,075\n",
      "Unique reads in filtered aln: 268,075\n",
      "On seq BACTEROIDALES.\n",
      "Average number of alignments of reads with supp alignments: 2.04184\n",
      "Unique reads in unfiltered aln: 745,461\n",
      "Unique reads in filtered aln: 745,461\n"
     ]
    }
   ],
   "source": [
    "import pysam\n",
    "from itertools import combinations\n",
    "from collections import defaultdict\n",
    "from statistics import mean\n",
    "\n",
    "bf = pysam.AlignmentFile(\"../main-workflow/output/aln-sorted.bam\", \"rb\")\n",
    "bf2 = pysam.AlignmentFile(\"../main-workflow/output/overlap-supp-aln-filtered-and-sorted-aln.bam\", \"rb\")\n",
    "\n",
    "outputtext = (\n",
    "    \"Before filtering overlapping supplementary alignments and before filtering\\n\"\n",
    "    \"partially-mapped reads, the following supplementary alignment statistics held.\\n\"\n",
    ")\n",
    "\n",
    "for seqi, seq in enumerate(SEQS):\n",
    "    print(f\"On seq {seq2name[seq]}.\")\n",
    "    read2refranges = defaultdict(list)\n",
    "    read2atleast_one_supp_seen = defaultdict(bool)\n",
    "    for ri, read in enumerate(bf.fetch(seq), 1):\n",
    "        rn = read.query_name\n",
    "        rng = range(read.reference_start, read.reference_end)\n",
    "        read2refranges[rn].append(rng)\n",
    "        if read.is_supplementary:\n",
    "            read2atleast_one_supp_seen[rn] = True\n",
    "\n",
    "    reads_with_supp_ct = 0\n",
    "    overlap_lens = []\n",
    "    num_alns_of_reads_with_supp = []\n",
    "    reads_with_overlap_ct = 0\n",
    "    for r in read2refranges:\n",
    "        if len(read2refranges[r]) > 1:\n",
    "            reads_with_supp_ct += 1\n",
    "            num_alns_of_reads_with_supp.append(len(read2refranges[r]))\n",
    "            aln_overlaps = []\n",
    "            for combo in combinations(read2refranges[r], 2):\n",
    "                range_overlap = set(combo[0]) & set(combo[1])\n",
    "                if range_overlap:\n",
    "                    aln_overlaps.append(len(range_overlap))\n",
    "            if len(aln_overlaps) > 0:\n",
    "                reads_with_overlap_ct += 1\n",
    "                overlap_lens += aln_overlaps\n",
    "\n",
    "    numreads = len(read2refranges)\n",
    "    pctreadswithsupp = 100 * (reads_with_supp_ct / numreads)\n",
    "    pctreadswithoverlaps = 100 * (reads_with_overlap_ct / numreads)\n",
    "    avgoverlap = mean(overlap_lens)\n",
    "    avg_num_alignments = mean(num_alns_of_reads_with_supp)\n",
    "    \n",
    "    print(f\"Average number of alignments of reads with supp alignments: {avg_num_alignments:,.5f}\")\n",
    "    \n",
    "    print(f\"Unique reads in unfiltered aln: {numreads:,}\")\n",
    "    \n",
    "    # This small block of code verifies that the OSA-filtered alignment doesn't actually remove any UNIQUE\n",
    "    # reads. Eventually this code should be removed from here and stored in a dedicated test module.\n",
    "    unique_reads_in_filtered_aln = set()\n",
    "    for ri2, read2 in enumerate(bf2.fetch(seq), 1):\n",
    "        rn2 = read2.query_name\n",
    "        unique_reads_in_filtered_aln.add(rn2)\n",
    "    numreads2 = len(unique_reads_in_filtered_aln)\n",
    "    print(f\"Unique reads in filtered aln: {numreads2:,}\")\n",
    "    if numreads2 != numreads:\n",
    "        raise ValueError(f\"Looks like the OSA-filtered alignment removed unique reads? {numreads:,} -> {numreads2:,}\")\n",
    "    \n",
    "    # Add extra line break btwn. adjacent sentences\n",
    "    outputtext += \"\\n\"\n",
    "        \n",
    "    outputtext += (\n",
    "        f\"In the {seq2name[seq]} genome, {reads_with_supp_ct:,} / {numreads:,}\"\n",
    "        f\" ({pctreadswithsupp:.2f}\\\\%) unique reads aligned to within the genome had supplementary alignments\"\n",
    "        f\" within the genome.\\nOn average, these {reads_with_supp_ct:,} reads had {avg_num_alignments:.2f} alignments.\\n\"\n",
    "        f\"Furthermore, {reads_with_overlap_ct:,} / {numreads:,} ({pctreadswithoverlaps:.2f}\\\\%)\"\n",
    "        \" unique reads aligned to within the genome had supplementary alignments within the genome\"\n",
    "        \" \\emph{and} had overlap between at least one pair of their alignments on the reference genome.\\nThe\"\n",
    "        \" average length of these overlaps (considering all pairs of overlapping alignments\"\n",
    "        f\" from the same read) was {avgoverlap:,.2f} bp.\\n\" \n",
    "    )\n",
    "    \n",
    "    # Also really quick, validate that none of the reads with multiple alignments lack supp alignments.\n",
    "    # This could happen if we forgot to filter secondary reads or something.\n",
    "    for r in read2refranges:\n",
    "        if len(read2refranges[r]) > 1:\n",
    "            if not read2atleast_one_supp_seen[r]:\n",
    "                print(f\"Read {r} had no supplementary alignments but still has multiple alignments???\")\n",
    "                \n",
    "with open(\"misc-text/overlapping-supp-aln-stats.tex\", \"w\") as of:\n",
    "    of.write(\"{}\\endinput\".format(outputtext))"
   ]
  },
  {
   "cell_type": "code",
   "execution_count": null,
   "id": "78c9898c",
   "metadata": {},
   "outputs": [],
   "source": []
  }
 ],
 "metadata": {
  "kernelspec": {
   "display_name": "Python 3",
   "language": "python",
   "name": "python3"
  },
  "language_info": {
   "codemirror_mode": {
    "name": "ipython",
    "version": 3
   },
   "file_extension": ".py",
   "mimetype": "text/x-python",
   "name": "python",
   "nbconvert_exporter": "python",
   "pygments_lexer": "ipython3",
   "version": "3.7.10"
  }
 },
 "nbformat": 4,
 "nbformat_minor": 5
}
