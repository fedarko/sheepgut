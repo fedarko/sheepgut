{
 "cells": [
  {
   "cell_type": "markdown",
   "id": "alike-occurrence",
   "metadata": {},
   "source": [
    "# Generate misc. text files that can be loaded directly into LaTeX\n",
    "\n",
    "The objective of this is to reduce the amount of stuff I have to keep updating in the report manually -- this should both reduce errors and save time when re-running things.\n",
    "\n",
    "This file does not necessarily generate all of the stuff in `misc-text/` -- I will probably split this up if it gets unwieldy."
   ]
  },
  {
   "cell_type": "code",
   "execution_count": 1,
   "id": "gentle-color",
   "metadata": {
    "execution": {
     "iopub.execute_input": "2021-04-22T22:40:47.579434Z",
     "iopub.status.busy": "2021-04-22T22:40:47.578488Z",
     "iopub.status.idle": "2021-04-22T22:41:16.529891Z",
     "shell.execute_reply": "2021-04-22T22:41:16.530681Z"
    }
   },
   "outputs": [],
   "source": [
    "%run \"Header.ipynb\"\n",
    "%run \"LoadMutationJSONData.ipynb\"\n",
    "%run \"GeneUtils.ipynb\""
   ]
  },
  {
   "cell_type": "markdown",
   "id": "innocent-surgeon",
   "metadata": {},
   "source": [
    "## Describe the number of mutated positions with \"ties\" in the most-common mutation\n",
    "\n",
    "As might be expected, there are not a lot of these positions."
   ]
  },
  {
   "cell_type": "code",
   "execution_count": 2,
   "id": "piano-reservation",
   "metadata": {
    "execution": {
     "iopub.execute_input": "2021-04-22T22:41:16.591221Z",
     "iopub.status.busy": "2021-04-22T22:41:16.560576Z",
     "iopub.status.idle": "2021-04-22T22:41:27.818996Z",
     "shell.execute_reply": "2021-04-22T22:41:27.819704Z"
    }
   },
   "outputs": [],
   "source": [
    "minfreq_pct = 0.5 / 100\n",
    "\n",
    "# \"pseudo variant caller\"\n",
    "pvc = lambda cov, mismatches: 1 if (mismatches / cov) > minfreq_pct else 0\n",
    "\n",
    "numties = 0\n",
    "SEQS = [\"edge_6104\", \"edge_1671\", \"edge_2358\"]\n",
    "for seq in SEQS:\n",
    "    for pos in seq2pos2totalcov[seq]:\n",
    "        if get_val(seq, pos, pvc):\n",
    "            alts = seq2pos2mismatches[seq][pos]\n",
    "            maxalt = max(alts, key=alts.get)\n",
    "            maxalts = [a for a in alts if alts[a] == alts[maxalt]]\n",
    "            if len(maxalts) > 1:\n",
    "                # print(seq, pos, alts)\n",
    "                # print(seq2pos2mismatchct[seq][pos])\n",
    "                # print(seq2pos2matchct[seq][pos])\n",
    "                numties += 1\n",
    "\n",
    "with open(\"misc-text/num-alt-nt-ties.tex\", \"w\") as of:\n",
    "    # see https://tex.stackexchange.com/a/18018\n",
    "    of.write(\"{}\\endinput\".format(numties))"
   ]
  }
 ],
 "metadata": {
  "kernelspec": {
   "display_name": "Python (qiime2-2021.2)",
   "language": "python",
   "name": "myenv"
  },
  "language_info": {
   "codemirror_mode": {
    "name": "ipython",
    "version": 3
   },
   "file_extension": ".py",
   "mimetype": "text/x-python",
   "name": "python",
   "nbconvert_exporter": "python",
   "pygments_lexer": "ipython3",
   "version": "3.6.13"
  }
 },
 "nbformat": 4,
 "nbformat_minor": 5
}
