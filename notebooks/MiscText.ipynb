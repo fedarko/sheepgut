{
 "cells": [
  {
   "cell_type": "markdown",
   "id": "alike-occurrence",
   "metadata": {},
   "source": [
    "# Generate misc. text files that can be loaded directly into LaTeX\n",
    "\n",
    "The objective of this is to reduce the amount of stuff I have to keep updating in the report manually -- this should both reduce errors and save time when re-running things.\n",
    "\n",
    "This file does not necessarily generate all of the stuff in `misc-text/` -- I will probably split this up if it gets unwieldy."
   ]
  },
  {
   "cell_type": "code",
   "execution_count": 1,
   "id": "gentle-color",
   "metadata": {
    "execution": {
     "iopub.execute_input": "2021-06-13T00:31:33.086516Z",
     "iopub.status.busy": "2021-06-13T00:31:33.085597Z",
     "iopub.status.idle": "2021-06-13T00:31:51.390603Z",
     "shell.execute_reply": "2021-06-13T00:31:51.389643Z"
    }
   },
   "outputs": [],
   "source": [
    "%run \"Header.ipynb\"\n",
    "%run \"LoadMutationJSONData.ipynb\"\n",
    "%run \"GeneUtils.ipynb\""
   ]
  },
  {
   "cell_type": "markdown",
   "id": "innocent-surgeon",
   "metadata": {},
   "source": [
    "## Describe the number of mutated positions with \"ties\" in the most-common mutation\n",
    "\n",
    "As might be expected, there are not a lot of these positions."
   ]
  },
  {
   "cell_type": "code",
   "execution_count": 2,
   "id": "piano-reservation",
   "metadata": {
    "execution": {
     "iopub.execute_input": "2021-06-13T00:31:51.465587Z",
     "iopub.status.busy": "2021-06-13T00:31:51.429409Z",
     "iopub.status.idle": "2021-06-13T00:31:58.955458Z",
     "shell.execute_reply": "2021-06-13T00:31:58.954724Z"
    }
   },
   "outputs": [],
   "source": [
    "minfreq_pct = 0.5 / 100\n",
    "\n",
    "# \"pseudo variant caller\"\n",
    "pvc = lambda cov, mismatches: 1 if (mismatches / cov) > minfreq_pct else 0\n",
    "\n",
    "numties = 0\n",
    "for seq in SEQS:\n",
    "    for pos in seq2pos2totalcov[seq]:\n",
    "        if get_val(seq, pos, pvc):\n",
    "            alts = seq2pos2mismatches[seq][pos]\n",
    "            maxalt = max(alts, key=alts.get)\n",
    "            maxalts = [a for a in alts if alts[a] == alts[maxalt]]\n",
    "            if len(maxalts) > 1:\n",
    "                # print(seq, pos, alts)\n",
    "                # print(seq2pos2mismatchct[seq][pos])\n",
    "                # print(seq2pos2matchct[seq][pos])\n",
    "                numties += 1\n",
    "\n",
    "with open(\"misc-text/num-alt-nt-ties.tex\", \"w\") as of:\n",
    "    # see https://tex.stackexchange.com/a/18018\n",
    "    of.write(\"{}\\endinput\".format(numties))"
   ]
  },
  {
   "cell_type": "markdown",
   "id": "dental-mortgage",
   "metadata": {},
   "source": [
    "## Count the number of reads with supplementary alignments, and with _overlapping_ supplementary alignments"
   ]
  },
  {
   "cell_type": "code",
   "execution_count": 3,
   "id": "ancient-duplicate",
   "metadata": {
    "execution": {
     "iopub.execute_input": "2021-06-13T00:31:58.964157Z",
     "iopub.status.busy": "2021-06-13T00:31:58.963307Z",
     "iopub.status.idle": "2021-06-13T00:32:51.045107Z",
     "shell.execute_reply": "2021-06-13T00:32:51.045816Z"
    }
   },
   "outputs": [],
   "source": [
    "import pysam\n",
    "from itertools import combinations\n",
    "from collections import defaultdict\n",
    "\n",
    "bf = pysam.AlignmentFile(\"../main-workflow/output/fully-filtered-and-sorted-aln.bam\", \"rb\")\n",
    "\n",
    "outputtext = \"\"\n",
    "\n",
    "for seqi, seq in enumerate(SEQS):\n",
    "    read2refranges = defaultdict(list)\n",
    "    read2atleast_one_supp_seen = defaultdict(bool)\n",
    "    for ri, read in enumerate(bf.fetch(seq), 1):\n",
    "        rn = read.query_name\n",
    "        rng = range(read.reference_start, read.reference_end)\n",
    "        read2refranges[rn].append(rng)\n",
    "        if read.is_supplementary:\n",
    "            read2atleast_one_supp_seen[rn] = True\n",
    "\n",
    "    reads_with_supp_ct = 0\n",
    "    overlaps = set()\n",
    "    for r in read2refranges:\n",
    "        if len(read2refranges[r]) > 1:\n",
    "            reads_with_supp_ct += 1\n",
    "            for combo in combinations(read2refranges[r], 2):\n",
    "                if set(combo[0]) & set(combo[1]):\n",
    "                    overlaps.add(r)\n",
    "\n",
    "    numreads = len(read2refranges)\n",
    "    pctreadswithsupp = 100 * (reads_with_supp_ct / numreads)\n",
    "    pctreadswithoverlaps = 100 * (len(overlaps) / numreads)\n",
    "    \n",
    "    # Add extra line break btwn. adjacent sentences\n",
    "    if seqi > 0:\n",
    "        outputtext += \"\\n\"\n",
    "        \n",
    "    outputtext += (\n",
    "        f\"In the {seq2name[seq]} genome, {reads_with_supp_ct:,} / {numreads:,}\"\n",
    "        f\" ({pctreadswithsupp:.2f}\\\\%) unique reads have supplementary alignments.\"\n",
    "        f\" {len(overlaps):,} / {numreads:,} ({pctreadswithoverlaps:.2f}\\\\%) unique\"\n",
    "        f\" reads with supplementary alignments have overlap between at least one pair of alignments.\\n\"\n",
    "    )\n",
    "    \n",
    "    # Also really quick, validate that none of the reads with multiple alignments lack supp alignments.\n",
    "    # This could happen if we forgot to filter secondary reads or something.\n",
    "    for r in read2refranges:\n",
    "        if len(read2refranges[r]) > 1:\n",
    "            if not read2atleast_one_supp_seen[r]:\n",
    "                print(f\"Read {r} had no supplementary alignments but still has multiple alignments???\")\n",
    "                \n",
    "with open(\"misc-text/overlapping-supp-aln-stats.tex\", \"w\") as of:\n",
    "    of.write(\"{}\\endinput\".format(outputtext))"
   ]
  }
 ],
 "metadata": {
  "kernelspec": {
   "display_name": "Python (qiime2-2021.2)",
   "language": "python",
   "name": "myenv"
  },
  "language_info": {
   "codemirror_mode": {
    "name": "ipython",
    "version": 3
   },
   "file_extension": ".py",
   "mimetype": "text/x-python",
   "name": "python",
   "nbconvert_exporter": "python",
   "pygments_lexer": "ipython3",
   "version": "3.7.10"
  }
 },
 "nbformat": 4,
 "nbformat_minor": 5
}
