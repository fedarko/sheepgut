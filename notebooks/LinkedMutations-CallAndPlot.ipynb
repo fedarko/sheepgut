{
 "cells": [
  {
   "cell_type": "markdown",
   "metadata": {},
   "source": [
    "# Determine which pairs of mutated positions are linked, and plot results\n",
    "\n",
    "**Part 2 of the \"linked mutations\" analyses.**"
   ]
  },
  {
   "cell_type": "code",
   "execution_count": 2,
   "metadata": {
    "execution": {
     "iopub.execute_input": "2021-04-12T13:06:36.967391Z",
     "iopub.status.busy": "2021-04-12T13:06:36.966453Z",
     "iopub.status.idle": "2021-04-12T13:06:37.229248Z",
     "shell.execute_reply": "2021-04-12T13:06:37.228218Z"
    }
   },
   "outputs": [],
   "source": [
    "%run \"Header.ipynb\""
   ]
  },
  {
   "cell_type": "code",
   "execution_count": 1,
   "metadata": {
    "execution": {
     "iopub.execute_input": "2021-04-12T13:06:54.763033Z",
     "iopub.status.busy": "2021-04-12T13:06:54.762235Z",
     "iopub.status.idle": "2021-04-12T13:06:55.823302Z",
     "shell.execute_reply": "2021-04-12T13:06:55.822354Z"
    }
   },
   "outputs": [],
   "source": [
    "import pickle\n",
    "import networkx as nx\n",
    "from linked_mutations_utils import (\n",
    "    MAX_NONLINKED_MUTATED_FRACTION_NONINCLUSIVE, emptyListOf4\n",
    ")"
   ]
  },
  {
   "cell_type": "markdown",
   "metadata": {},
   "source": [
    "## Using the computed groups..."
   ]
  },
  {
   "cell_type": "markdown",
   "metadata": {},
   "source": [
    "### Plot $Reads(i, j)$ vs. $\\big(Reads(i, -) + Reads(-, j)\\big)$ for all consecutive pairs\n",
    "\n",
    "Minor considerations, based on how this data was computed in the first linked mutations notebook:\n",
    "\n",
    "- We have already excluded pairs more than some max distance away from each other (current value is 3 kbp).\n",
    "- We have already excluded mutated positions with less than some min coverage (current value is 1,000x)."
   ]
  },
  {
   "cell_type": "code",
   "execution_count": null,
   "metadata": {
    "scrolled": false
   },
   "outputs": [
    {
     "name": "stdout",
     "output_type": "stream",
     "text": [
      "On seq edge_6104.\n",
      "....................................................................................................\n",
      "Done with edge_6104!\n",
      "\n",
      "On seq edge_1671.\n",
      "...................................................................................................\n",
      "Done with edge_1671!\n",
      "\n",
      "On seq edge_2358.\n",
      "...................................................................................................\n",
      "Done with edge_2358!\n"
     ]
    }
   ],
   "source": [
    "fig, axes = pyplot.subplots(1, 3)\n",
    "for i, seq in enumerate(SEQS):\n",
    "    print(f\"On seq {seq}.\")\n",
    "    with open(f\"pospair2groupcts/{seq}_pospair2groupcts.pickle\", \"rb\") as pf:\n",
    "        pospair2groupcts = pickle.load(pf)\n",
    "    \n",
    "    ax = axes[i]\n",
    "    seen_left_mutpos = []\n",
    "    onehundredth = round(len(pospair2groupcts) / 100)\n",
    "    for ii, pospair in enumerate(sorted(pospair2groupcts.keys()), 1):\n",
    "        if ii % onehundredth == 0:\n",
    "            print(\".\", end=\"\")\n",
    "            \n",
    "        # We only consider _consecutive_ pairs. For example, if the pairs we have are\n",
    "        # (A, B), (A, C), (B, C), (C, D), (C, E), where the order from left to right in the genome is ABCDE,\n",
    "        # then we will only consider (A, B), (B, C), (C, D).\n",
    "        #\n",
    "        # Since we've sorted the pairs (which in Python defaults to sorting by the first position in each\n",
    "        # pair, then by the second position), we can only consider pairs where the first position in the\n",
    "        # pair has not been seen before.\n",
    "        if len(seen_left_mutpos) == 0 or pospair[0] > seen_left_mutpos[-1]:\n",
    "            cts = pospair2groupcts[pospair]\n",
    "            \n",
    "            # Color pairs that are less than the 0.2 threshold specially (this is the remaining condition\n",
    "            # for these pairs being linked, although we could also have non-consecutive mutations be linked\n",
    "            # since the pairs we draw here are just a subset of the total pairs)\n",
    "            if (cts[1] + cts[2]) < MAX_NONLINKED_MUTATED_FRACTION_NONINCLUSIVE * cts[0]:\n",
    "                color = \"#55cc55\"\n",
    "            else:\n",
    "                color = SCATTERPLOT_PT_COLOR\n",
    "                \n",
    "            ax.scatter(cts[0], cts[1] + cts[2], c=color)\n",
    "            seen_left_mutpos.append(pospair[0])\n",
    "            \n",
    "        elif pospair[0] < seen_left_mutpos[-1]:\n",
    "            raise ValueError(\"seen_left_mutpos should be updated in sorted order; something's wrong\")\n",
    "    print(f\"\\nDone with {seq}!\")\n",
    "    if i < 2:\n",
    "        print(\"\\n\", end=\"\")\n",
    "    if i == 0:\n",
    "        ax.set_ylabel(\"$Reads(i, -) + Reads(-, j)$\", fontsize=14)\n",
    "    elif i == 1:\n",
    "        ax.set_xlabel(\"$Reads(i, j)$\", fontsize=15)\n",
    "        \n",
    "    # Bound the left and bottom of each scatterplot at x = 0 and y = 0\n",
    "    ax.set_xlim(0)\n",
    "    ax.set_ylim(0)\n",
    "    \n",
    "    # Plot the line y = (MAX_NONLINKED_MUTATED_FRACTION_NONINCLUSIVE) * x\n",
    "    # Represents the cutoff point for when or not we consider a pair of mutated positions to be linked.\n",
    "    # Based on https://stackoverflow.com/a/43811762.\n",
    "    xvals = ax.get_xlim()\n",
    "    yvals = [MAX_NONLINKED_MUTATED_FRACTION_NONINCLUSIVE * x for x in xvals]\n",
    "    ax.plot(xvals, yvals, \"--\", c=\"#000000\")\n",
    "    \n",
    "    # Using nonlinear scales apparently breaks the line stuff (or at least it breaks axline, the\n",
    "    # \"official\" version of these scales added in a later version of matplotlib)... maybe worth using\n",
    "    # two rows of plots in the future, where one row is log scales and another is non-log scales?\n",
    "    # (With just the non-log scales row having the line.)\n",
    "    #ax.set_xscale(\"symlog\")\n",
    "    #ax.set_yscale(\"symlog\")\n",
    "    ax.set_title(seq2name[seq])\n",
    "    \n",
    "fig.suptitle(\n",
    "    \"$Reads(i, j)$ vs. $(Reads(i, -) + Reads(-, j))$ for all consecutive pairs of mutated positions\",\n",
    "    fontsize=\"15\",\n",
    "    y=1.03\n",
    ")\n",
    "fig.set_size_inches(15, 5)\n",
    "fig.savefig(\"figs/readsij_scatterplots.png\", bbox_inches=\"tight\")"
   ]
  },
  {
   "cell_type": "markdown",
   "metadata": {},
   "source": [
    "## Define mutated positions as \"linked\" or not, and then create a graph\n",
    "\n",
    "__Nodes:__ Mutated positions.\n",
    "\n",
    "__Edges:__ Connect _linked_ mutated positions."
   ]
  },
  {
   "cell_type": "code",
   "execution_count": 46,
   "metadata": {},
   "outputs": [
    {
     "name": "stdout",
     "output_type": "stream",
     "text": [
      "On seq edge_6104... (1206908, 1209001) [0, 14, 2, 3441]\n",
      "(1209001, 1209010) [0, 4, 4, 4454]\n",
      "(1209001, 1209022) [0, 4, 1, 4450]\n",
      "(1209001, 1209058) [0, 4, 1, 4439]\n",
      "(1209001, 1209104) [0, 4, 0, 4421]\n",
      "(1209001, 1209115) [0, 4, 1, 4374]\n",
      "(1209001, 1209121) [0, 4, 0, 4414]\n",
      "(1209001, 1209126) [0, 4, 2, 4409]\n",
      "(1209001, 1209133) [0, 4, 0, 4407]\n",
      "(1209001, 1209136) [0, 4, 0, 4405]\n",
      "(1209001, 1209142) [0, 4, 0, 4403]\n",
      "(1209001, 1209145) [0, 4, 2, 4400]\n",
      "(1209001, 1209148) [0, 4, 2, 4400]\n",
      "(1209001, 1209154) [0, 4, 3, 4371]\n",
      "(1209001, 1209205) [0, 4, 3, 4375]\n",
      "(1209001, 1209241) [0, 4, 3, 4369]\n",
      "(1209001, 1209265) [3, 1, 696, 3664]\n",
      "(1209001, 1209266) [0, 4, 1, 4359]\n",
      "(1209001, 1209297) [0, 4, 2, 4350]\n",
      "(1209001, 1209322) [0, 4, 0, 4340]\n",
      "(1209001, 1209325) [0, 4, 3, 4331]\n",
      "(1209001, 1209337) [0, 4, 3, 4332]\n",
      "(1209001, 1209400) [0, 4, 0, 4311]\n",
      "(1209001, 1209403) [0, 4, 2, 4307]\n",
      "(1209001, 1209418) [0, 4, 3, 4296]\n",
      "(1209001, 1209421) [0, 4, 4, 4284]\n",
      "(1209001, 1209424) [0, 4, 0, 4298]\n",
      "(1209001, 1209523) [0, 4, 0, 4265]\n",
      "(1209001, 1209577) [0, 4, 5, 4240]\n",
      "(1209001, 1209610) [0, 4, 2, 4221]\n",
      "(1209001, 1209697) [0, 4, 2, 4197]\n",
      "(1209001, 1209700) [0, 4, 0, 4199]\n",
      "(1209001, 1209757) [0, 3, 1, 4176]\n",
      "(1209001, 1209796) [0, 3, 1, 4169]\n",
      "Wrote out graph!\n",
      "On seq edge_1671... Wrote out graph!\n",
      "On seq edge_2358... Wrote out graph!\n"
     ]
    }
   ],
   "source": [
    "for i, seq in enumerate(SEQS):\n",
    "    g = nx.Graph()\n",
    "    print(f\"On seq {seq}...\", end=\" \")\n",
    "    with open(f\"pospair2groupcts/{seq}_pospair2groupcts.pickle\", \"rb\") as pf:\n",
    "        pospair2groupcts = pickle.load(pf)\n",
    "        \n",
    "    # Adding the same node twice doesn't hurt, so the lazy approach is ok\n",
    "    # (not calling find_mutated_positions() from the utils file since that requires loading some big\n",
    "    # JSONs into memory which will bork my laptop)\n",
    "    for pair in pospair2groupcts:\n",
    "        g.add_node(pair[0])\n",
    "        g.add_node(pair[1])\n",
    "        \n",
    "        cts = pospair2groupcts[pair]\n",
    "        if (cts[1] + cts[2]) < MAX_NONLINKED_MUTATED_FRACTION_NONINCLUSIVE * cts[0]:\n",
    "            g.add_edge(*pair)\n",
    "            \n",
    "        if pair[0] == 1209001 or pair[1] == 1209001:\n",
    "            print(pair, cts)\n",
    "    \n",
    "    nx.write_graphml(g, f\"graphs/{seq}_linked_mutations.graphml\")\n",
    "    print(\"Wrote out graph!\")"
   ]
  },
  {
   "cell_type": "code",
   "execution_count": null,
   "metadata": {},
   "outputs": [],
   "source": []
  }
 ],
 "metadata": {
  "kernelspec": {
   "display_name": "Python (qiime2-2021.2)",
   "language": "python",
   "name": "myenv"
  },
  "language_info": {
   "codemirror_mode": {
    "name": "ipython",
    "version": 3
   },
   "file_extension": ".py",
   "mimetype": "text/x-python",
   "name": "python",
   "nbconvert_exporter": "python",
   "pygments_lexer": "ipython3",
   "version": "3.6.13"
  }
 },
 "nbformat": 4,
 "nbformat_minor": 4
}
