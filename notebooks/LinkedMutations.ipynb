{
 "cells": [
  {
   "cell_type": "markdown",
   "metadata": {},
   "source": [
    "# Identify and cluster \"linked\" mutated positions"
   ]
  },
  {
   "cell_type": "code",
   "execution_count": 1,
   "metadata": {
    "execution": {
     "iopub.execute_input": "2021-04-12T13:06:36.967391Z",
     "iopub.status.busy": "2021-04-12T13:06:36.966453Z",
     "iopub.status.idle": "2021-04-12T13:06:37.229248Z",
     "shell.execute_reply": "2021-04-12T13:06:37.228218Z"
    }
   },
   "outputs": [],
   "source": [
    "%run \"Header.ipynb\""
   ]
  },
  {
   "cell_type": "code",
   "execution_count": 2,
   "metadata": {
    "execution": {
     "iopub.execute_input": "2021-04-12T13:06:37.233557Z",
     "iopub.status.busy": "2021-04-12T13:06:37.232721Z",
     "iopub.status.idle": "2021-04-12T13:06:54.758000Z",
     "shell.execute_reply": "2021-04-12T13:06:54.757222Z"
    }
   },
   "outputs": [],
   "source": [
    "%run \"LoadMutationJSONData.ipynb\""
   ]
  },
  {
   "cell_type": "code",
   "execution_count": 3,
   "metadata": {
    "execution": {
     "iopub.execute_input": "2021-04-12T13:06:54.763033Z",
     "iopub.status.busy": "2021-04-12T13:06:54.762235Z",
     "iopub.status.idle": "2021-04-12T13:06:55.823302Z",
     "shell.execute_reply": "2021-04-12T13:06:55.822354Z"
    }
   },
   "outputs": [],
   "source": [
    "import pysam\n",
    "import skbio\n",
    "from itertools import combinations\n",
    "from collections import defaultdict"
   ]
  },
  {
   "cell_type": "code",
   "execution_count": null,
   "metadata": {},
   "outputs": [],
   "source": [
    "# unless (pos j) - (pos i) < this, we do not consider i and j linked.\n",
    "MAX_DIST_BTWN_LINKED_POSITIONS_NONINCLUSIVE = 3000\n",
    "\n",
    "# unless at least this many reads have mutations at both pos i and pos j, we do not consider i and j linked.\n",
    "MIN_COV_OF_MUTATIONS_AT_LINKED_POSITIONS = 1000\n",
    "\n",
    "# unless |Reads(i, -)| + |Reads(-, j)| < this fraction * |Reads(i, j)|, we do not consider i and j linked.\n",
    "MAX_NONLINKED_MUTATED_FRACTION_NONINCLUSIVE = 0.2\n",
    "\n",
    "# How we call a mutation: only if (# mismatches) / (# mismatches + # matches) > MINFREQ.\n",
    "# Defaults to 0.5%.\n",
    "MINFREQ = 0.005"
   ]
  },
  {
   "cell_type": "code",
   "execution_count": 4,
   "metadata": {},
   "outputs": [
    {
     "ename": "SyntaxError",
     "evalue": "unexpected EOF while parsing (<ipython-input-4-f103b9078c4b>, line 58)",
     "output_type": "error",
     "traceback": [
      "\u001b[0;36m  File \u001b[0;32m\"<ipython-input-4-f103b9078c4b>\"\u001b[0;36m, line \u001b[0;32m58\u001b[0m\n\u001b[0;31m    \u001b[0m\n\u001b[0m    ^\u001b[0m\n\u001b[0;31mSyntaxError\u001b[0m\u001b[0;31m:\u001b[0m unexpected EOF while parsing\n"
     ]
    }
   ],
   "source": [
    "bf = pysam.AlignmentFile(\"../main-workflow/output/fully-filtered-and-sorted-aln.bam\", \"rb\")\n",
    "\n",
    "t1 = time.time()\n",
    "for seq in SEQS:\n",
    "    fasta = skbio.DNA.read(\"../seqs/{}.fasta\".format(seq))\n",
    "    # Maps tuple of (left integer pos, right integer pos) to a list of [0, 0, 0, 0].\n",
    "    # (Since a pair (i, j) is equal to a pair (j, i), we just index this so that the leftmost position is the\n",
    "    # first element in the tuple and the rightmost position is the second element. This seems like a more intuitive\n",
    "    # way of structuring this then as a nested dict of leftpos2rightpos2groupcts.)\n",
    "    # https://stackoverflow.com/a/13065439\n",
    "    #\n",
    "    # Each entry in the list indicates counts of types of reads connecting these two positions we've seen thus\n",
    "    # far. In 0-indexed coordinates:\n",
    "    #\n",
    "    # 0. Reads(i, j): reads that support mutations at both positions\n",
    "    # 1. Reads(i, -): reads that only support mutations at i\n",
    "    # 2. Reads(-, j): reads that only support mutations at j\n",
    "    # 3. Reads(-, -): reads that do not support mutations at either position\n",
    "    #\n",
    "    # This matches the definitions in the paper (currently that is section 3.6.2, but that number may change as\n",
    "    # the paper is edited and restructured).\n",
    "    \n",
    "    pospair2groupcts = defaultdict(lambda: [0, 0, 0, 0])\n",
    "    \n",
    "    # Identify all mutated positions up front to save time.\n",
    "    mutated_positions = []\n",
    "    for pos in seq2pos2matchct[seq].keys():\n",
    "        \n",
    "        matchct = seq2pos2matchct[seq][pos]\n",
    "        mismatchct = seq2pos2mismatchct[seq][pos]\n",
    "        cov = mismatchct + matchct\n",
    "        \n",
    "        # We can be strict and filter out positions that don't pass the coverage filter for linked reads -- no\n",
    "        # sense including these.\n",
    "        if cov >= MIN_COV_OF_MUTATIONS_AT_LINKED_POSITIONS:\n",
    "            \n",
    "            # Actually \"call\" mutations, the same way we do elsewhere in these analyses (albeit maybe with\n",
    "            # different values of MINFREQ). Of course, this isn't the only way to do this.\n",
    "            if (mismatchct / cov) > MINFREQ:\n",
    "                mutated_positions.append(int(pos))\n",
    "    \n",
    "    for ri, read in enumerate(bf.fetch(seq), 1):\n",
    "        ap = read.get_aligned_pairs(matches_only=True)\n",
    "        \n",
    "        # Maps mutated positions seen in this read to 0 (match to the reference) or 1 (mismatch to the reference).\n",
    "        # The absence of a mutated position from this dict implies that this position is not seen in this read\n",
    "        # (either due to indels/skips or this read just not being aligned to cover it).\n",
    "        #\n",
    "        # After we compute this we can increment pospair2groupcts accordingly for every pair of mutated positions\n",
    "        # present in this dict.\n",
    "        mutpos2seenval = {}\n",
    "        \n",
    "        # TODO: use this pair to \"slice\" mutated_positions to just the relevant ones\n",
    "#         leftmostpair = ap[0]\n",
    "#         rightmostpair = ap[-1]\n",
    "        \n",
    "#         leftidx = 0\n",
    "#         rightidx = len(mutated_positions) - 1\n",
    "#         for mpi, mpos in enumerate(mutated_positions):\n",
    "#             if mpos >= leftidx:\n",
    "#                 pass\n",
    "            \n",
    "        # After slicing the mutated positions, we can go through them...?\n",
    "        # HM. Maybe stuff below is best idea after all.\n",
    "        \n",
    "        # Iterating through the aligned pairs is expensive. Since read lengths are generally in the thousands\n",
    "        # to tens of thousands of bp (which is much less than the > 1 million bp length of any bacterial genome),\n",
    "        # we set things up so that we only iterate through the aligned pairs once. We maintain an integer that\n",
    "        # is a poor man's \"pointer\" to an index in mutated_positions; at every iteration we check this pointer.\n",
    "        \n",
    "        mpi = 0\n",
    "        \n",
    "        # Go through this read's aligned pairs. As we see each pair, compare the pair's reference position\n",
    "        # (refpos) to the mpi-th mutated position (mutpos).\n",
    "        #\n",
    "        # If refpos >  mutpos, increment mpi until refpos <= mutpos (stopping as early as possible).\n",
    "        # If refpos == mutpos, we have a match! Update mutpos2seenval[mutpos] based on comparing this read's\n",
    "        #                      aligned value at this position to the reference at this position.\n",
    "        #                      Should be either a 0 or a 1.\n",
    "        # If refpos <  mutpos, continue to the next pair.\n",
    "        \n",
    "        # After doing all that, we can just use mutpos2seenval to update the group counts for each pair. Should\n",
    "        # be feasible, I think (!!!)\n",
    "        \n",
    "        for pair in ap:\n",
    "\n",
    "            # For each mutated position...\n",
    "            for pi, p1 in enumerate(mutated_positions, 0):\n",
    "\n",
    "                # For each \"rightward\" mutated position:\n",
    "                for p2 in mutated_positions[pi + 1:]:\n",
    "\n",
    "                    if p2 - p1 < MAX_DIST_BTWN_LINKED_POSITIONS_NONINCLUSIVE:\n",
    "                        # Figure out what this read says at p1 and at p2.\n",
    "                        # TODO: Look through aligned pairs.\n",
    "\n",
    "                    else:\n",
    "                        # Since mutated_positions is monotonically increasing (...it's a sorted list of positions),\n",
    "                        # we can break as soon as we get to the max distance away from p1.\n",
    "                        # Doing this lets us avoid iterating over all possible pairs of mutated positions\n",
    "                        # for every read (if there are 40k mutated positions, then there would be almost 800 million\n",
    "                        # such pairs...)\n",
    "                        break\n",
    "                \n",
    "        # For every pair of mutated positions:\n",
    "        # (Per https://docs.python.org/3/library/itertools.html#itertools.combinations, each combination tuple\n",
    "        # is sorted in the same order as mutated_positions -- so we can be sure that p1 is to the left of p2.)\n",
    "        for (p1, p2) in combinations(mutated_positions, 2):\n",
    "            if p2 - p1 < MAX_DIST_BTWN_LINKED_POSITIONS_NONINCLUSIVE:\n",
    "                "
   ]
  },
  {
   "cell_type": "code",
   "execution_count": null,
   "metadata": {},
   "outputs": [],
   "source": []
  }
 ],
 "metadata": {
  "kernelspec": {
   "display_name": "Python (qiime2-2021.2)",
   "language": "python",
   "name": "myenv"
  },
  "language_info": {
   "codemirror_mode": {
    "name": "ipython",
    "version": 3
   },
   "file_extension": ".py",
   "mimetype": "text/x-python",
   "name": "python",
   "nbconvert_exporter": "python",
   "pygments_lexer": "ipython3",
   "version": "3.6.13"
  }
 },
 "nbformat": 4,
 "nbformat_minor": 4
}
