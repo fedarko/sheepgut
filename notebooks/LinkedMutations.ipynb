{
 "cells": [
  {
   "cell_type": "markdown",
   "metadata": {},
   "source": [
    "# Identify and cluster \"linked\" mutated positions"
   ]
  },
  {
   "cell_type": "code",
   "execution_count": 1,
   "metadata": {
    "execution": {
     "iopub.execute_input": "2021-04-12T13:06:36.967391Z",
     "iopub.status.busy": "2021-04-12T13:06:36.966453Z",
     "iopub.status.idle": "2021-04-12T13:06:37.229248Z",
     "shell.execute_reply": "2021-04-12T13:06:37.228218Z"
    }
   },
   "outputs": [],
   "source": [
    "%run \"Header.ipynb\""
   ]
  },
  {
   "cell_type": "code",
   "execution_count": 2,
   "metadata": {
    "execution": {
     "iopub.execute_input": "2021-04-12T13:06:37.233557Z",
     "iopub.status.busy": "2021-04-12T13:06:37.232721Z",
     "iopub.status.idle": "2021-04-12T13:06:54.758000Z",
     "shell.execute_reply": "2021-04-12T13:06:54.757222Z"
    }
   },
   "outputs": [],
   "source": [
    "%run \"LoadMutationJSONData.ipynb\""
   ]
  },
  {
   "cell_type": "code",
   "execution_count": 3,
   "metadata": {
    "execution": {
     "iopub.execute_input": "2021-04-12T13:06:54.763033Z",
     "iopub.status.busy": "2021-04-12T13:06:54.762235Z",
     "iopub.status.idle": "2021-04-12T13:06:55.823302Z",
     "shell.execute_reply": "2021-04-12T13:06:55.822354Z"
    }
   },
   "outputs": [],
   "source": [
    "import pysam\n",
    "import skbio\n",
    "from itertools import combinations"
   ]
  }
 ],
 "metadata": {
  "kernelspec": {
   "display_name": "Python (qiime2-2021.2)",
   "language": "python",
   "name": "myenv"
  },
  "language_info": {
   "codemirror_mode": {
    "name": "ipython",
    "version": 3
   },
   "file_extension": ".py",
   "mimetype": "text/x-python",
   "name": "python",
   "nbconvert_exporter": "python",
   "pygments_lexer": "ipython3",
   "version": "3.6.13"
  }
 },
 "nbformat": 4,
 "nbformat_minor": 4
}
