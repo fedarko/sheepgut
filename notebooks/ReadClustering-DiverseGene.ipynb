{
 "cells": [
  {
   "cell_type": "markdown",
   "id": "85db9545",
   "metadata": {},
   "source": [
    "# Attempt to describe strains of a given gene\n",
    "\n",
    "This is for gene 868 in BACT1, which has three \"levels\" of mutation frequencies -- around 2%, 5%, and 7%. The idea is to transform each read spanning this gene (length $k$) into a binary $k$-dimensional vector (where each element represents \"does this read have a mutation at this position in the gene?\"), and then to perform clustering on these vectors."
   ]
  },
  {
   "cell_type": "code",
   "execution_count": null,
   "id": "a39267f2",
   "metadata": {},
   "outputs": [],
   "source": [
    "%run \"Header.ipynb\"\n",
    "import pileup\n",
    "from parse_sco import parse_sco"
   ]
  },
  {
   "cell_type": "code",
   "execution_count": null,
   "id": "37f580fd",
   "metadata": {},
   "outputs": [],
   "source": [
    "seq2pos2pileup = pileup.load()"
   ]
  }
 ],
 "metadata": {
  "kernelspec": {
   "display_name": "Python 3",
   "language": "python",
   "name": "python3"
  },
  "language_info": {
   "codemirror_mode": {
    "name": "ipython",
    "version": 3
   },
   "file_extension": ".py",
   "mimetype": "text/x-python",
   "name": "python",
   "nbconvert_exporter": "python",
   "pygments_lexer": "ipython3",
   "version": "3.7.10"
  }
 },
 "nbformat": 4,
 "nbformat_minor": 5
}
