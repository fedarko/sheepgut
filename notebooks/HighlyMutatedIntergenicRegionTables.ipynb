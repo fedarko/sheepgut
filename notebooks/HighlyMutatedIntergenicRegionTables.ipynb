{
 "cells": [
  {
   "cell_type": "markdown",
   "id": "wireless-essay",
   "metadata": {},
   "source": [
    "# Highly Mutated Intergenic Region Tables\n",
    "\n",
    "Based on the `HighlyMutatedGeneTable` notebook, but less complex since we don't care about codons/etc. here.\n",
    "\n",
    "- For every sequence:\n",
    "  - Determine intergenic regions. This is doable by finding all positions that *aren't* in any genes, then\n",
    "    converting this collection of positions to maximally-long contiguous blocks of positions.\n",
    "  - Each intergenic region has a left end (inclusive), right end (inclusive), length, and mutation rate.\n",
    "  - For every intergenic region in this sequence:\n",
    "    - For every position in this region:\n",
    "      - See if this position is $p$-mutated ($p$ = 0.5%) and increment a count if so\n",
    "    - Compute total mutation rate for this intergenic region.\n",
    "    - Update list of intergenic regions with mutation rate."
   ]
  },
  {
   "cell_type": "code",
   "execution_count": 1,
   "id": "interim-incidence",
   "metadata": {
    "execution": {
     "iopub.execute_input": "2021-06-12T03:41:43.433349Z",
     "iopub.status.busy": "2021-06-12T03:41:43.432123Z",
     "iopub.status.idle": "2021-06-12T03:42:00.503130Z",
     "shell.execute_reply": "2021-06-12T03:42:00.502288Z"
    }
   },
   "outputs": [],
   "source": [
    "%run \"Header.ipynb\"\n",
    "%run \"GeneUtils.ipynb\"\n",
    "import pileup\n",
    "from parse_sco import parse_sco\n",
    "seq2pos2pileup = pileup.load()"
   ]
  },
  {
   "cell_type": "markdown",
   "id": "69cd33b0",
   "metadata": {},
   "source": [
    "## Define `IGRegion` class\n",
    "\n",
    "This is a very pared down version of the `Gene` class."
   ]
  },
  {
   "cell_type": "code",
   "execution_count": 2,
   "id": "8960765c",
   "metadata": {
    "execution": {
     "iopub.execute_input": "2021-06-12T03:42:00.510060Z",
     "iopub.status.busy": "2021-06-12T03:42:00.509215Z",
     "iopub.status.idle": "2021-06-12T03:42:00.510904Z",
     "shell.execute_reply": "2021-06-12T03:42:00.511533Z"
    }
   },
   "outputs": [],
   "source": [
    "class IGRegion:\n",
    "    def __init__(self, leftend, rightend, seq, p=0.005):\n",
    "        self.leftend = leftend\n",
    "        self.rightend = rightend\n",
    "        if self.leftend > self.rightend:\n",
    "            # Unlike in Genes, we allow for IG Regions to only include a single position. Biologically\n",
    "            # this makes sense since there isn't any notion of codons -- and practically, this is the case\n",
    "            # for e.g. position 30,036 (1-indexed) in the CAMP genome, at least right now.\n",
    "            raise ValueError(\"Left end of region must be <= right end of region\")\n",
    "            \n",
    "        self.positions = range(leftend, rightend + 1)\n",
    "        self.length = len(self.positions)\n",
    "        \n",
    "        self.seq = seq\n",
    "        self.num_total_mutations = None\n",
    "        self.total_mutation_rate = None\n",
    "        \n",
    "        self._count_mutations(p)\n",
    "        \n",
    "    def _count_mutations(self, p):\n",
    "        self.num_total_mutations = 0\n",
    "        for pos in self.positions:\n",
    "            is_mut = pileup.naively_call_mutation(seq2pos2pileup[seq][pos], p)\n",
    "            if is_mut == 1:\n",
    "                self.num_total_mutations += 1\n",
    "                    \n",
    "        self.total_mutation_rate = self.num_total_mutations / self.length\n",
    "        \n",
    "    def __str__(self):\n",
    "        return f\"IGRegion in {seq2name[seq]}: [{self.leftend}, {self.rightend}]\"\n",
    "    \n",
    "    def __repr__(self):\n",
    "        return self.__str__()"
   ]
  },
  {
   "cell_type": "markdown",
   "id": "1c68a94e",
   "metadata": {},
   "source": [
    "## Define (& count mutations in) intergenic regions; export tables"
   ]
  },
  {
   "cell_type": "code",
   "execution_count": 3,
   "id": "express-removal",
   "metadata": {
    "execution": {
     "iopub.execute_input": "2021-06-12T03:42:00.519474Z",
     "iopub.status.busy": "2021-06-12T03:42:00.518563Z",
     "iopub.status.idle": "2021-06-12T03:42:03.065721Z",
     "shell.execute_reply": "2021-06-12T03:42:03.066373Z"
    }
   },
   "outputs": [
    {
     "name": "stdout",
     "output_type": "stream",
     "text": [
      "CAMP: 100,893 positions in IRs\n",
      "BACT1: 207,620 positions in IRs\n",
      "BACT2: 513,104 positions in IRs\n"
     ]
    }
   ],
   "source": [
    "from statistics import mean\n",
    "\n",
    "seq2intergenicregion_ct = {}\n",
    "seq2mutated_intergenicregion_ct = {}\n",
    "seq2avg_intergenicregion_len = {}\n",
    "\n",
    "for seq in SEQS:\n",
    "    df = parse_sco(\"../seqs/genes/{}.sco\".format(seq))\n",
    "    bases_in_genes = set()\n",
    "    for gene_data in df.itertuples():\n",
    "        bases_in_genes |= set(get_pos_interval_from_gene(gene_data))\n",
    "    \n",
    "    bases_not_in_genes = sorted(set(range(1, seq2len[seq] + 1)) - bases_in_genes)\n",
    "    igregions = []\n",
    "    # We want to create one entry in igregions for every maximum-length sequence of continuous positions\n",
    "    # in bases_not_in_genes. igregions will contain IGRegion objects, defined above; and curr_region is\n",
    "    # a list of positions that will be converted eventually into an IGRegion.\n",
    "    curr_region = []\n",
    "    for pos in bases_not_in_genes:\n",
    "        if len(curr_region) == 0 or pos == curr_region[-1] + 1:\n",
    "            curr_region.append(pos)\n",
    "        else:\n",
    "            igregions.append(IGRegion(curr_region[0], curr_region[-1], seq))\n",
    "            curr_region = [pos]\n",
    "    \n",
    "    # We'll end up having a \"last\" intergenic region that isn't interrupted by anything.\n",
    "    # Make sure this is included.\n",
    "    if len(curr_region) > 0:\n",
    "        igregions.append(IGRegion(curr_region[0], curr_region[-1], seq))\n",
    "    \n",
    "    igregions_by_mutrate = sorted(igregions, key=lambda r: r.total_mutation_rate)\n",
    "    \n",
    "    with open(\"misc-text/{}-highest-mutated-igregions.tex\".format(seq), \"w\") as tblfile:\n",
    "        # Select top 10 regions for each sequence, going by total mutation rate.\n",
    "        # We reverse the order so that the highest-mutation-rate gene is written first, etc.\n",
    "        # (like a \"leaderboard\")\n",
    "        for r in igregions_by_mutrate[-10:][::-1]:\n",
    "            tblfile.write(\"{:,} & {:,} & {:,} & {:.2f}\\% \\\\\\\\ \\\\hline\\n\".format(\n",
    "                r.leftend, r.rightend, r.length, r.total_mutation_rate * 100\n",
    "            ))\n",
    "            \n",
    "    # Save some extra info for the report\n",
    "    seq2intergenicregion_ct[seq] = len(igregions)\n",
    "    seq2mutated_intergenicregion_ct[seq] = len([r for r in igregions if r.num_total_mutations > 0])    \n",
    "    seq2avg_intergenicregion_len[seq] = round(mean([r.length for r in igregions]))\n",
    "    \n",
    "    # NOTE: Could output these for table 2 (along with stuff from the highly mutated gene tables)...\n",
    "    # may be overkill at this point esp since Prodigal's gene calls don't really change much\n",
    "    pos_in_ir = sum([ir.length for ir in igregions])\n",
    "    print(f\"{seq2name[seq]}: {pos_in_ir:,} positions in IRs\")"
   ]
  },
  {
   "cell_type": "markdown",
   "id": "industrial-january",
   "metadata": {},
   "source": [
    "## Also, output some stats about numbers of intergenic regions"
   ]
  },
  {
   "cell_type": "code",
   "execution_count": 4,
   "id": "familiar-boutique",
   "metadata": {
    "execution": {
     "iopub.execute_input": "2021-06-12T03:42:03.071973Z",
     "iopub.status.busy": "2021-06-12T03:42:03.071162Z",
     "iopub.status.idle": "2021-06-12T03:42:03.101354Z",
     "shell.execute_reply": "2021-06-12T03:42:03.100678Z"
    }
   },
   "outputs": [],
   "source": [
    "with open(\"misc-text/igregion-mutation-stats.tex\", \"w\") as of:\n",
    "    # The \\endinput is needed to prevent LaTeX from inserting a bunch of space after this text is\n",
    "    # included using \\input{}. See https://tex.stackexchange.com/a/18018.\n",
    "    # (For some reason, using \\unskip removed ALL whitespace, which looked ugly -- this is the best\n",
    "    # solution I've found thus far.)\n",
    "    of.write(\n",
    "        (\n",
    "            \"Out of a total of {:,} / {:,} / {:,} intergenic regions in the {} / {} / {} genomes, respectively, \"\n",
    "            \"{:,} / {:,} / {:,} regions have nonzero $p$-mutation rates (using the threshold $p=0.5\\%$). \"\n",
    "            \"(The rounded average intergenic region lengths for each genome are {:,} / {:,} / {:,} bp, respectively.)\\endinput\"\n",
    "        ).format(\n",
    "            *[seq2intergenicregion_ct[seq] for seq in SEQS],\n",
    "            *[seq2name[seq] for seq in SEQS],\n",
    "            *[seq2mutated_intergenicregion_ct[seq] for seq in SEQS],\n",
    "            *[seq2avg_intergenicregion_len[seq] for seq in SEQS]\n",
    "        )\n",
    "    )\n",
    "    \n",
    "for seq in SEQS:\n",
    "    with open(\"misc-text/{}-igregion-ct.tex\".format(seq), \"w\") as nf:\n",
    "        nf.write(f\"{seq2intergenicregion_ct[seq]:,}\\endinput\")"
   ]
  },
  {
   "cell_type": "code",
   "execution_count": null,
   "id": "e2313e76",
   "metadata": {},
   "outputs": [],
   "source": []
  }
 ],
 "metadata": {
  "kernelspec": {
   "display_name": "Python 3",
   "language": "python",
   "name": "python3"
  },
  "language_info": {
   "codemirror_mode": {
    "name": "ipython",
    "version": 3
   },
   "file_extension": ".py",
   "mimetype": "text/x-python",
   "name": "python",
   "nbconvert_exporter": "python",
   "pygments_lexer": "ipython3",
   "version": "3.7.10"
  }
 },
 "nbformat": 4,
 "nbformat_minor": 5
}
