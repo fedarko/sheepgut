{
 "cells": [
  {
   "cell_type": "markdown",
   "id": "wireless-essay",
   "metadata": {},
   "source": [
    "# Highly Mutated Intergenic Region Tables\n",
    "\n",
    "Based on the `HighlyMutatedGeneTable` notebook, but less complex since we don't care about codons/etc. here.\n",
    "\n",
    "- For every sequence:\n",
    "  - Determine intergenic regions. This is doable by finding all positions that *aren't* in any genes, then\n",
    "    converting this collection of positions to maximally-long contiguous blocks of positions.\n",
    "  - Each intergenic region has a left end (inclusive), right end (inclusive), length, and mutation rate.\n",
    "  - For every intergenic region in this sequence:\n",
    "    - For every position in this region:\n",
    "      - See if this position is mutated (> 0.5% mutation rate) and increment a count if so\n",
    "    - Compute total mutation rate for this intergenic region.\n",
    "    - Update list of intergenic regions with mutation rate.\n",
    "    \n",
    "TODO: export info abt # of intergenic regions so you can include in table 1.\n",
    "\n",
    "TODO: include info abt left/right pos in gene tables so easier to match?"
   ]
  },
  {
   "cell_type": "code",
   "execution_count": 1,
   "id": "interim-incidence",
   "metadata": {
    "execution": {
     "iopub.execute_input": "2021-04-22T23:04:44.553980Z",
     "iopub.status.busy": "2021-04-22T23:04:44.552925Z",
     "iopub.status.idle": "2021-04-22T23:05:16.579380Z",
     "shell.execute_reply": "2021-04-22T23:05:16.579978Z"
    }
   },
   "outputs": [],
   "source": [
    "%run \"Header.ipynb\"\n",
    "%run \"LoadMutationJSONData.ipynb\"\n",
    "%run \"GeneUtils.ipynb\""
   ]
  },
  {
   "cell_type": "markdown",
   "id": "8ac864e7",
   "metadata": {},
   "source": [
    "## Define `IGRegion` class\n",
    "\n",
    "This is a very pared down version of the `Gene` class."
   ]
  },
  {
   "cell_type": "code",
   "execution_count": 17,
   "id": "cd110942",
   "metadata": {},
   "outputs": [],
   "source": [
    "class IGRegion:\n",
    "    def __init__(self, leftend, rightend, seq, minfreq=0.5):\n",
    "        self.leftend = leftend\n",
    "        self.rightend = rightend\n",
    "        if self.leftend > self.rightend:\n",
    "            # Unlike in Genes, we allow for IG Regions to only include a single position. Biologically\n",
    "            # this makes sense since there isn't any notion of codons -- and practically, this is the case\n",
    "            # for e.g. position 30,036 (1-indexed) in the CAMP genome, at least right now.\n",
    "            raise ValueError(\"Left end of region must be <= right end of region\")\n",
    "            \n",
    "        self.positions = range(leftend, rightend + 1)\n",
    "        self.length = len(self.positions)\n",
    "        \n",
    "        self.seq = seq\n",
    "        self.num_total_mutations = None\n",
    "        self.total_mutation_rate = None\n",
    "        \n",
    "        self._count_mutations(minfreq)\n",
    "        \n",
    "    def _count_mutations(self, minfreq):\n",
    "        self.num_total_mutations = 0\n",
    "        minfreq_pct = minfreq / 100\n",
    "        for pos in self.positions:\n",
    "            is_mut = get_val(seq, pos, lambda cov, mismatches: 1 if (mismatches / cov) > minfreq_pct else 0)\n",
    "            if is_mut == 1:\n",
    "                self.num_total_mutations += 1\n",
    "                    \n",
    "        self.total_mutation_rate = self.num_total_mutations / self.length\n",
    "        \n",
    "    def __str__(self):\n",
    "        return f\"IGRegion in {seq2name[seq]}: [{self.leftend}, {self.rightend}]\"\n",
    "    \n",
    "    def __repr__(self):\n",
    "        return self.__str__()"
   ]
  },
  {
   "cell_type": "markdown",
   "id": "685736ae",
   "metadata": {},
   "source": [
    "## Define (& count mutations in) intergenic regions; export tables"
   ]
  },
  {
   "cell_type": "code",
   "execution_count": 21,
   "id": "express-removal",
   "metadata": {
    "execution": {
     "iopub.execute_input": "2021-04-22T23:05:17.580996Z",
     "iopub.status.busy": "2021-04-22T23:05:17.572655Z",
     "iopub.status.idle": "2021-04-22T23:05:47.149151Z",
     "shell.execute_reply": "2021-04-22T23:05:47.149866Z"
    }
   },
   "outputs": [],
   "source": [
    "seq2intergenicregion_ct = {}\n",
    "seq2mutated_intergenicregion_ct = {}\n",
    "\n",
    "for seq in SEQS:\n",
    "    df = parse_sco(\"../seqs/genes/{}.sco\".format(seq))\n",
    "    bases_in_genes = set()\n",
    "    for gene_data in df.itertuples():\n",
    "        bases_in_genes |= set(get_pos_interval_from_gene(gene_data))\n",
    "    \n",
    "    bases_not_in_genes = sorted(set(range(1, seq2len[seq] + 1)) - bases_in_genes)\n",
    "    igregions = []\n",
    "    # We want to create one entry in igregions for every maximum-length sequence of continuous positions\n",
    "    # in bases_not_in_genes. igregions will contain IGRegion objects, defined above; and curr_region is\n",
    "    # a list of positions that will be converted eventually into an IGRegion.\n",
    "    curr_region = []\n",
    "    for pos in bases_not_in_genes:\n",
    "        if len(curr_region) == 0 or pos == curr_region[-1] + 1:\n",
    "            curr_region.append(pos)\n",
    "        else:\n",
    "            igregions.append(IGRegion(curr_region[0], curr_region[-1], seq))\n",
    "            curr_region = [pos]\n",
    "    \n",
    "    # We'll end up having a \"last\" intergenic region that isn't interrupted by anything.\n",
    "    # Make sure this is included.\n",
    "    if len(curr_region) > 0:\n",
    "        igregions.append(IGRegion(curr_region[0], curr_region[-1], seq))\n",
    "    \n",
    "    igregions_by_mutrate = sorted(igregions, key=lambda r: r.total_mutation_rate)\n",
    "    \n",
    "    with open(\"misc-text/{}-highest-mutated-igregions.tex\".format(seq), \"w\") as tblfile:\n",
    "        # Select top 10 regions for each sequence, going by total mutation rate.\n",
    "        # We reverse the order so that the highest-mutation-rate gene is written first, etc.\n",
    "        # (like a \"leaderboard\")\n",
    "        for r in igregions_by_mutrate[-10:][::-1]:\n",
    "            tblfile.write(\"{:,} & {:,} & {:,} & {:.2f}\\% \\\\\\\\ \\\\hline\\n\".format(\n",
    "                r.leftend, r.rightend, r.length, r.total_mutation_rate * 100\n",
    "            ))\n",
    "            \n",
    "    # Save some extra info for the report\n",
    "    seq2intergenicregion_ct[seq] = len(igregions)\n",
    "    seq2mutated_intergenicregion_ct[seq] = len([r for r in igregions if r.num_total_mutations > 0])"
   ]
  },
  {
   "cell_type": "markdown",
   "id": "industrial-january",
   "metadata": {},
   "source": [
    "## Also, output some stats about numbers of intergenic regions"
   ]
  },
  {
   "cell_type": "code",
   "execution_count": 20,
   "id": "familiar-boutique",
   "metadata": {
    "execution": {
     "iopub.execute_input": "2021-04-22T23:05:47.154962Z",
     "iopub.status.busy": "2021-04-22T23:05:47.154118Z",
     "iopub.status.idle": "2021-04-22T23:05:47.162605Z",
     "shell.execute_reply": "2021-04-22T23:05:47.163549Z"
    }
   },
   "outputs": [],
   "source": [
    "with open(\"misc-text/gene-mutation-stats.tex\", \"w\") as of:\n",
    "    # The \\endinput is needed to prevent LaTeX from inserting a bunch of space after this text is\n",
    "    # included using \\input{}. See https://tex.stackexchange.com/a/18018.\n",
    "    # (For some reason, using \\unskip removed ALL whitespace, which looked ugly -- this is the best\n",
    "    # solution I've found thus far.)\n",
    "    of.write(\n",
    "        (\n",
    "            \"Out of a total of {:,} / {:,} / {:,} intergenic regions in the {} / {} / {} genomes, respectively, \"\n",
    "            \"{:,} / {:,} / {:,} regions have nonzero mutation rates (using the threshold $minfreq=0.5\\%$).\\endinput\"\n",
    "        ).format(\n",
    "            *[seq2intergenicregion_ct[seq] for seq in SEQS],\n",
    "            *[seq2name[seq] for seq in SEQS],\n",
    "            *[seq2mutated_intergenicregion_ct[seq] for seq in SEQS]\n",
    "        )\n",
    "    )"
   ]
  },
  {
   "cell_type": "code",
   "execution_count": null,
   "id": "31b9137e",
   "metadata": {},
   "outputs": [],
   "source": []
  }
 ],
 "metadata": {
  "kernelspec": {
   "display_name": "Python 3",
   "language": "python",
   "name": "python3"
  },
  "language_info": {
   "codemirror_mode": {
    "name": "ipython",
    "version": 3
   },
   "file_extension": ".py",
   "mimetype": "text/x-python",
   "name": "python",
   "nbconvert_exporter": "python",
   "pygments_lexer": "ipython3",
   "version": "3.7.10"
  }
 },
 "nbformat": 4,
 "nbformat_minor": 5
}
