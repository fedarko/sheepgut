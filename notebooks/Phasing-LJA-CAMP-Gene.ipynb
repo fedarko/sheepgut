{
 "cells": [
  {
   "cell_type": "markdown",
   "metadata": {},
   "source": [
    "# Phasing haplotypes of gene 1217 in CAMP\n",
    "\n",
    "Version of the `Phasing-LJA.ipynb` notebook adapted to just analyze \"haplotypes\" of gene 1217 in CAMP.\n",
    "\n",
    "The code for performing read smoothing is derived from that notebook's code; ideally we would consolidate these into a single script to limit code reuse, but for the sake of speed I haven't done this yet."
   ]
  },
  {
   "cell_type": "code",
   "execution_count": 6,
   "metadata": {
    "execution": {
     "iopub.execute_input": "2022-02-07T11:06:12.386442Z",
     "iopub.status.busy": "2022-02-07T11:06:12.385488Z",
     "iopub.status.idle": "2022-02-07T11:06:12.717083Z",
     "shell.execute_reply": "2022-02-07T11:06:12.716149Z"
    }
   },
   "outputs": [],
   "source": [
    "%run \"Header.ipynb\"\n",
    "%run \"../main-workflow/utils.py\""
   ]
  },
  {
   "cell_type": "code",
   "execution_count": 7,
   "metadata": {
    "execution": {
     "iopub.execute_input": "2022-02-07T11:06:12.721285Z",
     "iopub.status.busy": "2022-02-07T11:06:12.720458Z",
     "iopub.status.idle": "2022-02-07T11:06:13.238408Z",
     "shell.execute_reply": "2022-02-07T11:06:13.239092Z"
    }
   },
   "outputs": [],
   "source": [
    "import os\n",
    "import time\n",
    "import pickle\n",
    "import pysam\n",
    "import skbio\n",
    "from collections import defaultdict, Counter\n",
    "from linked_mutations_utils import find_mutated_positions"
   ]
  },
  {
   "cell_type": "markdown",
   "metadata": {},
   "source": [
    "## Smooth reads"
   ]
  },
  {
   "cell_type": "code",
   "execution_count": 8,
   "metadata": {},
   "outputs": [],
   "source": [
    "read2mp2nt = defaultdict(dict)"
   ]
  },
  {
   "cell_type": "code",
   "execution_count": 11,
   "metadata": {},
   "outputs": [],
   "source": [
    "bf = pysam.AlignmentFile(\"../main-workflow/output/fully-filtered-and-sorted-aln.bam\", \"rb\")\n",
    "output_dir = \"phasing-data/smoothed-reads/camp_g1217\"\n",
    "\n",
    "# verbose?\n",
    "no_indoor_voice = False\n",
    "\n",
    "def write_out_reads(filepath, readname2seq):\n",
    "    # Notably, this uses the \"a\" (append) method in order to add to the end of a file\n",
    "    with open(filepath, \"a\") as of:\n",
    "        for readname in readname2seq:\n",
    "            # Write out both the header and the sequence for each read\n",
    "            of.write(f\">{readname}\\n{str(readname2seq[readname])}\\n\")\n",
    "            \n",
    "# both 0-indexed and inclusive\n",
    "g1217_region = [1208926, 1210074]\n",
    "focus_region = [g1217_region[0] - 25000, g1217_region[1] + 25000]\n",
    "            \n",
    "ALN_UPDATE_FREQ = 5000\n",
    "ALN_BUFFER_FREQ = 1000\n",
    "\n",
    "# Set p = 10% when naively identifying mutations to ensure that we just focus on the ~16% mutations\n",
    "# in gene 1217 of CAMP. Of course, most mutations aren't this common!\n",
    "P = 10\n",
    "\n",
    "seq = \"edge_6104\""
   ]
  },
  {
   "cell_type": "code",
   "execution_count": 12,
   "metadata": {
    "execution": {
     "iopub.execute_input": "2022-02-07T11:06:13.258951Z",
     "iopub.status.busy": "2022-02-07T11:06:13.257971Z",
     "iopub.status.idle": "2022-02-07T11:08:10.160475Z",
     "shell.execute_reply": "2022-02-07T11:08:10.159569Z"
    },
    "scrolled": true
   },
   "outputs": [
    {
     "name": "stdout",
     "output_type": "stream",
     "text": [
      "======================================================================\n",
      "Identifying mutated positions (p = 10%) in genome CAMP...\n",
      "Found 35 mutated positions (p = 10%) in CAMP.\n",
      "Note that this tally is higher than you'd see in e.g. the CP1/2/3 plots, because now we're including both 'rare' and non-rare mutations. Just so you don't waste five minutes sanity-checking this like I did.\n",
      "Going through these positions...\n",
      "\tOn aln 5,000 in seq CAMP. Time spent on CAMP so far: 5.94 sec.\n",
      "\tOn aln 10,000 in seq CAMP. Time spent on CAMP so far: 12.91 sec.\n",
      "\tOn aln 15,000 in seq CAMP. Time spent on CAMP so far: 20.00 sec.\n",
      "\tOn aln 20,000 in seq CAMP. Time spent on CAMP so far: 27.38 sec.\n",
      "\tOn aln 25,000 in seq CAMP. Time spent on CAMP so far: 34.27 sec.\n",
      "\tOn aln 30,000 in seq CAMP. Time spent on CAMP so far: 40.93 sec.\n",
      "\tOn aln 35,000 in seq CAMP. Time spent on CAMP so far: 47.40 sec.\n",
      "\tOn aln 40,000 in seq CAMP. Time spent on CAMP so far: 53.94 sec.\n",
      "\tOn aln 45,000 in seq CAMP. Time spent on CAMP so far: 60.52 sec.\n",
      "\tOn aln 50,000 in seq CAMP. Time spent on CAMP so far: 66.96 sec.\n",
      "\tOn aln 55,000 in seq CAMP. Time spent on CAMP so far: 74.02 sec.\n",
      "\tOn aln 60,000 in seq CAMP. Time spent on CAMP so far: 81.20 sec.\n",
      "\tOn aln 65,000 in seq CAMP. Time spent on CAMP so far: 88.69 sec.\n",
      "\tOn aln 70,000 in seq CAMP. Time spent on CAMP so far: 95.98 sec.\n",
      "\tOn aln 75,000 in seq CAMP. Time spent on CAMP so far: 103.14 sec.\n",
      "\tOn aln 80,000 in seq CAMP. Time spent on CAMP so far: 109.82 sec.\n",
      "\tOn aln 85,000 in seq CAMP. Time spent on CAMP so far: 116.33 sec.\n",
      "\tOn aln 90,000 in seq CAMP. Time spent on CAMP so far: 122.85 sec.\n",
      "\tOn aln 95,000 in seq CAMP. Time spent on CAMP so far: 129.46 sec.\n",
      "\tOn aln 100,000 in seq CAMP. Time spent on CAMP so far: 136.07 sec.\n",
      "\tOn aln 105,000 in seq CAMP. Time spent on CAMP so far: 142.90 sec.\n",
      "\tOn aln 110,000 in seq CAMP. Time spent on CAMP so far: 150.10 sec.\n",
      "\tOn aln 115,000 in seq CAMP. Time spent on CAMP so far: 157.67 sec.\n",
      "\tOn aln 120,000 in seq CAMP. Time spent on CAMP so far: 164.90 sec.\n",
      "\tOn aln 125,000 in seq CAMP. Time spent on CAMP so far: 172.04 sec.\n",
      "\tOn aln 130,000 in seq CAMP. Time spent on CAMP so far: 178.71 sec.\n",
      "\tOn aln 135,000 in seq CAMP. Time spent on CAMP so far: 185.34 sec.\n",
      "\tOn aln 140,000 in seq CAMP. Time spent on CAMP so far: 191.95 sec.\n",
      "\tOn aln 145,000 in seq CAMP. Time spent on CAMP so far: 198.49 sec.\n",
      "\tOn aln 150,000 in seq CAMP. Time spent on CAMP so far: 205.09 sec.\n",
      "\tOn aln 155,000 in seq CAMP. Time spent on CAMP so far: 212.14 sec.\n",
      "\tOn aln 160,000 in seq CAMP. Time spent on CAMP so far: 219.44 sec.\n",
      "\tOn aln 165,000 in seq CAMP. Time spent on CAMP so far: 226.68 sec.\n",
      "\tOn aln 170,000 in seq CAMP. Time spent on CAMP so far: 233.78 sec.\n",
      "\tOn aln 175,000 in seq CAMP. Time spent on CAMP so far: 240.32 sec.\n",
      "\tOn aln 180,000 in seq CAMP. Time spent on CAMP so far: 246.68 sec.\n",
      "\tOn aln 185,000 in seq CAMP. Time spent on CAMP so far: 253.16 sec.\n",
      "\tOn aln 190,000 in seq CAMP. Time spent on CAMP so far: 259.79 sec.\n",
      "\tOn aln 195,000 in seq CAMP. Time spent on CAMP so far: 266.51 sec.\n",
      "\tOn aln 200,000 in seq CAMP. Time spent on CAMP so far: 273.57 sec.\n",
      "\tOn aln 205,000 in seq CAMP. Time spent on CAMP so far: 281.15 sec.\n",
      "\tOn aln 210,000 in seq CAMP. Time spent on CAMP so far: 288.38 sec.\n",
      "\tOn aln 215,000 in seq CAMP. Time spent on CAMP so far: 295.59 sec.\n",
      "\tOn aln 220,000 in seq CAMP. Time spent on CAMP so far: 302.24 sec.\n",
      "\tOn aln 225,000 in seq CAMP. Time spent on CAMP so far: 308.89 sec.\n",
      "\tOn aln 230,000 in seq CAMP. Time spent on CAMP so far: 315.51 sec.\n",
      "\tOn aln 235,000 in seq CAMP. Time spent on CAMP so far: 322.16 sec.\n",
      "\tOn aln 240,000 in seq CAMP. Time spent on CAMP so far: 329.07 sec.\n",
      "\tOn aln 245,000 in seq CAMP. Time spent on CAMP so far: 336.32 sec.\n",
      "\tOn aln 250,000 in seq CAMP. Time spent on CAMP so far: 343.85 sec.\n",
      "\tOn aln 255,000 in seq CAMP. Time spent on CAMP so far: 351.12 sec.\n",
      "\tOn aln 260,000 in seq CAMP. Time spent on CAMP so far: 357.94 sec.\n",
      "\tOn aln 265,000 in seq CAMP. Time spent on CAMP so far: 364.49 sec.\n",
      "\tOn aln 270,000 in seq CAMP. Time spent on CAMP so far: 371.08 sec.\n",
      "\tOn aln 275,000 in seq CAMP. Time spent on CAMP so far: 377.63 sec.\n",
      "\tOn aln 280,000 in seq CAMP. Time spent on CAMP so far: 384.24 sec.\n",
      "\tOn aln 285,000 in seq CAMP. Time spent on CAMP so far: 391.07 sec.\n",
      "\tOn aln 290,000 in seq CAMP. Time spent on CAMP so far: 398.45 sec.\n",
      "\tOn aln 295,000 in seq CAMP. Time spent on CAMP so far: 405.69 sec.\n",
      "\tOn aln 300,000 in seq CAMP. Time spent on CAMP so far: 413.04 sec.\n",
      "\tOn aln 305,000 in seq CAMP. Time spent on CAMP so far: 419.79 sec.\n",
      "\tOn aln 310,000 in seq CAMP. Time spent on CAMP so far: 426.35 sec.\n",
      "\tOn aln 315,000 in seq CAMP. Time spent on CAMP so far: 432.97 sec.\n",
      "\tOn aln 320,000 in seq CAMP. Time spent on CAMP so far: 439.58 sec.\n",
      "\tOn aln 325,000 in seq CAMP. Time spent on CAMP so far: 446.13 sec.\n",
      "\tOn aln 330,000 in seq CAMP. Time spent on CAMP so far: 452.91 sec.\n",
      "\tOn aln 335,000 in seq CAMP. Time spent on CAMP so far: 459.97 sec.\n",
      "\tOn aln 340,000 in seq CAMP. Time spent on CAMP so far: 467.64 sec.\n",
      "\tOn aln 345,000 in seq CAMP. Time spent on CAMP so far: 474.74 sec.\n",
      "\tOn aln 350,000 in seq CAMP. Time spent on CAMP so far: 482.10 sec.\n",
      "\tOn aln 355,000 in seq CAMP. Time spent on CAMP so far: 488.60 sec.\n",
      "\tOn aln 360,000 in seq CAMP. Time spent on CAMP so far: 495.04 sec.\n",
      "\tOn aln 365,000 in seq CAMP. Time spent on CAMP so far: 501.50 sec.\n",
      "\tOn aln 370,000 in seq CAMP. Time spent on CAMP so far: 507.94 sec.\n",
      "\tOn aln 375,000 in seq CAMP. Time spent on CAMP so far: 514.48 sec.\n",
      "\tOn aln 380,000 in seq CAMP. Time spent on CAMP so far: 521.15 sec.\n",
      "\tOn aln 385,000 in seq CAMP. Time spent on CAMP so far: 528.12 sec.\n",
      "\tOn aln 390,000 in seq CAMP. Time spent on CAMP so far: 535.70 sec.\n",
      "\tOn aln 395,000 in seq CAMP. Time spent on CAMP so far: 542.82 sec.\n",
      "\tOn aln 400,000 in seq CAMP. Time spent on CAMP so far: 550.30 sec.\n",
      "\tOn aln 405,000 in seq CAMP. Time spent on CAMP so far: 556.95 sec.\n",
      "\tOn aln 410,000 in seq CAMP. Time spent on CAMP so far: 563.52 sec.\n",
      "\tOn aln 415,000 in seq CAMP. Time spent on CAMP so far: 570.10 sec.\n",
      "\tOn aln 420,000 in seq CAMP. Time spent on CAMP so far: 576.67 sec.\n",
      "\tOn aln 425,000 in seq CAMP. Time spent on CAMP so far: 583.23 sec.\n",
      "\tOn aln 430,000 in seq CAMP. Time spent on CAMP so far: 591.55 sec.\n",
      "\tOn aln 435,000 in seq CAMP. Time spent on CAMP so far: 612.27 sec.\n",
      "\tOn aln 440,000 in seq CAMP. Time spent on CAMP so far: 635.04 sec.\n",
      "\tOn aln 445,000 in seq CAMP. Time spent on CAMP so far: 667.45 sec.\n",
      "\tOn aln 450,000 in seq CAMP. Time spent on CAMP so far: 681.91 sec.\n",
      "\tOn aln 455,000 in seq CAMP. Time spent on CAMP so far: 694.60 sec.\n",
      "\tOn aln 460,000 in seq CAMP. Time spent on CAMP so far: 702.92 sec.\n",
      "\tOn aln 465,000 in seq CAMP. Time spent on CAMP so far: 710.09 sec.\n",
      "\tOn aln 470,000 in seq CAMP. Time spent on CAMP so far: 718.02 sec.\n",
      "\tOn aln 475,000 in seq CAMP. Time spent on CAMP so far: 726.44 sec.\n",
      "We ignored 40 linear alignments, fyi.\n",
      "Done with edge_6104! Took 728.61 sec.\n"
     ]
    }
   ],
   "source": [
    "fasta = skbio.DNA.read(f\"../seqs/{seq}.fasta\")\n",
    "\n",
    "output_smoothed_reads_file = os.path.join(output_dir, \"sr.fasta\")\n",
    "\n",
    "# Identify all (0-indexed, so compatible with skbio / pysam!)\n",
    "# mutated positions in this genome up front to save time.\n",
    "#\n",
    "# Equivalently, we could also just take in an arbitrary VCF as input\n",
    "# (e.g. one produced from another variant calling tool), although we'd\n",
    "# need to be careful to only include SNVs and not indels/etc...\n",
    "\n",
    "print(\"=\" * 70)\n",
    "print(f\"Identifying mutated positions (p = {P}%) in genome {seq2name[seq]}...\")\n",
    "mutpos2pileup = find_mutated_positions(seq, p_to_use=P, incl_pileup=True)\n",
    "# We sort because the code below relies on these being in ascending order\n",
    "mutated_positions = sorted(mutpos2pileup.keys())\n",
    "print(f\"Found {len(mutated_positions):,} mutated positions (p = {P}%) in {seq2name[seq]}.\")\n",
    "print(\n",
    "    f\"Note that this tally is higher than you'd see in e.g. the CP1/2/3 plots, because now we're including \"\n",
    "    \"both 'rare' and non-rare mutations. Just so you don't waste five minutes sanity-checking this like I did.\"\n",
    ")\n",
    "\n",
    "print(\"Going through these positions...\")\n",
    "\n",
    "num_ignored_alns = 0\n",
    "\n",
    "# Instead of just writing out every smoothed alignment as soon as we generate it, we build up a \"buffer\"\n",
    "# of these alignments and then write a bunch out at once.\n",
    "smoothed_aln_buffer = {}\n",
    "\n",
    "# The first time we see an alignment of a read, it's 1; if we see a supp aln of this read, it's 2; etc.\n",
    "# Lets us distinguish alignments with different names\n",
    "readname2freq_so_far = defaultdict(int)\n",
    "\n",
    "# Go through all linear alignments of each read to this genome, focusing (for now) on just the primary\n",
    "# alignments...\n",
    "ts1 = time.time()\n",
    "for ai, aln in enumerate(bf.fetch(seq), 1):\n",
    "\n",
    "    if ai % ALN_UPDATE_FREQ == 0:\n",
    "        print(\n",
    "            f\"\\tOn aln {ai:,} in seq {seq2name[seq]}. \"\n",
    "            f\"Time spent on {seq2name[seq]} so far: {time.time() - ts1:,.2f} sec.\"\n",
    "        )\n",
    "\n",
    "    if aln.is_secondary:\n",
    "        raise ValueError(\n",
    "            \"Not to get political or anything, but you should've already filtered secondary alns out\"\n",
    "        )\n",
    "\n",
    "    # Note that supplementary alignments are ok, though! We implicitly handle these here.\n",
    "    #\n",
    "    # Different alignments of the same read will have different new_readnames, because we're gonna\n",
    "    # be treating them as distinct \"reads\". We should have already filtered reference-overlapping\n",
    "    # supp alns so this shouldn't be a problem\n",
    "\n",
    "    readname = aln.query_name\n",
    "    readname2freq_so_far[readname] += 1\n",
    "    new_readname = f\"{readname}_{readname2freq_so_far[readname]}\"\n",
    "\n",
    "    # should never happen\n",
    "    if new_readname in smoothed_aln_buffer:\n",
    "        raise ValueError(\"This exact read alignment has already been smoothed? Weird.\")\n",
    "\n",
    "    # Figure out where on the MAG this alignment \"hits.\" These are 0-indexed positions from Pysam.\n",
    "    # (reference_end points to the position after the actual final position, since these are designed to\n",
    "    # be interoperable with Python's half-open intervals.)\n",
    "    #\n",
    "    # Of course, there likely will be indels within this range: we're purposefully ignoring those here.\n",
    "    ref_start = aln.reference_start\n",
    "    ref_end = aln.reference_end - 1\n",
    "\n",
    "    # This should never happen (TM)\n",
    "    if ref_start >= ref_end:\n",
    "        # Du sollst jetzt mit Gott sprechen.\n",
    "        raise ValueError(\n",
    "            f\"Ref start {ref_start:,} >= ref end {ref_end:,} for read {new_readname}?\"\n",
    "        )\n",
    "\n",
    "    # Unique to the gene 1217 analysis!\n",
    "    # Figure out if this read intersects with the focus region.\n",
    "    # An idiot-proof albeit slow solution is just computing exact ranges and then taking set intersections.\n",
    "    if not set(range(ref_start, ref_end + 1)) & set(range(focus_region[0], focus_region[1] + 1)):\n",
    "        continue\n",
    "\n",
    "    # Smoothed sequence; we'll edit this so that if this read has (mis)matches to any called mutated\n",
    "    # positions, these positions are updated with the read's aligned nucleotides at these positions.\n",
    "    smoothed_aln_seq = fasta[ref_start: ref_end + 1]\n",
    "\n",
    "    # just for debugging: track the exact edits made to smoothed_aln_seq\n",
    "    replacements_made = {}\n",
    "\n",
    "    # We may choose to ignore this linear alignment, if we think it is error-prone or\n",
    "    # otherwise not useful. If this gets set to True in the loop below, then we'll notice this\n",
    "    # and ignore this alignment.\n",
    "    ignoring_this_aln = False\n",
    "\n",
    "    ap = aln.get_aligned_pairs(matches_only=True)\n",
    "\n",
    "    # Iterating through the aligned pairs is expensive. Since read lengths are generally in the thousands\n",
    "    # to tens of thousands of bp (which is much less than the > 1 million bp length of any bacterial genome),\n",
    "    # we set things up so that we only iterate through the aligned pairs once. We maintain an integer, mpi,\n",
    "    # that is a poor man's \"pointer\" to an index in mutated_positions.\n",
    "\n",
    "    mpi = 0\n",
    "\n",
    "    # Go through this aln's aligned pairs. As we see each pair, compare the pair's reference position\n",
    "    # (refpos) to the mpi-th mutated position (herein referred to as \"mutpos\").\n",
    "    #\n",
    "    # If refpos >  mutpos, increment mpi until refpos <= mutpos (stopping as early as possible).\n",
    "    # If refpos == mutpos, we have a match! Update readname2mutpos2ismutated[mutpos] based on\n",
    "    #                      comparing the read to the reference at the aligned positions.\n",
    "    # If refpos <  mutpos, continue to the next pair.\n",
    "\n",
    "    for pair in ap:\n",
    "\n",
    "        refpos = pair[1]\n",
    "        mutpos = mutated_positions[mpi]\n",
    "\n",
    "        no_mutations_to_right_of_here = False\n",
    "\n",
    "        # Increment mpi until we get to the next mutated position at or after the reference pos for this\n",
    "        # aligned pair (or until we run out of mutated positions).\n",
    "        while refpos > mutpos:\n",
    "            mpi += 1\n",
    "            if mpi < len(mutated_positions):\n",
    "                mutpos = mutated_positions[mpi]\n",
    "            else:\n",
    "                no_mutations_to_right_of_here = True\n",
    "                break\n",
    "\n",
    "        # I expect this should happen only for reads aligned near the right end of the genome.\n",
    "        if no_mutations_to_right_of_here:\n",
    "            break\n",
    "\n",
    "        # If the next mutation occurs after this aligned pair, continue on to a later pair.\n",
    "        if refpos < mutpos:\n",
    "            continue\n",
    "\n",
    "        # If we've made it here, refpos == mutpos!\n",
    "        # (...unless I messed something up in how I designed this code.)\n",
    "        if refpos != mutpos:\n",
    "            raise ValueError(\"This should never happen!\")\n",
    "\n",
    "        # Finally, get the nucleotide aligned to this mutated position from this read.\n",
    "        readpos = pair[0]\n",
    "        read_nt = aln.query_sequence[readpos]\n",
    "\n",
    "        # If this read doesn't have match the first or second most common nucleotide at this position,\n",
    "        # ignore this read. In the future, when we perform read\n",
    "        # smoothing based on an arbitrary set of SNV calls, we can be more careful about this; but for now\n",
    "        # we make the simplifiying assumption that a mutation likely only has one alternate nucleotide,\n",
    "        # and that the 3rd and 4th most common nucleotides indicate errors.\n",
    "        # (Also, note that we break ties here arbitrarily.)\n",
    "        nt2ct = dict(zip(\"ACGT\", mutpos2pileup[mutpos][0]))\n",
    "        nt1 = max(nt2ct, key=nt2ct.get)\n",
    "        del nt2ct[nt1]\n",
    "        nt2 = max(nt2ct, key=nt2ct.get)\n",
    "\n",
    "        if read_nt != nt1 and read_nt != nt2:\n",
    "            if no_indoor_voice:\n",
    "                print(\n",
    "                    f\"Read {new_readname} has 3rd or 4th most common nt at mutpos {mutpos + 1:,}: \"\n",
    "                    f\"pileup = {mutpos2pileup[mutpos]}, read = {read_nt}\"\n",
    "                )\n",
    "            ignoring_this_aln = True\n",
    "            break\n",
    "\n",
    "        # Notably, the nucleotide at a mutated position in a smoothed read will always be the first\n",
    "        # or second most common nucleotide at this position. So \"unreasonable\" positions, in which\n",
    "        # the ref nt != the consensus nt, will not be treated as you might expect -- we ignore the\n",
    "        # reference in this particular case. Shouldn't make a big difference, since in most cases\n",
    "        # the ref and consensus nt agree.\n",
    "        relative_pos_on_aln = mutpos - ref_start\n",
    "        smoothed_aln_seq = smoothed_aln_seq.replace([relative_pos_on_aln], read_nt)\n",
    "        replacements_made[relative_pos_on_aln] = read_nt\n",
    "        read2mp2nt[new_readname][mutpos] = read_nt\n",
    "        if no_indoor_voice:\n",
    "            print(\n",
    "                f\"Read {new_readname} mismatches ref at mutpos {mutpos + 1:,}: \"\n",
    "                f\"ref = {ref_nt}, read = {read_nt}\"\n",
    "            )\n",
    "\n",
    "    if no_indoor_voice:\n",
    "        print(f\"Read {new_readname} required {len(replacements_made):,} replacements!\")\n",
    "\n",
    "    if ignoring_this_aln:\n",
    "        num_ignored_alns += 1\n",
    "    else:\n",
    "        # Now that we've finished processing all called mutations that this alignment spans, prepare it\n",
    "        # to be written out to a FASTA file. See comments above on smoothed_aln_buffer, and why we don't\n",
    "        # just write everything out as soon as it's ready.\n",
    "        #\n",
    "        # (Also, we've already guaranteed readname isn't already in smoothed_aln_buffer, so no need to worry\n",
    "        # about accidentally overwriting something from earlier.)\n",
    "        smoothed_aln_buffer[new_readname] = smoothed_aln_seq\n",
    "\n",
    "        if ai % ALN_BUFFER_FREQ == 0:\n",
    "            write_out_reads(output_smoothed_reads_file, smoothed_aln_buffer)\n",
    "            # Clear the buffer\n",
    "            smoothed_aln_buffer = {}\n",
    "\n",
    "# We're probably going to have left over smoothed reads that we still haven't written out, unless things\n",
    "# worked out so that on the final alignment we saw ai was exactly divisible by ALN_BUFFER_FREQ (and that's\n",
    "# pretty unlikely unless you set the buffer freq to a low number). So make one last dump of the buffer.\n",
    "if len(smoothed_aln_buffer) > 0:\n",
    "    write_out_reads(output_smoothed_reads_file, smoothed_aln_buffer)\n",
    "\n",
    "print(f\"We ignored {num_ignored_alns:,} linear alignments, fyi.\")\n",
    "print(f\"Done with {seq}! Took {time.time() - ts1:,.2f} sec.\")"
   ]
  },
  {
   "cell_type": "code",
   "execution_count": 13,
   "metadata": {},
   "outputs": [],
   "source": [
    "with open(\"phasing-data/smoothed-reads/camp_g1217/read2mp2nt.pickle\", \"wb\") as pf:\n",
    "    pickle.dump(read2mp2nt, pf)"
   ]
  },
  {
   "cell_type": "code",
   "execution_count": 14,
   "metadata": {},
   "outputs": [],
   "source": [
    "with open(\"phasing-data/smoothed-reads/camp_g1217/read2mp2nt.pickle\", \"rb\") as pf:\n",
    "    read2mp2nt = pickle.load(pf)"
   ]
  },
  {
   "cell_type": "markdown",
   "metadata": {},
   "source": [
    "## Analyze \"haplotypes\" of gene 1217"
   ]
  },
  {
   "cell_type": "code",
   "execution_count": 15,
   "metadata": {},
   "outputs": [],
   "source": [
    "mp2freq = defaultdict(Counter)\n",
    "for read in read2mp2nt:\n",
    "    for mp in read2mp2nt[read]:\n",
    "        mp2freq[mp][read2mp2nt[read][mp]] += 1      "
   ]
  },
  {
   "cell_type": "code",
   "execution_count": 16,
   "metadata": {
    "scrolled": true
   },
   "outputs": [
    {
     "data": {
      "text/plain": [
       "defaultdict(collections.Counter,\n",
       "            {1209000: Counter({'A': 3757, 'G': 709}),\n",
       "             1209009: Counter({'A': 3742, 'C': 701}),\n",
       "             1209021: Counter({'A': 3756, 'G': 709}),\n",
       "             1209057: Counter({'C': 3771, 'T': 715}),\n",
       "             1209103: Counter({'C': 3775, 'T': 710}),\n",
       "             1209114: Counter({'C': 3770, 'A': 703}),\n",
       "             1209120: Counter({'G': 3774, 'A': 710}),\n",
       "             1209125: Counter({'A': 3774, 'G': 708}),\n",
       "             1209132: Counter({'G': 3773, 'A': 704}),\n",
       "             1209135: Counter({'T': 3769, 'C': 709}),\n",
       "             1209141: Counter({'G': 3772, 'A': 709}),\n",
       "             1209144: Counter({'C': 3771, 'T': 707}),\n",
       "             1209147: Counter({'A': 3772, 'T': 706}),\n",
       "             1209153: Counter({'T': 3772, 'A': 706}),\n",
       "             1209204: Counter({'G': 3772, 'A': 708}),\n",
       "             1209240: Counter({'G': 3781, 'A': 717}),\n",
       "             1209264: Counter({'T': 3784, 'C': 712}),\n",
       "             1209265: Counter({'C': 3786, 'G': 711}),\n",
       "             1209296: Counter({'T': 3782, 'C': 711}),\n",
       "             1209321: Counter({'C': 3776, 'T': 714}),\n",
       "             1209324: Counter({'C': 3771, 'T': 712}),\n",
       "             1209336: Counter({'T': 3772, 'C': 713}),\n",
       "             1209399: Counter({'T': 3772, 'C': 709}),\n",
       "             1209402: Counter({'A': 3769, 'G': 707}),\n",
       "             1209417: Counter({'A': 3773, 'G': 705}),\n",
       "             1209420: Counter({'C': 3771, 'T': 702}),\n",
       "             1209423: Counter({'T': 3774, 'C': 705}),\n",
       "             1209522: Counter({'A': 3780, 'G': 710}),\n",
       "             1209576: Counter({'A': 3784, 'G': 712}),\n",
       "             1209609: Counter({'C': 3787, 'T': 711}),\n",
       "             1209696: Counter({'T': 3794, 'A': 714}),\n",
       "             1209699: Counter({'T': 3793, 'C': 714}),\n",
       "             1209756: Counter({'A': 3799, 'G': 705}),\n",
       "             1209795: Counter({'A': 3801, 'G': 709})})"
      ]
     },
     "execution_count": 16,
     "metadata": {},
     "output_type": "execute_result"
    }
   ],
   "source": [
    "mp2freq"
   ]
  },
  {
   "cell_type": "code",
   "execution_count": 17,
   "metadata": {},
   "outputs": [],
   "source": [
    "haps = []\n",
    "mps = [1209000, 1209009, 1209021, 1209057, 1209103, 1209114, 1209120, 1209125,\n",
    "       1209132, 1209135, 1209141, 1209144, 1209147, 1209153, 1209204, 1209240,\n",
    "       1209264, 1209265, 1209296, 1209321, 1209324, 1209336, 1209399, 1209402,\n",
    "       1209417, 1209420, 1209423, 1209522, 1209576, 1209609, 1209696, 1209699,\n",
    "       1209756, 1209795]\n",
    "assert len(mps) == 34\n",
    "for read in read2mp2nt:\n",
    "    # if this read spans all of g1217\n",
    "    if len(read2mp2nt[read]) == 34:\n",
    "        haps.append(\"\".join([read2mp2nt[read][mp] for mp in mps]))"
   ]
  },
  {
   "cell_type": "code",
   "execution_count": 18,
   "metadata": {},
   "outputs": [
    {
     "data": {
      "text/plain": [
       "4054"
      ]
     },
     "execution_count": 18,
     "metadata": {},
     "output_type": "execute_result"
    }
   ],
   "source": [
    "len(haps)"
   ]
  },
  {
   "cell_type": "code",
   "execution_count": 19,
   "metadata": {},
   "outputs": [
    {
     "data": {
      "text/plain": [
       "Counter({'AAACCCGAGTGCATGGTCTCCTTAACTAACTTAA': 3430,\n",
       "         'GCGTTAAGACATTAAACGCTTCCGGTCGGTACGG': 600,\n",
       "         'GAGCTAAGACATTAAACGCTTCCGGTCGGTACGG': 1,\n",
       "         'GCGTTAAGACATTAAACGCTTCCGATCGGTACGG': 1,\n",
       "         'GAGTTAAGACATTAAACGCTTCCGGTCGGTACGG': 6,\n",
       "         'ACGTTAAGACATTAAACGCTTCCGGTCGGTACGG': 2,\n",
       "         'GCGTTAAGACACTAAACGCTTCCGGTCGGTACGG': 1,\n",
       "         'GCGTTAAGACATTAAACGCTTCCAGTCGGTACGG': 1,\n",
       "         'GCATTAAGACATTAAACGCTTCCGGTCGGTACGG': 1,\n",
       "         'GCGTTAAGACATTAAACGCTTCCGGTCGGTACAG': 4,\n",
       "         'GCGTTAAGACATTTAACGCTTCCGGTCGGTACGG': 1,\n",
       "         'GCGTTAAGACATTAAACGCTTCCGGTCGATACGG': 1,\n",
       "         'GCGTTAAGACATTAGACGCTTCCGGTCGGTACAG': 1,\n",
       "         'GCGTTAAGACATTAAACGCTTCCGGTCGGTACGA': 2,\n",
       "         'AAACCCGAGTGCATGGTCTCCTTAACTAGCTTAA': 1,\n",
       "         'AAACCCGAGTGCATGATCTCCTTAACTAACTTAA': 1})"
      ]
     },
     "execution_count": 19,
     "metadata": {},
     "output_type": "execute_result"
    }
   ],
   "source": [
    "ctr = Counter(haps)\n",
    "ctr"
   ]
  },
  {
   "cell_type": "code",
   "execution_count": 20,
   "metadata": {},
   "outputs": [
    {
     "data": {
      "text/plain": [
       "16"
      ]
     },
     "execution_count": 20,
     "metadata": {},
     "output_type": "execute_result"
    }
   ],
   "source": [
    "len(ctr)"
   ]
  },
  {
   "cell_type": "code",
   "execution_count": 21,
   "metadata": {
    "scrolled": true
   },
   "outputs": [
    {
     "data": {
      "text/plain": [
       "'AAACCCGAGTGCATGGTCTCCTTAACTAACTTAA'"
      ]
     },
     "execution_count": 21,
     "metadata": {},
     "output_type": "execute_result"
    }
   ],
   "source": [
    "ref = ctr.most_common(1)[0][0]\n",
    "assert len(ref) == 34\n",
    "assert ctr[ref] == 3430\n",
    "ref"
   ]
  },
  {
   "cell_type": "code",
   "execution_count": 22,
   "metadata": {},
   "outputs": [],
   "source": [
    "alt = \"GCGTTAAGACATTAAACGCTTCCGGTCGGTACGG\"\n",
    "assert ctr[alt] == 600"
   ]
  },
  {
   "cell_type": "code",
   "execution_count": 23,
   "metadata": {},
   "outputs": [
    {
     "name": "stdout",
     "output_type": "stream",
     "text": [
      "AAACCCGAGTGCATGGTCTCCTTAACTAACTTAA: 3,430x, Hamming ref = 0, Hamming alt = 34, Ref diffs: []\n",
      "GCGTTAAGACATTAAACGCTTCCGGTCGGTACGG: 600x, Hamming ref = 34, Hamming alt = 0, Alt diffs: []\n",
      "GAGCTAAGACATTAAACGCTTCCGGTCGGTACGG: 1x, Hamming ref = 32, Hamming alt = 2, Alt diffs: [2, 4]\n",
      "GCGTTAAGACATTAAACGCTTCCGATCGGTACGG: 1x, Hamming ref = 33, Hamming alt = 1, Alt diffs: [25]\n",
      "GAGTTAAGACATTAAACGCTTCCGGTCGGTACGG: 6x, Hamming ref = 33, Hamming alt = 1, Alt diffs: [2]\n",
      "ACGTTAAGACATTAAACGCTTCCGGTCGGTACGG: 2x, Hamming ref = 33, Hamming alt = 1, Alt diffs: [1]\n",
      "GCGTTAAGACACTAAACGCTTCCGGTCGGTACGG: 1x, Hamming ref = 33, Hamming alt = 1, Alt diffs: [12]\n",
      "GCGTTAAGACATTAAACGCTTCCAGTCGGTACGG: 1x, Hamming ref = 33, Hamming alt = 1, Alt diffs: [24]\n",
      "GCATTAAGACATTAAACGCTTCCGGTCGGTACGG: 1x, Hamming ref = 33, Hamming alt = 1, Alt diffs: [3]\n",
      "GCGTTAAGACATTAAACGCTTCCGGTCGGTACAG: 4x, Hamming ref = 33, Hamming alt = 1, Alt diffs: [33]\n",
      "GCGTTAAGACATTTAACGCTTCCGGTCGGTACGG: 1x, Hamming ref = 33, Hamming alt = 1, Alt diffs: [14]\n",
      "GCGTTAAGACATTAAACGCTTCCGGTCGATACGG: 1x, Hamming ref = 33, Hamming alt = 1, Alt diffs: [29]\n",
      "GCGTTAAGACATTAGACGCTTCCGGTCGGTACAG: 1x, Hamming ref = 32, Hamming alt = 2, Alt diffs: [15, 33]\n",
      "GCGTTAAGACATTAAACGCTTCCGGTCGGTACGA: 2x, Hamming ref = 33, Hamming alt = 1, Alt diffs: [34]\n",
      "AAACCCGAGTGCATGGTCTCCTTAACTAGCTTAA: 1x, Hamming ref = 1, Hamming alt = 33, Ref diffs: [29]\n",
      "AAACCCGAGTGCATGATCTCCTTAACTAACTTAA: 1x, Hamming ref = 1, Hamming alt = 33, Ref diffs: [16]\n"
     ]
    }
   ],
   "source": [
    "haplotype_hamrefs = []\n",
    "haplotype_diffpos = []\n",
    "for h in ctr:\n",
    "    rd = []\n",
    "    ad = []\n",
    "    for hi, hc in enumerate(h):\n",
    "        if hc != ref[hi]:\n",
    "            rd.append(hi + 1)\n",
    "        if hc != alt[hi]:\n",
    "            ad.append(hi + 1)\n",
    "    print(f\"{h}: {ctr[h]:,}x, Hamming ref = {len(rd):,}, Hamming alt = {len(ad):,},\", end=\" \")\n",
    "    if len(rd) < len(ad):\n",
    "        print(f\"Ref diffs: {rd}\")\n",
    "        haplotype_diffpos += rd\n",
    "    else:\n",
    "        print(f\"Alt diffs: {ad}\")\n",
    "        haplotype_diffpos += ad\n",
    "        \n",
    "    haplotype_hamrefs.append(len(rd))"
   ]
  },
  {
   "cell_type": "code",
   "execution_count": 24,
   "metadata": {},
   "outputs": [
    {
     "data": {
      "text/plain": [
       "Text(0.5, 1.0, 'Positional variation across\\nthe 26 non-primary haplotypes')"
      ]
     },
     "execution_count": 24,
     "metadata": {},
     "output_type": "execute_result"
    },
    {
     "data": {
      "image/png": "[encoded data removed]",
      "text/plain": [
       "<Figure size 432x288 with 1 Axes>"
      ]
     },
     "metadata": {},
     "output_type": "display_data"
    }
   ],
   "source": [
    "fig, ax = pyplot.subplots()\n",
    "ax.hist(haplotype_diffpos, bins=range(1,36,1), color=\"#22aacc\", lw=1, edgecolor=\"#555555\")\n",
    "ax.set_xticks(range(1, 36, 2))\n",
    "ax.set_xticks(range(1, 36), minor=True)\n",
    "ax.set_yticks([0, 1, 2])\n",
    "ax.set_xlabel(\"Mutated position\")\n",
    "ax.set_ylabel(\"# unique haplotypes at which\\nthis position is changed\")\n",
    "ax.set_title(\"Positional variation across\\nthe 26 non-primary haplotypes\")"
   ]
  },
  {
   "cell_type": "code",
   "execution_count": 25,
   "metadata": {},
   "outputs": [
    {
     "data": {
      "text/plain": [
       "Text(0.5, 1.0, 'Histogram of haplotype coverages in CAMP gene 1217,\\nignoring the primary haplotypes (3,430x and 600x)')"
      ]
     },
     "execution_count": 25,
     "metadata": {},
     "output_type": "execute_result"
    },
    {
     "data": {
      "image/png": "[encoded data removed]",
      "text/plain": [
       "<Figure size 432x288 with 1 Axes>"
      ]
     },
     "metadata": {},
     "output_type": "display_data"
    }
   ],
   "source": [
    "haplotype_covs = [ctr[h] for h in ctr]\n",
    "fig, ax = pyplot.subplots()\n",
    "ax.hist(haplotype_covs, bins=range(0,8,1), color=\"#888888\", lw=1, edgecolor=\"#555555\")\n",
    "ax.set_yticks(range(0, 11, 1))\n",
    "ax.set_xlabel('Haplotype coverage')\n",
    "ax.set_ylabel(\"Frequency: # unique haplotypes\")\n",
    "ax.set_title(\"Histogram of haplotype coverages in CAMP gene 1217,\\nignoring the primary haplotypes (3,430x and 600x)\")"
   ]
  },
  {
   "cell_type": "code",
   "execution_count": 26,
   "metadata": {
    "scrolled": true
   },
   "outputs": [
    {
     "data": {
      "text/plain": [
       "Text(0.5, 1.0, 'Histogram of haplotype Hamming distances\\nin CAMP gene 1217')"
      ]
     },
     "execution_count": 26,
     "metadata": {},
     "output_type": "execute_result"
    },
    {
     "data": {
      "image/png": "[encoded data removed]",
      "text/plain": [
       "<Figure size 432x288 with 1 Axes>"
      ]
     },
     "metadata": {},
     "output_type": "display_data"
    }
   ],
   "source": [
    "fig, ax = pyplot.subplots()\n",
    "ax.hist(haplotype_hamrefs, bins=range(0,36,1), lw=1, edgecolor=\"#777777\")\n",
    "ax.set_xticks(range(0, 36, 2))\n",
    "ax.set_xticks(range(0, 36), minor=True)\n",
    "ax.set_xlabel('Hamming distance to the \"reference\" haplotype')\n",
    "ax.set_ylabel(\"Frequency: # unique haplotypes\")\n",
    "# color bars representing the ref and alt haplotype specially:\n",
    "# https://stackoverflow.com/a/18973430\n",
    "children = ax.get_children()\n",
    "children[0].set_color(\"blue\")\n",
    "children[-11].set_color(\"green\")\n",
    "ax.set_title(\"Histogram of haplotype Hamming distances\\nin CAMP gene 1217\")"
   ]
  },
  {
   "cell_type": "markdown",
   "metadata": {},
   "source": [
    "## Assemble smoothed reads (multiple methods)\n",
    "\n",
    "This'll let us see which haplotype(s) show up in these assemblies!"
   ]
  },
  {
   "cell_type": "markdown",
   "metadata": {},
   "source": [
    "### metaFlye (default, and with `--keep-haplotypes`)"
   ]
  },
  {
   "cell_type": "code",
   "execution_count": null,
   "metadata": {
    "scrolled": true
   },
   "outputs": [],
   "source": [
    "%%bash\n",
    "flye --pacbio-hifi phasing-data/smoothed-reads/camp_g1217/sr.fasta \\\n",
    "    --meta \\\n",
    "    --out-dir phasing-data/smoothed-reads/camp_g1217/metaflye"
   ]
  },
  {
   "cell_type": "code",
   "execution_count": null,
   "metadata": {},
   "outputs": [],
   "source": [
    "%%bash\n",
    "flye --pacbio-hifi phasing-data/smoothed-reads/camp_g1217/sr.fasta \\\n",
    "    --meta \\\n",
    "    --keep-haplotypes \\\n",
    "    --out-dir phasing-data/smoothed-reads/camp_g1217/metaflye_keephaps"
   ]
  },
  {
   "cell_type": "markdown",
   "metadata": {},
   "source": [
    "### Just jumboDBG ($k$ = 5,001)"
   ]
  },
  {
   "cell_type": "code",
   "execution_count": null,
   "metadata": {
    "scrolled": true
   },
   "outputs": [],
   "source": [
    "%%bash\n",
    "/home/mfedarko/software/LJA/bin/jumboDBG \\\n",
    "    --reads phasing-data/smoothed-reads/camp_g1217/sr.fasta \\\n",
    "    -k 5001 \\\n",
    "    --coverage \\\n",
    "    --output-dir phasing-data/smoothed-reads/camp_g1217/jumbodbg_k5001"
   ]
  },
  {
   "cell_type": "markdown",
   "metadata": {},
   "source": [
    "### LJA (with error correction; with no error correction; with a simple coverage filter)"
   ]
  },
  {
   "cell_type": "code",
   "execution_count": null,
   "metadata": {},
   "outputs": [],
   "source": [
    "%%bash\n",
    "# Default: with error correction\n",
    "/home/mfedarko/software/LJA-branch/bin/lja \\\n",
    "    --reads phasing-data/smoothed-reads/camp_g1217/sr.fasta \\\n",
    "    --output-dir phasing-data/smoothed-reads/camp_g1217/lja_withec"
   ]
  },
  {
   "cell_type": "code",
   "execution_count": null,
   "metadata": {},
   "outputs": [],
   "source": [
    "%%bash\n",
    "# No error correction\n",
    "/home/mfedarko/software/LJA-branch/bin/lja \\\n",
    "    --reads phasing-data/smoothed-reads/camp_g1217/sr.fasta \\\n",
    "    --noec \\\n",
    "    --output-dir phasing-data/smoothed-reads/camp_g1217/lja_noec"
   ]
  },
  {
   "cell_type": "code",
   "execution_count": null,
   "metadata": {
    "scrolled": true
   },
   "outputs": [],
   "source": [
    "%%bash\n",
    "# No error correction, but with a filter for low-coverage edges. (Let's say 10x; at least for G1217, we know\n",
    "# this removes the relatively low-coverage haplotypes. Of course, for arbitrary data the optimal parameter here\n",
    "# isn't clear. But when you have like ~4,000x coverage 10x is fine.)\n",
    "/home/mfedarko/software/LJA-branch/bin/lja \\\n",
    "    --reads phasing-data/smoothed-reads/camp_g1217/sr.fasta \\\n",
    "    --simpleec \\\n",
    "    --Cov-threshold 10 \\\n",
    "    --output-dir phasing-data/smoothed-reads/camp_g1217/lja_covfilt_10x"
   ]
  },
  {
   "cell_type": "markdown",
   "metadata": {},
   "source": [
    "## Align assembled sequences to CAMP"
   ]
  },
  {
   "cell_type": "code",
   "execution_count": null,
   "metadata": {},
   "outputs": [],
   "source": [
    "%%bash\n",
    "CAMP=/Poppy/mfedarko/sheepgut/seqs/edge_6104.fasta\n",
    "OUTDIR=phasing-data/smoothed-reads/camp_g1217/aln\n",
    "\n",
    "# Yeah this could be done in a simple for loop but bash scares me\n",
    "\n",
    "# metaFlye\n",
    "minimap2 -ax asm20 --MD $CAMP \\\n",
    "    phasing-data/smoothed-reads/camp_g1217/metaflye/assembly.fasta > $OUTDIR/metaflye.sam\n",
    "minimap2 -ax asm20 --MD $CAMP \\\n",
    "    phasing-data/smoothed-reads/camp_g1217/metaflye_keephaps/assembly.fasta > $OUTDIR/metaflye_keephaps.sam\n",
    "    \n",
    "# jumboDBG\n",
    "minimap2 -ax asm20 --MD $CAMP \\\n",
    "    phasing-data/smoothed-reads/camp_g1217/jumbodbg_k5001/graph.fasta > $OUTDIR/jumbodbg.sam\n",
    "    \n",
    "# LJA\n",
    "minimap2 -ax asm20 --MD $CAMP \\\n",
    "    phasing-data/smoothed-reads/camp_g1217/lja_withec/assembly.fasta > $OUTDIR/lja_withec.sam\n",
    "minimap2 -ax asm20 --MD $CAMP \\\n",
    "    phasing-data/smoothed-reads/camp_g1217/lja_noec/assembly.fasta > $OUTDIR/lja_noec.sam\n",
    "minimap2 -ax asm20 --MD $CAMP \\\n",
    "    phasing-data/smoothed-reads/camp_g1217/lja_covfilt_10x/assembly.fasta > $OUTDIR/lja_covfilt_10x.sam"
   ]
  },
  {
   "cell_type": "markdown",
   "metadata": {},
   "source": [
    "## Investigate alignments of assembled sequences to CAMP\n",
    "\n",
    "Which haplotypes of gene 1217 were recovered?"
   ]
  },
  {
   "cell_type": "code",
   "execution_count": null,
   "metadata": {},
   "outputs": [],
   "source": [
    "aln_dir = \"phasing-data/smoothed-reads/camp_g1217/aln\"\n",
    "for af in os.listdir(aln_dir):\n",
    "    if af.endswith(\".sam\"):\n",
    "        print(f\"Investigating the alignment described in {af}.\")\n",
    "        f = pysam.AlignmentFile(os.path.join(aln_dir, af))\n",
    "        contig2hap = {}\n",
    "        contig_haps = []\n",
    "        num_nonspanning_contigs = 0\n",
    "        for aln in f.fetch():\n",
    "            ap = aln.get_aligned_pairs(matches_only=True)\n",
    "            aln_seq = aln.query_sequence\n",
    "            contig_name = aln.query_name\n",
    "            v = {}\n",
    "            hap = \"\"\n",
    "            # slow but simple\n",
    "            for pair in ap:\n",
    "                if pair[1] in mps:\n",
    "                    contig_nt_at_mutpos = aln_seq[pair[0]]\n",
    "                    v[pair[1]] = contig_nt_at_mutpos\n",
    "                    hap += contig_nt_at_mutpos\n",
    "            if len(v) < 34:\n",
    "                num_nonspanning_contigs += 1\n",
    "            elif len(v) > 34:\n",
    "                raise ValueError(\"Something went very wrong. What happened to gene 1217???\")\n",
    "            else:\n",
    "                contig2hap[contig_name] = hap\n",
    "                contig_haps.append(hap)\n",
    "                print(f\"\\t{hap}  Smoothed Read Freq: {ctr[hap]:,}x  Contig {contig_name}\") \n",
    "\n",
    "        print(f\"\\t# of contig haps: {len(contig_haps):,}\\n\\t# of unique contig haps: {len(set(contig_haps)):,}\")"
   ]
  }
 ],
 "metadata": {
  "kernelspec": {
   "display_name": "Python 3",
   "language": "python",
   "name": "python3"
  },
  "language_info": {
   "codemirror_mode": {
    "name": "ipython",
    "version": 3
   },
   "file_extension": ".py",
   "mimetype": "text/x-python",
   "name": "python",
   "nbconvert_exporter": "python",
   "pygments_lexer": "ipython3",
   "version": "3.7.11"
  }
 },
 "nbformat": 4,
 "nbformat_minor": 4
}
