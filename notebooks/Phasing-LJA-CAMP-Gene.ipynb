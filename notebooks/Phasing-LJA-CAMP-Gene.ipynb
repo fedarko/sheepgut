{
 "cells": [
  {
   "cell_type": "markdown",
   "metadata": {},
   "source": [
    "# Phasing haplotypes of gene 1217 in CAMP\n",
    "\n",
    "Version of the `Phasing-LJA.ipynb` notebook adapted to just analyze \"haplotypes\" of gene 1217 in CAMP.\n",
    "\n",
    "The code for performing read smoothing is derived from that notebook's code; ideally we would consolidate these into a single script to limit code reuse, but for the sake of speed I haven't done this yet."
   ]
  },
  {
   "cell_type": "code",
   "execution_count": 1,
   "metadata": {
    "execution": {
     "iopub.execute_input": "2022-04-11T02:19:25.150927Z",
     "iopub.status.busy": "2022-04-11T02:19:25.150013Z",
     "iopub.status.idle": "2022-04-11T02:19:25.666175Z",
     "shell.execute_reply": "2022-04-11T02:19:25.665397Z"
    }
   },
   "outputs": [],
   "source": [
    "%run \"Header.ipynb\"\n",
    "%run \"../main-workflow/utils.py\""
   ]
  },
  {
   "cell_type": "code",
   "execution_count": 2,
   "metadata": {
    "execution": {
     "iopub.execute_input": "2022-04-11T02:19:25.670204Z",
     "iopub.status.busy": "2022-04-11T02:19:25.669414Z",
     "iopub.status.idle": "2022-04-11T02:19:26.779641Z",
     "shell.execute_reply": "2022-04-11T02:19:26.778896Z"
    }
   },
   "outputs": [],
   "source": [
    "import os\n",
    "import time\n",
    "import pickle\n",
    "import subprocess\n",
    "import pysam\n",
    "import skbio\n",
    "import logomaker\n",
    "import pandas as pd\n",
    "from collections import defaultdict, Counter\n",
    "from linked_mutations_utils import find_mutated_positions"
   ]
  },
  {
   "cell_type": "markdown",
   "metadata": {},
   "source": [
    "## Smooth reads"
   ]
  },
  {
   "cell_type": "code",
   "execution_count": 3,
   "metadata": {
    "execution": {
     "iopub.execute_input": "2022-04-11T02:19:26.784170Z",
     "iopub.status.busy": "2022-04-11T02:19:26.783392Z",
     "iopub.status.idle": "2022-04-11T02:19:26.785726Z",
     "shell.execute_reply": "2022-04-11T02:19:26.785020Z"
    }
   },
   "outputs": [],
   "source": [
    "read2mp2nt = defaultdict(dict)"
   ]
  },
  {
   "cell_type": "code",
   "execution_count": 4,
   "metadata": {
    "execution": {
     "iopub.execute_input": "2022-04-11T02:19:26.790811Z",
     "iopub.status.busy": "2022-04-11T02:19:26.790011Z",
     "iopub.status.idle": "2022-04-11T02:19:26.874284Z",
     "shell.execute_reply": "2022-04-11T02:19:26.873575Z"
    }
   },
   "outputs": [],
   "source": [
    "bf = pysam.AlignmentFile(\"../main-workflow/output/fully-filtered-and-sorted-aln.bam\", \"rb\")\n",
    "output_dir = \"phasing-data/smoothed-reads/camp_g1217\"\n",
    "\n",
    "# verbose?\n",
    "no_indoor_voice = False\n",
    "\n",
    "def write_out_reads(filepath, readname2seq):\n",
    "    # Notably, this uses the \"a\" (append) method in order to add to the end of a file\n",
    "    with open(filepath, \"a\") as of:\n",
    "        for readname in readname2seq:\n",
    "            # Write out both the header and the sequence for each read\n",
    "            of.write(f\">{readname}\\n{str(readname2seq[readname])}\\n\")\n",
    "            \n",
    "# both 0-indexed and inclusive\n",
    "g1217_region = [1208926, 1210074]\n",
    "focus_region = [g1217_region[0] - 25000, g1217_region[1] + 25000]\n",
    "            \n",
    "ALN_UPDATE_FREQ = 5000\n",
    "ALN_BUFFER_FREQ = 1000\n",
    "\n",
    "# Set p = 10% when naively identifying mutations to ensure that we just focus on the ~16% mutations\n",
    "# in gene 1217 of CAMP. Of course, most mutations aren't this common!\n",
    "P = 10\n",
    "\n",
    "seq = \"edge_6104\""
   ]
  },
  {
   "cell_type": "code",
   "execution_count": 5,
   "metadata": {
    "execution": {
     "iopub.execute_input": "2022-04-11T02:19:26.887980Z",
     "iopub.status.busy": "2022-04-11T02:19:26.886994Z",
     "iopub.status.idle": "2022-04-11T02:32:14.573820Z",
     "shell.execute_reply": "2022-04-11T02:32:14.573109Z"
    },
    "scrolled": true
   },
   "outputs": [
    {
     "name": "stdout",
     "output_type": "stream",
     "text": [
      "======================================================================\n",
      "Identifying mutated positions (p = 10%) in genome CAMP...\n",
      "Found 35 mutated positions (p = 10%) in CAMP.\n",
      "Note that this tally is higher than you'd see in e.g. the CP1/2/3 plots, because now we're including both 'rare' and non-rare mutations. Just so you don't waste five minutes sanity-checking this like I did.\n",
      "Going through these positions...\n",
      "\tOn aln 5,000 in seq CAMP. Time spent on CAMP so far: 6.07 sec.\n",
      "\tOn aln 10,000 in seq CAMP. Time spent on CAMP so far: 13.17 sec.\n",
      "\tOn aln 15,000 in seq CAMP. Time spent on CAMP so far: 20.37 sec.\n",
      "\tOn aln 20,000 in seq CAMP. Time spent on CAMP so far: 27.85 sec.\n",
      "\tOn aln 25,000 in seq CAMP. Time spent on CAMP so far: 34.81 sec.\n",
      "\tOn aln 30,000 in seq CAMP. Time spent on CAMP so far: 41.51 sec.\n",
      "\tOn aln 35,000 in seq CAMP. Time spent on CAMP so far: 48.05 sec.\n",
      "\tOn aln 40,000 in seq CAMP. Time spent on CAMP so far: 54.50 sec.\n",
      "\tOn aln 45,000 in seq CAMP. Time spent on CAMP so far: 60.97 sec.\n",
      "\tOn aln 50,000 in seq CAMP. Time spent on CAMP so far: 67.36 sec.\n",
      "\tOn aln 55,000 in seq CAMP. Time spent on CAMP so far: 74.37 sec.\n",
      "\tOn aln 60,000 in seq CAMP. Time spent on CAMP so far: 81.45 sec.\n",
      "\tOn aln 65,000 in seq CAMP. Time spent on CAMP so far: 88.91 sec.\n",
      "\tOn aln 70,000 in seq CAMP. Time spent on CAMP so far: 96.17 sec.\n",
      "\tOn aln 75,000 in seq CAMP. Time spent on CAMP so far: 103.24 sec.\n",
      "\tOn aln 80,000 in seq CAMP. Time spent on CAMP so far: 109.86 sec.\n",
      "\tOn aln 85,000 in seq CAMP. Time spent on CAMP so far: 116.34 sec.\n",
      "\tOn aln 90,000 in seq CAMP. Time spent on CAMP so far: 122.93 sec.\n",
      "\tOn aln 95,000 in seq CAMP. Time spent on CAMP so far: 129.46 sec.\n",
      "\tOn aln 100,000 in seq CAMP. Time spent on CAMP so far: 135.99 sec.\n",
      "\tOn aln 105,000 in seq CAMP. Time spent on CAMP so far: 142.70 sec.\n",
      "\tOn aln 110,000 in seq CAMP. Time spent on CAMP so far: 149.74 sec.\n",
      "\tOn aln 115,000 in seq CAMP. Time spent on CAMP so far: 157.16 sec.\n",
      "\tOn aln 120,000 in seq CAMP. Time spent on CAMP so far: 164.27 sec.\n",
      "\tOn aln 125,000 in seq CAMP. Time spent on CAMP so far: 171.24 sec.\n",
      "\tOn aln 130,000 in seq CAMP. Time spent on CAMP so far: 177.73 sec.\n",
      "\tOn aln 135,000 in seq CAMP. Time spent on CAMP so far: 184.24 sec.\n",
      "\tOn aln 140,000 in seq CAMP. Time spent on CAMP so far: 190.80 sec.\n",
      "\tOn aln 145,000 in seq CAMP. Time spent on CAMP so far: 197.29 sec.\n",
      "\tOn aln 150,000 in seq CAMP. Time spent on CAMP so far: 203.84 sec.\n",
      "\tOn aln 155,000 in seq CAMP. Time spent on CAMP so far: 210.88 sec.\n",
      "\tOn aln 160,000 in seq CAMP. Time spent on CAMP so far: 218.16 sec.\n",
      "\tOn aln 165,000 in seq CAMP. Time spent on CAMP so far: 225.39 sec.\n",
      "\tOn aln 170,000 in seq CAMP. Time spent on CAMP so far: 232.54 sec.\n",
      "\tOn aln 175,000 in seq CAMP. Time spent on CAMP so far: 239.17 sec.\n",
      "\tOn aln 180,000 in seq CAMP. Time spent on CAMP so far: 245.69 sec.\n",
      "\tOn aln 185,000 in seq CAMP. Time spent on CAMP so far: 252.25 sec.\n",
      "\tOn aln 190,000 in seq CAMP. Time spent on CAMP so far: 258.74 sec.\n",
      "\tOn aln 195,000 in seq CAMP. Time spent on CAMP so far: 265.40 sec.\n",
      "\tOn aln 200,000 in seq CAMP. Time spent on CAMP so far: 272.39 sec.\n",
      "\tOn aln 205,000 in seq CAMP. Time spent on CAMP so far: 279.86 sec.\n",
      "\tOn aln 210,000 in seq CAMP. Time spent on CAMP so far: 286.99 sec.\n",
      "\tOn aln 215,000 in seq CAMP. Time spent on CAMP so far: 294.17 sec.\n",
      "\tOn aln 220,000 in seq CAMP. Time spent on CAMP so far: 300.75 sec.\n",
      "\tOn aln 225,000 in seq CAMP. Time spent on CAMP so far: 307.38 sec.\n",
      "\tOn aln 230,000 in seq CAMP. Time spent on CAMP so far: 313.91 sec.\n",
      "\tOn aln 235,000 in seq CAMP. Time spent on CAMP so far: 320.49 sec.\n",
      "\tOn aln 240,000 in seq CAMP. Time spent on CAMP so far: 327.30 sec.\n",
      "\tOn aln 245,000 in seq CAMP. Time spent on CAMP so far: 334.44 sec.\n",
      "\tOn aln 250,000 in seq CAMP. Time spent on CAMP so far: 341.88 sec.\n",
      "\tOn aln 255,000 in seq CAMP. Time spent on CAMP so far: 349.08 sec.\n",
      "\tOn aln 260,000 in seq CAMP. Time spent on CAMP so far: 355.89 sec.\n",
      "\tOn aln 265,000 in seq CAMP. Time spent on CAMP so far: 362.44 sec.\n",
      "\tOn aln 270,000 in seq CAMP. Time spent on CAMP so far: 369.02 sec.\n",
      "\tOn aln 275,000 in seq CAMP. Time spent on CAMP so far: 375.57 sec.\n",
      "\tOn aln 280,000 in seq CAMP. Time spent on CAMP so far: 382.16 sec.\n",
      "\tOn aln 285,000 in seq CAMP. Time spent on CAMP so far: 389.11 sec.\n",
      "\tOn aln 290,000 in seq CAMP. Time spent on CAMP so far: 396.50 sec.\n",
      "\tOn aln 295,000 in seq CAMP. Time spent on CAMP so far: 403.69 sec.\n",
      "\tOn aln 300,000 in seq CAMP. Time spent on CAMP so far: 410.95 sec.\n",
      "\tOn aln 305,000 in seq CAMP. Time spent on CAMP so far: 417.60 sec.\n",
      "\tOn aln 310,000 in seq CAMP. Time spent on CAMP so far: 424.11 sec.\n",
      "\tOn aln 315,000 in seq CAMP. Time spent on CAMP so far: 430.69 sec.\n",
      "\tOn aln 320,000 in seq CAMP. Time spent on CAMP so far: 437.22 sec.\n",
      "\tOn aln 325,000 in seq CAMP. Time spent on CAMP so far: 443.70 sec.\n",
      "\tOn aln 330,000 in seq CAMP. Time spent on CAMP so far: 450.35 sec.\n",
      "\tOn aln 335,000 in seq CAMP. Time spent on CAMP so far: 457.29 sec.\n",
      "\tOn aln 340,000 in seq CAMP. Time spent on CAMP so far: 464.77 sec.\n",
      "\tOn aln 345,000 in seq CAMP. Time spent on CAMP so far: 471.76 sec.\n",
      "\tOn aln 350,000 in seq CAMP. Time spent on CAMP so far: 479.11 sec.\n",
      "\tOn aln 355,000 in seq CAMP. Time spent on CAMP so far: 485.70 sec.\n",
      "\tOn aln 360,000 in seq CAMP. Time spent on CAMP so far: 492.22 sec.\n",
      "\tOn aln 365,000 in seq CAMP. Time spent on CAMP so far: 498.71 sec.\n",
      "\tOn aln 370,000 in seq CAMP. Time spent on CAMP so far: 505.18 sec.\n",
      "\tOn aln 375,000 in seq CAMP. Time spent on CAMP so far: 511.83 sec.\n",
      "\tOn aln 380,000 in seq CAMP. Time spent on CAMP so far: 519.26 sec.\n",
      "\tOn aln 385,000 in seq CAMP. Time spent on CAMP so far: 527.70 sec.\n",
      "\tOn aln 390,000 in seq CAMP. Time spent on CAMP so far: 537.47 sec.\n",
      "\tOn aln 395,000 in seq CAMP. Time spent on CAMP so far: 546.97 sec.\n",
      "\tOn aln 400,000 in seq CAMP. Time spent on CAMP so far: 556.81 sec.\n",
      "\tOn aln 405,000 in seq CAMP. Time spent on CAMP so far: 565.84 sec.\n",
      "\tOn aln 410,000 in seq CAMP. Time spent on CAMP so far: 574.78 sec.\n",
      "\tOn aln 415,000 in seq CAMP. Time spent on CAMP so far: 583.77 sec.\n",
      "\tOn aln 420,000 in seq CAMP. Time spent on CAMP so far: 592.95 sec.\n",
      "\tOn aln 425,000 in seq CAMP. Time spent on CAMP so far: 601.98 sec.\n",
      "\tOn aln 430,000 in seq CAMP. Time spent on CAMP so far: 611.50 sec.\n",
      "\tOn aln 435,000 in seq CAMP. Time spent on CAMP so far: 633.59 sec.\n",
      "\tOn aln 440,000 in seq CAMP. Time spent on CAMP so far: 657.85 sec.\n",
      "\tOn aln 445,000 in seq CAMP. Time spent on CAMP so far: 692.08 sec.\n",
      "\tOn aln 450,000 in seq CAMP. Time spent on CAMP so far: 706.66 sec.\n",
      "\tOn aln 455,000 in seq CAMP. Time spent on CAMP so far: 719.32 sec.\n",
      "\tOn aln 460,000 in seq CAMP. Time spent on CAMP so far: 727.59 sec.\n",
      "\tOn aln 465,000 in seq CAMP. Time spent on CAMP so far: 734.69 sec.\n",
      "\tOn aln 470,000 in seq CAMP. Time spent on CAMP so far: 742.58 sec.\n",
      "\tOn aln 475,000 in seq CAMP. Time spent on CAMP so far: 751.15 sec.\n",
      "We ignored 135 linear alignments, fyi.\n",
      "Done with edge_6104! Took 753.45 sec.\n"
     ]
    }
   ],
   "source": [
    "fasta = skbio.DNA.read(f\"../seqs/{seq}.fasta\")\n",
    "\n",
    "output_smoothed_reads_file = os.path.join(output_dir, \"sr.fasta\")\n",
    "try:\n",
    "    os.remove(output_smoothed_reads_file)\n",
    "except FileNotFoundError:\n",
    "    # it's fine if this file doesn't exist yet. what we DON'T want to happen is this file to already exist after\n",
    "    # this point in the code; since we only use \"append\" file-writing to write out smoothed reads, if we don't\n",
    "    # manually remove this file then running this script twice will cause weird behavior where the file contains\n",
    "    # the same smoothed reads multiple times, etc.\n",
    "    pass\n",
    "\n",
    "# Identify all (0-indexed, so compatible with skbio / pysam!)\n",
    "# mutated positions in this genome up front to save time.\n",
    "#\n",
    "# Equivalently, we could also just take in an arbitrary VCF as input\n",
    "# (e.g. one produced from another variant calling tool), although we'd\n",
    "# need to be careful to only include SNVs and not indels/etc...\n",
    "\n",
    "print(\"=\" * 70)\n",
    "print(f\"Identifying mutated positions (p = {P}%) in genome {seq2name[seq]}...\")\n",
    "mutpos2pileup = find_mutated_positions(seq, p_to_use=P, incl_pileup=True)\n",
    "# We sort because the code below relies on these being in ascending order\n",
    "mutated_positions = sorted(mutpos2pileup.keys())\n",
    "print(f\"Found {len(mutated_positions):,} mutated positions (p = {P}%) in {seq2name[seq]}.\")\n",
    "print(\n",
    "    f\"Note that this tally is higher than you'd see in e.g. the CP1/2/3 plots, because now we're including \"\n",
    "    \"both 'rare' and non-rare mutations. Just so you don't waste five minutes sanity-checking this like I did.\"\n",
    ")\n",
    "\n",
    "print(\"Going through these positions...\")\n",
    "\n",
    "num_ignored_alns = 0\n",
    "\n",
    "# Instead of just writing out every smoothed alignment as soon as we generate it, we build up a \"buffer\"\n",
    "# of these alignments and then write a bunch out at once.\n",
    "smoothed_aln_buffer = {}\n",
    "\n",
    "# The first time we see an alignment of a read, it's 1; if we see a supp aln of this read, it's 2; etc.\n",
    "# Lets us distinguish alignments with different names\n",
    "readname2freq_so_far = defaultdict(int)\n",
    "\n",
    "# Go through all linear alignments of each read to this genome...\n",
    "ts1 = time.time()\n",
    "for ai, aln in enumerate(bf.fetch(seq), 1):\n",
    "\n",
    "    if ai % ALN_UPDATE_FREQ == 0:\n",
    "        print(\n",
    "            f\"\\tOn aln {ai:,} in seq {seq2name[seq]}. \"\n",
    "            f\"Time spent on {seq2name[seq]} so far: {time.time() - ts1:,.2f} sec.\"\n",
    "        )\n",
    "\n",
    "    if aln.is_secondary:\n",
    "        raise ValueError(\n",
    "            \"Not to get political or anything, but you should've already filtered secondary alns out\"\n",
    "        )\n",
    "\n",
    "    # Note that supplementary alignments are ok, though! We implicitly handle these here.\n",
    "    #\n",
    "    # Different alignments of the same read will have different new_readnames, because we're gonna\n",
    "    # be treating them as distinct \"reads\". We should have already filtered reference-overlapping\n",
    "    # supp alns so this shouldn't be a problem\n",
    "\n",
    "    readname = aln.query_name\n",
    "    readname2freq_so_far[readname] += 1\n",
    "    new_readname = f\"{readname}_{readname2freq_so_far[readname]}\"\n",
    "\n",
    "    # should never happen\n",
    "    if new_readname in smoothed_aln_buffer:\n",
    "        raise ValueError(\"This exact read alignment has already been smoothed? Weird.\")\n",
    "\n",
    "    # Figure out where on the MAG this alignment \"hits.\" These are 0-indexed positions from Pysam.\n",
    "    # (reference_end points to the position after the actual final position, since these are designed to\n",
    "    # be interoperable with Python's half-open intervals.)\n",
    "    #\n",
    "    # Of course, there likely will be indels within this range: we're purposefully ignoring those here.\n",
    "    ref_start = aln.reference_start\n",
    "    ref_end = aln.reference_end - 1\n",
    "\n",
    "    # This should never happen (TM)\n",
    "    if ref_start >= ref_end:\n",
    "        # Du sollst jetzt mit Gott sprechen.\n",
    "        raise ValueError(\n",
    "            f\"Ref start {ref_start:,} >= ref end {ref_end:,} for read {new_readname}?\"\n",
    "        )\n",
    "\n",
    "    # Unique to the gene 1217 analysis!\n",
    "    # Figure out if this read intersects with the focus region.\n",
    "    # An idiot-proof albeit slow solution is just computing exact ranges and then taking set intersections.\n",
    "    if not set(range(ref_start, ref_end + 1)) & set(range(focus_region[0], focus_region[1] + 1)):\n",
    "        continue\n",
    "\n",
    "    # Smoothed sequence; we'll edit this so that if this read has (mis)matches to any called mutated\n",
    "    # positions, these positions are updated with the read's aligned nucleotides at these positions.\n",
    "    smoothed_aln_seq = fasta[ref_start: ref_end + 1]\n",
    "\n",
    "    # just for debugging: track the exact edits made to smoothed_aln_seq\n",
    "    replacements_made = {}\n",
    "\n",
    "    # We may choose to ignore this linear alignment, if we think it is error-prone or\n",
    "    # otherwise not useful. If this gets set to True in the loop below, then we'll notice this\n",
    "    # and ignore this alignment.\n",
    "    ignoring_this_aln = False\n",
    "\n",
    "    ap = aln.get_aligned_pairs(matches_only=False)\n",
    "\n",
    "    # Iterating through the aligned pairs is expensive. Since read lengths are generally in the thousands\n",
    "    # to tens of thousands of bp (which is much less than the > 1 million bp length of any bacterial genome),\n",
    "    # we set things up so that we only iterate through the aligned pairs once. We maintain an integer, mpi,\n",
    "    # that is a poor man's \"pointer\" to an index in mutated_positions.\n",
    "\n",
    "    mpi = 0\n",
    "\n",
    "    # Go through this aln's aligned pairs. As we see each pair, compare the pair's reference position\n",
    "    # (refpos) to the mpi-th mutated position (herein referred to as \"mutpos\").\n",
    "    #\n",
    "    # If refpos >  mutpos, increment mpi until refpos <= mutpos (stopping as early as possible).\n",
    "    # If refpos == mutpos, we have a match! Update readname2mutpos2ismutated[mutpos] based on\n",
    "    #                      comparing the read to the reference at the aligned positions.\n",
    "    # If refpos <  mutpos, continue to the next pair.\n",
    "\n",
    "    for pair in ap:\n",
    "\n",
    "        refpos = pair[1]\n",
    "        if refpos is None:\n",
    "            continue\n",
    "        mutpos = mutated_positions[mpi]\n",
    "\n",
    "        no_mutations_to_right_of_here = False\n",
    "\n",
    "        # Increment mpi until we get to the next mutated position at or after the reference pos for this\n",
    "        # aligned pair (or until we run out of mutated positions).\n",
    "        while refpos > mutpos:\n",
    "            mpi += 1\n",
    "            if mpi < len(mutated_positions):\n",
    "                mutpos = mutated_positions[mpi]\n",
    "            else:\n",
    "                no_mutations_to_right_of_here = True\n",
    "                break\n",
    "\n",
    "        # I expect this should happen only for reads aligned near the right end of the genome.\n",
    "        if no_mutations_to_right_of_here:\n",
    "            break\n",
    "\n",
    "        # If the next mutation occurs after this aligned pair, continue on to a later pair.\n",
    "        if refpos < mutpos:\n",
    "            continue\n",
    "\n",
    "        # If we've made it here, refpos == mutpos!\n",
    "        # (...unless I messed something up in how I designed this code.)\n",
    "        if refpos != mutpos:\n",
    "            raise ValueError(\"This should never happen!\")\n",
    "\n",
    "        # Finally, get the nucleotide aligned to this mutated position from this read.\n",
    "        readpos = pair[0]\n",
    "        if readpos is None:\n",
    "            ignoring_this_aln = True\n",
    "            break\n",
    "        \n",
    "        read_nt = aln.query_sequence[readpos]\n",
    "\n",
    "        # If this read doesn't have match the first or second most common nucleotide at this position,\n",
    "        # ignore this read. In the future, when we perform read\n",
    "        # smoothing based on an arbitrary set of SNV calls, we can be more careful about this; but for now\n",
    "        # we make the simplifiying assumption that a mutation likely only has one alternate nucleotide,\n",
    "        # and that the 3rd and 4th most common nucleotides indicate errors.\n",
    "        # (Also, note that we break ties here arbitrarily.)\n",
    "        nt2ct = dict(zip(\"ACGT\", mutpos2pileup[mutpos][0]))\n",
    "        nt1 = max(nt2ct, key=nt2ct.get)\n",
    "        del nt2ct[nt1]\n",
    "        nt2 = max(nt2ct, key=nt2ct.get)\n",
    "\n",
    "        if read_nt != nt1 and read_nt != nt2:\n",
    "            ignoring_this_aln = True\n",
    "            break\n",
    "\n",
    "        # Notably, the nucleotide at a mutated position in a smoothed read will always be the first\n",
    "        # or second most common nucleotide at this position. So \"unreasonable\" positions, in which\n",
    "        # the ref nt != the consensus nt, will not be treated as you might expect -- we ignore the\n",
    "        # reference in this particular case. Shouldn't make a big difference, since in most cases\n",
    "        # the ref and consensus nt agree.\n",
    "        relative_pos_on_aln = mutpos - ref_start\n",
    "        smoothed_aln_seq = smoothed_aln_seq.replace([relative_pos_on_aln], read_nt)\n",
    "        replacements_made[relative_pos_on_aln] = read_nt\n",
    "        read2mp2nt[new_readname][mutpos] = read_nt\n",
    "\n",
    "    if no_indoor_voice:\n",
    "        print(f\"Read {new_readname} involved {len(replacements_made):,} replacements!\")\n",
    "\n",
    "    if ignoring_this_aln:\n",
    "        num_ignored_alns += 1\n",
    "    else:\n",
    "        # Now that we've finished processing all called mutations that this alignment spans, prepare it\n",
    "        # to be written out to a FASTA file. See comments above on smoothed_aln_buffer, and why we don't\n",
    "        # just write everything out as soon as it's ready.\n",
    "        #\n",
    "        # (Also, we've already guaranteed readname isn't already in smoothed_aln_buffer, so no need to worry\n",
    "        # about accidentally overwriting something from earlier.)\n",
    "        smoothed_aln_buffer[new_readname] = smoothed_aln_seq\n",
    "\n",
    "        if ai % ALN_BUFFER_FREQ == 0:\n",
    "            write_out_reads(output_smoothed_reads_file, smoothed_aln_buffer)\n",
    "            # Clear the buffer\n",
    "            smoothed_aln_buffer = {}\n",
    "\n",
    "# We're probably going to have left over smoothed reads that we still haven't written out, unless things\n",
    "# worked out so that on the final alignment we saw ai was exactly divisible by ALN_BUFFER_FREQ (and that's\n",
    "# pretty unlikely unless you set the buffer freq to a low number). So make one last dump of the buffer.\n",
    "if len(smoothed_aln_buffer) > 0:\n",
    "    write_out_reads(output_smoothed_reads_file, smoothed_aln_buffer)\n",
    "\n",
    "print(f\"We ignored {num_ignored_alns:,} linear alignments, fyi.\")\n",
    "print(f\"Done with {seq}! Took {time.time() - ts1:,.2f} sec.\")"
   ]
  },
  {
   "cell_type": "code",
   "execution_count": 6,
   "metadata": {
    "execution": {
     "iopub.execute_input": "2022-04-11T02:32:14.587721Z",
     "iopub.status.busy": "2022-04-11T02:32:14.577383Z",
     "iopub.status.idle": "2022-04-11T02:32:14.591507Z",
     "shell.execute_reply": "2022-04-11T02:32:14.590808Z"
    }
   },
   "outputs": [],
   "source": [
    "with open(\"phasing-data/smoothed-reads/camp_g1217/read2mp2nt.pickle\", \"wb\") as pf:\n",
    "    pickle.dump(read2mp2nt, pf)"
   ]
  },
  {
   "cell_type": "code",
   "execution_count": 7,
   "metadata": {
    "execution": {
     "iopub.execute_input": "2022-04-11T02:32:14.611373Z",
     "iopub.status.busy": "2022-04-11T02:32:14.610582Z",
     "iopub.status.idle": "2022-04-11T02:32:14.613019Z",
     "shell.execute_reply": "2022-04-11T02:32:14.612335Z"
    }
   },
   "outputs": [],
   "source": [
    "with open(\"phasing-data/smoothed-reads/camp_g1217/read2mp2nt.pickle\", \"rb\") as pf:\n",
    "    read2mp2nt = pickle.load(pf)"
   ]
  },
  {
   "cell_type": "markdown",
   "metadata": {},
   "source": [
    "## Analyze \"haplotypes\" of gene 1217"
   ]
  },
  {
   "cell_type": "code",
   "execution_count": 8,
   "metadata": {
    "execution": {
     "iopub.execute_input": "2022-04-11T02:32:14.660254Z",
     "iopub.status.busy": "2022-04-11T02:32:14.651451Z",
     "iopub.status.idle": "2022-04-11T02:32:14.662425Z",
     "shell.execute_reply": "2022-04-11T02:32:14.661655Z"
    }
   },
   "outputs": [],
   "source": [
    "mp2freq = defaultdict(Counter)\n",
    "for read in read2mp2nt:\n",
    "    for mp in read2mp2nt[read]:\n",
    "        mp2freq[mp][read2mp2nt[read][mp]] += 1      "
   ]
  },
  {
   "cell_type": "code",
   "execution_count": 9,
   "metadata": {
    "execution": {
     "iopub.execute_input": "2022-04-11T02:32:14.670396Z",
     "iopub.status.busy": "2022-04-11T02:32:14.669614Z",
     "iopub.status.idle": "2022-04-11T02:32:14.672846Z",
     "shell.execute_reply": "2022-04-11T02:32:14.673489Z"
    },
    "scrolled": true
   },
   "outputs": [
    {
     "data": {
      "text/plain": [
       "defaultdict(collections.Counter,\n",
       "            {1209000: Counter({'A': 3757, 'G': 709}),\n",
       "             1209009: Counter({'A': 3742, 'C': 701}),\n",
       "             1209021: Counter({'A': 3733, 'G': 706}),\n",
       "             1209057: Counter({'C': 3748, 'T': 712}),\n",
       "             1209103: Counter({'C': 3752, 'T': 707}),\n",
       "             1209114: Counter({'C': 3746, 'A': 697}),\n",
       "             1209120: Counter({'G': 3750, 'A': 695}),\n",
       "             1209125: Counter({'A': 3750, 'G': 691}),\n",
       "             1209132: Counter({'G': 3749, 'A': 684}),\n",
       "             1209135: Counter({'T': 3745, 'C': 684}),\n",
       "             1209141: Counter({'G': 3747, 'A': 684}),\n",
       "             1209144: Counter({'C': 3746, 'T': 682}),\n",
       "             1209147: Counter({'A': 3746, 'T': 681}),\n",
       "             1209153: Counter({'T': 3744, 'A': 680}),\n",
       "             1209204: Counter({'G': 3743, 'A': 681}),\n",
       "             1209240: Counter({'G': 3743, 'A': 686}),\n",
       "             1209264: Counter({'T': 3738, 'C': 682}),\n",
       "             1209265: Counter({'C': 3738, 'G': 682}),\n",
       "             1209296: Counter({'T': 3735, 'C': 682}),\n",
       "             1209321: Counter({'C': 3728, 'T': 683}),\n",
       "             1209324: Counter({'C': 3723, 'T': 681}),\n",
       "             1209336: Counter({'T': 3724, 'C': 680}),\n",
       "             1209399: Counter({'T': 3724, 'C': 676}),\n",
       "             1209402: Counter({'A': 3720, 'G': 674}),\n",
       "             1209417: Counter({'A': 3722, 'G': 673}),\n",
       "             1209420: Counter({'C': 3720, 'T': 670}),\n",
       "             1209423: Counter({'T': 3723, 'C': 670}),\n",
       "             1209522: Counter({'A': 3732, 'G': 675}),\n",
       "             1209576: Counter({'A': 3738, 'G': 678}),\n",
       "             1209609: Counter({'C': 3735, 'T': 678}),\n",
       "             1209696: Counter({'T': 3742, 'A': 680}),\n",
       "             1209699: Counter({'T': 3741, 'C': 680}),\n",
       "             1209756: Counter({'A': 3745, 'G': 674}),\n",
       "             1209795: Counter({'A': 3746, 'G': 676})})"
      ]
     },
     "execution_count": 9,
     "metadata": {},
     "output_type": "execute_result"
    }
   ],
   "source": [
    "mp2freq"
   ]
  },
  {
   "cell_type": "code",
   "execution_count": 10,
   "metadata": {
    "execution": {
     "iopub.execute_input": "2022-04-11T02:32:14.692955Z",
     "iopub.status.busy": "2022-04-11T02:32:14.691213Z",
     "iopub.status.idle": "2022-04-11T02:32:14.695442Z",
     "shell.execute_reply": "2022-04-11T02:32:14.694775Z"
    }
   },
   "outputs": [],
   "source": [
    "haps = []\n",
    "mps = [1209000, 1209009, 1209021, 1209057, 1209103, 1209114, 1209120, 1209125,\n",
    "       1209132, 1209135, 1209141, 1209144, 1209147, 1209153, 1209204, 1209240,\n",
    "       1209264, 1209265, 1209296, 1209321, 1209324, 1209336, 1209399, 1209402,\n",
    "       1209417, 1209420, 1209423, 1209522, 1209576, 1209609, 1209696, 1209699,\n",
    "       1209756, 1209795]\n",
    "assert len(mps) == 34\n",
    "for read in read2mp2nt:\n",
    "    # if this read spans all of g1217\n",
    "    if len(read2mp2nt[read]) == 34:\n",
    "        haps.append(\"\".join([read2mp2nt[read][mp] for mp in mps]))"
   ]
  },
  {
   "cell_type": "code",
   "execution_count": 11,
   "metadata": {
    "execution": {
     "iopub.execute_input": "2022-04-11T02:32:14.699182Z",
     "iopub.status.busy": "2022-04-11T02:32:14.698410Z",
     "iopub.status.idle": "2022-04-11T02:32:14.701178Z",
     "shell.execute_reply": "2022-04-11T02:32:14.701807Z"
    }
   },
   "outputs": [
    {
     "data": {
      "text/plain": [
       "4054"
      ]
     },
     "execution_count": 11,
     "metadata": {},
     "output_type": "execute_result"
    }
   ],
   "source": [
    "len(haps)"
   ]
  },
  {
   "cell_type": "code",
   "execution_count": 12,
   "metadata": {
    "execution": {
     "iopub.execute_input": "2022-04-11T02:32:14.706821Z",
     "iopub.status.busy": "2022-04-11T02:32:14.706045Z",
     "iopub.status.idle": "2022-04-11T02:32:14.708796Z",
     "shell.execute_reply": "2022-04-11T02:32:14.709392Z"
    }
   },
   "outputs": [
    {
     "data": {
      "text/plain": [
       "Counter({'AAACCCGAGTGCATGGTCTCCTTAACTAACTTAA': 3430,\n",
       "         'GCGTTAAGACATTAAACGCTTCCGGTCGGTACGG': 600,\n",
       "         'GAGCTAAGACATTAAACGCTTCCGGTCGGTACGG': 1,\n",
       "         'GCGTTAAGACATTAAACGCTTCCGATCGGTACGG': 1,\n",
       "         'GAGTTAAGACATTAAACGCTTCCGGTCGGTACGG': 6,\n",
       "         'ACGTTAAGACATTAAACGCTTCCGGTCGGTACGG': 2,\n",
       "         'GCGTTAAGACACTAAACGCTTCCGGTCGGTACGG': 1,\n",
       "         'GCGTTAAGACATTAAACGCTTCCAGTCGGTACGG': 1,\n",
       "         'GCATTAAGACATTAAACGCTTCCGGTCGGTACGG': 1,\n",
       "         'GCGTTAAGACATTAAACGCTTCCGGTCGGTACAG': 4,\n",
       "         'GCGTTAAGACATTTAACGCTTCCGGTCGGTACGG': 1,\n",
       "         'GCGTTAAGACATTAAACGCTTCCGGTCGATACGG': 1,\n",
       "         'GCGTTAAGACATTAGACGCTTCCGGTCGGTACAG': 1,\n",
       "         'GCGTTAAGACATTAAACGCTTCCGGTCGGTACGA': 2,\n",
       "         'AAACCCGAGTGCATGGTCTCCTTAACTAGCTTAA': 1,\n",
       "         'AAACCCGAGTGCATGATCTCCTTAACTAACTTAA': 1})"
      ]
     },
     "execution_count": 12,
     "metadata": {},
     "output_type": "execute_result"
    }
   ],
   "source": [
    "ctr = Counter(haps)\n",
    "ctr"
   ]
  },
  {
   "cell_type": "code",
   "execution_count": 13,
   "metadata": {
    "execution": {
     "iopub.execute_input": "2022-04-11T02:32:14.713534Z",
     "iopub.status.busy": "2022-04-11T02:32:14.712801Z",
     "iopub.status.idle": "2022-04-11T02:32:14.715336Z",
     "shell.execute_reply": "2022-04-11T02:32:14.715930Z"
    }
   },
   "outputs": [
    {
     "data": {
      "text/plain": [
       "16"
      ]
     },
     "execution_count": 13,
     "metadata": {},
     "output_type": "execute_result"
    }
   ],
   "source": [
    "len(ctr)"
   ]
  },
  {
   "cell_type": "code",
   "execution_count": 14,
   "metadata": {
    "execution": {
     "iopub.execute_input": "2022-04-11T02:32:14.720716Z",
     "iopub.status.busy": "2022-04-11T02:32:14.720054Z",
     "iopub.status.idle": "2022-04-11T02:32:14.723096Z",
     "shell.execute_reply": "2022-04-11T02:32:14.722448Z"
    },
    "scrolled": true
   },
   "outputs": [
    {
     "data": {
      "text/plain": [
       "'AAACCCGAGTGCATGGTCTCCTTAACTAACTTAA'"
      ]
     },
     "execution_count": 14,
     "metadata": {},
     "output_type": "execute_result"
    }
   ],
   "source": [
    "ref = ctr.most_common(1)[0][0]\n",
    "assert len(ref) == 34\n",
    "assert ctr[ref] == 3430\n",
    "ref"
   ]
  },
  {
   "cell_type": "code",
   "execution_count": 15,
   "metadata": {
    "execution": {
     "iopub.execute_input": "2022-04-11T02:32:14.727235Z",
     "iopub.status.busy": "2022-04-11T02:32:14.726585Z",
     "iopub.status.idle": "2022-04-11T02:32:14.728840Z",
     "shell.execute_reply": "2022-04-11T02:32:14.728253Z"
    }
   },
   "outputs": [],
   "source": [
    "alt = \"GCGTTAAGACATTAAACGCTTCCGGTCGGTACGG\"\n",
    "assert ctr[alt] == 600"
   ]
  },
  {
   "cell_type": "code",
   "execution_count": 16,
   "metadata": {
    "execution": {
     "iopub.execute_input": "2022-04-11T02:32:14.737778Z",
     "iopub.status.busy": "2022-04-11T02:32:14.737081Z",
     "iopub.status.idle": "2022-04-11T02:32:14.742867Z",
     "shell.execute_reply": "2022-04-11T02:32:14.742222Z"
    }
   },
   "outputs": [
    {
     "name": "stdout",
     "output_type": "stream",
     "text": [
      "AAACCCGAGTGCATGGTCTCCTTAACTAACTTAA: 3,430x, Hamming ref = 0, Hamming alt = 34, Ref diffs: []\n",
      "GCGTTAAGACATTAAACGCTTCCGGTCGGTACGG: 600x, Hamming ref = 34, Hamming alt = 0, Alt diffs: []\n",
      "GAGCTAAGACATTAAACGCTTCCGGTCGGTACGG: 1x, Hamming ref = 32, Hamming alt = 2, Alt diffs: [2, 4]\n",
      "GCGTTAAGACATTAAACGCTTCCGATCGGTACGG: 1x, Hamming ref = 33, Hamming alt = 1, Alt diffs: [25]\n",
      "GAGTTAAGACATTAAACGCTTCCGGTCGGTACGG: 6x, Hamming ref = 33, Hamming alt = 1, Alt diffs: [2]\n",
      "ACGTTAAGACATTAAACGCTTCCGGTCGGTACGG: 2x, Hamming ref = 33, Hamming alt = 1, Alt diffs: [1]\n",
      "GCGTTAAGACACTAAACGCTTCCGGTCGGTACGG: 1x, Hamming ref = 33, Hamming alt = 1, Alt diffs: [12]\n",
      "GCGTTAAGACATTAAACGCTTCCAGTCGGTACGG: 1x, Hamming ref = 33, Hamming alt = 1, Alt diffs: [24]\n",
      "GCATTAAGACATTAAACGCTTCCGGTCGGTACGG: 1x, Hamming ref = 33, Hamming alt = 1, Alt diffs: [3]\n",
      "GCGTTAAGACATTAAACGCTTCCGGTCGGTACAG: 4x, Hamming ref = 33, Hamming alt = 1, Alt diffs: [33]\n",
      "GCGTTAAGACATTTAACGCTTCCGGTCGGTACGG: 1x, Hamming ref = 33, Hamming alt = 1, Alt diffs: [14]\n",
      "GCGTTAAGACATTAAACGCTTCCGGTCGATACGG: 1x, Hamming ref = 33, Hamming alt = 1, Alt diffs: [29]\n",
      "GCGTTAAGACATTAGACGCTTCCGGTCGGTACAG: 1x, Hamming ref = 32, Hamming alt = 2, Alt diffs: [15, 33]\n",
      "GCGTTAAGACATTAAACGCTTCCGGTCGGTACGA: 2x, Hamming ref = 33, Hamming alt = 1, Alt diffs: [34]\n",
      "AAACCCGAGTGCATGGTCTCCTTAACTAGCTTAA: 1x, Hamming ref = 1, Hamming alt = 33, Ref diffs: [29]\n",
      "AAACCCGAGTGCATGATCTCCTTAACTAACTTAA: 1x, Hamming ref = 1, Hamming alt = 33, Ref diffs: [16]\n"
     ]
    }
   ],
   "source": [
    "haplotype_hamrefs = []\n",
    "haplotype_diffpos = []\n",
    "for h in ctr:\n",
    "    rd = []\n",
    "    ad = []\n",
    "    for hi, hc in enumerate(h):\n",
    "        if hc != ref[hi]:\n",
    "            rd.append(hi + 1)\n",
    "        if hc != alt[hi]:\n",
    "            ad.append(hi + 1)\n",
    "    print(f\"{h}: {ctr[h]:,}x, Hamming ref = {len(rd):,}, Hamming alt = {len(ad):,},\", end=\" \")\n",
    "    if len(rd) < len(ad):\n",
    "        print(f\"Ref diffs: {rd}\")\n",
    "        haplotype_diffpos += rd\n",
    "    else:\n",
    "        print(f\"Alt diffs: {ad}\")\n",
    "        haplotype_diffpos += ad\n",
    "        \n",
    "    haplotype_hamrefs.append(len(rd))"
   ]
  },
  {
   "cell_type": "markdown",
   "metadata": {},
   "source": [
    "## Create figure describing the haplotypes of gene 1217"
   ]
  },
  {
   "cell_type": "markdown",
   "metadata": {},
   "source": [
    "### Create a sequence logo using Logomaker\n",
    "\n",
    "The input for Logomaker is a pandas DataFrame (with columns = A/C/G/T and indices [aka rows] = positions), so we've gotta convert our data to this format."
   ]
  },
  {
   "cell_type": "code",
   "execution_count": 17,
   "metadata": {
    "execution": {
     "iopub.execute_input": "2022-04-11T02:32:14.751647Z",
     "iopub.status.busy": "2022-04-11T02:32:14.750836Z",
     "iopub.status.idle": "2022-04-11T02:32:14.755409Z",
     "shell.execute_reply": "2022-04-11T02:32:14.754661Z"
    },
    "scrolled": false
   },
   "outputs": [],
   "source": [
    "def add_logo(ax):\n",
    "    df_data = []\n",
    "    df_rownums = []\n",
    "    for mpi, mp in enumerate(mps, 1):\n",
    "        freqs = [mp2freq[mp][\"A\"], mp2freq[mp][\"C\"], mp2freq[mp][\"G\"], mp2freq[mp][\"T\"]]\n",
    "        df_data.append(freqs)\n",
    "        df_rownums.append(mpi)\n",
    "    df = pd.DataFrame(df_data, index=df_rownums, columns=[\"A\", \"C\", \"G\", \"T\"])\n",
    "\n",
    "    lf = logomaker.Logo(df, ax=ax)\n",
    "\n",
    "    # The matplotlib style we have set clashes with the logo figure a bit; turn off gridlines, adjust ticks, etc.\n",
    "    # https://stackoverflow.com/a/45149018\n",
    "    lf.ax.grid(False)\n",
    "    lf.ax.set_xticks(df_rownums)\n",
    "    # bizarrely, setting these as just integers makes use_thousands_sep() cause\n",
    "    # problems with the error \"'numpy.int64' object has no attribute 'is_integer'\".\n",
    "    # ... We can get around this by just making one of these numbers a float.\n",
    "    # \"Sometimes you just gotta add a .0 and get on with your life.\" -- John von Neumann, probably\n",
    "    lf.ax.set_yticks([0, 1000, 2000, 3000, 4000, 5000.0])\n",
    "\n",
    "    # Make the figure background white: https://stackoverflow.com/a/23645437\n",
    "    lf.ax.set_facecolor(\"#ffffff\")\n",
    "\n",
    "    # Separate tick labels from the figure with \"spines\" -- https://stackoverflow.com/a/23645437 \n",
    "    lf.ax.spines[\"bottom\"].set_color(\"#888\")\n",
    "    lf.ax.spines[\"left\"].set_color(\"#888\")\n",
    "\n",
    "    use_thousands_sep(lf.ax.yaxis)\n",
    "    lf.ax.set_ylabel(\"Frequency\", fontsize=14)\n",
    "    # lf.ax.set_xlabel(\"Mutated position in gene 1217\", fontsize=14)\n",
    "    # lf.ax.set_title(\"Sequence logo\", fontsize=16)"
   ]
  },
  {
   "cell_type": "markdown",
   "metadata": {},
   "source": [
    "### Other small figures"
   ]
  },
  {
   "cell_type": "code",
   "execution_count": 18,
   "metadata": {
    "execution": {
     "iopub.execute_input": "2022-04-11T02:32:14.763869Z",
     "iopub.status.busy": "2022-04-11T02:32:14.763078Z",
     "iopub.status.idle": "2022-04-11T02:32:14.765183Z",
     "shell.execute_reply": "2022-04-11T02:32:14.765812Z"
    }
   },
   "outputs": [],
   "source": [
    "def add_hamming_hist(ax):\n",
    "    ax.hist(haplotype_hamrefs, bins=range(0,36,1), lw=1, edgecolor=\"#777777\")\n",
    "    ax.set_xticks(range(0, 36, 5))\n",
    "    ax.set_xticks(range(0, 36), minor=True)\n",
    "    ax.set_yticks(range(0, 11))\n",
    "    ax.set_xlabel('Hamming distance')\n",
    "    ax.set_ylabel(\"Number of unique haplotypes...\\n\\n...with this Hamming distance\")\n",
    "    # color bars representing the ref and alt haplotype specially:\n",
    "    # https://stackoverflow.com/a/18973430\n",
    "    children = ax.get_children()\n",
    "    children[0].set_color(\"blue\")\n",
    "    children[-11].set_color(\"green\")\n",
    "    ax.set_title('Distance from the \"reference\" haplotype')"
   ]
  },
  {
   "cell_type": "code",
   "execution_count": 19,
   "metadata": {
    "execution": {
     "iopub.execute_input": "2022-04-11T02:32:14.772902Z",
     "iopub.status.busy": "2022-04-11T02:32:14.772103Z",
     "iopub.status.idle": "2022-04-11T02:32:14.774300Z",
     "shell.execute_reply": "2022-04-11T02:32:14.774931Z"
    }
   },
   "outputs": [],
   "source": [
    "def add_cov_hist(ax):\n",
    "    haplotype_covs = [ctr[h] for h in ctr]\n",
    "    ax.hist(haplotype_covs, bins=range(0,8,1), color=\"#888888\", lw=1, edgecolor=\"#555555\")\n",
    "    ax.set_yticks(range(0, 11))\n",
    "    ax.set_xticks(range(0, 8))\n",
    "    ax.set_xlabel('Coverage')\n",
    "    ax.set_ylabel(\"...with this coverage\")\n",
    "    ax.set_title('Haplotype coverages, omitting the\\n\"reference\" and \"alternate\" haplotypes')"
   ]
  },
  {
   "cell_type": "code",
   "execution_count": 20,
   "metadata": {
    "execution": {
     "iopub.execute_input": "2022-04-11T02:32:14.783374Z",
     "iopub.status.busy": "2022-04-11T02:32:14.782582Z",
     "iopub.status.idle": "2022-04-11T02:32:14.785302Z",
     "shell.execute_reply": "2022-04-11T02:32:14.785929Z"
    }
   },
   "outputs": [
    {
     "name": "stdout",
     "output_type": "stream",
     "text": [
      "[1, 2, 2, 3, 4, 12, 14, 15, 16, 24, 25, 29, 29, 33, 33, 34]\n"
     ]
    }
   ],
   "source": [
    "# ... Just for reference, this is the sorta data this function visualizes. We could use a histogram,\n",
    "# but a bar chart works much better for this purpose since the x-axis values are now no longer continuous numeric\n",
    "# things but actual positions.\n",
    "print(sorted(haplotype_diffpos))\n",
    "\n",
    "def add_posvar_hist(ax):\n",
    "    h2d = Counter(haplotype_diffpos)\n",
    "    x = range(1, 35)\n",
    "    y = [h2d[h] for h in x]\n",
    "    # The width=1 gets rid of gaps between bars -- https://stackoverflow.com/a/20454355\n",
    "    ax.bar(x, y, color=\"#2cc\", width=1, lw=1, edgecolor=\"#555555\")\n",
    "    ax.set_yticks([0, 1, 2])\n",
    "    ax.set_xticks([1, 5, 10, 15, 20, 25, 30, 34])\n",
    "    ax.set_xticks(range(1, 35), minor=True)\n",
    "    ax.set_xlabel(\"Mutated position\")\n",
    "    ax.set_ylabel(\"...in which this position is changed\")\n",
    "    ax.set_title('Positional variation relative to the\\n\"reference\" or \"alternate\" haplotypes')"
   ]
  },
  {
   "cell_type": "code",
   "execution_count": 21,
   "metadata": {
    "execution": {
     "iopub.execute_input": "2022-04-11T02:32:14.812162Z",
     "iopub.status.busy": "2022-04-11T02:32:14.811354Z",
     "iopub.status.idle": "2022-04-11T02:32:16.812345Z",
     "shell.execute_reply": "2022-04-11T02:32:16.813012Z"
    }
   },
   "outputs": [
    {
     "data": {
      "image/png": "[encoded data removed]",
      "text/plain": [
       "<Figure size 1080x504 with 4 Axes>"
      ]
     },
     "metadata": {},
     "output_type": "display_data"
    }
   ],
   "source": [
    "# Use GridSpec to make the top subplot (the sequence logo) span multiple columns.\n",
    "# Based on https://matplotlib.org/3.5.1/gallery/subplots_axes_and_figures/align_labels_demo.html.\n",
    "fig = pyplot.figure()\n",
    "gs = matplotlib.gridspec.GridSpec(2, 3, height_ratios=[25, 75], hspace=0.5, wspace=0.25)\n",
    "\n",
    "# The [0, :] indicates that this spans all columns of the 0-th (first) row\n",
    "logo_ax = fig.add_subplot(gs[0, :])\n",
    "add_logo(logo_ax)\n",
    "\n",
    "hamm_ax = fig.add_subplot(gs[1, 0])\n",
    "add_hamming_hist(hamm_ax)\n",
    "\n",
    "cov_ax = fig.add_subplot(gs[1, 1])\n",
    "add_cov_hist(cov_ax)\n",
    "\n",
    "posv_ax = fig.add_subplot(gs[1, 2])\n",
    "add_posvar_hist(posv_ax)\n",
    "\n",
    "# Add panel labels to make referring to these plots individually easier.\n",
    "# On the bottom row, we position everything in reference to the data coordinates of the Hamming\n",
    "# distance histogram in the bottom left. This makes it very easy to ensure that the y-axis values\n",
    "# of the bottom three plots' labels are consistent. (...And the aligning of the (a) and (b), horizontally,\n",
    "# I did manually, like a chump.)\n",
    "logo_ax.text(-1, 6000, \"(a)\", fontsize=20, fontweight=\"bold\")\n",
    "hamm_ax.text(-8, 12, \"(b)\", fontsize=20, fontweight=\"bold\")\n",
    "hamm_ax.text(40, 12, \"(c)\", fontsize=20, fontweight=\"bold\")\n",
    "hamm_ax.text(87, 12, \"(d)\", fontsize=20, fontweight=\"bold\")\n",
    "\n",
    "fig.set_size_inches(15, 7)\n",
    "fig.suptitle(f'\"Haplotypes\" of the {len(mps)} mutated positions in CAMP Gene 1217', fontsize=25)\n",
    "fig.savefig(\"figs/g1217_haplotypes.png\", bbox_inches=\"tight\")"
   ]
  },
  {
   "cell_type": "markdown",
   "metadata": {},
   "source": [
    "## Assemble smoothed reads (multiple methods)\n",
    "\n",
    "This'll let us see which haplotype(s) show up in these assemblies!"
   ]
  },
  {
   "cell_type": "markdown",
   "metadata": {},
   "source": [
    "### metaFlye (default, and with `--keep-haplotypes`)"
   ]
  },
  {
   "cell_type": "code",
   "execution_count": 22,
   "metadata": {
    "execution": {
     "iopub.execute_input": "2022-04-11T02:32:16.831016Z",
     "iopub.status.busy": "2022-04-11T02:32:16.819169Z",
     "iopub.status.idle": "2022-04-11T04:55:10.280365Z",
     "shell.execute_reply": "2022-04-11T04:55:10.281114Z"
    },
    "scrolled": true
   },
   "outputs": [
    {
     "name": "stdout",
     "output_type": "stream",
     "text": [
      "[2022-04-10 19:32:16] INFO: Starting Flye 2.8.3-b1695\r\n",
      "[2022-04-10 19:32:16] INFO: >>>STAGE: configure\r\n",
      "[2022-04-10 19:32:16] INFO: Configuring run\r\n",
      "[2022-04-10 19:32:17] INFO: Total read length: 300814611\r\n",
      "[2022-04-10 19:32:17] INFO: Reads N50/N90: 12126 / 8546\r\n",
      "[2022-04-10 19:32:17] INFO: Minimum overlap set to 3000\r\n",
      "[2022-04-10 19:32:17] INFO: >>>STAGE: assembly\r\n",
      "[2022-04-10 19:32:17] INFO: Assembling disjointigs\r\n",
      "[2022-04-10 19:32:17] INFO: Reading sequences\r\n",
      "[2022-04-10 19:32:19] INFO: Building minimizer index\r\n",
      "[2022-04-10 19:32:19] INFO: Pre-calculating index storage\r\n",
      "0% 10% 20% 30% 40% 50% 60% 70% 80% 90% 100% \r\n",
      "[2022-04-10 19:32:31] INFO: Filling index\r\n",
      "0% 10% 20% 30% 40% 50% 60% 70% 80% 90% 100% \r\n",
      "[2022-04-10 20:25:28] INFO: Extending reads\r\n",
      "[2022-04-10 21:19:51] INFO: Overlap-based coverage: 4720\r\n",
      "[2022-04-10 21:19:51] INFO: Median overlap divergence: 0\r\n",
      "0% 90% 100% \r\n",
      "[2022-04-10 21:49:49] INFO: Assembled 1 disjointigs\r\n",
      "[2022-04-10 21:49:49] INFO: Generating sequence\r\n",
      "0% 10% 20% 30% 40% 50% 60% 70% 80% 90% 100% \r\n",
      "[2022-04-10 21:49:50] INFO: >>>STAGE: consensus\r\n",
      "[2022-04-10 21:49:50] INFO: Running Minimap2\r\n",
      "[2022-04-10 21:50:54] INFO: Computing consensus\r\n",
      "[2022-04-10 21:51:46] INFO: Alignment error rate: 0.000079\r\n",
      "[2022-04-10 21:51:46] INFO: >>>STAGE: repeat\r\n",
      "[2022-04-10 21:51:46] INFO: Building and resolving repeat graph\r\n",
      "[2022-04-10 21:51:46] INFO: Parsing disjointigs\r\n",
      "[2022-04-10 21:51:46] INFO: Building repeat graph\r\n",
      "0% 100% \r\n",
      "[2022-04-10 21:51:46] INFO: Median overlap divergence: 0\r\n",
      "[2022-04-10 21:51:46] INFO: Parsing reads\r\n",
      "[2022-04-10 21:51:48] INFO: Aligning reads to the graph\r\n",
      "0% 10% 20% 30% 40% 50% 60% 70% 80% 90% 100% \r\n",
      "[2022-04-10 21:52:47] INFO: Aligned read sequence: 300192067 / 300507418 (0.998951)\r\n",
      "[2022-04-10 21:52:47] INFO: Median overlap divergence: 0\r\n",
      "[2022-04-10 21:52:47] INFO: Mean edge coverage: 3262\r\n",
      "[2022-04-10 21:52:47] INFO: Simplifying the graph\r\n",
      "[2022-04-10 21:52:47] INFO: >>>STAGE: contigger\r\n",
      "[2022-04-10 21:52:47] INFO: Generating contigs\r\n",
      "[2022-04-10 21:52:47] INFO: Reading sequences\r\n",
      "[2022-04-10 21:52:49] INFO: Generated 1 contigs\r\n",
      "[2022-04-10 21:52:49] INFO: Added 0 scaffold connections\r\n",
      "[2022-04-10 21:52:49] INFO: >>>STAGE: polishing\r\n",
      "[2022-04-10 21:52:49] INFO: Polishing genome (1/1)\r\n",
      "[2022-04-10 21:52:49] INFO: Running minimap2\r\n",
      "[2022-04-10 21:53:52] INFO: Separating alignment into bubbles\r\n",
      "[2022-04-10 21:55:05] INFO: Alignment error rate: 0.000079\r\n",
      "[2022-04-10 21:55:05] INFO: Correcting bubbles\r\n",
      "0% 10% 20% 30% 40% 50% 60% 70% 80% 90% 100% \r\n",
      "[2022-04-10 21:55:10] INFO: >>>STAGE: finalize\r\n",
      "[2022-04-10 21:55:10] INFO: Assembly statistics:\r\n",
      "\r\n",
      "\tTotal length:\t91294\r\n",
      "\tFragments:\t1\r\n",
      "\tFragments N50:\t91294\r\n",
      "\tLargest frg:\t91294\r\n",
      "\tScaffolds:\t0\r\n",
      "\tMean coverage:\t993\r\n",
      "\r\n",
      "[2022-04-10 21:55:10] INFO: Final assembly: /Poppy/mfedarko/sheepgut/notebooks/phasing-data/smoothed-reads/camp_g1217/metaflye/assembly.fasta\r\n"
     ]
    }
   ],
   "source": [
    "!flye --pacbio-hifi phasing-data/smoothed-reads/camp_g1217/sr.fasta \\\n",
    "    --meta \\\n",
    "    --out-dir phasing-data/smoothed-reads/camp_g1217/metaflye"
   ]
  },
  {
   "cell_type": "code",
   "execution_count": 23,
   "metadata": {
    "execution": {
     "iopub.execute_input": "2022-04-11T04:55:10.302502Z",
     "iopub.status.busy": "2022-04-11T04:55:10.289778Z",
     "iopub.status.idle": "2022-04-11T07:19:42.898074Z",
     "shell.execute_reply": "2022-04-11T07:19:42.898752Z"
    },
    "scrolled": true
   },
   "outputs": [
    {
     "name": "stdout",
     "output_type": "stream",
     "text": [
      "[2022-04-10 21:55:10] INFO: Starting Flye 2.8.3-b1695\r\n",
      "[2022-04-10 21:55:10] INFO: >>>STAGE: configure\r\n",
      "[2022-04-10 21:55:10] INFO: Configuring run\r\n",
      "[2022-04-10 21:55:11] INFO: Total read length: 300814611\r\n",
      "[2022-04-10 21:55:11] INFO: Reads N50/N90: 12126 / 8546\r\n",
      "[2022-04-10 21:55:11] INFO: Minimum overlap set to 3000\r\n",
      "[2022-04-10 21:55:11] INFO: >>>STAGE: assembly\r\n",
      "[2022-04-10 21:55:11] INFO: Assembling disjointigs\r\n",
      "[2022-04-10 21:55:11] INFO: Reading sequences\r\n",
      "[2022-04-10 21:55:12] INFO: Building minimizer index\r\n",
      "[2022-04-10 21:55:12] INFO: Pre-calculating index storage\r\n",
      "0% 10% 20% 30% 40% 50% 60% 70% 80% 90% 100% \r\n",
      "[2022-04-10 21:55:24] INFO: Filling index\r\n",
      "0% 10% 20% 30% 40% 50% 60% 70% 80% 90% 100% \r\n",
      "[2022-04-10 22:49:32] INFO: Extending reads\r\n",
      "[2022-04-10 23:44:14] INFO: Overlap-based coverage: 4720\r\n",
      "[2022-04-10 23:44:14] INFO: Median overlap divergence: 0\r\n",
      "0% 90% 100% \r\n",
      "[2022-04-11 00:14:24] INFO: Assembled 1 disjointigs\r\n",
      "[2022-04-11 00:14:24] INFO: Generating sequence\r\n",
      "0% 10% 20% 30% 40% 50% 60% 70% 80% 90% 100% \r\n",
      "[2022-04-11 00:14:24] INFO: >>>STAGE: consensus\r\n",
      "[2022-04-11 00:14:24] INFO: Running Minimap2\r\n",
      "[2022-04-11 00:15:27] INFO: Computing consensus\r\n",
      "[2022-04-11 00:16:19] INFO: Alignment error rate: 0.000079\r\n",
      "[2022-04-11 00:16:19] INFO: >>>STAGE: repeat\r\n",
      "[2022-04-11 00:16:19] INFO: Building and resolving repeat graph\r\n",
      "[2022-04-11 00:16:19] INFO: Parsing disjointigs\r\n",
      "[2022-04-11 00:16:19] INFO: Building repeat graph\r\n",
      "0% 100% \r\n",
      "[2022-04-11 00:16:19] INFO: Median overlap divergence: 0\r\n",
      "[2022-04-11 00:16:19] INFO: Parsing reads\r\n",
      "[2022-04-11 00:16:20] INFO: Aligning reads to the graph\r\n",
      "0% 10% 20% 30% 40% 50% 60% 70% 80% 90% 100% \r\n",
      "[2022-04-11 00:17:20] INFO: Aligned read sequence: 300192067 / 300507418 (0.998951)\r\n",
      "[2022-04-11 00:17:20] INFO: Median overlap divergence: 0\r\n",
      "[2022-04-11 00:17:20] INFO: Mean edge coverage: 3262\r\n",
      "[2022-04-11 00:17:20] INFO: Simplifying the graph\r\n",
      "[2022-04-11 00:17:20] INFO: >>>STAGE: contigger\r\n",
      "[2022-04-11 00:17:20] INFO: Generating contigs\r\n",
      "[2022-04-11 00:17:20] INFO: Reading sequences\r\n",
      "[2022-04-11 00:17:22] INFO: Generated 1 contigs\r\n",
      "[2022-04-11 00:17:22] INFO: >>>STAGE: polishing\r\n",
      "[2022-04-11 00:17:22] INFO: Polishing genome (1/1)\r\n",
      "[2022-04-11 00:17:22] INFO: Running minimap2\r\n",
      "[2022-04-11 00:18:26] INFO: Separating alignment into bubbles\r\n",
      "[2022-04-11 00:19:37] INFO: Alignment error rate: 0.000079\r\n",
      "[2022-04-11 00:19:37] INFO: Correcting bubbles\r\n",
      "0% 10% 20% 30% 40% 50% 60% 70% 80% 90% 100% \r\n",
      "[2022-04-11 00:19:42] INFO: >>>STAGE: finalize\r\n",
      "[2022-04-11 00:19:42] INFO: Assembly statistics:\r\n",
      "\r\n",
      "\tTotal length:\t91294\r\n",
      "\tFragments:\t1\r\n",
      "\tFragments N50:\t91294\r\n",
      "\tLargest frg:\t91294\r\n",
      "\tScaffolds:\t0\r\n",
      "\tMean coverage:\t993\r\n",
      "\r\n",
      "[2022-04-11 00:19:42] INFO: Final assembly: /Poppy/mfedarko/sheepgut/notebooks/phasing-data/smoothed-reads/camp_g1217/metaflye_keephaps/assembly.fasta\r\n"
     ]
    }
   ],
   "source": [
    "!flye --pacbio-hifi phasing-data/smoothed-reads/camp_g1217/sr.fasta \\\n",
    "    --meta \\\n",
    "    --keep-haplotypes \\\n",
    "    --out-dir phasing-data/smoothed-reads/camp_g1217/metaflye_keephaps"
   ]
  },
  {
   "cell_type": "markdown",
   "metadata": {},
   "source": [
    "### Just jumboDBG ($k$ = 5,001)"
   ]
  },
  {
   "cell_type": "code",
   "execution_count": 24,
   "metadata": {
    "execution": {
     "iopub.execute_input": "2022-04-11T07:19:42.908883Z",
     "iopub.status.busy": "2022-04-11T07:19:42.908056Z",
     "iopub.status.idle": "2022-04-11T07:19:47.937075Z",
     "shell.execute_reply": "2022-04-11T07:19:47.937745Z"
    },
    "scrolled": true
   },
   "outputs": [
    {
     "name": "stdout",
     "output_type": "stream",
     "text": [
      "00:00:00 305Mb  INFO: Hello! You are running jumboDBG, a tool for construction of de Bruijn graphs for arbitrarily large values of k\r\n",
      "00:00:00 305Mb  INFO: Note that jumboDBG does not perform any error correction and ignores all reads shorter than k + w = 7001\r\n",
      "00:00:00 0Mb  INFO: Reading reads\r\n",
      "00:00:00 0Mb  INFO: Extracting minimizers\r\n",
      "00:00:01 318Mb  INFO: Finished read processing\r\n",
      "00:00:01 318Mb  INFO: 130495 hashs collected. Starting sorting.\r\n",
      "00:00:01 318Mb  INFO: Finished sorting. Total distinct minimizers: 138\r\n",
      "00:00:01 318Mb  INFO: Starting construction of sparse de Bruijn graph\r\n",
      "00:00:01 318Mb  INFO: Vertex map constructed.\r\n",
      "00:00:01 318Mb  INFO: Filling edge sequences.\r\n",
      "00:00:03 319Mb  INFO: Finished sparse de Bruijn graph construction.\r\n",
      "00:00:03 319Mb  INFO:  Collecting tips \r\n",
      "00:00:03 319Mb  INFO: Added 14 artificial minimizers from tips.\r\n",
      "00:00:03 319Mb  INFO: Collected 282 old edges.\r\n",
      "00:00:03 319Mb  INFO: New minimizers added to sparse graph.\r\n",
      "00:00:03 319Mb  INFO: Refilling graph with old edges.\r\n",
      "00:00:03 319Mb  INFO: Filling graph with new edges.\r\n",
      "00:00:03 319Mb  INFO: Finished fixing sparse de Bruijn graph.\r\n",
      "00:00:03 319Mb  INFO: Starting to extract disjointigs.\r\n",
      "00:00:03 319Mb  INFO: Finished extracting 25 disjointigs of total size 271849\r\n",
      "00:00:03 305Mb  INFO: Loading disjointigs from file \"phasing-data/smoothed-reads/camp_g1217/jumbodbg_k5001/disjointigs.fasta\"\r\n",
      "00:00:03 305Mb  INFO: Filling bloom filter with k+1-mers.\r\n",
      "00:00:03 305Mb  INFO: Filled 679604 bits out of 4698368\r\n",
      "00:00:03 305Mb  INFO: Finished filling bloom filter. Selecting junctions.\r\n",
      "00:00:03 305Mb  INFO: Collected 96 junctions.\r\n",
      "00:00:03 305Mb  INFO: Starting DBG construction.\r\n",
      "00:00:03 305Mb  INFO: Vertices created.\r\n",
      "00:00:03 305Mb  INFO: Filled dbg edges. Adding hanging vertices \r\n",
      "00:00:03 305Mb  INFO: Added 0 hanging vertices\r\n",
      "00:00:03 305Mb  INFO: Merging unbranching paths\r\n",
      "00:00:03 305Mb  INFO: Ended merging edges. Resulting size 34\r\n",
      "00:00:03 305Mb  INFO: Calculating edge coverage.\r\n",
      "00:00:03 305Mb  INFO: Starting to fill edge coverages\r\n",
      "00:00:04 316Mb  INFO: Edge coverage calculated.\r\n",
      "00:00:04 316Mb  INFO: Printing graph to fasta file \"phasing-data/smoothed-reads/camp_g1217/jumbodbg_k5001/graph.fasta\"\r\n",
      "00:00:04 316Mb  INFO: Printing graph to gfa file \"phasing-data/smoothed-reads/camp_g1217/jumbodbg_k5001/graph.gfa\"\r\n",
      "00:00:04 316Mb  INFO: Printing graph to dot file \"phasing-data/smoothed-reads/camp_g1217/jumbodbg_k5001/graph.dot\"\r\n",
      "00:00:04 316Mb  INFO: DBG construction finished\r\n",
      "00:00:04 316Mb  INFO: Please cite our paper if you use jumboDBG in your research: https://www.biorxiv.org/content/10.1101/2020.12.10.420448\r\n"
     ]
    }
   ],
   "source": [
    "!/home/mfedarko/software/LJA-branch/bin/jumboDBG \\\n",
    "    --reads phasing-data/smoothed-reads/camp_g1217/sr.fasta \\\n",
    "    -k 5001 \\\n",
    "    --coverage \\\n",
    "    --output-dir phasing-data/smoothed-reads/camp_g1217/jumbodbg_k5001"
   ]
  },
  {
   "cell_type": "markdown",
   "metadata": {},
   "source": [
    "### LJA (with error correction; with no error correction; with a simple coverage filter)"
   ]
  },
  {
   "cell_type": "code",
   "execution_count": 25,
   "metadata": {
    "execution": {
     "iopub.execute_input": "2022-04-11T07:19:47.957935Z",
     "iopub.status.busy": "2022-04-11T07:19:47.946382Z",
     "iopub.status.idle": "2022-04-11T07:20:17.906991Z",
     "shell.execute_reply": "2022-04-11T07:20:17.907615Z"
    }
   },
   "outputs": [
    {
     "name": "stdout",
     "output_type": "stream",
     "text": [
      "00:00:00 305Mb  INFO: Hello! You are running La Jolla Assembler (LJA), a tool for genome assembly from PacBio HiFi reads\r\n",
      "00:00:11 305Mb  INFO: 007ba931cbbf0218b4524edafe6c3bd5cac9003f\r\n",
      "00:00:11 305Mb  INFO: LJA pipeline started\r\n",
      "00:00:11 305Mb  INFO: Performing initial correction with k = 501\r\n",
      "00:00:11 0Mb  INFO: Reading reads\r\n",
      "00:00:11 0Mb  INFO: Extracting minimizers\r\n",
      "00:00:13 319Mb  INFO: Finished read processing\r\n",
      "00:00:13 319Mb  INFO: 172478 hashs collected. Starting sorting.\r\n",
      "00:00:13 320Mb  INFO: Finished sorting. Total distinct minimizers: 79\r\n",
      "00:00:13 320Mb  INFO: Starting construction of sparse de Bruijn graph\r\n",
      "00:00:13 320Mb  INFO: Vertex map constructed.\r\n",
      "00:00:13 320Mb  INFO: Filling edge sequences.\r\n",
      "00:00:15 320Mb  INFO: Finished sparse de Bruijn graph construction.\r\n",
      "00:00:15 320Mb  INFO:  Collecting tips \r\n",
      "00:00:15 320Mb  INFO: Added 3 artificial minimizers from tips.\r\n",
      "00:00:15 320Mb  INFO: Collected 182 old edges.\r\n",
      "00:00:15 320Mb  INFO: New minimizers added to sparse graph.\r\n",
      "00:00:15 320Mb  INFO: Refilling graph with old edges.\r\n",
      "00:00:15 320Mb  INFO: Filling graph with new edges.\r\n",
      "00:00:15 320Mb  INFO: Finished fixing sparse de Bruijn graph.\r\n",
      "00:00:15 320Mb  INFO: Starting to extract disjointigs.\r\n",
      "00:00:15 320Mb  INFO: Finished extracting 20 disjointigs of total size 84750\r\n",
      "00:00:15 0Mb  INFO: Loading disjointigs from file \"phasing-data/smoothed-reads/camp_g1217/lja_withec/k501/disjointigs.fasta\"\r\n",
      "00:00:15 4Mb  INFO: Filling bloom filter with k+1-mers.\r\n",
      "00:00:15 4Mb  INFO: Filled 345890 bits out of 2391360\r\n",
      "00:00:15 4Mb  INFO: Finished filling bloom filter. Selecting junctions.\r\n",
      "00:00:15 4Mb  INFO: Collected 58 junctions.\r\n",
      "00:00:15 4Mb  INFO: Starting DBG construction.\r\n",
      "00:00:15 4Mb  INFO: Vertices created.\r\n",
      "00:00:15 4Mb  INFO: Filled dbg edges. Adding hanging vertices \r\n",
      "00:00:15 4Mb  INFO: Added 0 hanging vertices\r\n",
      "00:00:15 4Mb  INFO: Merging unbranching paths\r\n",
      "00:00:15 4Mb  INFO: Ended merging edges. Resulting size 30\r\n",
      "00:00:15 4Mb  INFO: Cleaning edge coverages\r\n",
      "00:00:15 4Mb  INFO: Collecting alignments of sequences to the graph\r\n",
      "00:00:16 322Mb  INFO: Alignment collection finished. Total length of alignments is 66154\r\n",
      "00:00:16 322Mb  INFO: Precorrecting reads\r\n",
      "00:00:16 322Mb  INFO: Applying corrections to reads\r\n",
      "00:00:16 322Mb  INFO: Applied correction to 4 reads\r\n",
      "00:00:16 322Mb  INFO: Corrected simple errors in 4 reads\r\n",
      "00:00:16 322Mb  INFO: Applying changes to the graph\r\n",
      "00:00:17 330Mb  INFO: Collecting and storing read suffixes\r\n",
      "00:00:17 330Mb  INFO: Correcting dinucleotide errors in reads\r\n",
      "00:00:17 330Mb  INFO: Applying corrections to reads\r\n",
      "00:00:17 330Mb  INFO: Applied correction to 1 reads\r\n",
      "00:00:17 330Mb  INFO: Corrected 1 dinucleotide sequences\r\n",
      "00:00:17 330Mb  INFO: Marking reliable edges\r\n",
      "00:00:17 330Mb  INFO: Marked 0 edges in 0 paths as reliable\r\n",
      "00:00:17 330Mb  INFO: Correcting low covered regions in reads with K = 800\r\n",
      "00:00:17 330Mb  INFO: Applying corrections to reads\r\n",
      "00:00:17 330Mb  INFO: Applied correction to 4 reads\r\n",
      "00:00:17 330Mb  INFO: Corrected low covered regions in 4 reads with K = 800\r\n",
      "00:00:17 330Mb  INFO: Applying changes to the graph\r\n",
      "00:00:17 330Mb  INFO: Marking reliable edges\r\n",
      "00:00:17 330Mb  INFO: Marked 0 edges in 0 paths as reliable\r\n",
      "00:00:17 330Mb  INFO: Correcting low covered regions in reads with K = 2000\r\n",
      "00:00:17 330Mb  INFO: Applying corrections to reads\r\n",
      "00:00:17 330Mb  INFO: Applied correction to 0 reads\r\n",
      "00:00:17 330Mb  INFO: Corrected low covered regions in 0 reads with K = 2000\r\n",
      "00:00:17 330Mb  INFO: Applying changes to the graph\r\n",
      "00:00:17 330Mb  INFO: Correcting dinucleotide errors in reads\r\n",
      "00:00:17 330Mb  INFO: Applying corrections to reads\r\n",
      "00:00:17 330Mb  INFO: Applied correction to 0 reads\r\n",
      "00:00:17 330Mb  INFO: Corrected 0 dinucleotide sequences\r\n",
      "00:00:17 330Mb  INFO: Marking reliable edges\r\n",
      "00:00:17 330Mb  INFO: Marked 0 edges in 0 paths as reliable\r\n",
      "00:00:17 330Mb  INFO: Correcting low covered regions in reads\r\n",
      "00:00:17 331Mb  INFO: Applying corrections to reads\r\n",
      "00:00:17 331Mb  INFO: Applied correction to 1 reads\r\n",
      "00:00:17 331Mb  INFO: Corrected low covered regions in 4 reads\r\n",
      "00:00:17 331Mb  INFO: Marking reliable edges\r\n",
      "00:00:17 331Mb  INFO: Marked 0 edges in 0 paths as reliable\r\n",
      "00:00:17 331Mb  INFO: Correcting low covered regions in reads with K = 3500\r\n",
      "00:00:17 331Mb  INFO: Applying corrections to reads\r\n",
      "00:00:17 331Mb  INFO: Applied correction to 0 reads\r\n",
      "00:00:17 331Mb  INFO: Corrected low covered regions in 0 reads with K = 3500\r\n",
      "00:00:17 331Mb  INFO: Applying changes to the graph\r\n",
      "00:00:17 331Mb  INFO: Printing reads to fasta file \"phasing-data/smoothed-reads/camp_g1217/lja_withec/k501/corrected.fasta\"\r\n",
      "00:00:19 305Mb  INFO: Initial correction results with k = 501 printed to \"phasing-data/smoothed-reads/camp_g1217/lja_withec/k501/corrected.fasta\"\r\n",
      "00:00:19 305Mb  INFO: Performing second phase of error correction using k = 5001\r\n",
      "00:00:19 0Mb  INFO: Reading reads\r\n",
      "00:00:19 0Mb  INFO: Extracting minimizers\r\n",
      "00:00:20 226Mb  INFO: Finished read processing\r\n",
      "00:00:20 226Mb  INFO: 303026 hashs collected. Starting sorting.\r\n",
      "00:00:20 226Mb  INFO: Finished sorting. Total distinct minimizers: 318\r\n",
      "00:00:20 226Mb  INFO: Starting construction of sparse de Bruijn graph\r\n",
      "00:00:20 226Mb  INFO: Vertex map constructed.\r\n",
      "00:00:20 226Mb  INFO: Filling edge sequences.\r\n",
      "00:00:21 230Mb  INFO: Finished sparse de Bruijn graph construction.\r\n",
      "00:00:21 230Mb  INFO:  Collecting tips \r\n",
      "00:00:21 230Mb  INFO: Added 5 artificial minimizers from tips.\r\n",
      "00:00:21 230Mb  INFO: Collected 638 old edges.\r\n",
      "00:00:21 230Mb  INFO: New minimizers added to sparse graph.\r\n",
      "00:00:21 230Mb  INFO: Refilling graph with old edges.\r\n",
      "00:00:21 230Mb  INFO: Filling graph with new edges.\r\n",
      "00:00:21 230Mb  INFO: Finished fixing sparse de Bruijn graph.\r\n",
      "00:00:21 230Mb  INFO: Starting to extract disjointigs.\r\n",
      "00:00:21 230Mb  INFO: Finished extracting 9 disjointigs of total size 126888\r\n",
      "00:00:21 0Mb  INFO: Loading disjointigs from file \"phasing-data/smoothed-reads/camp_g1217/lja_withec/k5001/disjointigs.fasta\"\r\n",
      "00:00:21 4Mb  INFO: Filling bloom filter with k+1-mers.\r\n",
      "00:00:21 4Mb  INFO: Filled 379088 bits out of 2620128\r\n",
      "00:00:21 4Mb  INFO: Finished filling bloom filter. Selecting junctions.\r\n",
      "00:00:21 4Mb  INFO: Collected 41 junctions.\r\n",
      "00:00:21 4Mb  INFO: Starting DBG construction.\r\n",
      "00:00:21 4Mb  INFO: Vertices created.\r\n",
      "00:00:21 4Mb  INFO: Filled dbg edges. Adding hanging vertices \r\n",
      "00:00:21 4Mb  INFO: Added 0 hanging vertices\r\n",
      "00:00:21 4Mb  INFO: Merging unbranching paths\r\n",
      "00:00:21 4Mb  INFO: Ended merging edges. Resulting size 12\r\n",
      "00:00:21 4Mb  INFO: Cleaning edge coverages\r\n",
      "00:00:21 4Mb  INFO: Collecting alignments of sequences to the graph\r\n",
      "00:00:21 4Mb  INFO: Storing suffixes of read paths of length up to 10000000\r\n",
      "00:00:22 226Mb  INFO: Alignment collection finished. Total length of alignments is 30001\r\n",
      "00:00:22 226Mb  INFO: Correcting dinucleotide errors in reads\r\n",
      "00:00:22 226Mb  INFO: Applying corrections to reads\r\n",
      "00:00:22 226Mb  INFO: Applied correction to 0 reads\r\n",
      "00:00:22 226Mb  INFO: Corrected 0 dinucleotide sequences\r\n",
      "00:00:22 226Mb  INFO: Marking reliable edges\r\n",
      "00:00:22 226Mb  INFO: Marked 0 edges in 0 paths as reliable\r\n",
      "00:00:22 226Mb  INFO: Correcting low covered regions in reads\r\n",
      "00:00:22 226Mb  INFO: Applying corrections to reads\r\n",
      "00:00:22 226Mb  INFO: Applied correction to 3 reads\r\n",
      "00:00:22 226Mb  INFO: Corrected low covered regions in 3 reads\r\n",
      "00:00:22 226Mb  INFO: Collapsing bulges\r\n",
      "00:00:22 226Mb  INFO: Applying corrections to reads\r\n",
      "00:00:22 226Mb  INFO: Applied correction to 0 reads\r\n",
      "00:00:22 226Mb  INFO: Collapsed bulges in 0 reads\r\n",
      "00:00:22 226Mb  INFO: Applying changes to the graph\r\n",
      "00:00:22 237Mb  INFO: Running second round of error correction\r\n",
      "00:00:22 237Mb  INFO: Correcting dinucleotide errors in reads\r\n",
      "00:00:22 237Mb  INFO: Applying corrections to reads\r\n",
      "00:00:22 237Mb  INFO: Applied correction to 0 reads\r\n",
      "00:00:22 237Mb  INFO: Corrected 0 dinucleotide sequences\r\n",
      "00:00:22 237Mb  INFO: Correcting dinucleotide errors in reads\r\n",
      "00:00:22 237Mb  INFO: Applying corrections to reads\r\n",
      "00:00:22 237Mb  INFO: Applied correction to 0 reads\r\n",
      "00:00:22 237Mb  INFO: Corrected 0 dinucleotide sequences\r\n",
      "00:00:22 237Mb  INFO: Marking reliable edges\r\n",
      "00:00:22 237Mb  INFO: Marked 0 edges in 0 paths as reliable\r\n",
      "00:00:22 237Mb  INFO: Correcting low covered regions in reads\r\n",
      "00:00:22 237Mb  INFO: Applying corrections to reads\r\n",
      "00:00:22 237Mb  INFO: Applied correction to 0 reads\r\n",
      "00:00:22 237Mb  INFO: Corrected low covered regions in 0 reads\r\n",
      "00:00:22 237Mb  INFO: Correcting dinucleotide errors in reads\r\n",
      "00:00:22 237Mb  INFO: Applying corrections to reads\r\n",
      "00:00:22 237Mb  INFO: Applied correction to 0 reads\r\n",
      "00:00:22 237Mb  INFO: Corrected 0 dinucleotide sequences\r\n",
      "00:00:22 237Mb  INFO: Remarking reliable edges\r\n",
      "00:00:22 237Mb  INFO: Correcting tips using reliable edge marks\r\n",
      "00:00:22 237Mb  INFO: Applying corrections to reads\r\n",
      "00:00:22 237Mb  INFO: Applied correction to 0 reads\r\n",
      "00:00:22 237Mb  INFO: Collapsing bulges\r\n",
      "00:00:22 237Mb  INFO: Applying corrections to reads\r\n",
      "00:00:22 237Mb  INFO: Applied correction to 0 reads\r\n",
      "00:00:22 237Mb  INFO: Collapsed bulges in 2 reads\r\n",
      "00:00:22 237Mb  INFO: Applying changes to the graph\r\n",
      "00:00:22 237Mb  INFO: Started gap closing procedure\r\n",
      "00:00:22 238Mb  INFO: Found 0 potential overlaps. Aligning.\r\n",
      "00:00:22 238Mb  INFO: Collected 0 overlaps. Looking for unique overlaps\r\n",
      "00:00:22 238Mb  INFO: Collected 0 unique overlaps.\r\n",
      "00:00:22 238Mb  INFO: Could not correct 5 reads. They will be removed.\r\n",
      "00:00:22 238Mb  INFO: Uncorrected reads were removed.\r\n",
      "00:00:22 238Mb  INFO: Applying changes to the graph\r\n",
      "00:00:22 238Mb  INFO: Looking for unique edges\r\n",
      "00:00:22 238Mb  INFO: Marked 2 long edges as unique\r\n",
      "00:00:22 238Mb  INFO: Marking extra edges as unique based on read paths\r\n",
      "00:00:22 238Mb  INFO: Marked 2 edges as unique\r\n",
      "00:00:22 238Mb  INFO: Splitting graph with unique edges\r\n",
      "00:00:22 238Mb  INFO: Processing 3 components\r\n",
      "00:00:22 238Mb  INFO: Finished unique edges search. Found 4 unique edges\r\n",
      "00:00:22 238Mb  INFO: Analysing repeats of multiplicity 2 and looking for additional unique edges\r\n",
      "00:00:22 238Mb  INFO: Finished processing of repeats of multiplicity 2. Found 0 erroneous edges.\r\n",
      "00:00:22 238Mb  INFO: Correcting reads using unique edge extensions\r\n",
      "00:00:22 238Mb  INFO: Applying corrections to reads\r\n",
      "00:00:22 238Mb  INFO: Applied correction to 497 reads\r\n",
      "00:00:22 238Mb  INFO: Collecting bad edges\r\n",
      "00:00:22 238Mb  INFO: Removed 3 disconnected edges\r\n",
      "00:00:22 238Mb  INFO: Could not correct 41 reads. They will be removed.\r\n",
      "00:00:22 238Mb  INFO: Uncorrected reads were removed.\r\n",
      "00:00:22 238Mb  INFO: Looking for more unique edges\r\n",
      "00:00:22 238Mb  INFO: Finished unique edges search. Found 3 unique edges\r\n",
      "00:00:22 238Mb  INFO: Looking for more unique edges\r\n",
      "00:00:22 238Mb  INFO: Finished unique edges search. Found 3 unique edges\r\n",
      "00:00:22 238Mb  INFO: Correcting reads using unique edge extensions\r\n",
      "00:00:22 238Mb  INFO: Applying corrections to reads\r\n",
      "00:00:22 238Mb  INFO: Applied correction to 0 reads\r\n",
      "00:00:22 238Mb  INFO: Collecting bad edges\r\n",
      "00:00:22 238Mb  INFO: Removed 4 disconnected edges\r\n",
      "00:00:22 238Mb  INFO: Could not correct 129 reads. They will be removed.\r\n",
      "00:00:22 238Mb  INFO: Uncorrected reads were removed.\r\n",
      "00:00:22 238Mb  INFO: Attempting to rescue small circular highly covered components\r\n",
      "00:00:22 238Mb  INFO: Could not correct 0 reads. They will be removed.\r\n",
      "00:00:22 238Mb  INFO: Uncorrected reads were removed.\r\n",
      "00:00:22 238Mb  INFO: Rescued 0 circular highly covered components\r\n",
      "00:00:22 238Mb  INFO: Applying changes to the graph\r\n",
      "00:00:22 238Mb  INFO: Started gap closing procedure\r\n",
      "00:00:22 238Mb  INFO: Found 0 potential overlaps. Aligning.\r\n",
      "00:00:22 238Mb  INFO: Collected 0 overlaps. Looking for unique overlaps\r\n",
      "00:00:22 238Mb  INFO: Collected 0 unique overlaps.\r\n",
      "00:00:23 238Mb  INFO: Printing reads to fasta file \"phasing-data/smoothed-reads/camp_g1217/lja_withec/k5001/corrected_reads.fasta\"\r\n",
      "00:00:24 305Mb  INFO: Second phase results with k = 5001 printed to \"phasing-data/smoothed-reads/camp_g1217/lja_withec/k5001/corrected_reads.fasta\"\r\n",
      "00:00:24 305Mb  INFO: Performing repeat resolution by transforming de Bruijn graph into Multiplex de Bruijn graph\r\n",
      "00:00:24 0Mb  INFO: Loading graph from fasta\r\n",
      "00:00:24 4Mb  INFO: Finished loading graph\r\n",
      "00:00:24 12Mb  INFO: Looking for unique edges\r\n",
      "00:00:24 12Mb  INFO: Marked 2 long edges as unique\r\n",
      "00:00:24 12Mb  INFO: Marking extra edges as unique based on read paths\r\n",
      "00:00:24 12Mb  INFO: Marked 2 edges as unique\r\n",
      "00:00:24 12Mb  INFO: Splitting graph with unique edges\r\n",
      "00:00:24 12Mb  INFO: Processing 2 components\r\n",
      "00:00:24 12Mb  INFO: Finished unique edges search. Found 2 unique edges\r\n",
      "00:00:24 12Mb  INFO: Analysing repeats of multiplicity 2 and looking for additional unique edges\r\n",
      "00:00:24 12Mb  INFO: Finished processing of repeats of multiplicity 2. Found 0 erroneous edges.\r\n",
      "00:00:24 12Mb  INFO: Resolving repeats\r\n",
      "00:00:24 12Mb  INFO: Constructing paths\r\n",
      "00:00:25 20Mb  INFO: Building graph\r\n",
      "00:00:25 20Mb  INFO: Increasing k\r\n",
      "00:00:25 20Mb  INFO: Finished increasing k\r\n",
      "00:00:25 20Mb  INFO: Exporting remaining active transitions\r\n",
      "00:00:25 20Mb  INFO: Export to Dot\r\n",
      "00:00:25 20Mb  INFO: Export to GFA and compressed contigs\r\n",
      "00:00:25 21Mb  INFO: Finished repeat resolution\r\n",
      "00:00:25 305Mb  INFO: Performing polishing and homopolymer uncompression\r\n",
      "00:00:25 3Mb  INFO: Aligning reads back to assembly\r\n",
      "00:00:26 215Mb  INFO: Finished alignment.\r\n",
      "00:00:26 215Mb  INFO: Printing alignments to \"phasing-data/smoothed-reads/camp_g1217/lja_withec/uncompressing/alignments.txt\"\r\n",
      "00:00:26 215Mb  INFO: Reading and processing initial reads from [\"phasing-data/smoothed-reads/camp_g1217/sr.fasta\"]\r\n",
      "00:00:29 326Mb  INFO: Uncompressing homopolymers in contigs\r\n",
      "00:00:29 326Mb  INFO: Total zero covered nucleotides 0\r\n",
      "00:00:29 326Mb  INFO: Calculating overlaps between adjacent uncompressed edges\r\n",
      "00:00:29 326Mb  INFO: Printing final gfa file to \"phasing-data/smoothed-reads/camp_g1217/lja_withec/mdbg.gfa\"\r\n",
      "00:00:29 326Mb  INFO: Printing final assembly to \"phasing-data/smoothed-reads/camp_g1217/lja_withec/assembly.fasta\"\r\n",
      "00:00:29 305Mb  INFO: Final homopolymer compressed and corrected reads can be found here: \"phasing-data/smoothed-reads/camp_g1217/lja_withec/k5001/corrected_reads.fasta\"\r\n",
      "00:00:29 305Mb  INFO: Final graph with homopolymer compressed edges can be found here: \"phasing-data/smoothed-reads/camp_g1217/lja_withec/mdbg/mdbg.hpc.gfa\"\r\n",
      "00:00:29 305Mb  INFO: Final graph can be found here: \"phasing-data/smoothed-reads/camp_g1217/lja_withec/mdbg.gfa\"\r\n",
      "00:00:29 305Mb  INFO: Final assembly can be found here: \"phasing-data/smoothed-reads/camp_g1217/lja_withec/assembly.fasta\"\r\n",
      "00:00:29 305Mb  INFO: LJA pipeline finished\r\n"
     ]
    }
   ],
   "source": [
    "# Default: with error correction\n",
    "!/home/mfedarko/software/LJA-branch/bin/lja \\\n",
    "    --reads phasing-data/smoothed-reads/camp_g1217/sr.fasta \\\n",
    "    --output-dir phasing-data/smoothed-reads/camp_g1217/lja_withec"
   ]
  },
  {
   "cell_type": "code",
   "execution_count": 26,
   "metadata": {
    "execution": {
     "iopub.execute_input": "2022-04-11T07:20:17.926525Z",
     "iopub.status.busy": "2022-04-11T07:20:17.916113Z",
     "iopub.status.idle": "2022-04-11T07:20:46.369674Z",
     "shell.execute_reply": "2022-04-11T07:20:46.370290Z"
    }
   },
   "outputs": [
    {
     "name": "stdout",
     "output_type": "stream",
     "text": [
      "00:00:00 305Mb  INFO: Hello! You are running La Jolla Assembler (LJA), a tool for genome assembly from PacBio HiFi reads\r\n",
      "00:00:11 305Mb  INFO: 007ba931cbbf0218b4524edafe6c3bd5cac9003f\r\n",
      "00:00:11 305Mb  INFO: LJA pipeline started\r\n",
      "00:00:11 305Mb  INFO: Performing initial correction with k = 5001\r\n",
      "00:00:11 0Mb  INFO: Reading reads\r\n",
      "00:00:11 0Mb  INFO: Extracting minimizers\r\n",
      "00:00:12 321Mb  INFO: Finished read processing\r\n",
      "00:00:12 321Mb  INFO: 303041 hashs collected. Starting sorting.\r\n",
      "00:00:12 327Mb  INFO: Finished sorting. Total distinct minimizers: 397\r\n",
      "00:00:12 327Mb  INFO: Starting construction of sparse de Bruijn graph\r\n",
      "00:00:12 327Mb  INFO: Vertex map constructed.\r\n",
      "00:00:12 327Mb  INFO: Filling edge sequences.\r\n",
      "00:00:13 327Mb  INFO: Finished sparse de Bruijn graph construction.\r\n",
      "00:00:13 327Mb  INFO:  Collecting tips \r\n",
      "00:00:13 327Mb  INFO: Added 14 artificial minimizers from tips.\r\n",
      "00:00:13 327Mb  INFO: Collected 798 old edges.\r\n",
      "00:00:13 327Mb  INFO: New minimizers added to sparse graph.\r\n",
      "00:00:13 327Mb  INFO: Refilling graph with old edges.\r\n",
      "00:00:13 327Mb  INFO: Filling graph with new edges.\r\n",
      "00:00:13 327Mb  INFO: Finished fixing sparse de Bruijn graph.\r\n",
      "00:00:13 327Mb  INFO: Starting to extract disjointigs.\r\n",
      "00:00:13 327Mb  INFO: Finished extracting 23 disjointigs of total size 217851\r\n",
      "00:00:13 0Mb  INFO: Loading disjointigs from file \"phasing-data/smoothed-reads/camp_g1217/lja_noec/k5001/disjointigs.fasta\"\r\n",
      "00:00:13 4Mb  INFO: Filling bloom filter with k+1-mers.\r\n",
      "00:00:13 4Mb  INFO: Filled 475822 bits out of 3290496\r\n",
      "00:00:13 4Mb  INFO: Finished filling bloom filter. Selecting junctions.\r\n",
      "00:00:13 4Mb  INFO: Collected 71 junctions.\r\n",
      "00:00:13 4Mb  INFO: Starting DBG construction.\r\n",
      "00:00:13 4Mb  INFO: Vertices created.\r\n",
      "00:00:13 4Mb  INFO: Filled dbg edges. Adding hanging vertices \r\n",
      "00:00:13 4Mb  INFO: Added 0 hanging vertices\r\n",
      "00:00:13 4Mb  INFO: Merging unbranching paths\r\n",
      "00:00:13 4Mb  INFO: Ended merging edges. Resulting size 32\r\n",
      "00:00:13 4Mb  INFO: Cleaning edge coverages\r\n",
      "00:00:13 4Mb  INFO: Collecting alignments of sequences to the graph\r\n",
      "00:00:14 324Mb  INFO: Alignment collection finished. Total length of alignments is 35126\r\n",
      "00:00:14 324Mb  INFO: Printing reads to fasta file \"phasing-data/smoothed-reads/camp_g1217/lja_noec/k5001/corrected_reads.fasta\"\r\n",
      "00:00:16 305Mb  INFO: Performing repeat resolution by transforming de Bruijn graph into Multiplex de Bruijn graph\r\n",
      "00:00:16 0Mb  INFO: Loading graph from fasta\r\n",
      "00:00:16 4Mb  INFO: Finished loading graph\r\n",
      "00:00:16 12Mb  INFO: Looking for unique edges\r\n",
      "00:00:16 12Mb  INFO: Marked 2 long edges as unique\r\n",
      "00:00:16 12Mb  INFO: Marking extra edges as unique based on read paths\r\n",
      "00:00:16 12Mb  INFO: Marked 2 edges as unique\r\n",
      "00:00:16 12Mb  INFO: Splitting graph with unique edges\r\n",
      "00:00:16 12Mb  INFO: Processing 3 components\r\n",
      "00:00:16 12Mb  INFO: Finished unique edges search. Found 2 unique edges\r\n",
      "00:00:16 12Mb  INFO: Analysing repeats of multiplicity 2 and looking for additional unique edges\r\n",
      "00:00:16 12Mb  INFO: Finished processing of repeats of multiplicity 2. Found 0 erroneous edges.\r\n",
      "00:00:16 12Mb  INFO: Resolving repeats\r\n",
      "00:00:16 12Mb  INFO: Constructing paths\r\n",
      "00:00:16 23Mb  INFO: Building graph\r\n",
      "00:00:16 23Mb  INFO: Increasing k\r\n",
      "00:00:16 23Mb  INFO: Finished increasing k\r\n",
      "00:00:16 23Mb  INFO: Exporting remaining active transitions\r\n",
      "00:00:16 23Mb  INFO: Export to Dot\r\n",
      "00:00:16 23Mb  INFO: Export to GFA and compressed contigs\r\n",
      "00:00:17 24Mb  INFO: Finished repeat resolution\r\n",
      "00:00:17 305Mb  INFO: Performing polishing and homopolymer uncompression\r\n",
      "00:00:17 3Mb  INFO: Aligning reads back to assembly\r\n",
      "00:00:18 239Mb  INFO: Finished alignment.\r\n",
      "00:00:18 239Mb  INFO: Printing alignments to \"phasing-data/smoothed-reads/camp_g1217/lja_noec/uncompressing/alignments.txt\"\r\n",
      "00:00:18 239Mb  INFO: Reading and processing initial reads from [\"phasing-data/smoothed-reads/camp_g1217/sr.fasta\"]\r\n",
      "00:00:28 1.2Gb  INFO: Uncompressing homopolymers in contigs\r\n",
      "00:00:28 1.2Gb  INFO: Total zero covered nucleotides 0\r\n",
      "00:00:28 1.2Gb  INFO: Calculating overlaps between adjacent uncompressed edges\r\n",
      "00:00:28 1.2Gb  INFO: Printing final gfa file to \"phasing-data/smoothed-reads/camp_g1217/lja_noec/mdbg.gfa\"\r\n",
      "00:00:28 1.2Gb  INFO: Printing final assembly to \"phasing-data/smoothed-reads/camp_g1217/lja_noec/assembly.fasta\"\r\n",
      "00:00:28 305Mb  INFO: Final homopolymer compressed and corrected reads can be found here: \"phasing-data/smoothed-reads/camp_g1217/lja_noec/k5001/corrected_reads.fasta\"\r\n",
      "00:00:28 305Mb  INFO: Final graph with homopolymer compressed edges can be found here: \"phasing-data/smoothed-reads/camp_g1217/lja_noec/mdbg/mdbg.hpc.gfa\"\r\n",
      "00:00:28 305Mb  INFO: Final graph can be found here: \"phasing-data/smoothed-reads/camp_g1217/lja_noec/mdbg.gfa\"\r\n",
      "00:00:28 305Mb  INFO: Final assembly can be found here: \"phasing-data/smoothed-reads/camp_g1217/lja_noec/assembly.fasta\"\r\n",
      "00:00:28 305Mb  INFO: LJA pipeline finished\r\n"
     ]
    }
   ],
   "source": [
    "# No error correction\n",
    "!/home/mfedarko/software/LJA-branch/bin/lja \\\n",
    "    --reads phasing-data/smoothed-reads/camp_g1217/sr.fasta \\\n",
    "    --noec \\\n",
    "    --output-dir phasing-data/smoothed-reads/camp_g1217/lja_noec"
   ]
  },
  {
   "cell_type": "code",
   "execution_count": 27,
   "metadata": {
    "execution": {
     "iopub.execute_input": "2022-04-11T07:20:46.378408Z",
     "iopub.status.busy": "2022-04-11T07:20:46.377616Z",
     "iopub.status.idle": "2022-04-11T07:21:09.735777Z",
     "shell.execute_reply": "2022-04-11T07:21:09.736575Z"
    },
    "scrolled": true
   },
   "outputs": [
    {
     "name": "stdout",
     "output_type": "stream",
     "text": [
      "00:00:00 305Mb  INFO: Hello! You are running La Jolla Assembler (LJA), a tool for genome assembly from PacBio HiFi reads\r\n",
      "00:00:11 305Mb  INFO: 007ba931cbbf0218b4524edafe6c3bd5cac9003f\r\n",
      "00:00:11 305Mb  INFO: LJA pipeline started\r\n",
      "00:00:11 305Mb  INFO: Performing initial correction with k = 5001\r\n",
      "00:00:11 0Mb  INFO: Reading reads\r\n",
      "00:00:11 0Mb  INFO: Extracting minimizers\r\n",
      "00:00:12 320Mb  INFO: Finished read processing\r\n",
      "00:00:12 320Mb  INFO: 303041 hashs collected. Starting sorting.\r\n",
      "00:00:12 326Mb  INFO: Finished sorting. Total distinct minimizers: 397\r\n",
      "00:00:12 326Mb  INFO: Starting construction of sparse de Bruijn graph\r\n",
      "00:00:12 326Mb  INFO: Vertex map constructed.\r\n",
      "00:00:12 326Mb  INFO: Filling edge sequences.\r\n",
      "00:00:13 326Mb  INFO: Finished sparse de Bruijn graph construction.\r\n",
      "00:00:13 326Mb  INFO:  Collecting tips \r\n",
      "00:00:13 326Mb  INFO: Added 14 artificial minimizers from tips.\r\n",
      "00:00:13 326Mb  INFO: Collected 798 old edges.\r\n",
      "00:00:13 326Mb  INFO: New minimizers added to sparse graph.\r\n",
      "00:00:13 326Mb  INFO: Refilling graph with old edges.\r\n",
      "00:00:13 326Mb  INFO: Filling graph with new edges.\r\n",
      "00:00:13 326Mb  INFO: Finished fixing sparse de Bruijn graph.\r\n",
      "00:00:13 326Mb  INFO: Starting to extract disjointigs.\r\n",
      "00:00:13 326Mb  INFO: Finished extracting 23 disjointigs of total size 217851\r\n",
      "00:00:13 0Mb  INFO: Loading disjointigs from file \"phasing-data/smoothed-reads/camp_g1217/lja_covfilt_10x_mar15/k5001/disjointigs.fasta\"\r\n",
      "00:00:13 4Mb  INFO: Filling bloom filter with k+1-mers.\r\n",
      "00:00:13 4Mb  INFO: Filled 475822 bits out of 3290496\r\n",
      "00:00:13 4Mb  INFO: Finished filling bloom filter. Selecting junctions.\r\n",
      "00:00:13 4Mb  INFO: Collected 71 junctions.\r\n",
      "00:00:13 4Mb  INFO: Starting DBG construction.\r\n",
      "00:00:13 4Mb  INFO: Vertices created.\r\n",
      "00:00:13 4Mb  INFO: Filled dbg edges. Adding hanging vertices \r\n",
      "00:00:13 4Mb  INFO: Added 0 hanging vertices\r\n",
      "00:00:13 4Mb  INFO: Merging unbranching paths\r\n",
      "00:00:13 4Mb  INFO: Ended merging edges. Resulting size 32\r\n",
      "00:00:13 4Mb  INFO: Cleaning edge coverages\r\n",
      "00:00:13 4Mb  INFO: Collecting alignments of sequences to the graph\r\n",
      "00:00:14 324Mb  INFO: Alignment collection finished. Total length of alignments is 35126\r\n",
      "00:00:14 324Mb  INFO: Could not correct 24 reads. They will be removed.\r\n",
      "00:00:14 324Mb  INFO: Uncorrected reads were removed.\r\n",
      "00:00:14 324Mb  INFO: Applying changes to the graph\r\n",
      "00:00:14 336Mb  INFO: Printing reads to fasta file \"phasing-data/smoothed-reads/camp_g1217/lja_covfilt_10x_mar15/k5001/corrected_reads.fasta\"\r\n",
      "00:00:16 305Mb  INFO: Performing repeat resolution by transforming de Bruijn graph into Multiplex de Bruijn graph\r\n",
      "00:00:16 0Mb  INFO: Loading graph from fasta\r\n",
      "00:00:16 4Mb  INFO: Finished loading graph\r\n",
      "00:00:16 12Mb  INFO: Looking for unique edges\r\n",
      "00:00:16 12Mb  INFO: Marked 2 long edges as unique\r\n",
      "00:00:16 12Mb  INFO: Marking extra edges as unique based on read paths\r\n",
      "00:00:16 12Mb  INFO: Marked 2 edges as unique\r\n",
      "00:00:16 12Mb  INFO: Splitting graph with unique edges\r\n",
      "00:00:16 12Mb  INFO: Processing 3 components\r\n",
      "00:00:16 12Mb  INFO: Finished unique edges search. Found 4 unique edges\r\n",
      "00:00:16 12Mb  INFO: Analysing repeats of multiplicity 2 and looking for additional unique edges\r\n",
      "00:00:16 12Mb  INFO: Finished processing of repeats of multiplicity 2. Found 0 erroneous edges.\r\n",
      "00:00:16 12Mb  INFO: Resolving repeats\r\n",
      "00:00:16 12Mb  INFO: Constructing paths\r\n",
      "00:00:16 21Mb  INFO: Building graph\r\n",
      "00:00:16 21Mb  INFO: Increasing k\r\n",
      "00:00:16 21Mb  INFO: Finished increasing k\r\n",
      "00:00:16 21Mb  INFO: Exporting remaining active transitions\r\n",
      "00:00:16 21Mb  INFO: Export to Dot\r\n",
      "00:00:16 21Mb  INFO: Export to GFA and compressed contigs\r\n",
      "00:00:16 22Mb  INFO: Finished repeat resolution\r\n",
      "00:00:16 305Mb  INFO: Performing polishing and homopolymer uncompression\r\n",
      "00:00:16 3Mb  INFO: Aligning reads back to assembly\r\n",
      "00:00:17 223Mb  INFO: Finished alignment.\r\n",
      "00:00:17 223Mb  INFO: Printing alignments to \"phasing-data/smoothed-reads/camp_g1217/lja_covfilt_10x_mar15/uncompressing/alignments.txt\"\r\n",
      "00:00:17 223Mb  INFO: Reading and processing initial reads from [\"phasing-data/smoothed-reads/camp_g1217/sr.fasta\"]\r\n",
      "00:00:23 0.7Gb  INFO: Uncompressing homopolymers in contigs\r\n",
      "00:00:23 0.7Gb  INFO: Total zero covered nucleotides 0\r\n",
      "00:00:23 0.7Gb  INFO: Calculating overlaps between adjacent uncompressed edges\r\n",
      "00:00:23 0.7Gb  INFO: Printing final gfa file to \"phasing-data/smoothed-reads/camp_g1217/lja_covfilt_10x_mar15/mdbg.gfa\"\r\n",
      "00:00:23 0.7Gb  INFO: Printing final assembly to \"phasing-data/smoothed-reads/camp_g1217/lja_covfilt_10x_mar15/assembly.fasta\"\r\n",
      "00:00:23 305Mb  INFO: Final homopolymer compressed and corrected reads can be found here: \"phasing-data/smoothed-reads/camp_g1217/lja_covfilt_10x_mar15/k5001/corrected_reads.fasta\"\r\n",
      "00:00:23 305Mb  INFO: Final graph with homopolymer compressed edges can be found here: \"phasing-data/smoothed-reads/camp_g1217/lja_covfilt_10x_mar15/mdbg/mdbg.hpc.gfa\"\r\n",
      "00:00:23 305Mb  INFO: Final graph can be found here: \"phasing-data/smoothed-reads/camp_g1217/lja_covfilt_10x_mar15/mdbg.gfa\"\r\n",
      "00:00:23 305Mb  INFO: Final assembly can be found here: \"phasing-data/smoothed-reads/camp_g1217/lja_covfilt_10x_mar15/assembly.fasta\"\r\n",
      "00:00:23 305Mb  INFO: LJA pipeline finished\r\n"
     ]
    }
   ],
   "source": [
    "# No error correction, but with a filter for low-coverage edges. (Let's say 10x; at least for G1217, we know\n",
    "# this removes the relatively low-coverage haplotypes. Of course, for arbitrary data the optimal parameter here\n",
    "# isn't clear. But when you have like ~4,000x coverage 10x is fine.)\n",
    "!/home/mfedarko/software/LJA-branch/bin/lja \\\n",
    "    --reads phasing-data/smoothed-reads/camp_g1217/sr.fasta \\\n",
    "    --simpleec \\\n",
    "    --Cov-threshold 10 \\\n",
    "    --output-dir phasing-data/smoothed-reads/camp_g1217/lja_covfilt_10x_mar15"
   ]
  },
  {
   "cell_type": "code",
   "execution_count": 28,
   "metadata": {
    "execution": {
     "iopub.execute_input": "2022-04-11T07:21:09.756125Z",
     "iopub.status.busy": "2022-04-11T07:21:09.745640Z",
     "iopub.status.idle": "2022-04-11T07:21:38.548278Z",
     "shell.execute_reply": "2022-04-11T07:21:38.548917Z"
    },
    "scrolled": true
   },
   "outputs": [
    {
     "name": "stdout",
     "output_type": "stream",
     "text": [
      "00:00:00 305Mb  INFO: Hello! You are running La Jolla Assembler (LJA), a tool for genome assembly from PacBio HiFi reads\r\n",
      "00:00:11 305Mb  INFO: 007ba931cbbf0218b4524edafe6c3bd5cac9003f\r\n",
      "00:00:11 305Mb  INFO: LJA pipeline started\r\n",
      "00:00:11 305Mb  INFO: Performing initial correction with k = 5001\r\n",
      "00:00:11 0Mb  INFO: Reading reads\r\n",
      "00:00:11 0Mb  INFO: Extracting minimizers\r\n",
      "00:00:12 319Mb  INFO: Finished read processing\r\n",
      "00:00:12 319Mb  INFO: 303041 hashs collected. Starting sorting.\r\n",
      "00:00:12 325Mb  INFO: Finished sorting. Total distinct minimizers: 397\r\n",
      "00:00:12 325Mb  INFO: Starting construction of sparse de Bruijn graph\r\n",
      "00:00:12 325Mb  INFO: Vertex map constructed.\r\n",
      "00:00:12 325Mb  INFO: Filling edge sequences.\r\n",
      "00:00:13 325Mb  INFO: Finished sparse de Bruijn graph construction.\r\n",
      "00:00:13 325Mb  INFO:  Collecting tips \r\n",
      "00:00:13 325Mb  INFO: Added 14 artificial minimizers from tips.\r\n",
      "00:00:13 325Mb  INFO: Collected 798 old edges.\r\n",
      "00:00:13 325Mb  INFO: New minimizers added to sparse graph.\r\n",
      "00:00:13 325Mb  INFO: Refilling graph with old edges.\r\n",
      "00:00:13 325Mb  INFO: Filling graph with new edges.\r\n",
      "00:00:13 325Mb  INFO: Finished fixing sparse de Bruijn graph.\r\n",
      "00:00:13 325Mb  INFO: Starting to extract disjointigs.\r\n",
      "00:00:13 325Mb  INFO: Finished extracting 23 disjointigs of total size 217851\r\n",
      "00:00:13 0Mb  INFO: Loading disjointigs from file \"phasing-data/smoothed-reads/camp_g1217/lja_covfilt_1x_mar15/k5001/disjointigs.fasta\"\r\n",
      "00:00:13 4Mb  INFO: Filling bloom filter with k+1-mers.\r\n",
      "00:00:13 4Mb  INFO: Filled 475822 bits out of 3290496\r\n",
      "00:00:13 4Mb  INFO: Finished filling bloom filter. Selecting junctions.\r\n",
      "00:00:13 4Mb  INFO: Collected 71 junctions.\r\n",
      "00:00:13 4Mb  INFO: Starting DBG construction.\r\n",
      "00:00:13 4Mb  INFO: Vertices created.\r\n",
      "00:00:13 4Mb  INFO: Filled dbg edges. Adding hanging vertices \r\n",
      "00:00:13 4Mb  INFO: Added 0 hanging vertices\r\n",
      "00:00:13 4Mb  INFO: Merging unbranching paths\r\n",
      "00:00:13 4Mb  INFO: Ended merging edges. Resulting size 32\r\n",
      "00:00:13 4Mb  INFO: Cleaning edge coverages\r\n",
      "00:00:13 4Mb  INFO: Collecting alignments of sequences to the graph\r\n",
      "00:00:14 324Mb  INFO: Alignment collection finished. Total length of alignments is 35126\r\n",
      "00:00:14 324Mb  INFO: Could not correct 0 reads. They will be removed.\r\n",
      "00:00:14 324Mb  INFO: Uncorrected reads were removed.\r\n",
      "00:00:14 324Mb  INFO: Applying changes to the graph\r\n",
      "00:00:14 336Mb  INFO: Printing reads to fasta file \"phasing-data/smoothed-reads/camp_g1217/lja_covfilt_1x_mar15/k5001/corrected_reads.fasta\"\r\n",
      "00:00:16 305Mb  INFO: Performing repeat resolution by transforming de Bruijn graph into Multiplex de Bruijn graph\r\n",
      "00:00:16 0Mb  INFO: Loading graph from fasta\r\n",
      "00:00:16 4Mb  INFO: Finished loading graph\r\n",
      "00:00:16 12Mb  INFO: Looking for unique edges\r\n",
      "00:00:16 12Mb  INFO: Marked 2 long edges as unique\r\n",
      "00:00:16 12Mb  INFO: Marking extra edges as unique based on read paths\r\n",
      "00:00:16 12Mb  INFO: Marked 2 edges as unique\r\n",
      "00:00:16 12Mb  INFO: Splitting graph with unique edges\r\n",
      "00:00:16 12Mb  INFO: Processing 3 components\r\n",
      "00:00:16 12Mb  INFO: Finished unique edges search. Found 2 unique edges\r\n",
      "00:00:16 12Mb  INFO: Analysing repeats of multiplicity 2 and looking for additional unique edges\r\n",
      "00:00:16 12Mb  INFO: Finished processing of repeats of multiplicity 2. Found 0 erroneous edges.\r\n",
      "00:00:16 12Mb  INFO: Resolving repeats\r\n",
      "00:00:16 12Mb  INFO: Constructing paths\r\n",
      "00:00:16 23Mb  INFO: Building graph\r\n",
      "00:00:16 23Mb  INFO: Increasing k\r\n",
      "00:00:17 23Mb  INFO: Finished increasing k\r\n",
      "00:00:17 23Mb  INFO: Exporting remaining active transitions\r\n",
      "00:00:17 23Mb  INFO: Export to Dot\r\n",
      "00:00:17 23Mb  INFO: Export to GFA and compressed contigs\r\n",
      "00:00:17 25Mb  INFO: Finished repeat resolution\r\n",
      "00:00:17 305Mb  INFO: Performing polishing and homopolymer uncompression\r\n",
      "00:00:17 3Mb  INFO: Aligning reads back to assembly\r\n",
      "00:00:18 241Mb  INFO: Finished alignment.\r\n",
      "00:00:18 241Mb  INFO: Printing alignments to \"phasing-data/smoothed-reads/camp_g1217/lja_covfilt_1x_mar15/uncompressing/alignments.txt\"\r\n",
      "00:00:18 241Mb  INFO: Reading and processing initial reads from [\"phasing-data/smoothed-reads/camp_g1217/sr.fasta\"]\r\n",
      "00:00:28 1.2Gb  INFO: Uncompressing homopolymers in contigs\r\n",
      "00:00:28 1.2Gb  INFO: Total zero covered nucleotides 0\r\n",
      "00:00:28 1.2Gb  INFO: Calculating overlaps between adjacent uncompressed edges\r\n",
      "00:00:28 1.2Gb  INFO: Printing final gfa file to \"phasing-data/smoothed-reads/camp_g1217/lja_covfilt_1x_mar15/mdbg.gfa\"\r\n",
      "00:00:28 1.2Gb  INFO: Printing final assembly to \"phasing-data/smoothed-reads/camp_g1217/lja_covfilt_1x_mar15/assembly.fasta\"\r\n",
      "00:00:28 305Mb  INFO: Final homopolymer compressed and corrected reads can be found here: \"phasing-data/smoothed-reads/camp_g1217/lja_covfilt_1x_mar15/k5001/corrected_reads.fasta\"\r\n",
      "00:00:28 305Mb  INFO: Final graph with homopolymer compressed edges can be found here: \"phasing-data/smoothed-reads/camp_g1217/lja_covfilt_1x_mar15/mdbg/mdbg.hpc.gfa\"\r\n",
      "00:00:28 305Mb  INFO: Final graph can be found here: \"phasing-data/smoothed-reads/camp_g1217/lja_covfilt_1x_mar15/mdbg.gfa\"\r\n",
      "00:00:28 305Mb  INFO: Final assembly can be found here: \"phasing-data/smoothed-reads/camp_g1217/lja_covfilt_1x_mar15/assembly.fasta\"\r\n",
      "00:00:28 305Mb  INFO: LJA pipeline finished\r\n"
     ]
    }
   ],
   "source": [
    "!/home/mfedarko/software/LJA-branch/bin/lja \\\n",
    "    --reads phasing-data/smoothed-reads/camp_g1217/sr.fasta \\\n",
    "    --simpleec \\\n",
    "    --Cov-threshold 1 \\\n",
    "    --output-dir phasing-data/smoothed-reads/camp_g1217/lja_covfilt_1x_mar15"
   ]
  },
  {
   "cell_type": "markdown",
   "metadata": {},
   "source": [
    "## Align assembled sequences to CAMP"
   ]
  },
  {
   "cell_type": "code",
   "execution_count": 29,
   "metadata": {
    "execution": {
     "iopub.execute_input": "2022-04-11T07:21:38.560707Z",
     "iopub.status.busy": "2022-04-11T07:21:38.559875Z",
     "iopub.status.idle": "2022-04-11T07:21:39.726664Z",
     "shell.execute_reply": "2022-04-11T07:21:39.727342Z"
    }
   },
   "outputs": [
    {
     "name": "stdout",
     "output_type": "stream",
     "text": [
      "Aligning metaflye/assembly.fasta to CAMP --> metaflye.sam\n",
      "Aligning metaflye_keephaps/assembly.fasta to CAMP --> metaflye_keephaps.sam\n",
      "Aligning jumbodbg_k5001/graph.fasta to CAMP --> jumbodbg_k5001.sam\n",
      "Aligning lja_withec/assembly.fasta to CAMP --> lja_withec.sam\n",
      "Aligning lja_noec/assembly.fasta to CAMP --> lja_noec.sam\n",
      "Aligning lja_covfilt_10x/assembly.fasta to CAMP --> lja_covfilt_10x.sam\n",
      "Aligning lja_covfilt_10x_mar15/assembly.fasta to CAMP --> lja_covfilt_10x_mar15.sam\n",
      "Aligning lja_covfilt_1x_mar15/assembly.fasta to CAMP --> lja_covfilt_1x_mar15.sam\n"
     ]
    }
   ],
   "source": [
    "seqs = [\n",
    "    \"metaflye/assembly.fasta\",\n",
    "    \"metaflye_keephaps/assembly.fasta\",\n",
    "    \"jumbodbg_k5001/graph.fasta\",\n",
    "    # Note that (at least as of writing) the sequences in the assembly.fasta files from LJA may be slightly\n",
    "    # different from those in the mdbg.gfa files. The sequences in the FASTA are trimmed to remove huge overlaps,\n",
    "    # which can result in some edge sequences (\"segments\" in the GFA) being removed. This is generally a good\n",
    "    # thing -- for \"counting\" which haplotypes were assembled, we should consider the FASTA. We should consider\n",
    "    # the GFA sequences only if we want to do things like highlight certain sequences on a graph visualization,\n",
    "    # etc.\n",
    "    \"lja_withec/assembly.fasta\",\n",
    "    \"lja_noec/assembly.fasta\",\n",
    "    \"lja_covfilt_10x/assembly.fasta\",\n",
    "    \"lja_covfilt_10x_mar15/assembly.fasta\",\n",
    "    \"lja_covfilt_1x_mar15/assembly.fasta\",\n",
    "]\n",
    "\n",
    "camp = \"/Poppy/mfedarko/sheepgut/seqs/edge_6104.fasta\"\n",
    "prefix = \"phasing-data/smoothed-reads/camp_g1217/\"\n",
    "\n",
    "for assembled_seqs_file in seqs:\n",
    "    ifp = os.path.join(prefix, assembled_seqs_file)\n",
    "    ofp = os.path.join(prefix, \"aln\", assembled_seqs_file.split(\"/\")[0] + \".sam\")\n",
    "    print(f\"Aligning {assembled_seqs_file} to CAMP --> {os.path.basename(ofp)}\")\n",
    "    with open(ofp, \"w\") as ofile:\n",
    "        subprocess.run(\n",
    "            [\n",
    "                \"minimap2\",\n",
    "                \"-ax\",\n",
    "                \"asm20\",\n",
    "                \"--MD\",\n",
    "                camp,\n",
    "                ifp,\n",
    "            ],\n",
    "            stdout=ofile\n",
    "        )"
   ]
  },
  {
   "cell_type": "markdown",
   "metadata": {},
   "source": [
    "## Investigate alignments of assembled sequences to CAMP\n",
    "\n",
    "Which haplotypes of gene 1217 were recovered?"
   ]
  },
  {
   "cell_type": "code",
   "execution_count": 30,
   "metadata": {
    "execution": {
     "iopub.execute_input": "2022-04-11T07:21:39.739847Z",
     "iopub.status.busy": "2022-04-11T07:21:39.739040Z",
     "iopub.status.idle": "2022-04-11T07:21:40.501540Z",
     "shell.execute_reply": "2022-04-11T07:21:40.502184Z"
    },
    "scrolled": true
   },
   "outputs": [
    {
     "name": "stdout",
     "output_type": "stream",
     "text": [
      "Investigating the alignment described in metaflye.sam.\n",
      "\tAAACCCGAGTGCATGGTCTCCTTAACTAACTTAA  Smoothed Read Freq: 3,430x  Contig contig_1\n",
      "\t# of contig haps: 1\n",
      "\t# of unique contig haps: 1\n",
      "Investigating the alignment described in metaflye_keephaps.sam.\n",
      "\tAAACCCGAGTGCATGGTCTCCTTAACTAACTTAA  Smoothed Read Freq: 3,430x  Contig contig_1\n",
      "\t# of contig haps: 1\n",
      "\t# of unique contig haps: 1\n",
      "Investigating the alignment described in jumbodbg_k5001.sam.\n",
      "\tGCATTAAGACATTAAACGCTTCCGGTCGGTACGG  Smoothed Read Freq: 1x  Contig 1_959020597104914351776537387725063980640_2119479997920780736489555217751277007120_4416_1\n",
      "\tGCGTTAAGACATTAAACGCTTCCGGTCGGTACGA  Smoothed Read Freq: 2x  Contig 2_777803336629784998531391929614496480440_1142954875957467733299655382279327719270_3587_1.75523\n",
      "\tGCGTTAAGACATTTAACGCTTCCGGTCGGTACGG  Smoothed Read Freq: 1x  Contig 3_767947771573644320142372792662997544041_2875252374081871676874087102555796047120_4195_1\n",
      "\tGCGTTAAGACATTAAACGCTTCCGGTCGGTACGG  Smoothed Read Freq: 600x  Contig 5_803991486672841666141571497576829452261_1035358564048394863158004639147459679510_4246_357.334\n",
      "\tAAACCCGAGTGCATGGTCTCCTTAACTAGCTTAA  Smoothed Read Freq: 1x  Contig 6_1175771474340542927209965196369407393351_1827899062711232570253908520603550920000_1864_1\n",
      "\tAAACCCGAGTGCATGATCTCCTTAACTAACTTAA  Smoothed Read Freq: 1x  Contig 8_1118741392089686452718844252065485514430_1692770901755609418969324596517643033230_1359_1\n",
      "\tGAGTTAAGACATTAAACGCTTCCGGTCGGTACGG  Smoothed Read Freq: 6x  Contig 10_752802001323429705363130712155479931660_1612993964897101492562227786810738188631_4954_4.61647\n",
      "\tGCGTTAAGACATTAAACGCTTCCGATCGGTACGG  Smoothed Read Freq: 1x  Contig 12_122981051702506702735415903403433088851_523019901063626333189957408481353476141_2065_1\n",
      "\tGCGTTAAGACATTAAACGCTTCCAGTCGGTACGG  Smoothed Read Freq: 1x  Contig 18_1325664186680387050405647536811985561921_2059592363445926919442902202162510399191_5002_1\n",
      "\tGCGTTAAGACACTAAACGCTTCCGGTCGGTACGG  Smoothed Read Freq: 1x  Contig 20_581383344534310215849098354219964682021_2469099190236730772803069775185144214101_2328_1\n",
      "\tGCGTTAAGACATTAAACGCTTCCGGTCGGTACAG  Smoothed Read Freq: 4x  Contig 25_561230106185318640133653165215502455461_1035358564048394863158004639147459679510_4450_1.91933\n",
      "\tGCGTTAAGACATTAGACGCTTCCGGTCGGTACAG  Smoothed Read Freq: 1x  Contig 26_561230106185318640133653165215502455461_2101678756837850824824986431473675420251_3318_1\n",
      "\tGAGCTAAGACATTAAACGCTTCCGGTCGGTACGG  Smoothed Read Freq: 1x  Contig 29_1612993964897101492562227786810738188630_2741329415833235394005672527299708171520_1662_1\n",
      "\tAAACCCGAGTGCATGGTCTCCTTAACTAACTTAA  Smoothed Read Freq: 3,430x  Contig 31_572295181722895902860388796654425092290_1692770901755609418969324596517643033230_5233_2006.55\n",
      "\tACGTTAAGACATTAAACGCTTCCGGTCGGTACGG  Smoothed Read Freq: 2x  Contig 32_572295181722895902860388796654425092290_803991486672841666141571497576829452260_4993_1.4999\n",
      "\tGCGTTAAGACATTAAACGCTTCCGGTCGATACGG  Smoothed Read Freq: 1x  Contig 34_198652557856366015617471259389364101590_954726725276598856088930073673607872981_3821_1\n",
      "\t# of contig haps: 16\n",
      "\t# of unique contig haps: 16\n",
      "Investigating the alignment described in lja_withec.sam.\n",
      "\tAAACCCGAGTGCATGGTCTCCTTAACTAACTTAA  Smoothed Read Freq: 3,430x  Contig 1\n",
      "\t# of contig haps: 1\n",
      "\t# of unique contig haps: 1\n",
      "Investigating the alignment described in lja_noec.sam.\n",
      "\tGCGTTAAGACATTAAACGCTTCCGGTCGGTACGG  Smoothed Read Freq: 600x  Contig 5\n",
      "\tGAGTTAAGACATTAAACGCTTCCGGTCGGTACGG  Smoothed Read Freq: 6x  Contig 53\n",
      "\tAAACCCGAGTGCATGGTCTCCTTAACTAACTTAA  Smoothed Read Freq: 3,430x  Contig 9\n",
      "\tGCGTTAAGACATTAAACGCTTCCAGTCGGTACGG  Smoothed Read Freq: 1x  Contig 12\n",
      "\t# of contig haps: 4\n",
      "\t# of unique contig haps: 4\n",
      "Investigating the alignment described in lja_covfilt_10x.sam.\n",
      "\t# of contig haps: 0\n",
      "\t# of unique contig haps: 0\n",
      "Investigating the alignment described in lja_covfilt_10x_mar15.sam.\n",
      "\tGCGTTAAGACATTAAACGCTTCCGGTCGGTACGG  Smoothed Read Freq: 600x  Contig 6\n",
      "\tAAACCCGAGTGCATGGTCTCCTTAACTAACTTAA  Smoothed Read Freq: 3,430x  Contig 5\n",
      "\t# of contig haps: 2\n",
      "\t# of unique contig haps: 2\n",
      "Investigating the alignment described in lja_covfilt_1x_mar15.sam.\n",
      "\tAAACCCGAGTGCATGGTCTCCTTAACTAACTTAA  Smoothed Read Freq: 3,430x  Contig 1\n",
      "\tGCGTTAAGACATTAAACGCTTCCAGTCGGTACGG  Smoothed Read Freq: 1x  Contig 42\n",
      "\tGAGTTAAGACATTAAACGCTTCCGGTCGGTACGG  Smoothed Read Freq: 6x  Contig 53\n",
      "\tGCGTTAAGACATTAAACGCTTCCGGTCGGTACGG  Smoothed Read Freq: 600x  Contig 46\n",
      "\t# of contig haps: 4\n",
      "\t# of unique contig haps: 4\n"
     ]
    }
   ],
   "source": [
    "aln_dir = \"phasing-data/smoothed-reads/camp_g1217/aln\"\n",
    "for af in os.listdir(aln_dir):\n",
    "    if af.endswith(\".sam\"):\n",
    "        print(f\"Investigating the alignment described in {af}.\")\n",
    "        f = pysam.AlignmentFile(os.path.join(aln_dir, af))\n",
    "        contig2hap = {}\n",
    "        contig_haps = []\n",
    "        num_nonspanning_contigs = 0\n",
    "        for aln in f.fetch():\n",
    "            ap = aln.get_aligned_pairs(matches_only=True)\n",
    "            aln_seq = aln.query_sequence\n",
    "            contig_name = aln.query_name\n",
    "            v = {}\n",
    "            hap = \"\"\n",
    "            # slow but simple\n",
    "            for pair in ap:\n",
    "                if pair[1] in mps:\n",
    "                    contig_nt_at_mutpos = aln_seq[pair[0]]\n",
    "                    v[pair[1]] = contig_nt_at_mutpos\n",
    "                    hap += contig_nt_at_mutpos\n",
    "            if len(v) < 34:\n",
    "                num_nonspanning_contigs += 1\n",
    "            elif len(v) > 34:\n",
    "                raise ValueError(\"Something went very wrong. What happened to gene 1217???\")\n",
    "            else:\n",
    "                contig2hap[contig_name] = hap\n",
    "                contig_haps.append(hap)\n",
    "                print(f\"\\t{hap}  Smoothed Read Freq: {ctr[hap]:,}x  Contig {contig_name}\") \n",
    "\n",
    "        print(f\"\\t# of contig haps: {len(contig_haps):,}\\n\\t# of unique contig haps: {len(set(contig_haps)):,}\")"
   ]
  },
  {
   "cell_type": "code",
   "execution_count": null,
   "metadata": {},
   "outputs": [],
   "source": []
  }
 ],
 "metadata": {
  "kernelspec": {
   "display_name": "Python 3",
   "language": "python",
   "name": "python3"
  },
  "language_info": {
   "codemirror_mode": {
    "name": "ipython",
    "version": 3
   },
   "file_extension": ".py",
   "mimetype": "text/x-python",
   "name": "python",
   "nbconvert_exporter": "python",
   "pygments_lexer": "ipython3",
   "version": "3.7.11"
  }
 },
 "nbformat": 4,
 "nbformat_minor": 4
}
