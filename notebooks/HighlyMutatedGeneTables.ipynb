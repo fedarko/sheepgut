{
 "cells": [
  {
   "cell_type": "markdown",
   "id": "wireless-essay",
   "metadata": {},
   "source": [
    "# Highly Mutated Gene Tables\n",
    "\n",
    "Exports info on highly mutated genes."
   ]
  },
  {
   "cell_type": "code",
   "execution_count": 1,
   "id": "interim-incidence",
   "metadata": {
    "execution": {
     "iopub.execute_input": "2021-06-12T03:42:06.664095Z",
     "iopub.status.busy": "2021-06-12T03:42:06.663152Z",
     "iopub.status.idle": "2021-06-12T03:42:23.581090Z",
     "shell.execute_reply": "2021-06-12T03:42:23.580196Z"
    }
   },
   "outputs": [],
   "source": [
    "%run \"Header.ipynb\"\n",
    "%run \"GeneUtils.ipynb\"\n",
    "import pileup\n",
    "seq2pos2pileup = pileup.load()"
   ]
  },
  {
   "cell_type": "markdown",
   "id": "molecular-selection",
   "metadata": {},
   "source": [
    "## Define `Gene` class"
   ]
  },
  {
   "cell_type": "code",
   "execution_count": 2,
   "id": "civil-tooth",
   "metadata": {
    "execution": {
     "iopub.execute_input": "2021-06-12T03:42:23.591398Z",
     "iopub.status.busy": "2021-06-12T03:42:23.589008Z",
     "iopub.status.idle": "2021-06-12T03:42:24.158163Z",
     "shell.execute_reply": "2021-06-12T03:42:24.158813Z"
    }
   },
   "outputs": [],
   "source": [
    "import math\n",
    "import skbio\n",
    "from statistics import mean\n",
    "\n",
    "class Gene:\n",
    "    def __init__(self, gene_data, seq, fasta, minfreq=0.5):\n",
    "        self.leftend = gene_data.LeftEnd\n",
    "        self.rightend = gene_data.RightEnd\n",
    "        if self.leftend >= self.rightend:\n",
    "            raise ValueError(\"Left end of gene must be < right end of gene\")\n",
    "        \n",
    "        self.positions = get_pos_interval_from_gene(gene_data)\n",
    "        \n",
    "        # Code is from within-gene mutation spectrum notebook\n",
    "        self.length = len(self.positions)\n",
    "        if self.length % 3 != 0:\n",
    "            raise ValueError(\"Gene length not divisible by 3\")\n",
    "\n",
    "        # Name of sequence this gene is on (e.g. \"edge_6104\")\n",
    "        self.seq = seq\n",
    "        \n",
    "        # Actual sequence of the, well, sequence -- loaded by skbio\n",
    "        self.fasta = fasta\n",
    "        \n",
    "        # Orientation of gene\n",
    "        #\n",
    "        # if the strand is +, then this gene should look something like\n",
    "        # ATG...TGA\n",
    "        # (start codon)...(stop codon)\n",
    "        #\n",
    "        # and if the strand is -, then this gene should look something like\n",
    "        # TCA...CAT\n",
    "        # (reverse complemented)\n",
    "        #\n",
    "        # (of course there are multiple possible start/stop codons; this is just an example)\n",
    "        self.strand = gene_data.Strand\n",
    "        if self.strand not in [\"+\", \"-\"]:\n",
    "            # yeah I'm aware that technically you could have a \".\" here for GFF files\n",
    "            # (https://en.wikipedia.org/wiki/General_feature_format#GFF_general_structure) but I don't\n",
    "            # think Prodigal will generate genes like that -- so better to be conservative and avoid confusion\n",
    "            raise ValueError(\"Unrecognized gene strand value\")\n",
    "        \n",
    "        # Number of this gene in the Prodigal .sco file\n",
    "        self.num = gene_data.Index\n",
    "        \n",
    "        # Numbers of mutations in this gene - we'll compute these soon\n",
    "        self.num_nonsyn_mutations = None\n",
    "        self.num_total_mutations = None\n",
    "        \n",
    "        # Mutation rates - we'll also compute these after computing the numbers, listed above\n",
    "        self.nonsyn_mutation_rate = None\n",
    "        self.total_mutation_rate = None\n",
    "        \n",
    "        self._count_mutations(minfreq)\n",
    "        \n",
    "    def _count_mutations(self, minfreq):\n",
    "        # \"minfreq\" is as described in the paper -- a percentage, where a given position has to have more\n",
    "        # than this percentage of mismatches in the alignment in order for this position to be considered\n",
    "        # \"mutated\" or not. We changed this value to \"p\" later on, but the definition is the same.\n",
    "        \n",
    "        self.num_total_mutations = 0\n",
    "        self.num_nonsyn_mutations = 0\n",
    "        minfreq_pct = minfreq / 100\n",
    "        for pos in self.positions:\n",
    "            if pileup.naively_call_mutation(seq2pos2pileup[seq][pos], minfreq_pct):\n",
    "                self.num_total_mutations += 1\n",
    "                \n",
    "                # See if we should update the nonsyn mutation rate.\n",
    "                # NOTE: This considers each single position independently, so this might result in some\n",
    "                # codons being counted 2 or 3 times if 2 or 3 positions in this codon are mutated. I guess\n",
    "                # we might want to consider mutations together? Or consider the actual aligned codon data\n",
    "                # using the mutation matrix JSON stuff...\n",
    "                codon = self.get_codon(pos)\n",
    "                max_freq_alt_nt = pileup.get_max_freq_alt_nt(seq2pos2pileup[seq][pos])\n",
    "                alt_codon = self.get_codon(pos, mutate_to=max_freq_alt_nt)\n",
    "                \n",
    "                if str(codon.translate()) != str(alt_codon.translate()):\n",
    "                    self.num_nonsyn_mutations += 1\n",
    "                    \n",
    "        self.nonsyn_mutation_rate = self.num_nonsyn_mutations / self.length\n",
    "        self.total_mutation_rate = self.num_total_mutations / self.length\n",
    "                \n",
    "    def get_codon(self, pos, mutate_to=None):\n",
    "        \"\"\"Given a (1-indexed) position within this gene, retrieves the codon of this position.\n",
    "        \n",
    "        The codon is returned as a skbio.DNA object, although it's easy to convert this into a str\n",
    "        if preferred (just call str() on it).\n",
    "        \n",
    "        For example, say our gene sequence is ATGCCCTGA (it's a + strand gene).\n",
    "        \n",
    "        If pos is 1, 2, or 3, then the codon returned will have a sequence of \"ATG\".\n",
    "        If pos is 4, 5, or 6, then the codon returned will have a sequence of \"CCC\".\n",
    "        If pos is 7, 8, or 9, then the codon returned will have a sequence of \"TGA\".\n",
    "        \n",
    "        The optional mutate_to parameter lets us mutate this codon at a single position to whatever\n",
    "        character mutate_to is: for example, if pos is 2 and mutate_to is \"C\", then this will return\n",
    "        \"ACG\" instead of \"ATG\" for the above example.\n",
    "        \"\"\"\n",
    "        \n",
    "        # Since the length of the gene is guaranteed to be divisible by 3, we can \"order\" codons however\n",
    "        # we want: we could go 000111222333444555... or\n",
    "        #                      ...555444333222111000.\n",
    "        # For the sake of simplicity we just use the first option. In either case, a position associates\n",
    "        # with the same two other positions in its triplet, since counting from the end or from the beginning\n",
    "        # gives us the same thing!\n",
    "        #\n",
    "        # Follows pattern   000111222333...\n",
    "        # for 1-indexed pos 123456789012...\n",
    "        codon_num = math.floor((pos - 1) / 3)\n",
    "\n",
    "        codon_left = codon_num * 3\n",
    "        codon_right = codon_left + 3\n",
    "\n",
    "        # Produces a skbio.DNA object\n",
    "        codon = self.fasta[codon_left: codon_right]\n",
    "\n",
    "        # Modify the codon, if requested\n",
    "        if mutate_to is not None:\n",
    "            # Follows pattern 0, 1, 2, 0, 1, 2, 0, 1, 2, 0, 1, 2, ...\n",
    "            codon_pos = (pos - 1) % 3\n",
    "            \n",
    "            # skbio.DNA objects are immutable, so -- to avoid converting from DNA to str and\n",
    "            # then back again -- we use the skbio.Sequence.replace() method. This is the simplest\n",
    "            # way of doing this that I know of in \"pure\" skbio (...though I could totes be missing\n",
    "            # something obvious).\n",
    "            bl = [False, False, False]\n",
    "            bl[codon_pos] = True\n",
    "            codon = codon.replace(bl, mutate_to)\n",
    "            \n",
    "        # Finally, return the reverse complement of this codon if the strand is \"-\"\n",
    "        # It is important that we do this AFTER mutating the codon, if requested -- since this way\n",
    "        # the effect of the mutation will be correct (in this predicted gene it'd be reverse complemented\n",
    "        # into another nucleotide, and then the reverse-complement codon would code for something)\n",
    "        if self.strand == \"-\":\n",
    "            return codon.reverse_complement()\n",
    "        else:\n",
    "            return codon"
   ]
  },
  {
   "cell_type": "markdown",
   "id": "velvet-louisville",
   "metadata": {},
   "source": [
    "## Actually go through and output highly mutated genes (in LaTeX code!)\n",
    "\n",
    "Settled on having this code actually output the LaTeX code for the rows in a table. Kinda fancy!\n",
    "\n",
    "Idea for this based on https://stackoverflow.com/questions/49223962#comment85460602_49223962, sort of -- I was thinking of just outputting raw data and having LaTeX mess around and load it somehow, but just straight-up outputting the LaTeX from Python is probably much less of a pain than whatever I would've wound up doing."
   ]
  },
  {
   "cell_type": "code",
   "execution_count": 3,
   "id": "express-removal",
   "metadata": {
    "execution": {
     "iopub.execute_input": "2021-06-12T03:42:24.165862Z",
     "iopub.status.busy": "2021-06-12T03:42:24.165028Z",
     "iopub.status.idle": "2021-06-12T03:42:37.865461Z",
     "shell.execute_reply": "2021-06-12T03:42:37.864722Z"
    }
   },
   "outputs": [
    {
     "name": "stdout",
     "output_type": "stream",
     "text": [
      "Multiple max-freq alt nucleotides: {'A': 38, 'C': 38, 'G': 0} for pileup [[38, 38, 0, 1414], 3, 0]\n",
      "\t(Arbitrarily breaking tie: selecting max alt = A.)\n"
     ]
    }
   ],
   "source": [
    "seq2gene_ct = {}\n",
    "seq2nonsynonymous_mutated_gene_ct = {}\n",
    "seq2mutated_gene_ct = {}\n",
    "seq2avg_gene_len = {}\n",
    "\n",
    "for seq in SEQS:\n",
    "    fasta = skbio.DNA.read(\"../seqs/{}.fasta\".format(seq))\n",
    "    genes = []\n",
    "    df = parse_sco(\"../seqs/genes/{}.sco\".format(seq))\n",
    "    for gene_data in df.itertuples():\n",
    "        genes.append(Gene(gene_data, seq, fasta))\n",
    "    genes_by_mutrate = sorted(genes, key=lambda g: g.total_mutation_rate)\n",
    "    \n",
    "    with open(\"misc-text/{}-highest-mutated-genes.tex\".format(seq), \"w\") as tblfile:\n",
    "        # Select top 10 genes for each sequence, going by total mutation rate.\n",
    "        # We reverse the order so that the highest-mutation-rate gene is written first, etc.\n",
    "        # (like a \"leaderboard\")\n",
    "        for g in genes_by_mutrate[-10:][::-1]:\n",
    "            tblfile.write(\"{:,} & {:,} & {:,} & {} & {:.2f}\\% & {:.2f}\\% \\\\\\\\ \\\\hline\\n\".format(\n",
    "                g.leftend, g.rightend, g.length, g.num, g.nonsyn_mutation_rate * 100, g.total_mutation_rate * 100\n",
    "            ))\n",
    "            \n",
    "    # Save some extra info for the report\n",
    "    seq2gene_ct[seq] = len(genes)\n",
    "    seq2nonsynonymous_mutated_gene_ct[seq] = len([g for g in genes if g.num_nonsyn_mutations > 0])\n",
    "    seq2mutated_gene_ct[seq] = len([g for g in genes if g.num_total_mutations > 0])\n",
    "    seq2avg_gene_len[seq] = round(mean([g.length for g in genes]))"
   ]
  },
  {
   "cell_type": "markdown",
   "id": "industrial-january",
   "metadata": {},
   "source": [
    "## Also, output some stats on the numbers of mutated genes"
   ]
  },
  {
   "cell_type": "code",
   "execution_count": 4,
   "id": "familiar-boutique",
   "metadata": {
    "execution": {
     "iopub.execute_input": "2021-06-12T03:42:37.870704Z",
     "iopub.status.busy": "2021-06-12T03:42:37.869887Z",
     "iopub.status.idle": "2021-06-12T03:42:37.872291Z",
     "shell.execute_reply": "2021-06-12T03:42:37.871514Z"
    }
   },
   "outputs": [],
   "source": [
    "with open(\"misc-text/gene-mutation-stats.tex\", \"w\") as of:\n",
    "    # The \\endinput is needed to prevent LaTeX from inserting a bunch of space after this text is\n",
    "    # included using \\input{}. See https://tex.stackexchange.com/a/18018.\n",
    "    # (For some reason, using \\unskip removed ALL whitespace, which looked ugly -- this is the best\n",
    "    # solution I've found thus far.)\n",
    "    of.write(\n",
    "        (\n",
    "            \"Out of a total of {:,} / {:,} / {:,} genes in the {} / {} / {} genomes, respectively, \"\n",
    "            \"{:,} / {:,} / {:,} genes have nonzero $p$-mutation rates (using the threshold $p=0.5\\%$). \"\n",
    "            \"Of these genes, {:,} / {:,} / {:,} genes have nonzero nonsynonymous mutation rates. \"\n",
    "            \"(The rounded average gene lengths for each genome are {:,} / {:,} / {:,} bp, respectively.)\\endinput\"\n",
    "        ).format(\n",
    "            *[seq2gene_ct[seq] for seq in SEQS],\n",
    "            *[seq2name[seq] for seq in SEQS],\n",
    "            *[seq2mutated_gene_ct[seq] for seq in SEQS],\n",
    "            *[seq2nonsynonymous_mutated_gene_ct[seq] for seq in SEQS],\n",
    "            *[seq2avg_gene_len[seq] for seq in SEQS]\n",
    "        )\n",
    "    )"
   ]
  },
  {
   "cell_type": "code",
   "execution_count": null,
   "id": "fe9184c4",
   "metadata": {},
   "outputs": [],
   "source": []
  }
 ],
 "metadata": {
  "kernelspec": {
   "display_name": "Python 3",
   "language": "python",
   "name": "python3"
  },
  "language_info": {
   "codemirror_mode": {
    "name": "ipython",
    "version": 3
   },
   "file_extension": ".py",
   "mimetype": "text/x-python",
   "name": "python",
   "nbconvert_exporter": "python",
   "pygments_lexer": "ipython3",
   "version": "3.7.10"
  }
 },
 "nbformat": 4,
 "nbformat_minor": 5
}
