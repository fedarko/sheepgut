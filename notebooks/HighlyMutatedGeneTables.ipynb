{
 "cells": [
  {
   "cell_type": "markdown",
   "id": "wireless-essay",
   "metadata": {},
   "source": [
    "# Highly Mutated Gene Tables\n",
    "\n",
    "Exports info on highly mutated genes."
   ]
  },
  {
   "cell_type": "code",
   "execution_count": 1,
   "id": "interim-incidence",
   "metadata": {
    "execution": {
     "iopub.execute_input": "2021-06-12T03:42:06.664095Z",
     "iopub.status.busy": "2021-06-12T03:42:06.663152Z",
     "iopub.status.idle": "2021-06-12T03:42:23.581090Z",
     "shell.execute_reply": "2021-06-12T03:42:23.580196Z"
    }
   },
   "outputs": [],
   "source": [
    "%run \"Header.ipynb\"\n",
    "%run \"GeneUtils.ipynb\"\n",
    "import pileup\n",
    "from parse_sco import parse_sco\n",
    "seq2pos2pileup = pileup.load()"
   ]
  },
  {
   "cell_type": "markdown",
   "id": "molecular-selection",
   "metadata": {},
   "source": [
    "## Define `Gene` class"
   ]
  },
  {
   "cell_type": "code",
   "execution_count": 47,
   "id": "civil-tooth",
   "metadata": {
    "execution": {
     "iopub.execute_input": "2021-06-12T03:42:23.591398Z",
     "iopub.status.busy": "2021-06-12T03:42:23.589008Z",
     "iopub.status.idle": "2021-06-12T03:42:24.158163Z",
     "shell.execute_reply": "2021-06-12T03:42:24.158813Z"
    }
   },
   "outputs": [],
   "source": [
    "import math\n",
    "import skbio\n",
    "from statistics import mean\n",
    "\n",
    "class Gene:\n",
    "    def __init__(self, gene_data, seq, fasta, minfreq=0.5):\n",
    "        self.leftend = gene_data.LeftEnd\n",
    "        self.rightend = gene_data.RightEnd\n",
    "        if self.leftend >= self.rightend:\n",
    "            raise ValueError(\"Left end of gene must be < right end of gene\")\n",
    "        \n",
    "        # from GeneUtils.ipynb, for reference. This is a range of 1-indexed positions.\n",
    "        self.positions = get_pos_interval_from_gene(gene_data)\n",
    "        \n",
    "        # Code is from within-gene mutation spectrum notebook\n",
    "        self.length = len(self.positions)\n",
    "        if self.length % 3 != 0:\n",
    "            raise ValueError(\"Gene length not divisible by 3\")\n",
    "\n",
    "        # Name of sequence this gene is on (e.g. \"edge_6104\")\n",
    "        self.seq = seq\n",
    "        \n",
    "        # Actual sequence of the, well, sequence -- loaded by skbio\n",
    "        self.fasta = fasta\n",
    "        \n",
    "        # Orientation of gene\n",
    "        #\n",
    "        # if the strand is +, then this gene should look something like\n",
    "        # ATG...TGA\n",
    "        # (start codon)...(stop codon)\n",
    "        #\n",
    "        # and if the strand is -, then this gene should look something like\n",
    "        # TCA...CAT\n",
    "        # (reverse complemented)\n",
    "        #\n",
    "        # (of course there are multiple possible start/stop codons; this is just an example)\n",
    "        self.strand = gene_data.Strand\n",
    "        if self.strand not in [\"+\", \"-\"]:\n",
    "            # yeah I'm aware that technically you could have a \".\" here for GFF files\n",
    "            # (https://en.wikipedia.org/wiki/General_feature_format#GFF_general_structure) but I don't\n",
    "            # think Prodigal will generate genes like that -- so better to be conservative and avoid confusion\n",
    "            raise ValueError(\"Unrecognized gene strand value\")\n",
    "        \n",
    "        # Number of this gene in the Prodigal .sco file\n",
    "        self.num = gene_data.Index\n",
    "        \n",
    "        # Numbers of mutations in this gene - we'll compute these soon\n",
    "        self.num_nonsyn_mutations = None\n",
    "        self.num_total_mutations = None\n",
    "        \n",
    "        # Mutation rates - we'll also compute these after computing the numbers, listed above\n",
    "        self.nonsyn_mutation_rate = None\n",
    "        self.total_mutation_rate = None\n",
    "        \n",
    "        self._count_mutations(minfreq)\n",
    "        \n",
    "    def _count_mutations(self, minfreq):\n",
    "        # \"minfreq\" is as described in the paper -- a percentage, where a given position has to have more\n",
    "        # than this percentage of mismatches in the alignment in order for this position to be considered\n",
    "        # \"mutated\" or not. We changed this value's name to \"p\" later on, but the definition is the same.\n",
    "        \n",
    "        self.num_total_mutations = 0\n",
    "        self.num_nonsyn_mutations = 0\n",
    "        minfreq_pct = minfreq / 100\n",
    "        # NOTE: We count CPs as 1, 2, 3, 1, 2, 3, ... regardless of the gene strand (+ or -). This is ok,\n",
    "        # because we only use this \"cp\" variable here to determine how to extract the codon from the genome.\n",
    "        # We account for the gene strand by reverse-complementing the codons later.\n",
    "        cp = 1\n",
    "        for pos in self.positions:\n",
    "            if pileup.naively_call_mutation(seq2pos2pileup[seq][pos], minfreq_pct):\n",
    "                \n",
    "                # We only consider \"reasonable\" positions for this table -- that is, those where the reference\n",
    "                # nucleotide is either the consensus or tied as the consensus. We do this in order to make it\n",
    "                # possible to easily define nonsynonymous mutations at this position.\n",
    "                max_freq_alt_nt = pileup.get_alt_nt_if_reasonable(seq2pos2pileup[seq][pos])\n",
    "                \n",
    "                if max_freq_alt_nt is not None:\n",
    "                    # OK, we know this position is reasonable. Therefore, call it a mutation.\n",
    "                    self.num_total_mutations += 1\n",
    "                    \n",
    "                    # See if we should update the nonsyn mutation rate.\n",
    "                    # NOTE: This considers each single position independently, so this might result in some\n",
    "                    # codons being counted 2 or 3 times if 2 or 3 positions in this codon are mutated. I guess\n",
    "                    # we might want to consider mutations together? Or consider the actual aligned codon data\n",
    "                    # using the mutation matrix JSON stuff.\n",
    "                    \n",
    "                    # Since we know this position in the genome and its modulo-3 position within this gene, it's\n",
    "                    # relatively simple to extract the codon this position is located within.\n",
    "                    #\n",
    "                    # As noted above, \"cp\" here is a simplification -- this ignores the strand of this gene, which\n",
    "                    # is ok because all we care about right now is just extracting this codon and altering\n",
    "                    # it at the current position.\n",
    "                    #\n",
    "                    # NOTE that it's possible to write this if statement out in two lines of code, using cp\n",
    "                    # to alter the slicing. But... this way is easier to read for me.\n",
    "                    if cp == 1:\n",
    "                        codon = str(self.fasta[pos - 1: pos + 2])\n",
    "                        alt_codon = max_freq_alt_nt + codon[1] + codon[2]\n",
    "                    elif cp == 2:\n",
    "                        codon = str(self.fasta[pos - 2: pos + 1])\n",
    "                        alt_codon = codon[0] + max_freq_alt_nt + codon[2]\n",
    "                    elif cp == 3:\n",
    "                        codon = str(self.fasta[pos - 3: pos])\n",
    "                        alt_codon = codon[0] + codon[1] + max_freq_alt_nt\n",
    "                    else:\n",
    "                        raise ValueError(\"If we're here, Marcus REALLY can't do math\")\n",
    "                \n",
    "                    # It is important that we do this AFTER mutating the codon -- since this way\n",
    "                    # the effect of the mutation will be correct (in this predicted gene it'd be\n",
    "                    # reverse complemented into another nucleotide, and then this reverse-complemented\n",
    "                    # codon would code for something).\n",
    "                    #\n",
    "                    # Another thing worth noting: we are a bit inefficient here -- we always store codons,\n",
    "                    # aas, etc. here as strings, not skbio.DNA / etc. objects. This probably slows things\n",
    "                    # down a bit, but it makes it a lot easier to manipulate these objects.\n",
    "                    if self.strand == \"-\":\n",
    "                        codon = str(skbio.DNA(codon).reverse_complement())\n",
    "                        alt_codon = str(skbio.DNA(alt_codon).reverse_complement())\n",
    "                        \n",
    "                    aa1 = str(skbio.DNA(codon).translate())\n",
    "                    aa2 = str(skbio.DNA(alt_codon).translate())\n",
    "                    if aa1 != aa2:\n",
    "                        self.num_nonsyn_mutations += 1\n",
    "                        \n",
    "                    # Sanity check\n",
    "#                     if self.seq == \"edge_6104\" and self.num == 1217:\n",
    "#                         print(\n",
    "#                             f\"pos = {pos:,}, alt nt = {max_freq_alt_nt}, codon = {codon}, \"\n",
    "#                             f\"alt_codon = {alt_codon}, aa1 = {aa1}, aa2 = {aa2}, nonsyn = {aa1 != aa2}\"\n",
    "#                         )\n",
    "            cp += 1\n",
    "            if cp == 4:\n",
    "                cp = 1\n",
    "            elif cp > 4:\n",
    "                raise ValueError(\"marcus can't do basic math, go complain to him\")\n",
    "                    \n",
    "        self.nonsyn_mutation_rate = self.num_nonsyn_mutations / self.length\n",
    "        self.total_mutation_rate = self.num_total_mutations / self.length"
   ]
  },
  {
   "cell_type": "markdown",
   "id": "velvet-louisville",
   "metadata": {},
   "source": [
    "## Actually go through and output highly mutated genes (in LaTeX code!)\n",
    "\n",
    "Settled on having this code actually output the LaTeX code for the rows in a table. Kinda fancy!\n",
    "\n",
    "Idea for this based on https://stackoverflow.com/questions/49223962#comment85460602_49223962, sort of -- I was thinking of just outputting raw data and having LaTeX mess around and load it somehow, but just straight-up outputting the LaTeX from Python is probably much less of a pain than whatever I would've wound up doing."
   ]
  },
  {
   "cell_type": "code",
   "execution_count": 46,
   "id": "4b94f266",
   "metadata": {},
   "outputs": [],
   "source": [
    "# # For testing this\n",
    "# seq=\"edge_6104\"\n",
    "# fasta = skbio.DNA.read(\"../seqs/{}.fasta\".format(seq))\n",
    "# df = parse_sco(\"../seqs/genes/{}.sco\".format(seq))\n",
    "# for ii, di in enumerate(df.itertuples(), 1):\n",
    "#     if ii == 1217:\n",
    "#         Gene(di, seq, fasta)"
   ]
  },
  {
   "cell_type": "code",
   "execution_count": 48,
   "id": "express-removal",
   "metadata": {
    "execution": {
     "iopub.execute_input": "2021-06-12T03:42:24.165862Z",
     "iopub.status.busy": "2021-06-12T03:42:24.165028Z",
     "iopub.status.idle": "2021-06-12T03:42:37.865461Z",
     "shell.execute_reply": "2021-06-12T03:42:37.864722Z"
    }
   },
   "outputs": [],
   "source": [
    "seq2gene_ct = {}\n",
    "seq2nonsynonymous_mutated_gene_ct = {}\n",
    "seq2mutated_gene_ct = {}\n",
    "seq2avg_gene_len = {}\n",
    "\n",
    "for seq in SEQS:\n",
    "    fasta = skbio.DNA.read(\"../seqs/{}.fasta\".format(seq))\n",
    "    genes = []\n",
    "    df = parse_sco(\"../seqs/genes/{}.sco\".format(seq))\n",
    "    for gene_data in df.itertuples():\n",
    "        genes.append(Gene(gene_data, seq, fasta))\n",
    "    genes_by_mutrate = sorted(genes, key=lambda g: g.total_mutation_rate)\n",
    "    \n",
    "    with open(f\"misc-text/{seq}-highest-mutated-genes.tex\", \"w\") as tblfile:\n",
    "        # Select top 10 genes for each sequence, going by total mutation rate.\n",
    "        # We reverse the order so that the highest-mutation-rate gene is written first, etc.\n",
    "        # (like a \"leaderboard\")\n",
    "        for g in genes_by_mutrate[-10:][::-1]:\n",
    "            tblfile.write(\n",
    "                f\"{g.leftend:,} & {g.rightend:,} & {g.length:,} & {g.num} & {g.nonsyn_mutation_rate * 100:.2f}\\% \"\n",
    "                f\"& {g.total_mutation_rate * 100:.2f}\\% \\\\\\\\ \\\\hline\\n\"\n",
    "            )\n",
    "            \n",
    "    # Save some extra info for the report\n",
    "    seq2gene_ct[seq] = len(genes)\n",
    "    seq2nonsynonymous_mutated_gene_ct[seq] = len([g for g in genes if g.num_nonsyn_mutations > 0])\n",
    "    seq2mutated_gene_ct[seq] = len([g for g in genes if g.num_total_mutations > 0])\n",
    "    seq2avg_gene_len[seq] = round(mean([g.length for g in genes]))"
   ]
  },
  {
   "cell_type": "markdown",
   "id": "industrial-january",
   "metadata": {},
   "source": [
    "## Also, output some stats on the numbers of mutated genes"
   ]
  },
  {
   "cell_type": "code",
   "execution_count": 50,
   "id": "familiar-boutique",
   "metadata": {
    "execution": {
     "iopub.execute_input": "2021-06-12T03:42:37.870704Z",
     "iopub.status.busy": "2021-06-12T03:42:37.869887Z",
     "iopub.status.idle": "2021-06-12T03:42:37.872291Z",
     "shell.execute_reply": "2021-06-12T03:42:37.871514Z"
    }
   },
   "outputs": [
    {
     "name": "stdout",
     "output_type": "stream",
     "text": [
      "Out of a total of 1,297 / 1,761 / 2,567 genes in the CAMP / BACT1 / BACT2 genomes, respectively, 110 / 1,522 / 677 genes have nonzero $p$-mutation rates (using the threshold $p=0.5\\%$, and only considering ``reasonable'' $p$-mutations where the reference nucleotide is also the most frequent, or one of the most frequent, aligned nucleotides). Of these genes, 101 / 1,331 / 572 genes have nonzero nonsynonymous mutation rates. (The rounded average gene lengths for each genome are 919 / 1,106 / 897 bp, respectively.)\\endinput\n"
     ]
    }
   ],
   "source": [
    "with open(\"misc-text/gene-mutation-stats.tex\", \"w\") as of:\n",
    "    # The \\endinput is needed to prevent LaTeX from inserting a bunch of space after this text is\n",
    "    # included using \\input{}. See https://tex.stackexchange.com/a/18018.\n",
    "    # (For some reason, using \\unskip removed ALL whitespace, which looked ugly -- this is the best\n",
    "    # solution I've found thus far.)\n",
    "    out_text = (\n",
    "        (\n",
    "            \"Out of a total of {:,} / {:,} / {:,} genes in the {} / {} / {} genomes, respectively, \"\n",
    "            \"{:,} / {:,} / {:,} genes have nonzero $p$-mutation rates (using the threshold $p=0.5\\%$, \"\n",
    "            \"and only considering ``reasonable'' $p$-mutations where the reference nucleotide is also \"\n",
    "            \"the most frequent, or one of the most frequent, aligned nucleotides). \"\n",
    "            \"Of these genes, {:,} / {:,} / {:,} genes have nonzero nonsynonymous mutation rates. \"\n",
    "            \"(The rounded average gene lengths for each genome are {:,} / {:,} / {:,} bp, respectively.)\\endinput\"\n",
    "        ).format(\n",
    "            *[seq2gene_ct[seq] for seq in SEQS],\n",
    "            *[seq2name[seq] for seq in SEQS],\n",
    "            *[seq2mutated_gene_ct[seq] for seq in SEQS],\n",
    "            *[seq2nonsynonymous_mutated_gene_ct[seq] for seq in SEQS],\n",
    "            *[seq2avg_gene_len[seq] for seq in SEQS]\n",
    "        )\n",
    "    )\n",
    "    print(out_text)\n",
    "    of.write(out_text)"
   ]
  },
  {
   "cell_type": "code",
   "execution_count": null,
   "id": "fe9184c4",
   "metadata": {},
   "outputs": [],
   "source": []
  }
 ],
 "metadata": {
  "kernelspec": {
   "display_name": "Python 3",
   "language": "python",
   "name": "python3"
  },
  "language_info": {
   "codemirror_mode": {
    "name": "ipython",
    "version": 3
   },
   "file_extension": ".py",
   "mimetype": "text/x-python",
   "name": "python",
   "nbconvert_exporter": "python",
   "pygments_lexer": "ipython3",
   "version": "3.7.10"
  }
 },
 "nbformat": 4,
 "nbformat_minor": 5
}
