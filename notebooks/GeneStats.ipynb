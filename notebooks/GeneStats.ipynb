{
 "cells": [
  {
   "cell_type": "markdown",
   "metadata": {},
   "source": [
    "# Gene statistics\n",
    "Not a lot here yet."
   ]
  },
  {
   "cell_type": "code",
   "execution_count": 1,
   "metadata": {
    "execution": {
     "iopub.execute_input": "2021-04-12T11:30:20.298563Z",
     "iopub.status.busy": "2021-04-12T11:30:20.297851Z",
     "iopub.status.idle": "2021-04-12T11:30:38.879558Z",
     "shell.execute_reply": "2021-04-12T11:30:38.880236Z"
    }
   },
   "outputs": [],
   "source": [
    "%run \"Header.ipynb\"\n",
    "%run \"LoadMutationJSONData.ipynb\"\n",
    "%run \"GeneUtils.ipynb\""
   ]
  },
  {
   "cell_type": "markdown",
   "metadata": {},
   "source": [
    "### Quick check: how many genes, and how many bases within genes, are present in each of the three seqs?\n",
    "\n",
    "NOTE: Genes can totally overlap -- this happens in both Prodigal and MetaGeneMark's outputs. We only count a position once, even if it's in more than one gene (... I guess a given position should only be in at most two genes, right?)."
   ]
  },
  {
   "cell_type": "code",
   "execution_count": 2,
   "metadata": {
    "execution": {
     "iopub.execute_input": "2021-04-12T11:30:38.895133Z",
     "iopub.status.busy": "2021-04-12T11:30:38.894316Z",
     "iopub.status.idle": "2021-04-12T11:30:39.393067Z",
     "shell.execute_reply": "2021-04-12T11:30:39.392226Z"
    }
   },
   "outputs": [
    {
     "name": "stdout",
     "output_type": "stream",
     "text": [
      "edge_6104: 1,297 genes, 1,188,438 bases in genes, 100,806 bases not in genes\n",
      "edge_1671: 1,761 genes, 1,945,816 bases in genes, 207,578 bases not in genes\n",
      "edge_2358: 2,568 genes, 2,292,369 bases in genes, 513,792 bases not in genes\n"
     ]
    }
   ],
   "source": [
    "from parse_sco import parse_sco\n",
    "\n",
    "for seq in SEQS:\n",
    "    num_genes = 0\n",
    "    bases_in_genes = set()\n",
    "    df = parse_sco(\"../seqs/genes/{}.sco\".format(seq))\n",
    "    for gene in df.itertuples():\n",
    "        num_genes += 1\n",
    "        bases_in_genes |= set(get_pos_interval_from_gene(gene))\n",
    "    print(\"{}: {:,} genes, {:,} bases in genes, {:,} bases not in genes\".format(\n",
    "        seq, num_genes, len(bases_in_genes), seq2len[seq] - len(bases_in_genes)\n",
    "    ))"
   ]
  }
 ],
 "metadata": {
  "kernelspec": {
   "display_name": "Python (qiime2-2021.2)",
   "language": "python",
   "name": "myenv"
  },
  "language_info": {
   "codemirror_mode": {
    "name": "ipython",
    "version": 3
   },
   "file_extension": ".py",
   "mimetype": "text/x-python",
   "name": "python",
   "nbconvert_exporter": "python",
   "pygments_lexer": "ipython3",
   "version": "3.7.9"
  }
 },
 "nbformat": 4,
 "nbformat_minor": 4
}
