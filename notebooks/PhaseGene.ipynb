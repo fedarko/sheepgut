{
 "cells": [
  {
   "cell_type": "markdown",
   "metadata": {},
   "source": [
    "# Perform \"phasing\" analyses on a region within a sequence\n",
    "\n",
    "In this case, within a single gene within the CAMP genome."
   ]
  },
  {
   "cell_type": "code",
   "execution_count": 1,
   "metadata": {
    "execution": {
     "iopub.execute_input": "2021-04-08T05:20:06.403906Z",
     "iopub.status.busy": "2021-04-08T05:20:06.402871Z",
     "iopub.status.idle": "2021-04-08T05:20:06.781107Z",
     "shell.execute_reply": "2021-04-08T05:20:06.780095Z"
    }
   },
   "outputs": [],
   "source": [
    "%run \"Header.ipynb\""
   ]
  },
  {
   "cell_type": "code",
   "execution_count": 2,
   "metadata": {
    "execution": {
     "iopub.execute_input": "2021-04-08T05:20:06.787015Z",
     "iopub.status.busy": "2021-04-08T05:20:06.786160Z",
     "iopub.status.idle": "2021-04-08T05:20:30.973718Z",
     "shell.execute_reply": "2021-04-08T05:20:30.974387Z"
    }
   },
   "outputs": [],
   "source": [
    "%run \"LoadMutationJSONData.ipynb\""
   ]
  },
  {
   "cell_type": "code",
   "execution_count": 1,
   "metadata": {},
   "outputs": [
    {
     "ename": "ModuleNotFoundError",
     "evalue": "No module named 'pysam'",
     "output_type": "error",
     "traceback": [
      "\u001b[0;31m---------------------------------------------------------------------------\u001b[0m",
      "\u001b[0;31mModuleNotFoundError\u001b[0m                       Traceback (most recent call last)",
      "\u001b[0;32m<ipython-input-1-52f531cac047>\u001b[0m in \u001b[0;36m<module>\u001b[0;34m\u001b[0m\n\u001b[1;32m      1\u001b[0m \u001b[0;32mimport\u001b[0m \u001b[0mmath\u001b[0m\u001b[0;34m\u001b[0m\u001b[0;34m\u001b[0m\u001b[0m\n\u001b[1;32m      2\u001b[0m \u001b[0;32mimport\u001b[0m \u001b[0mstatistics\u001b[0m\u001b[0;34m\u001b[0m\u001b[0;34m\u001b[0m\u001b[0m\n\u001b[0;32m----> 3\u001b[0;31m \u001b[0;32mimport\u001b[0m \u001b[0mpysam\u001b[0m\u001b[0;34m\u001b[0m\u001b[0;34m\u001b[0m\u001b[0m\n\u001b[0m\u001b[1;32m      4\u001b[0m \u001b[0;32mimport\u001b[0m \u001b[0mskbio\u001b[0m\u001b[0;34m\u001b[0m\u001b[0;34m\u001b[0m\u001b[0m\n\u001b[1;32m      5\u001b[0m \u001b[0;32mfrom\u001b[0m \u001b[0mitertools\u001b[0m \u001b[0;32mimport\u001b[0m \u001b[0mcombinations\u001b[0m\u001b[0;34m\u001b[0m\u001b[0;34m\u001b[0m\u001b[0m\n",
      "\u001b[0;31mModuleNotFoundError\u001b[0m: No module named 'pysam'"
     ]
    }
   ],
   "source": [
    "import statistics\n",
    "import scipy\n",
    "import pysam\n",
    "import skbio\n",
    "from itertools import combinations"
   ]
  },
  {
   "cell_type": "markdown",
   "metadata": {},
   "source": [
    "## Find all reads spanning this gene\n",
    "Note that reads could in theory have lots of mismatches, deletions, etc. in the middle of their alignments to this gene -- I think this is ok, since we've already filtered partially-mapped reads."
   ]
  },
  {
   "cell_type": "code",
   "execution_count": null,
   "metadata": {},
   "outputs": [],
   "source": [
    "bf = pysam.AlignmentFile(\"../main-workflow/output/fully-filtered-and-sorted-aln.bam\", \"rb\")\n",
    "\n",
    "# The gene's coordinates (1-indexed), as output by Prodigal, are\n",
    "# [1,208,927, 1,210,075] (that's an inclusive range -- you can check that our\n",
    "# interpretation of these coordinates is correct by comparing the protein\n",
    "# sequences accompanying this gene predicted by Prodigal with the actual\n",
    "# CAMP sequence -- it's clear that the codons match up).\n",
    "#\n",
    "# For 0-indexing in Python / Pysam notation, we represent this as\n",
    "# [1,208,926, 1,210,075) -- Python / Pysam end coordinates are not included,\n",
    "# so this really ranges to 1,210,074.\n",
    "g1 = (1208926, 1210075)\n",
    "\n",
    "# Figure out all reads that completely span this gene (i.e. they are aligned\n",
    "# to start at or \"before\" the start of the gene, and they are aligned to end\n",
    "# at or \"after\" the end of the gene).\n",
    "spanning_reads = []\n",
    "for read in bf.fetch(\"edge_6104\", g1[0], g1[1]):\n",
    "    # fetch() returns all reads that are incident on a region, but this\n",
    "    # includes reads that don't fully cover the region. Hence our checking that\n",
    "    # the read covers the gene on both sides (it doesn't start and/or end\n",
    "    # within the middle of the gene).\n",
    "    read_pos = read.get_reference_positions()\n",
    "    if read_pos[0] <= g1[0] and read_pos[-1] >= g1[1] - 1:\n",
    "        spanning_reads.append(read)\n",
    "\n",
    "print(\"{} spanning reads.\".format(len(spanning_reads)))\n",
    "        \n",
    "# Double-check that no read names are duplicated in the spanning reads -- this could\n",
    "# happen in theory if a given read has multiple supplementary alignments within this\n",
    "# region, I suppose. (The fetch() function in Pysam technically returns an AlignedSegment,\n",
    "# not a \"read\" -- since a read can be associated with multiple AlignedSegments in the case\n",
    "# of supplementary alignments.)\n",
    "#\n",
    "# If any reads were to occur twice here, it probably wouldn't change much in our\n",
    "# interpretation (I suppose it would introduce some bias in our statistics) -- to make\n",
    "# sleeping at night easier, it's useful to be able to say confidently that all of the\n",
    "# spanning reads we analyze here contain no duplicates. Hence this check!\n",
    "read_names = [r.query_name for r in spanning_reads]\n",
    "if len(set(read_names)) != len(read_names):\n",
    "    raise ValueError(\n",
    "        \"It looks like there are some duplicated 'spanning reads' in the G1 phasing analysis.\"\n",
    "    )"
   ]
  },
  {
   "cell_type": "markdown",
   "metadata": {},
   "source": [
    "## Find all notably \"mutated\" positions in this gene"
   ]
  },
  {
   "cell_type": "code",
   "execution_count": null,
   "metadata": {},
   "outputs": [],
   "source": [
    "# \"brevity is the soul of wit, but specificity is the soul of not writing code\n",
    "# that you forget about one week later\" -- definitely shakespeare\n",
    "LOWER_CUTOFF_FOR_WHAT_CONSTITUTES_A_MUTATED_POSITION_HERE = 0.14\n",
    "\n",
    "mutated_positions = []\n",
    "for pos in range(g1[0], g1[1]):\n",
    "    # Keep in mind that the JSONs use string, 1-indexed coordinates, while Pysam (generally)\n",
    "    # uses Python-style 0-indexed coordinates\n",
    "    spos = str(pos + 1)\n",
    "    if seq2pos2totalcov[\"edge_6104\"][spos] > 0:\n",
    "        matches = seq2pos2matchct[\"edge_6104\"][spos]\n",
    "        mismatches = seq2pos2mismatchct[\"edge_6104\"][spos]\n",
    "        if mismatches / (matches + mismatches) > LOWER_CUTOFF_FOR_WHAT_CONSTITUTES_A_MUTATED_POSITION_HERE:\n",
    "            mutated_positions.append(pos)\n",
    "\n",
    "num_mut_pos = len(mutated_positions)\n",
    "            \n",
    "print(\n",
    "    \"{} mutated positions, using cutoff of {}.\".format(\n",
    "        num_mut_pos,\n",
    "        LOWER_CUTOFF_FOR_WHAT_CONSTITUTES_A_MUTATED_POSITION_HERE\n",
    "    )\n",
    ")"
   ]
  },
  {
   "cell_type": "markdown",
   "metadata": {},
   "source": [
    "## Figure out how many reads spanning the gene support pairs of mutations in particularly \"mutated\" positions\n",
    "\n",
    "This performs the (main) analysis described in the section \"Phasing gene G1\" of the paper."
   ]
  },
  {
   "cell_type": "code",
   "execution_count": null,
   "metadata": {},
   "outputs": [],
   "source": [
    "# Extract the reference sequence of the gene. This will let us figure out\n",
    "# easily (ish) which reads are mutated at which positions.\n",
    "camp = skbio.DNA.read(\"../main-workflow/output/edge_6104.fasta\")\n",
    "geneseq = camp[g1[0]:g1[1]]\n",
    "\n",
    "# Go through all pairs of N mutated positions (ignoring ordering). There'll\n",
    "# be (N choose 2) pairs to go through.\n",
    "num_pairs = scipy.special.comb(num_mut_pos, 2)\n",
    "print(\n",
    "    \"{} choose 2 = {} pairs of the {} mutated positions.\".format(\n",
    "        num_mut_pos, num_pairs, num_mut_pos\n",
    "    )\n",
    ")\n",
    "\n",
    "num_bothmutated_reads_across_all_mutated_pos_pairs = []\n",
    "ii = 1\n",
    "for mpospair in combinations(mutated_positions, 2):\n",
    "    # Save the mutated positions in easier-to-handle variables.\n",
    "    p0, p1 = mpospair\n",
    "\n",
    "    # Do some basic sanity-checking -- this'll help us as we\n",
    "    # iterate through reads below.\n",
    "    if p0 == p1: raise ValueError(\"p0 should never equal p1\")\n",
    "    if p0 > p1: raise ValueError(\"p0 should be < p1\")\n",
    "\n",
    "    # Find out the reference nucleotides at p0 and at p1.\n",
    "    p0ref = str(camp[p0])\n",
    "    p1ref = str(camp[p1])\n",
    "    print(\n",
    "        \"Pair {} / {}. Ref p0 = {}, p1 = {}; p0 = {}, p1 = {}\".format(\n",
    "            ii, num_pairs, p0, p1, p0ref, p1ref\n",
    "        )\n",
    "    )\n",
    "    \n",
    "    # Figure out how many spanning reads have mutations at BOTH p0 and p1.\n",
    "    num_bothmutated_reads = 0\n",
    "    num_reads_that_didnt_skip_either_position = 0\n",
    "    for read in spanning_reads:\n",
    "        # Figure out where, exactly, in this read was aligned to p0 and p1.\n",
    "        # (Oh, and for clarity -- the first element in each aligned pairs tuple\n",
    "        # is the read position, and the second element is the reference position.\n",
    "        # It's not explicitly stated in Pysam's docs.)\n",
    "        ap = read.get_aligned_pairs()\n",
    "        query_pos_aligned_to_p0 = None\n",
    "        query_pos_aligned_to_p1 = None\n",
    "        for pair in ap:\n",
    "            # (... this assumes that p0 will never equal p1. that'd be bad. we've\n",
    "            # guaranteed this above.)\n",
    "            if pair[1] == p0:\n",
    "                query_pos_aligned_to_p0 = pair[0]\n",
    "            elif pair[1] == p1:\n",
    "                query_pos_aligned_to_p1 = pair[0]\n",
    "                # relies on p0 < p1, which we've guaranteed above;\n",
    "                # this break statement lets us avoid unnecessary iteration\n",
    "                break\n",
    "                \n",
    "        # If this read wasn't aligned to either or both of these positions\n",
    "        # (could be due to deletions, etc.) then just ignore this read.\n",
    "        if query_pos_aligned_to_p0 is None or query_pos_aligned_to_p1 is None:\n",
    "            continue\n",
    "            \n",
    "        # Now that we know the exact positions in this read that were aligned\n",
    "        # to p0 and p1, extract the nucleotides at these positions in the read\n",
    "        p0query = read.query_sequence[query_pos_aligned_to_p0]\n",
    "        p1query = read.query_sequence[query_pos_aligned_to_p1]\n",
    "        \n",
    "        # Does the read disagree at BOTH positions?\n",
    "        if p0query != p0ref and p1query != p1ref:\n",
    "            # (for debugging)\n",
    "            #print(\"Disagreement! Read name = {}\".format(read.query_name))\n",
    "            #print(\"Read p0 pos = {}, seq = {}\".format(query_pos_aligned_to_p0, p0query))\n",
    "            #print(\"Read p1 pos = {}, seq = {}\".format(query_pos_aligned_to_p1, p1query))\n",
    "            num_bothmutated_reads += 1\n",
    "        \n",
    "        # In any case, we did consider this read in the context of this pair of positions,\n",
    "        # at least.\n",
    "        num_reads_that_didnt_skip_either_position += 1\n",
    "        \n",
    "    num_bothmutated_reads_across_all_mutated_pos_pairs.append(\n",
    "        num_bothmutated_reads\n",
    "    )\n",
    "    print(\n",
    "        \"Pair of mutations {} had {} reads mutated at both p0 and p1.\".format(\n",
    "            mpospair, num_bothmutated_reads\n",
    "        )\n",
    "    )\n",
    "    print(\n",
    "        \"...Also, {} / {} spanning reads were aligned to both p0 and p1.\".format(\n",
    "            num_reads_that_didnt_skip_either_position, len(spanning_reads)\n",
    "        )\n",
    "    )\n",
    "    ii += 1\n",
    "\n",
    "print(\"Average # of both-mutated reads across all mutated position pairs: {}\".format(statistics.mean(num_bothmutated_reads_across_all_mutated_pos_pairs)))\n",
    "print(\"Std. dev. of both-mutated reads across all mutated position pairs: {}\".format(statistics.pstdev(num_bothmutated_reads_across_all_mutated_pos_pairs)))"
   ]
  },
  {
   "cell_type": "markdown",
   "metadata": {},
   "source": [
    "## Create a histogram of the number of reads with a given number of mutations within a gene\n",
    "\n",
    "Intended to emphasize the \"binary\" nature of the mutation spectra.\n",
    "\n",
    "We can reuse a lot of the results from above (e.g. spanning reads) here."
   ]
  },
  {
   "cell_type": "code",
   "execution_count": 1,
   "metadata": {},
   "outputs": [
    {
     "ename": "NameError",
     "evalue": "name 'skbio' is not defined",
     "output_type": "error",
     "traceback": [
      "\u001b[0;31m---------------------------------------------------------------------------\u001b[0m",
      "\u001b[0;31mNameError\u001b[0m                                 Traceback (most recent call last)",
      "\u001b[0;32m<ipython-input-1-5291af3d2679>\u001b[0m in \u001b[0;36m<module>\u001b[0;34m\u001b[0m\n\u001b[1;32m      6\u001b[0m \u001b[0mg1\u001b[0m \u001b[0;34m=\u001b[0m \u001b[0;34m(\u001b[0m\u001b[0;36m1208926\u001b[0m\u001b[0;34m,\u001b[0m \u001b[0;36m1210075\u001b[0m\u001b[0;34m)\u001b[0m\u001b[0;34m\u001b[0m\u001b[0;34m\u001b[0m\u001b[0m\n\u001b[1;32m      7\u001b[0m \u001b[0;34m\u001b[0m\u001b[0m\n\u001b[0;32m----> 8\u001b[0;31m \u001b[0mcamp\u001b[0m \u001b[0;34m=\u001b[0m \u001b[0mskbio\u001b[0m\u001b[0;34m.\u001b[0m\u001b[0mDNA\u001b[0m\u001b[0;34m.\u001b[0m\u001b[0mread\u001b[0m\u001b[0;34m(\u001b[0m\u001b[0;34m\"output/edge_6104.fasta\"\u001b[0m\u001b[0;34m)\u001b[0m\u001b[0;34m\u001b[0m\u001b[0;34m\u001b[0m\u001b[0m\n\u001b[0m\u001b[1;32m      9\u001b[0m \u001b[0;34m\u001b[0m\u001b[0m\n\u001b[1;32m     10\u001b[0m \u001b[0;31m# Figure out all reads that completely cover this gene (i.e. they are aligned\u001b[0m\u001b[0;34m\u001b[0m\u001b[0;34m\u001b[0m\u001b[0;34m\u001b[0m\u001b[0m\n",
      "\u001b[0;31mNameError\u001b[0m: name 'skbio' is not defined"
     ]
    }
   ],
   "source": [
    "num_mutations_in_gene_per_spanning_read = []\n",
    "for read in spanning_reads:\n",
    "    num_mutations_in_gene = 0\n",
    "    ap = read.get_aligned_pairs()\n",
    "    for pair in ap:\n",
    "        if pair[1] in range(g1[0], g1[1]) and pair[0] is not None:\n",
    "            query_pos = pair[0]\n",
    "            query_seq = read.query_sequence[query_pos]\n",
    "            ref_seq = str(camp[pair[1]])\n",
    "            if query_seq != ref_seq:\n",
    "                num_mutations_in_gene += 1\n",
    "    num_mutations_in_gene_per_spanning_read.append(num_mutations_in_gene)\n",
    "    \n",
    "read_mp_cts = sorted(num_mutations_in_gene_per_spanning_read)"
   ]
  },
  {
   "cell_type": "code",
   "execution_count": 14,
   "metadata": {
    "execution": {
     "iopub.execute_input": "2021-04-08T05:24:13.456281Z",
     "iopub.status.busy": "2021-04-08T05:24:13.438334Z",
     "iopub.status.idle": "2021-04-08T05:24:13.787318Z",
     "shell.execute_reply": "2021-04-08T05:24:13.788029Z"
    }
   },
   "outputs": [
    {
     "data": {
      "image/png": "[encoded data removed]",
      "text/plain": [
       "<Figure size 432x288 with 1 Axes>"
      ]
     },
     "metadata": {},
     "output_type": "display_data"
    }
   ],
   "source": [
    "pyplot.hist(read_mp_cts)\n",
    "pyplot.title(\n",
    "    (\n",
    "        \"Number of reads containing a given number of\\n\"\n",
    "        \"mutated positions within a gene in {}\\n\"\n",
    "        \"(left end: {:,}, right end: {:,})\"\n",
    "    ).format(\n",
    "        seq2name[\"edge_6104\"], g1[0] + 1, g1[1]\n",
    "    )\n",
    ")\n",
    "use_thousands_sep(pyplot.gca().get_yaxis())\n",
    "pyplot.ylabel(\"Frequency (number of reads)\")\n",
    "pyplot.xlabel(\"Number of mutated positions within this gene in a read\")\n",
    "pyplot.savefig(\"figs/g1-read-mutation-histogram.png\", bbox_inches=\"tight\")"
   ]
  },
  {
   "cell_type": "code",
   "execution_count": 15,
   "metadata": {
    "execution": {
     "iopub.execute_input": "2021-04-08T05:24:13.796325Z",
     "iopub.status.busy": "2021-04-08T05:24:13.795426Z",
     "iopub.status.idle": "2021-04-08T05:24:13.802174Z",
     "shell.execute_reply": "2021-04-08T05:24:13.802898Z"
    }
   },
   "outputs": [
    {
     "name": "stdout",
     "output_type": "stream",
     "text": [
      "3023 reads have 0 mutated positions within the gene.\n",
      "172 reads have 1 mutated positions within the gene.\n",
      "86 reads have 2 mutated positions within the gene.\n",
      "53 reads have 3 mutated positions within the gene.\n",
      "26 reads have 4 mutated positions within the gene.\n",
      "16 reads have 5 mutated positions within the gene.\n",
      "11 reads have 6 mutated positions within the gene.\n",
      "9 reads have 7 mutated positions within the gene.\n",
      "4 reads have 8 mutated positions within the gene.\n",
      "1 reads have 9 mutated positions within the gene.\n",
      "1 reads have 10 mutated positions within the gene.\n",
      "2 reads have 11 mutated positions within the gene.\n",
      "3 reads have 12 mutated positions within the gene.\n",
      "1 reads have 13 mutated positions within the gene.\n",
      "1 reads have 16 mutated positions within the gene.\n",
      "1 reads have 18 mutated positions within the gene.\n",
      "1 reads have 19 mutated positions within the gene.\n",
      "1 reads have 32 mutated positions within the gene.\n",
      "34 reads have 33 mutated positions within the gene.\n",
      "567 reads have 34 mutated positions within the gene.\n",
      "29 reads have 35 mutated positions within the gene.\n",
      "10 reads have 36 mutated positions within the gene.\n",
      "7 reads have 37 mutated positions within the gene.\n",
      "2 reads have 38 mutated positions within the gene.\n",
      "1 reads have 39 mutated positions within the gene.\n",
      "3 reads have 41 mutated positions within the gene.\n",
      "1 reads have 43 mutated positions within the gene.\n",
      "1 reads have 44 mutated positions within the gene.\n",
      "1 reads have 46 mutated positions within the gene.\n",
      "1 reads have 54 mutated positions within the gene.\n",
      "ALSO: 658 reads total have >= 32 mutated positions within the gene.\n"
     ]
    }
   ],
   "source": [
    "# Heeding the wisdom of https://stackoverflow.com/a/2600208\n",
    "# ... it's been a long night\n",
    "from collections import Counter\n",
    "c = Counter(read_mp_cts)\n",
    "geq_32_ct = 0\n",
    "for num_mutated_positions in c.keys():\n",
    "    print(\"{} reads have {} mutated positions within the gene.\".format(\n",
    "        c[num_mutated_positions], num_mutated_positions\n",
    "    ))\n",
    "    if num_mutated_positions >= 32:\n",
    "        geq_32_ct += c[num_mutated_positions]\n",
    "print(\"ALSO: {} reads total have >= 32 mutated positions within the gene.\".format(geq_32_ct))"
   ]
  },
  {
   "cell_type": "code",
   "execution_count": null,
   "metadata": {},
   "outputs": [],
   "source": []
  }
 ],
 "metadata": {
  "kernelspec": {
   "display_name": "Python (qiime2-2021.2)",
   "language": "python",
   "name": "myenv"
  },
  "language_info": {
   "codemirror_mode": {
    "name": "ipython",
    "version": 3
   },
   "file_extension": ".py",
   "mimetype": "text/x-python",
   "name": "python",
   "nbconvert_exporter": "python",
   "pygments_lexer": "ipython3",
   "version": "3.6.13"
  }
 },
 "nbformat": 4,
 "nbformat_minor": 4
}
