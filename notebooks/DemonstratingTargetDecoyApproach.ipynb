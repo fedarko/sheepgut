{
 "cells": [
  {
   "cell_type": "markdown",
   "metadata": {},
   "source": [
    "# Demonstrate the \"target-decoy\" approach, as applied to metagenomic variant calling"
   ]
  },
  {
   "cell_type": "code",
   "execution_count": 1,
   "metadata": {
    "execution": {
     "iopub.execute_input": "2021-06-19T09:12:46.072627Z",
     "iopub.status.busy": "2021-06-19T09:12:46.071700Z",
     "iopub.status.idle": "2021-06-19T09:12:46.350765Z",
     "shell.execute_reply": "2021-06-19T09:12:46.349866Z"
    }
   },
   "outputs": [],
   "source": [
    "%run \"Header.ipynb\""
   ]
  },
  {
   "cell_type": "code",
   "execution_count": 7,
   "metadata": {},
   "outputs": [],
   "source": [
    "import skbio\n",
    "import pileup\n",
    "from parse_sco import parse_sco"
   ]
  },
  {
   "cell_type": "code",
   "execution_count": 2,
   "metadata": {},
   "outputs": [],
   "source": [
    "seq2pos2pileup = pileup.load()"
   ]
  },
  {
   "cell_type": "code",
   "execution_count": 5,
   "metadata": {
    "execution": {
     "iopub.execute_input": "2021-06-19T09:12:46.900714Z",
     "iopub.status.busy": "2021-06-19T09:12:46.899915Z",
     "iopub.status.idle": "2021-06-19T09:12:46.902209Z",
     "shell.execute_reply": "2021-06-19T09:12:46.901568Z"
    }
   },
   "outputs": [],
   "source": [
    "m = 5\n",
    "percentages = [50, 25, 10, 5, 2, 1, 0.5, 0.25, 0.1, 0.05]\n",
    "p2pct = get_p2pct(percentages)\n",
    "p2mincov = get_p2mincov(percentages, m)"
   ]
  },
  {
   "cell_type": "code",
   "execution_count": 6,
   "metadata": {},
   "outputs": [],
   "source": [
    "# Maps seq name -> list of 1-indexed positions where we \"call\" a mutation\n",
    "seq2naively_called_mutations = {}\n",
    "seq2lofreq_called_mutations = {}"
   ]
  },
  {
   "cell_type": "code",
   "execution_count": null,
   "metadata": {},
   "outputs": [],
   "source": [
    "# Naively call mutations\n",
    "for seq in SEQS:\n",
    "    positions = range(1, seq2len[seq] + 1)\n",
    "    for pos in positions:\n",
    "        pass\n",
    "    \n",
    "# Find mutations in CAMP\n",
    "# Compute frac_decoy\n",
    "# Estimate FDR of mutations in other genomes"
   ]
  },
  {
   "cell_type": "code",
   "execution_count": null,
   "metadata": {},
   "outputs": [],
   "source": []
  }
 ],
 "metadata": {
  "kernelspec": {
   "display_name": "Python 3",
   "language": "python",
   "name": "python3"
  },
  "language_info": {
   "codemirror_mode": {
    "name": "ipython",
    "version": 3
   },
   "file_extension": ".py",
   "mimetype": "text/x-python",
   "name": "python",
   "nbconvert_exporter": "python",
   "pygments_lexer": "ipython3",
   "version": "3.7.10"
  }
 },
 "nbformat": 4,
 "nbformat_minor": 4
}
