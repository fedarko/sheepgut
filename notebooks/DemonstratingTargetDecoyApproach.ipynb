{
 "cells": [
  {
   "cell_type": "markdown",
   "metadata": {},
   "source": [
    "# Demonstrate the \"target-decoy\" approach, as applied to metagenomic variant calling"
   ]
  },
  {
   "cell_type": "code",
   "execution_count": 1,
   "metadata": {
    "execution": {
     "iopub.execute_input": "2021-06-19T09:12:46.072627Z",
     "iopub.status.busy": "2021-06-19T09:12:46.071700Z",
     "iopub.status.idle": "2021-06-19T09:12:46.350765Z",
     "shell.execute_reply": "2021-06-19T09:12:46.349866Z"
    }
   },
   "outputs": [],
   "source": [
    "%run \"Header.ipynb\""
   ]
  },
  {
   "cell_type": "code",
   "execution_count": 2,
   "metadata": {},
   "outputs": [],
   "source": [
    "import skbio\n",
    "import pileup\n",
    "from parse_sco import parse_sco"
   ]
  },
  {
   "cell_type": "code",
   "execution_count": 3,
   "metadata": {},
   "outputs": [],
   "source": [
    "seq2pos2pileup = pileup.load()"
   ]
  },
  {
   "cell_type": "markdown",
   "metadata": {},
   "source": [
    "## First: naive variant calling (call a position as \"$p$-mutated\" if $freq(pos) > p$)\n",
    "\n",
    "We don't limit to \"sufficiently-covered\" positions here -- so we consider all regions throughout a genome."
   ]
  },
  {
   "cell_type": "code",
   "execution_count": 4,
   "metadata": {
    "execution": {
     "iopub.execute_input": "2021-06-19T09:12:46.900714Z",
     "iopub.status.busy": "2021-06-19T09:12:46.899915Z",
     "iopub.status.idle": "2021-06-19T09:12:46.902209Z",
     "shell.execute_reply": "2021-06-19T09:12:46.901568Z"
    }
   },
   "outputs": [
    {
     "name": "stdout",
     "output_type": "stream",
     "text": [
      "First two percentages: [50.0, 49.95]\n",
      "Last two percentages: [0.1, 0.05]\n",
      "Number of percentages: 1,000\n"
     ]
    }
   ],
   "source": [
    "# Percentages go from 50%, 49.95%, 49.90%, ..., 0.10%, 0.05%\n",
    "percentages = [p / 100 for p in range(5, 5001, 5)][::-1]\n",
    "print(f\"First two percentages: {percentages[:2]}\")\n",
    "print(f\"Last two percentages: {percentages[-2:]}\")\n",
    "print(f\"Number of percentages: {len(percentages):,}\")\n",
    "p2pct = get_p2pct(percentages)"
   ]
  },
  {
   "cell_type": "code",
   "execution_count": 5,
   "metadata": {},
   "outputs": [],
   "source": [
    "def naive_calling(seq, positions_to_consider, verbose=True, superverbose=False):\n",
    "    \"\"\"seq should be in SEQS.\n",
    "    \n",
    "    positions_to_consider should be a collection of 1-indexed positions in the sequence to consider when\n",
    "    calling mutations. This makes it possible to, for example, just consider the CP 2 positions in a sequence.\n",
    "    \n",
    "    Returns a tuple with three elements:\n",
    "    \n",
    "    1. p2called_mutations: A dict mapping values in \"percentages\" (defined above) to a list of 1-indexed\n",
    "       \"called\" p-mutations in the positions to consider in the sequence, using this percentage for p.\n",
    "       \n",
    "    2. p2numpermb: A dict with the same keys as p2called_mutations, but the values are the number of called\n",
    "       p-mutations per megabase (1,000,000 bp = 1 Mbp) in the positions to consider in this sequence.\n",
    "       IT'S DEFINITELY WORTH NOTING that we scale this by the number of positions to consider, not the full\n",
    "       sequence length (although it's possible that those values could be equal if positions_to_consider\n",
    "       is equal to range(1, seq2len[seq] + 1)). So, if you select a subset of positions where most of them\n",
    "       are mutations, this'll result in a really high number of mutations per megabase!\n",
    "       ...I recognize \"numpermb\" doesn't really roll off the tongue, but I couldn't think\n",
    "       of a better name for this :P\n",
    "       \n",
    "    3. poslen: Length of positions_to_consider, for reference.\n",
    "    \"\"\"\n",
    "    poslen = len(positions_to_consider)\n",
    "    seqlen = seq2len[seq]\n",
    "    positions_to_consider_pct = 100 * (poslen / seqlen)\n",
    "    if verbose:\n",
    "        print(f\"Naively calling mutations in {seq2name[seq]}.\")\n",
    "        print(f\"\\tConsidering {poslen:,} / {seqlen:,} ({positions_to_consider_pct:.2f}%) positions.\")\n",
    "    p2called_mutations = {p: [] for p in percentages}\n",
    "    p2numpermb = {}\n",
    "    for pi, pos in enumerate(sorted(positions_to_consider), 1):\n",
    "        if verbose and (pi == 1 or pi % 100000 == 0):\n",
    "            print(f\"\\tOn the {pi:,}-th position ({pos:,}) of the specified {poslen:,} positions ({100 * (pi / poslen):.2f}%).\")\n",
    "        pos_pileup = seq2pos2pileup[seq][pos]\n",
    "        mfa_pct = pileup.get_max_freq_alt_nt_pct(pos_pileup)\n",
    "        for p in percentages:\n",
    "            if mfa_pct > p2pct[p]:\n",
    "                p2called_mutations[p].append(pos)\n",
    "                \n",
    "    # We have the equation\n",
    "    #\n",
    "    #      # called mutations              f\n",
    "    # ---------------------------- = --------------\n",
    "    #  # of positions to consider     1,000,000 bp\n",
    "    #\n",
    "    # We know everything except for f. We can solve for f by multiplying the left side of the\n",
    "    # equation by 1,000,000 bp. Since the only variable across different thresholds of p is the number\n",
    "    # of called mutations, we can pre-compute this \"constant length factor\" (aka 1,000,000 / poslen).\n",
    "    constant_length_factor = 1000000 / poslen\n",
    "    for p in p2called_mutations:\n",
    "        num_called_mutations = len(p2called_mutations[p])\n",
    "        # solve the equation above\n",
    "        f = num_called_mutations * constant_length_factor\n",
    "        p2numpermb[p] = f\n",
    "        # We add an extra layer of verbosity here because printing out 2 lines per value of p gets\n",
    "        # ridiculous when there are 1,000 values of p .____.\n",
    "        if superverbose:\n",
    "            print(f\"\\tp = {p}%: {num_called_mutations:,} called p-mutations in {seq2name[seq]}.\")\n",
    "            print(f\"\\t\\tNumber of called p-mutations per megabase: f = {f:,.2f}.\")\n",
    "        \n",
    "    return (p2called_mutations, p2numpermb, poslen)\n",
    "\n",
    "\n",
    "def naive_calling_fullseq(seq):\n",
    "    \"\"\"Does naive variant calling across all positions in a sequence (should be in SEQS).\"\"\"\n",
    "    return naive_calling(seq, range(1, seq2len[seq] + 1))\n",
    "\n",
    "\n",
    "def naive_calling_cp2seq(seq):\n",
    "    \"\"\"Does naive variant calling across just the CP 2 positions in a sequence (should be in SEQS).\n",
    "    \n",
    "    NOTE that this will filter only to positions that meet the exact criteria:\n",
    "    \n",
    "    - In a single gene (not in a position that is covered by overlapping genes).\n",
    "    - In CP 2 within this single gene.\n",
    "    \n",
    "    Even if a position is in CP 2 of all the multiple genes it's covered by, we'll still ignore it.\n",
    "    I'm pretty sure there should be very few positions that get tossed out as a result; my take is that\n",
    "    it isn't worth the trouble to try to handle these positions.\n",
    "    \"\"\"\n",
    "    print(f\"Identifying CP 2 positions in {seq2name[seq]} so we can use them as a decoy genome...\")\n",
    "    cp2_positions = set()\n",
    "    multi_gene_positions = set()\n",
    "    \n",
    "    seqlen = seq2len[seq]\n",
    "    genes_df = parse_sco(f\"../seqs/genes/{seq}.sco\")\n",
    "    \n",
    "    # Code here is adapted from get_parent_gene_info_of_many_positions (in Header.ipynb) a bit\n",
    "    # Faster to compute everything at once, rather than iterate through the genes multiple times\n",
    "    pos_to_genes = defaultdict(list)\n",
    "    \n",
    "    for gene in genes_df.itertuples():\n",
    "        gene_left = int(gene.LeftEnd)\n",
    "        gene_right = int(gene.RightEnd)\n",
    "        gene_num = int(gene.Index)\n",
    "        gene_strand = gene.Strand\n",
    "        \n",
    "        def complainAboutCPs(gn, gs, gcp):\n",
    "            raise ValueError(f\"CP got out of whack: gene {gn}, strand {gs}, cp {gcp}?\")\n",
    "        \n",
    "        if gene_strand == \"+\":\n",
    "            cp = 1\n",
    "        else:\n",
    "            cp = 3\n",
    "        \n",
    "        for pos in range(gene_left, gene_right + 1):\n",
    "            pos_to_genes[pos].append(gene_num)\n",
    "            if len(pos_to_genes[pos]) > 1:\n",
    "                multi_gene_positions.add(pos)\n",
    "                \n",
    "            if cp == 2:\n",
    "                cp2_positions.add(pos)\n",
    "                \n",
    "            # Adjust the CP. I already have some code that does this (in a different context) in the within-\n",
    "            # gene mutation spectrum notebook; ideally this code would be generalized between the notebooks.\n",
    "            if gene_strand == \"+\":\n",
    "                # For + strand genes, this goes 123123123123...\n",
    "                if cp == 1 or cp == 2: cp += 1\n",
    "                elif cp == 3: cp = 1\n",
    "                else: complainAboutCPs(gene_num, gene_strand, cp)\n",
    "            else:\n",
    "                # For - strand genes, this goes 321321321321...\n",
    "                if cp == 3 or cp == 2: cp -= 1\n",
    "                elif cp == 1: cp = 3\n",
    "                else: complainAboutCPs(gene_num, gene_strand, cp)\n",
    "    \n",
    "    single_gene_cp2_positions = cp2_positions - multi_gene_positions\n",
    "    print(f\"In {seq2name[seq]}:\")\n",
    "    print(f\"\\tThere were {len(cp2_positions):,} CP 2 positions.\")\n",
    "    print(f\"\\tThere were {len(multi_gene_positions):,} positions in multiple genes.\")\n",
    "    print(f\"\\tThere were {len(single_gene_cp2_positions):,} CP 2 positions in only a single gene.\")\n",
    "    return naive_calling(seq, single_gene_cp2_positions)"
   ]
  },
  {
   "cell_type": "markdown",
   "metadata": {},
   "source": [
    "### Naively call mutations in CAMP and compute $\\mathrm{frac}_{\\mathrm{decoy}}$\n",
    "\n",
    "(We're treating CAMP as a \"decoy\" genome, where we assume that all called mutations within it will be incorrect.)"
   ]
  },
  {
   "cell_type": "code",
   "execution_count": 6,
   "metadata": {},
   "outputs": [
    {
     "name": "stdout",
     "output_type": "stream",
     "text": [
      "Naively calling mutations in CAMP.\n",
      "\tConsidering 1,289,244 / 1,289,244 (100.00%) positions.\n",
      "\tOn the 1-th position (1) of the specified 1,289,244 positions (0.00%).\n",
      "\tOn the 100,000-th position (100,000) of the specified 1,289,244 positions (7.76%).\n",
      "\tOn the 200,000-th position (200,000) of the specified 1,289,244 positions (15.51%).\n",
      "\tOn the 300,000-th position (300,000) of the specified 1,289,244 positions (23.27%).\n",
      "\tOn the 400,000-th position (400,000) of the specified 1,289,244 positions (31.03%).\n",
      "\tOn the 500,000-th position (500,000) of the specified 1,289,244 positions (38.78%).\n",
      "\tOn the 600,000-th position (600,000) of the specified 1,289,244 positions (46.54%).\n",
      "\tOn the 700,000-th position (700,000) of the specified 1,289,244 positions (54.30%).\n",
      "\tOn the 800,000-th position (800,000) of the specified 1,289,244 positions (62.05%).\n",
      "\tOn the 900,000-th position (900,000) of the specified 1,289,244 positions (69.81%).\n",
      "\tOn the 1,000,000-th position (1,000,000) of the specified 1,289,244 positions (77.56%).\n",
      "\tOn the 1,100,000-th position (1,100,000) of the specified 1,289,244 positions (85.32%).\n",
      "\tOn the 1,200,000-th position (1,200,000) of the specified 1,289,244 positions (93.08%).\n"
     ]
    }
   ],
   "source": [
    "camp_naive_p2called_mutations, camp_naive_p2numpermb, _ = naive_calling_fullseq(\"edge_6104\")"
   ]
  },
  {
   "cell_type": "code",
   "execution_count": 7,
   "metadata": {},
   "outputs": [
    {
     "name": "stdout",
     "output_type": "stream",
     "text": [
      "Identifying CP 2 positions in CAMP so we can use them as a decoy genome...\n",
      "In CAMP:\n",
      "\tThere were 397,489 CP 2 positions.\n",
      "\tThere were 4,101 positions in multiple genes.\n",
      "\tThere were 394,879 CP 2 positions in only a single gene.\n",
      "Naively calling mutations in CAMP.\n",
      "\tConsidering 394,879 / 1,289,244 (30.63%) positions.\n",
      "\tOn the 1-th position (267) of the specified 394,879 positions (0.00%).\n",
      "\tOn the 100,000-th position (325,447) of the specified 394,879 positions (25.32%).\n",
      "\tOn the 200,000-th position (651,427) of the specified 394,879 positions (50.65%).\n",
      "\tOn the 300,000-th position (977,868) of the specified 394,879 positions (75.97%).\n"
     ]
    }
   ],
   "source": [
    "camp_cp2_naive_p2called_mutations, camp_cp2_naive_p2numpermb, num_camp_cp2_pos = naive_calling_cp2seq(\"edge_6104\")"
   ]
  },
  {
   "cell_type": "markdown",
   "metadata": {},
   "source": [
    "### For comparison, naively call mutations in BACT1 and compute $\\mathrm{frac}_{\\mathrm{BACT1}}$"
   ]
  },
  {
   "cell_type": "code",
   "execution_count": 8,
   "metadata": {},
   "outputs": [
    {
     "name": "stdout",
     "output_type": "stream",
     "text": [
      "Naively calling mutations in BACT1.\n",
      "\tConsidering 2,153,394 / 2,153,394 (100.00%) positions.\n",
      "\tOn the 1-th position (1) of the specified 2,153,394 positions (0.00%).\n",
      "\tOn the 100,000-th position (100,000) of the specified 2,153,394 positions (4.64%).\n",
      "\tOn the 200,000-th position (200,000) of the specified 2,153,394 positions (9.29%).\n",
      "\tOn the 300,000-th position (300,000) of the specified 2,153,394 positions (13.93%).\n",
      "\tOn the 400,000-th position (400,000) of the specified 2,153,394 positions (18.58%).\n",
      "\tOn the 500,000-th position (500,000) of the specified 2,153,394 positions (23.22%).\n",
      "\tOn the 600,000-th position (600,000) of the specified 2,153,394 positions (27.86%).\n",
      "\tOn the 700,000-th position (700,000) of the specified 2,153,394 positions (32.51%).\n",
      "\tOn the 800,000-th position (800,000) of the specified 2,153,394 positions (37.15%).\n",
      "\tOn the 900,000-th position (900,000) of the specified 2,153,394 positions (41.79%).\n",
      "\tOn the 1,000,000-th position (1,000,000) of the specified 2,153,394 positions (46.44%).\n",
      "\tOn the 1,100,000-th position (1,100,000) of the specified 2,153,394 positions (51.08%).\n",
      "\tOn the 1,200,000-th position (1,200,000) of the specified 2,153,394 positions (55.73%).\n",
      "\tOn the 1,300,000-th position (1,300,000) of the specified 2,153,394 positions (60.37%).\n",
      "\tOn the 1,400,000-th position (1,400,000) of the specified 2,153,394 positions (65.01%).\n",
      "\tOn the 1,500,000-th position (1,500,000) of the specified 2,153,394 positions (69.66%).\n",
      "\tOn the 1,600,000-th position (1,600,000) of the specified 2,153,394 positions (74.30%).\n",
      "\tOn the 1,700,000-th position (1,700,000) of the specified 2,153,394 positions (78.95%).\n",
      "\tOn the 1,800,000-th position (1,800,000) of the specified 2,153,394 positions (83.59%).\n",
      "\tOn the 1,900,000-th position (1,900,000) of the specified 2,153,394 positions (88.23%).\n",
      "\tOn the 2,000,000-th position (2,000,000) of the specified 2,153,394 positions (92.88%).\n",
      "\tOn the 2,100,000-th position (2,100,000) of the specified 2,153,394 positions (97.52%).\n"
     ]
    }
   ],
   "source": [
    "bact1_naive_p2called_mutations, bact1_naive_p2numpermb, _ = naive_calling_fullseq(\"edge_1671\")"
   ]
  },
  {
   "cell_type": "markdown",
   "metadata": {},
   "source": [
    "### Just so we can update the `misc-text/` file, also do this for  BACT2\n",
    "\n",
    "probs possible to get this info from another notebook but this is the easiest way to handle this imo"
   ]
  },
  {
   "cell_type": "code",
   "execution_count": 9,
   "metadata": {},
   "outputs": [
    {
     "name": "stdout",
     "output_type": "stream",
     "text": [
      "Naively calling mutations in BACT2.\n",
      "\tConsidering 2,806,161 / 2,806,161 (100.00%) positions.\n",
      "\tOn the 1-th position (1) of the specified 2,806,161 positions (0.00%).\n",
      "\tOn the 100,000-th position (100,000) of the specified 2,806,161 positions (3.56%).\n",
      "\tOn the 200,000-th position (200,000) of the specified 2,806,161 positions (7.13%).\n",
      "\tOn the 300,000-th position (300,000) of the specified 2,806,161 positions (10.69%).\n",
      "\tOn the 400,000-th position (400,000) of the specified 2,806,161 positions (14.25%).\n",
      "\tOn the 500,000-th position (500,000) of the specified 2,806,161 positions (17.82%).\n",
      "\tOn the 600,000-th position (600,000) of the specified 2,806,161 positions (21.38%).\n",
      "\tOn the 700,000-th position (700,000) of the specified 2,806,161 positions (24.95%).\n",
      "\tOn the 800,000-th position (800,000) of the specified 2,806,161 positions (28.51%).\n",
      "\tOn the 900,000-th position (900,000) of the specified 2,806,161 positions (32.07%).\n",
      "\tOn the 1,000,000-th position (1,000,000) of the specified 2,806,161 positions (35.64%).\n",
      "\tOn the 1,100,000-th position (1,100,000) of the specified 2,806,161 positions (39.20%).\n",
      "\tOn the 1,200,000-th position (1,200,000) of the specified 2,806,161 positions (42.76%).\n",
      "\tOn the 1,300,000-th position (1,300,000) of the specified 2,806,161 positions (46.33%).\n",
      "\tOn the 1,400,000-th position (1,400,000) of the specified 2,806,161 positions (49.89%).\n",
      "\tOn the 1,500,000-th position (1,500,000) of the specified 2,806,161 positions (53.45%).\n",
      "\tOn the 1,600,000-th position (1,600,000) of the specified 2,806,161 positions (57.02%).\n",
      "\tOn the 1,700,000-th position (1,700,000) of the specified 2,806,161 positions (60.58%).\n",
      "\tOn the 1,800,000-th position (1,800,000) of the specified 2,806,161 positions (64.14%).\n",
      "\tOn the 1,900,000-th position (1,900,000) of the specified 2,806,161 positions (67.71%).\n",
      "\tOn the 2,000,000-th position (2,000,000) of the specified 2,806,161 positions (71.27%).\n",
      "\tOn the 2,100,000-th position (2,100,000) of the specified 2,806,161 positions (74.84%).\n",
      "\tOn the 2,200,000-th position (2,200,000) of the specified 2,806,161 positions (78.40%).\n",
      "\tOn the 2,300,000-th position (2,300,000) of the specified 2,806,161 positions (81.96%).\n",
      "\tOn the 2,400,000-th position (2,400,000) of the specified 2,806,161 positions (85.53%).\n",
      "\tOn the 2,500,000-th position (2,500,000) of the specified 2,806,161 positions (89.09%).\n",
      "\tOn the 2,600,000-th position (2,600,000) of the specified 2,806,161 positions (92.65%).\n",
      "\tOn the 2,700,000-th position (2,700,000) of the specified 2,806,161 positions (96.22%).\n",
      "\tOn the 2,800,000-th position (2,800,000) of the specified 2,806,161 positions (99.78%).\n"
     ]
    }
   ],
   "source": [
    "bact2_naive_p2called_mutations, bact2_naive_p2numpermb, _ = naive_calling_fullseq(\"edge_2358\")"
   ]
  },
  {
   "cell_type": "markdown",
   "metadata": {},
   "source": [
    "### Output info about FDR estimation for $p=0.5\\%$ to `misc-text/`"
   ]
  },
  {
   "cell_type": "code",
   "execution_count": 14,
   "metadata": {},
   "outputs": [],
   "source": [
    "# Total numbers of identified p-mutations\n",
    "camp_nump = len(camp_naive_p2called_mutations[0.5])\n",
    "bact1_nump = len(bact1_naive_p2called_mutations[0.5])\n",
    "bact2_nump = len(bact2_naive_p2called_mutations[0.5])\n",
    "# Scaled numbers of identified p-mutations per megabase (comparable across different-length genomes\n",
    "# [at least, if you assume that genome length is the only confounding factor here, which it isn't -- we\n",
    "# should mention this in the paper ofc])\n",
    "camp_numpermb = camp_naive_p2numpermb[0.5]\n",
    "bact1_numpermb = bact1_naive_p2numpermb[0.5]\n",
    "bact2_numpermb = bact2_naive_p2numpermb[0.5]\n",
    "\n",
    "bact1_fdr = camp_numpermb / bact1_numpermb\n",
    "\n",
    "naiveinfo = (\n",
    "    f\"At $p=0.5$\\\\%, we identified {camp_nump:,}, {bact1_nump:,}, and {bact2_nump:,} $p$-mutations \"\n",
    "    f\"in the {seq2name['edge_6104']}, {seq2name['edge_1671']}, and {seq2name['edge_2358']} genomes, \"\n",
    "    f\"respectively. This illustrates that there exists a difference of nearly two orders of magnitude \"\n",
    "    f\"in the number of $p$-mutations per megabase across these genomes \"\n",
    "    f\"({round(camp_numpermb):,}, {round(bact1_numpermb):,}, and {round(bact2_numpermb):,} for \"\n",
    "    f\"{seq2name['edge_6104']}, {seq2name['edge_1671']}, and {seq2name['edge_2358']}, respectively and \"\n",
    "    f\"after rounding). If the {seq2name['edge_6104']} genome, which has a relatively low mutation rate, is \"\n",
    "    f\"selected as a decoy, then we estimate the FDR for the {seq2name['edge_1671']} genome at $p=0.5\\\\%$ as \"\n",
    "    \"$\\\\frac{\" + f\"{camp_numpermb:,.2f}\" + \"}\" + \"{\" + f\"{bact1_numpermb:,.2f}\" + \"}\" + f\" \\\\approx {bact1_fdr:.4f}$.\"\n",
    ")\n",
    "with open(\"misc-text/naive-calling-target-decoy.tex\", \"w\") as of:\n",
    "    # see https://tex.stackexchange.com/a/18018\n",
    "    of.write(\"{}\\endinput\".format(naiveinfo))"
   ]
  },
  {
   "cell_type": "markdown",
   "metadata": {},
   "source": [
    "## Plot estimated BACT1 FDR vs. scaled number of identified mutations\n",
    "\n",
    "Previous versions of this notebook only drew one FDR curve at a time; now, this function accepts multiple decoy genome `p2numpermb` objects."
   ]
  },
  {
   "cell_type": "code",
   "execution_count": 110,
   "metadata": {},
   "outputs": [],
   "source": [
    "def plot_bact1_fdr(decoy_p2numpermbs, colors, shapes, decoy_labels, fig_basename):\n",
    "    \"\"\"decoy_p2numpermbs, colors, shapes, and decoy_labels should all be collections of identical length\n",
    "    (this lets you pass in and style multiple decoy genomes to be shown on the sam)\"\"\"\n",
    "    \n",
    "    fig, ax = pyplot.subplots(1)\n",
    "    \n",
    "    for di, decoy_p2numpermb in enumerate(decoy_p2numpermbs):\n",
    "        p2bact1fdr = {p: decoy_p2numpermb[p] / bact1_naive_p2numpermb[p] for p in percentages}\n",
    "\n",
    "        # FDR\n",
    "        x = []\n",
    "        # number of mutations per megabase\n",
    "        y = []\n",
    "        # list of 2-tuples of (x,y). we'll highlight these points.\n",
    "        special_xys = []\n",
    "        for p in percentages:\n",
    "            cx = p2bact1fdr[p]\n",
    "            cy = bact1_naive_p2numpermb[p]\n",
    "            x.append(cx)\n",
    "            y.append(cy)\n",
    "            # add labels (manually positioned). yeah, i know i know\n",
    "            dy = None\n",
    "            dx = None\n",
    "            if p == 50: dy = -15; dx = -0.01\n",
    "            elif p == 25: dy = 20; dx = -0.01\n",
    "            elif p == 13: dy = -5; dx = 0.005\n",
    "            elif p == 10: dy = 80; dx = 0.0\n",
    "            elif p == 5: dy = 0; dx = 0.005\n",
    "            elif p == 2: dy = -10**3; dx = 0.005\n",
    "            elif p == 1: dy = 10**3.3; dx = -0.015\n",
    "            elif p == 0.5: dy = 10**3.5; dx = -0.005\n",
    "            elif p == 0.25: dy = -10**3.6; dx = -0.01\n",
    "            elif p == 0.2: dy = 10**3.65; dx = -0.01\n",
    "            elif p == 0.15: dy = -10**3.8; dx = -0.01\n",
    "            elif p == 0.1: dy = -10**4.25; dx = -0.01\n",
    "            elif p == 0.05: dy = 50000; dx = -0.008\n",
    "            if dy is not None:\n",
    "                if p >= 1:\n",
    "                    text = f\"$p = {p:.0f}\\%$\"\n",
    "                elif p >= 0.5:\n",
    "                    text = f\"$p = {p:.1f}\\%$\"\n",
    "                else:\n",
    "                    text = f\"$p = {p:.2f}\\%$\"\n",
    "                if di == 0:\n",
    "                    ax.text(cx + dx, cy + dy, text)\n",
    "                special_xys.append((cx, cy))\n",
    "\n",
    "        ax.plot(x, y, marker=shapes[di], color=colors[di], label=decoy_labels[di])\n",
    "        ax.scatter([xy[0] for xy in special_xys], [xy[1] for xy in special_xys], color=\"#ffff00\", zorder=2000, s=20)\n",
    "        \n",
    "    ax.set_xlabel(f\"Estimated FDR for called $p$-mutations in {seq2name['edge_1671']}\")\n",
    "    ax.set_ylabel(\"Number of called $p$-mutations per megabase\")\n",
    "    ax.set_title(f\"{seq2name['edge_1671']} FDR curves, using 1,000 values of $p$ from {max(percentages):.0f}% to {min(percentages):.2f}%\", fontsize=16)\n",
    "    ax.legend()\n",
    "    ax.set_yscale(\"symlog\")\n",
    "    use_thousands_sep(ax.yaxis)\n",
    "    fig.set_size_inches(15, 8)\n",
    "    fig.savefig(f\"figs/{fig_basename}.png\", bbox_inches=\"tight\")"
   ]
  },
  {
   "cell_type": "code",
   "execution_count": 112,
   "metadata": {},
   "outputs": [
    {
     "data": {
      "image/png": "[encoded data removed]",
      "text/plain": [
       "<Figure size 1080x576 with 1 Axes>"
      ]
     },
     "metadata": {},
     "output_type": "display_data"
    }
   ],
   "source": [
    "plot_bact1_fdr(\n",
    "    (camp_naive_p2numpermb, camp_cp2_naive_p2numpermb),\n",
    "    (\"#005500\", cp2color[2]),\n",
    "    (\"s\", \"o\"),\n",
    "    (\n",
    "        f\"Decoy Genome: all {seq2len['edge_6104']:,} positions in {seq2name['edge_6104']}\",\n",
    "        f\"Decoy Genome: only the {num_camp_cp2_pos:,} CP 2 positions in {seq2name['edge_6104']}\",\n",
    "    ),\n",
    "    \"BACT1_FDR_CAMP_decoy\"\n",
    ")"
   ]
  },
  {
   "cell_type": "code",
   "execution_count": null,
   "metadata": {},
   "outputs": [],
   "source": []
  }
 ],
 "metadata": {
  "kernelspec": {
   "display_name": "Python 3",
   "language": "python",
   "name": "python3"
  },
  "language_info": {
   "codemirror_mode": {
    "name": "ipython",
    "version": 3
   },
   "file_extension": ".py",
   "mimetype": "text/x-python",
   "name": "python",
   "nbconvert_exporter": "python",
   "pygments_lexer": "ipython3",
   "version": "3.7.10"
  }
 },
 "nbformat": 4,
 "nbformat_minor": 4
}
