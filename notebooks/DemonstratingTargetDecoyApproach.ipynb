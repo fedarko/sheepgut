{
 "cells": [
  {
   "cell_type": "markdown",
   "metadata": {},
   "source": [
    "# Demonstrate the \"target-decoy\" approach, as applied to metagenomic variant calling"
   ]
  },
  {
   "cell_type": "code",
   "execution_count": 1,
   "metadata": {
    "execution": {
     "iopub.execute_input": "2021-06-19T09:12:46.072627Z",
     "iopub.status.busy": "2021-06-19T09:12:46.071700Z",
     "iopub.status.idle": "2021-06-19T09:12:46.350765Z",
     "shell.execute_reply": "2021-06-19T09:12:46.349866Z"
    }
   },
   "outputs": [],
   "source": [
    "%run \"Header.ipynb\""
   ]
  },
  {
   "cell_type": "code",
   "execution_count": 2,
   "metadata": {},
   "outputs": [],
   "source": [
    "import skbio\n",
    "import pileup\n",
    "from parse_sco import parse_sco"
   ]
  },
  {
   "cell_type": "code",
   "execution_count": 3,
   "metadata": {},
   "outputs": [],
   "source": [
    "seq2pos2pileup = pileup.load()"
   ]
  },
  {
   "cell_type": "markdown",
   "metadata": {},
   "source": [
    "## First: naive variant calling (call a position as \"$p$-mutated\" if $freq(pos) > p$)\n",
    "\n",
    "We don't limit to \"sufficiently-covered\" positions here -- so we consider all regions throughout a genome."
   ]
  },
  {
   "cell_type": "code",
   "execution_count": 6,
   "metadata": {
    "execution": {
     "iopub.execute_input": "2021-06-19T09:12:46.900714Z",
     "iopub.status.busy": "2021-06-19T09:12:46.899915Z",
     "iopub.status.idle": "2021-06-19T09:12:46.902209Z",
     "shell.execute_reply": "2021-06-19T09:12:46.901568Z"
    }
   },
   "outputs": [],
   "source": [
    "percentages = [50, 25, 10, 5, 2, 1, 0.5, 0.25, 0.1, 0.05]\n",
    "p2pct = get_p2pct(percentages)"
   ]
  },
  {
   "cell_type": "code",
   "execution_count": 7,
   "metadata": {},
   "outputs": [],
   "source": [
    "# Maps seq name -> list of 1-indexed positions where we \"call\" a mutation\n",
    "seq2naively_called_mutations = {}"
   ]
  },
  {
   "cell_type": "code",
   "execution_count": 34,
   "metadata": {},
   "outputs": [],
   "source": [
    "def naive_calling(seq, verbose=True):\n",
    "    \"\"\"seqname should be in SEQS.\n",
    "    \n",
    "    Returns a tuple with two elements:\n",
    "    \n",
    "    1. p2called_mutations: A dict mapping values in \"percentages\" (defined above) to a list of 1-indexed\n",
    "       \"called\" p-mutations in the sequence, using this percentage for p.\n",
    "       \n",
    "    2. p2numpermb: A dict with the same keys as p2called_mutations, but the values are the number of called\n",
    "       p-mutations per megabase (1,000,000 bp = 1 Mbp) in this sequence.   \n",
    "    \"\"\"\n",
    "    p2called_mutations = {p: [] for p in percentages}\n",
    "    p2numpermb = {}\n",
    "    seqlen = seq2len[seq]\n",
    "    for pos in range(1, seqlen + 1):\n",
    "        if verbose and pos % 100000 == 0:\n",
    "            print(f\"On {seq2name[seq]} position {pos:,} / {seqlen:,} ({100 * (pos / seqlen):.2f}%).\")\n",
    "        pos_pileup = seq2pos2pileup[seq][pos]\n",
    "        for p in percentages:\n",
    "            if pileup.naively_call_mutation(pos_pileup, p2pct[p]):\n",
    "                p2called_mutations[p].append(pos)\n",
    "                \n",
    "    # We have the equation\n",
    "    #\n",
    "    #   # called muts              f\n",
    "    # ------------------  = ----------------\n",
    "    #  seq length (bp)        1,000,000 bp\n",
    "    #\n",
    "    # We know everything except for f. We can solve for f by multiplying the left side of the\n",
    "    # equation by 1,000,000 bp. Since the only variable across different thresholds of p is the number\n",
    "    # of called mutations, we can pre-compute this \"constant length factor\" (aka 1,000,000 / seq length).\n",
    "    constant_length_factor = 1000000 / seq2len[seq]\n",
    "    for p in p2called_mutations:\n",
    "        num_called_mutations = len(p2called_mutations[p])\n",
    "        # solve the equation above\n",
    "        f = num_called_mutations * constant_length_factor\n",
    "        p2numpermb[p] = f\n",
    "        if verbose:\n",
    "            print(f\"p = {p}%: {num_called_mutations:,} called p-mutations in {seq2name[seq]}.\")\n",
    "            print(f\"\\tNumber of called p-mutations per megabase: f = {f:,.2f}.\")\n",
    "        \n",
    "    return (p2called_mutations, p2numpermb)"
   ]
  },
  {
   "cell_type": "markdown",
   "metadata": {},
   "source": [
    "### Naively call mutations in CAMP and compute $\\mathrm{frac}_{\\mathrm{decoy}}$\n",
    "\n",
    "(We're treating CAMP as a \"decoy\" genome, where we assume that all called mutations within it will be incorrect.)"
   ]
  },
  {
   "cell_type": "code",
   "execution_count": 35,
   "metadata": {},
   "outputs": [
    {
     "name": "stdout",
     "output_type": "stream",
     "text": [
      "On CAMP position 100,000 / 1,289,244 (7.76%).\n",
      "On CAMP position 200,000 / 1,289,244 (15.51%).\n",
      "On CAMP position 300,000 / 1,289,244 (23.27%).\n",
      "On CAMP position 400,000 / 1,289,244 (31.03%).\n",
      "On CAMP position 500,000 / 1,289,244 (38.78%).\n",
      "On CAMP position 600,000 / 1,289,244 (46.54%).\n",
      "On CAMP position 700,000 / 1,289,244 (54.30%).\n",
      "On CAMP position 800,000 / 1,289,244 (62.05%).\n",
      "On CAMP position 900,000 / 1,289,244 (69.81%).\n",
      "On CAMP position 1,000,000 / 1,289,244 (77.56%).\n",
      "On CAMP position 1,100,000 / 1,289,244 (85.32%).\n",
      "On CAMP position 1,200,000 / 1,289,244 (93.08%).\n",
      "p = 50%: 0 called p-mutations in CAMP.\n",
      "\tNumber of called p-mutations per megabase: f = 0.00.\n",
      "p = 25%: 0 called p-mutations in CAMP.\n",
      "\tNumber of called p-mutations per megabase: f = 0.00.\n",
      "p = 10%: 35 called p-mutations in CAMP.\n",
      "\tNumber of called p-mutations per megabase: f = 27.15.\n",
      "p = 5%: 35 called p-mutations in CAMP.\n",
      "\tNumber of called p-mutations per megabase: f = 27.15.\n",
      "p = 2%: 52 called p-mutations in CAMP.\n",
      "\tNumber of called p-mutations per megabase: f = 40.33.\n",
      "p = 1%: 83 called p-mutations in CAMP.\n",
      "\tNumber of called p-mutations per megabase: f = 64.38.\n",
      "p = 0.5%: 283 called p-mutations in CAMP.\n",
      "\tNumber of called p-mutations per megabase: f = 219.51.\n",
      "p = 0.25%: 1,690 called p-mutations in CAMP.\n",
      "\tNumber of called p-mutations per megabase: f = 1,310.85.\n",
      "p = 0.1%: 23,177 called p-mutations in CAMP.\n",
      "\tNumber of called p-mutations per megabase: f = 17,977.20.\n",
      "p = 0.05%: 130,686 called p-mutations in CAMP.\n",
      "\tNumber of called p-mutations per megabase: f = 101,366.38.\n"
     ]
    }
   ],
   "source": [
    "camp_naive_p2called_mutations, camp_naive_p2numpermb = naive_calling(\"edge_6104\")"
   ]
  },
  {
   "cell_type": "markdown",
   "metadata": {},
   "source": [
    "### For comparison, naively call mutations in BACTERIA and compute $\\mathrm{frac}_{\\mathrm{BACTERIA}}$"
   ]
  },
  {
   "cell_type": "code",
   "execution_count": 36,
   "metadata": {},
   "outputs": [
    {
     "name": "stdout",
     "output_type": "stream",
     "text": [
      "On BACTERIA position 100,000 / 2,153,394 (4.64%).\n",
      "On BACTERIA position 200,000 / 2,153,394 (9.29%).\n",
      "On BACTERIA position 300,000 / 2,153,394 (13.93%).\n",
      "On BACTERIA position 400,000 / 2,153,394 (18.58%).\n",
      "On BACTERIA position 500,000 / 2,153,394 (23.22%).\n",
      "On BACTERIA position 600,000 / 2,153,394 (27.86%).\n",
      "On BACTERIA position 700,000 / 2,153,394 (32.51%).\n",
      "On BACTERIA position 800,000 / 2,153,394 (37.15%).\n",
      "On BACTERIA position 900,000 / 2,153,394 (41.79%).\n",
      "On BACTERIA position 1,000,000 / 2,153,394 (46.44%).\n",
      "On BACTERIA position 1,100,000 / 2,153,394 (51.08%).\n",
      "On BACTERIA position 1,200,000 / 2,153,394 (55.73%).\n",
      "On BACTERIA position 1,300,000 / 2,153,394 (60.37%).\n",
      "On BACTERIA position 1,400,000 / 2,153,394 (65.01%).\n",
      "On BACTERIA position 1,500,000 / 2,153,394 (69.66%).\n",
      "On BACTERIA position 1,600,000 / 2,153,394 (74.30%).\n",
      "On BACTERIA position 1,700,000 / 2,153,394 (78.95%).\n",
      "On BACTERIA position 1,800,000 / 2,153,394 (83.59%).\n",
      "On BACTERIA position 1,900,000 / 2,153,394 (88.23%).\n",
      "On BACTERIA position 2,000,000 / 2,153,394 (92.88%).\n",
      "On BACTERIA position 2,100,000 / 2,153,394 (97.52%).\n",
      "p = 50%: 155 called p-mutations in BACTERIA.\n",
      "\tNumber of called p-mutations per megabase: f = 71.98.\n",
      "p = 25%: 172 called p-mutations in BACTERIA.\n",
      "\tNumber of called p-mutations per megabase: f = 79.87.\n",
      "p = 10%: 694 called p-mutations in BACTERIA.\n",
      "\tNumber of called p-mutations per megabase: f = 322.28.\n",
      "p = 5%: 7,442 called p-mutations in BACTERIA.\n",
      "\tNumber of called p-mutations per megabase: f = 3,455.94.\n",
      "p = 2%: 17,971 called p-mutations in BACTERIA.\n",
      "\tNumber of called p-mutations per megabase: f = 8,345.43.\n",
      "p = 1%: 22,637 called p-mutations in BACTERIA.\n",
      "\tNumber of called p-mutations per megabase: f = 10,512.24.\n",
      "p = 0.5%: 24,544 called p-mutations in BACTERIA.\n",
      "\tNumber of called p-mutations per megabase: f = 11,397.82.\n",
      "p = 0.25%: 30,884 called p-mutations in BACTERIA.\n",
      "\tNumber of called p-mutations per megabase: f = 14,342.01.\n",
      "p = 0.1%: 111,128 called p-mutations in BACTERIA.\n",
      "\tNumber of called p-mutations per megabase: f = 51,605.98.\n",
      "p = 0.05%: 604,454 called p-mutations in BACTERIA.\n",
      "\tNumber of called p-mutations per megabase: f = 280,698.28.\n"
     ]
    }
   ],
   "source": [
    "bacteria_naive_p2called_mutations, bacteria_naive_p2numpermb = naive_calling(\"edge_1671\")"
   ]
  },
  {
   "cell_type": "markdown",
   "metadata": {},
   "source": [
    "### Estimate FDR of BACTERIA mutations, using CAMP as a decoy"
   ]
  },
  {
   "cell_type": "code",
   "execution_count": 40,
   "metadata": {},
   "outputs": [
    {
     "name": "stdout",
     "output_type": "stream",
     "text": [
      "Estimated FDR for p = 50% = 0.00 / 71.98 = 0.00\n",
      "Estimated FDR for p = 25% = 0.00 / 79.87 = 0.00\n",
      "Estimated FDR for p = 10% = 27.15 / 322.28 = 0.08\n",
      "Estimated FDR for p = 5% = 27.15 / 3,455.94 = 0.01\n",
      "Estimated FDR for p = 2% = 40.33 / 8,345.43 = 0.00\n",
      "Estimated FDR for p = 1% = 64.38 / 10,512.24 = 0.01\n",
      "Estimated FDR for p = 0.5% = 219.51 / 11,397.82 = 0.02\n",
      "Estimated FDR for p = 0.25% = 1,310.85 / 14,342.01 = 0.09\n",
      "Estimated FDR for p = 0.1% = 17,977.20 / 51,605.98 = 0.35\n",
      "Estimated FDR for p = 0.05% = 101,366.38 / 280,698.28 = 0.36\n"
     ]
    }
   ],
   "source": [
    "p2bacteriafdr = {p: camp_naive_p2numpermb[p] / bacteria_naive_p2numpermb[p] for p in percentages}\n",
    "for p in percentages:\n",
    "    print(\n",
    "        f\"Estimated FDR for p = {p}% = \"\n",
    "        f\"{camp_naive_p2numpermb[p]:,.2f} / {bacteria_naive_p2numpermb[p]:,.2f} = \"\n",
    "        f\"{p2bacteriafdr[p]:.2f}\"\n",
    "    )"
   ]
  },
  {
   "cell_type": "markdown",
   "metadata": {},
   "source": [
    "### Output info about BACTERIA FDR estimation for $p=0.5\\%$ to `misc-text/`"
   ]
  },
  {
   "cell_type": "code",
   "execution_count": 114,
   "metadata": {},
   "outputs": [],
   "source": [
    "# Total numbers of identified p-mutations\n",
    "camp1 = len(camp_naive_p2called_mutations[0.5])\n",
    "bact1 = len(bacteria_naive_p2called_mutations[0.5])\n",
    "# Scaled numbers of identified p-mutations per megabase (comparable across different-length genomes\n",
    "# [at least, if you assume that genome length is the only confounding factor here, which it isn't -- we\n",
    "# should mention this in the paper ofc])\n",
    "camp2 = camp_naive_p2numpermb[0.5]\n",
    "bact2 = bacteria_naive_p2numpermb[0.5]\n",
    "naiveinfo = (\n",
    "    f\"At $p=0.5$\\\\%, we identified {camp1:,} $p$-mutations in the CAMP genome and {bact1:,} \"\n",
    "    f\"$p$-mutations in the BACTERIA genome, corresponding respectively to {camp2:,.2f} and {bact2:,.2f} \"\n",
    "    \"$p$-mutations per megabase. If the CAMP genome, which has a relatively low mutation rate, is \"\n",
    "    \"selected as a decoy, then we estimate the FDR for the BACTERIA genome as \"\n",
    "    \"$\\\\frac{\" + f\"{camp2:,.2f}\" + \"}\" + \"{\" + f\"{bact2:,.2f}\" + \"}\" + f\" \\\\approx {p2bacteriafdr[0.5]:.2f}$.\"\n",
    ")\n",
    "with open(\"misc-text/naive-calling-target-decoy.tex\", \"w\") as of:\n",
    "    # see https://tex.stackexchange.com/a/18018\n",
    "    of.write(\"{}\\endinput\".format(naiveinfo))"
   ]
  },
  {
   "cell_type": "markdown",
   "metadata": {},
   "source": [
    "## Plot estimated BACTERIA FDR vs. scaled number of identified mutations"
   ]
  },
  {
   "cell_type": "code",
   "execution_count": 112,
   "metadata": {},
   "outputs": [
    {
     "data": {
      "image/png": "[encoded data removed]",
      "text/plain": [
       "<Figure size 720x576 with 1 Axes>"
      ]
     },
     "metadata": {},
     "output_type": "display_data"
    }
   ],
   "source": [
    "fig, ax = pyplot.subplots(1)\n",
    "\n",
    "# FDR\n",
    "x = []\n",
    "# number of mutations per megabase\n",
    "y = []\n",
    "for p in percentages:\n",
    "    cx = p2bacteriafdr[p]\n",
    "    cy = bacteria_naive_p2numpermb[p]\n",
    "    x.append(cx)\n",
    "    y.append(cy)\n",
    "    # add labels (manually positioned). yeah, i know i know\n",
    "    if p == 50: dy = -8; dx = 0.005\n",
    "    elif p == 25: dy = 50; dx = -0.01\n",
    "    elif p == 10: dy = 0; dx = 0.01\n",
    "    elif p == 5: dy = 0; dx = 0.01\n",
    "    elif p == 2: dy = -10**3; dx = 0.005\n",
    "    elif p == 1: dy = 10**3.5; dx = -0.02\n",
    "    elif p == 0.5: dy = 10**3.5; dx = 0.0\n",
    "    elif p == 0.25: dy = -10**3.5; dx = -0.01\n",
    "    elif p == 0.1: dy = -10**4.25; dx = -0.02\n",
    "    elif p == 0.05: dy = 0; dx = -0.04\n",
    "    ax.text(cx + dx, cy + dy, f\"$p = {p}\\%$\")\n",
    "    \n",
    "ax.plot(x, y, marker=\"o\", color=\"#666666\")\n",
    "ax.set_xlabel(\"Estimated FDR for called $p$-mutations in BACTERIA\")\n",
    "ax.set_ylabel(\"Number of called $p$-mutations per megabase\")\n",
    "ax.set_title(\"BACTERIA FDR curve, using CAMP as a decoy genome\", fontsize=16)\n",
    "use_thousands_sep(ax.yaxis)\n",
    "ax.set_yscale(\"symlog\")\n",
    "fig.set_size_inches(10, 8)\n",
    "fig.savefig(\"figs/BACTERIA_FDR_CAMP_decoy.png\", bbox_inches=\"tight\")"
   ]
  },
  {
   "cell_type": "code",
   "execution_count": null,
   "metadata": {},
   "outputs": [],
   "source": []
  }
 ],
 "metadata": {
  "kernelspec": {
   "display_name": "Python 3",
   "language": "python",
   "name": "python3"
  },
  "language_info": {
   "codemirror_mode": {
    "name": "ipython",
    "version": 3
   },
   "file_extension": ".py",
   "mimetype": "text/x-python",
   "name": "python",
   "nbconvert_exporter": "python",
   "pygments_lexer": "ipython3",
   "version": "3.7.10"
  }
 },
 "nbformat": 4,
 "nbformat_minor": 4
}
