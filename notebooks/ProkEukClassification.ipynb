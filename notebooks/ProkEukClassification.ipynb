{
 "cells": [
  {
   "cell_type": "markdown",
   "metadata": {},
   "source": [
    "# Try to classify contigs as prokaryotic or eukaryotic just from the alignment\n",
    "\n",
    "General idea: eukaryotic contigs, compared with prokaryotic contigs, should have relatively high amounts of positions with variants around 50% frequency (representing diploidy)."
   ]
  },
  {
   "cell_type": "code",
   "execution_count": 2,
   "metadata": {
    "execution": {
     "iopub.execute_input": "2021-06-19T09:12:46.072627Z",
     "iopub.status.busy": "2021-06-19T09:12:46.071700Z",
     "iopub.status.idle": "2021-06-19T09:12:46.350765Z",
     "shell.execute_reply": "2021-06-19T09:12:46.349866Z"
    }
   },
   "outputs": [],
   "source": [
    "%run \"Header.ipynb\""
   ]
  },
  {
   "cell_type": "code",
   "execution_count": 3,
   "metadata": {
    "execution": {
     "iopub.execute_input": "2021-06-19T09:12:46.354942Z",
     "iopub.status.busy": "2021-06-19T09:12:46.354128Z",
     "iopub.status.idle": "2021-06-19T09:12:46.896190Z",
     "shell.execute_reply": "2021-06-19T09:12:46.895422Z"
    }
   },
   "outputs": [],
   "source": [
    "import math\n",
    "import json\n",
    "import pysam\n",
    "import pysamstats"
   ]
  },
  {
   "cell_type": "code",
   "execution_count": 8,
   "metadata": {
    "execution": {
     "iopub.execute_input": "2021-06-19T09:12:46.900714Z",
     "iopub.status.busy": "2021-06-19T09:12:46.899915Z",
     "iopub.status.idle": "2021-06-19T09:12:46.902209Z",
     "shell.execute_reply": "2021-06-19T09:12:46.901568Z"
    }
   },
   "outputs": [],
   "source": [
    "# No edges with length < this will be considered here\n",
    "MIN_SEQ_LEN = 5000\n",
    "\n",
    "# Minimum coverage for positions where we want to look for ~50% mutation rates.\n",
    "# This is purposefully low so as to cast a wide net.\n",
    "MIN_COV = 5\n",
    "\n",
    "# Both of these are inclusive. We'll accept positions (with at least MIN_COV aligned (mis)matches)\n",
    "# where the maximum-frequency alternate nucleotide's frequency (divided by total # of aligned (mis)matches)\n",
    "# is within this inclusive range.\n",
    "#\n",
    "# ...So, for a position with exactly 5x (mis)match coverage, we'd accept a max-freq alt nucleotide freq of\n",
    "# [2, 3] but not 1, 4, or 5.\n",
    "MIN_DIPLOID_MAXALT_FREQ = 0.4\n",
    "MAX_DIPLOID_MAXALT_FREQ = 0.6"
   ]
  },
  {
   "cell_type": "code",
   "execution_count": 5,
   "metadata": {
    "execution": {
     "iopub.execute_input": "2021-06-19T09:12:46.905849Z",
     "iopub.status.busy": "2021-06-19T09:12:46.905058Z",
     "iopub.status.idle": "2021-06-19T09:12:46.991184Z",
     "shell.execute_reply": "2021-06-19T09:12:46.990409Z"
    }
   },
   "outputs": [],
   "source": [
    "bf = pysam.AlignmentFile(\"../main-workflow/output/fully-filtered-and-sorted-aln.bam\", \"rb\")"
   ]
  },
  {
   "cell_type": "markdown",
   "metadata": {},
   "source": [
    "## Get a mapping of sequence (edge) name to sequence length\n",
    "\n",
    "stolen from the diversity index notebook; should merge these into a single function\n",
    "\n",
    "also the div index notebook version of this accidentally trumps the `seq2len` variable defined in the header notebook... should fix that, but not super impt"
   ]
  },
  {
   "cell_type": "code",
   "execution_count": 6,
   "metadata": {
    "execution": {
     "iopub.execute_input": "2021-06-19T09:12:46.997405Z",
     "iopub.status.busy": "2021-06-19T09:12:46.996567Z",
     "iopub.status.idle": "2021-06-19T09:12:49.631271Z",
     "shell.execute_reply": "2021-06-19T09:12:49.631928Z"
    }
   },
   "outputs": [
    {
     "name": "stdout",
     "output_type": "stream",
     "text": [
      "edge2len contains 78,793 entries. The length of edge_1 is 39,565 bp.\n"
     ]
    }
   ],
   "source": [
    "edge2len = {}\n",
    "edgename = None\n",
    "with open(\"../main-workflow/output/all_edges.fasta\", \"r\") as fastafile:\n",
    "    \n",
    "    # Assumes that sequences are not split up over multiple lines (so a FASTA file with N sequences\n",
    "    # should have only 2N lines, maybe 2N + 1 if there's an extra empty newline at the bottom of the file)\n",
    "    for linenum, line in enumerate(fastafile):\n",
    "    \n",
    "        if line.startswith(\">\"):\n",
    "            if linenum % 2 != 0:\n",
    "                raise ValueError(\"something weird with > location in all_edges.fasta. Go yell at Marcus.\")\n",
    "            edgename = line.strip()[1:]\n",
    "        else:\n",
    "            if linenum % 2 != 1:\n",
    "                raise ValueError(\"something weird with non > location in all_edges.fasta. Go yell at Marcus.\")\n",
    "            if edgename is None:\n",
    "                raise ValueError(\"No sequence name set yet?\")\n",
    "            edge2len[edgename] = len(line.strip())\n",
    "            edgename = None\n",
    "\n",
    "print(f\"edge2len contains {len(edge2len):,} entries. The length of edge_1 is {edge2len['edge_1']:,} bp.\")"
   ]
  },
  {
   "cell_type": "code",
   "execution_count": 7,
   "metadata": {
    "execution": {
     "iopub.execute_input": "2021-06-19T09:12:49.656895Z",
     "iopub.status.busy": "2021-06-19T09:12:49.656038Z",
     "iopub.status.idle": "2021-06-19T09:12:49.658790Z",
     "shell.execute_reply": "2021-06-19T09:12:49.659427Z"
    }
   },
   "outputs": [
    {
     "name": "stdout",
     "output_type": "stream",
     "text": [
      "43,562 / 78,793 (55.29%) edges have a length of at least 5,000 bp.\n"
     ]
    }
   ],
   "source": [
    "long_enough_seqs = []\n",
    "for edge in edge2len:\n",
    "    if edge2len[edge] >= MIN_SEQ_LEN:\n",
    "        long_enough_seqs.append(edge)\n",
    "        \n",
    "pct = 100 * (len(long_enough_seqs) / len(edge2len))\n",
    "print(f\"{len(long_enough_seqs):,} / {len(edge2len):,} ({pct:.2f}%) edges have a length of at least {MIN_SEQ_LEN:,.0f} bp.\")"
   ]
  },
  {
   "cell_type": "markdown",
   "metadata": {},
   "source": [
    "## Go through the alignment; count the number of positions with ~50% max-frequency alternate nucleotide mismatches\n",
    "\n",
    "Parts of this (e.g. processing each record in the pileup) could be abstracted to code that's shared between here, the diversity index ntbk, and the bam2pileup script I wrote for the three \"selected\" MAGs."
   ]
  },
  {
   "cell_type": "code",
   "execution_count": null,
   "metadata": {
    "execution": {
     "iopub.execute_input": "2021-06-19T09:12:49.669922Z",
     "iopub.status.busy": "2021-06-19T09:12:49.668303Z",
     "iopub.status.idle": "2021-06-19T14:00:42.064942Z",
     "shell.execute_reply": "2021-06-19T14:00:42.049918Z"
    },
    "scrolled": true
   },
   "outputs": [
    {
     "name": "stdout",
     "output_type": "stream",
     "text": [
      "On seq edge_1 (1 / 43,562) (0.00%)... Length = 39,565 bp. **********\n",
      "\t39,558 pos w/ cov >= 5x; 6,310 MCP w/ >= 1 mismatch; 13 'diploid' MCP; mean cov = 460.40x\n",
      "On seq edge_3 (2 / 43,562) (0.00%)... Length = 38,161 bp. **********\n",
      "\t36,963 pos w/ cov >= 5x; 3,805 MCP w/ >= 1 mismatch; 11 'diploid' MCP; mean cov = 258.76x\n",
      "On seq edge_5 (3 / 43,562) (0.01%)... Length = 32,079 bp. **********\n",
      "\t5,867 pos w/ cov >= 5x; 104 MCP w/ >= 1 mismatch; 0 'diploid' MCP; mean cov = 3.36x\n",
      "On seq edge_6 (4 / 43,562) (0.01%)... Length = 6,738 bp. **********\n",
      "\t0 pos w/ cov >= 5x; 0 MCP w/ >= 1 mismatch; 0 'diploid' MCP; mean cov = 1.40x\n",
      "On seq edge_8 (5 / 43,562) (0.01%)... Length = 1,710,962 bp. *********"
     ]
    }
   ],
   "source": [
    "edge2num_mincov_positions = {}\n",
    "edge2num_mincov_positions_with_at_least_one_mismatch = {}\n",
    "edge2num_mincov_putatively_diploid_positions = {}\n",
    "edge2meancov = {}\n",
    "\n",
    "num_seqs = len(long_enough_seqs)\n",
    "\n",
    "for si, seq in enumerate(long_enough_seqs, 1):\n",
    "    pct = 100 * (si / num_seqs)\n",
    "    print(f\"On seq {seq} ({si:,} / {num_seqs:,}) ({pct:.2f}%)...\", end=\" \", flush=True)   \n",
    "    print(f\"Length = {edge2len[seq]:,} bp.\", end=\" \", flush=True)\n",
    "    \n",
    "    one_tenth_len = math.floor(edge2len[seq] / 10)\n",
    "    \n",
    "    num_mincov_positions = 0\n",
    "    num_mincov_positions_with_at_least_one_mismatch = 0\n",
    "    num_mincov_putatively_diploid_positions = 0\n",
    "    \n",
    "    total_cov = 0\n",
    "    \n",
    "    # Go through each position in the sequence's pileup (even including relatively low-coverage positions).\n",
    "    # See bam-to-jsons.py for a description of why these params are useful.\n",
    "    # Also, note that pysam coords are 0-indexed!\n",
    "    for ri, rec in enumerate(\n",
    "        pysamstats.stat_variation(\n",
    "            bf, chrom=seq, fafile=\"../main-workflow/output/all_edges.fasta\", start=0, end=edge2len[seq],\n",
    "            truncate=True, pad=True, max_depth=1e6\n",
    "        ),\n",
    "        1\n",
    "    ):\n",
    "        # very simple progress bar for my own sake. might miss a few dots here and there\n",
    "        if ri % one_tenth_len == 0:\n",
    "            print(\"*\", end=\"\", flush=True)\n",
    "            \n",
    "        matches = rec[\"matches\"]\n",
    "        mismatches = rec[\"mismatches\"]\n",
    "        # NOTE: As with \"coverage\" in the coverage plots, this doesn't take into account deletions at a\n",
    "        # given position. That info is available through pysamstats so we could use it here if desired.\n",
    "        cov = matches + mismatches\n",
    "        \n",
    "        total_cov += cov\n",
    "        \n",
    "        #print(f\"Pos {ri}... Matches: {matches} / Mismatches: {mismatches} / cov: {cov}\")\n",
    "        \n",
    "        if cov > MIN_COV:\n",
    "            num_mincov_positions += 1\n",
    "            # Rather than looking at (mismatches / cov), we instead look at each alternate non-matching nucleotide\n",
    "            # individually.\n",
    "            nonmatches = set(\"ACGT\") - set(rec[\"ref\"])\n",
    "            max_alt_nt_freq = max(rec[alt_nt] for alt_nt in nonmatches)\n",
    "            max_alt_nt_relfreq = max_alt_nt_freq / cov\n",
    "            \n",
    "            # Keep track of # (min-cov) positions that have at least one mismatch; could be useful to know\n",
    "            if max_alt_nt_freq >= 1:\n",
    "                num_mincov_positions_with_at_least_one_mismatch += 1\n",
    "                #print(\"\\tHas at least 1 mismatch!\")\n",
    "                \n",
    "            # The meat of this: see if this position \"counts\" as putatively diploid due to having a ~50%\n",
    "            # mutation rate\n",
    "            if max_alt_nt_relfreq >= MIN_DIPLOID_MAXALT_FREQ and max_alt_nt_relfreq <= MAX_DIPLOID_MAXALT_FREQ:\n",
    "                num_mincov_putatively_diploid_positions += 1\n",
    "                #print(f\"\\tPutatively diploid! rel freq = {max_alt_nt_relfreq}\")\n",
    "    \n",
    "    assert ri == edge2len[seq]\n",
    "    meancov = total_cov / ri\n",
    "    \n",
    "    # Save info for each edge\n",
    "    edge2num_mincov_positions[seq] = num_mincov_positions\n",
    "    edge2num_mincov_positions_with_at_least_one_mismatch[seq] = num_mincov_positions_with_at_least_one_mismatch\n",
    "    edge2num_mincov_putatively_diploid_positions[seq] = num_mincov_putatively_diploid_positions\n",
    "    edge2meancov[seq] = meancov\n",
    "    \n",
    "    # Move print info to a new line\n",
    "    print(f\"\\n\\t{num_mincov_positions:,} pos w/ cov >= {MIN_COV}x;\", end=\" \")\n",
    "    print(f\"{num_mincov_positions_with_at_least_one_mismatch:,} MCP w/ >= 1 mismatch;\", end=\" \")\n",
    "    print(f\"{num_mincov_putatively_diploid_positions:,} 'diploid' MCP;\", end=\" \")\n",
    "    print(f\"mean cov = {meancov:,.2f}x\")"
   ]
  },
  {
   "cell_type": "markdown",
   "metadata": {},
   "source": [
    "### Save info to a file\n",
    "\n",
    "Since this can take a few hours to compute, this helps if we have to restart the notebook halfway through / etc."
   ]
  },
  {
   "cell_type": "code",
   "execution_count": null,
   "metadata": {
    "execution": {
     "iopub.execute_input": "2021-06-19T14:00:42.070178Z",
     "iopub.status.busy": "2021-06-19T14:00:42.069799Z",
     "iopub.status.idle": "2021-06-19T14:00:42.074927Z",
     "shell.execute_reply": "2021-06-19T14:00:42.074537Z"
    }
   },
   "outputs": [],
   "source": [
    "with open(\"misc-output/prok-euk-info.txt\", \"w\") as pef:\n",
    "    pef.write(json.dumps(edge2num_mincov_positions))\n",
    "    pef.write(json.dumps(edge2num_mincov_positions_with_at_least_one_mismatch))\n",
    "    pef.write(json.dumps(edge2num_mincov_putatively_diploid_positions))\n",
    "    pef.write(json.dumps(edge2meancov))"
   ]
  }
 ],
 "metadata": {
  "kernelspec": {
   "display_name": "Python 3",
   "language": "python",
   "name": "python3"
  },
  "language_info": {
   "codemirror_mode": {
    "name": "ipython",
    "version": 3
   },
   "file_extension": ".py",
   "mimetype": "text/x-python",
   "name": "python",
   "nbconvert_exporter": "python",
   "pygments_lexer": "ipython3",
   "version": "3.7.10"
  }
 },
 "nbformat": 4,
 "nbformat_minor": 4
}
