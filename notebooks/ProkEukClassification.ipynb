{
 "cells": [
  {
   "cell_type": "markdown",
   "metadata": {},
   "source": [
    "# Try to classify contigs as prokaryotic or eukaryotic just from the alignment\n",
    "\n",
    "General idea: eukaryotic contigs, compared with prokaryotic contigs, should have relatively high amounts of positions with variants around 50% frequency (representing diploidy)."
   ]
  },
  {
   "cell_type": "code",
   "execution_count": 1,
   "metadata": {
    "execution": {
     "iopub.execute_input": "2021-06-19T09:12:46.072627Z",
     "iopub.status.busy": "2021-06-19T09:12:46.071700Z",
     "iopub.status.idle": "2021-06-19T09:12:46.350765Z",
     "shell.execute_reply": "2021-06-19T09:12:46.349866Z"
    }
   },
   "outputs": [],
   "source": [
    "%run \"Header.ipynb\""
   ]
  },
  {
   "cell_type": "code",
   "execution_count": 2,
   "metadata": {
    "execution": {
     "iopub.execute_input": "2021-06-19T09:12:46.354942Z",
     "iopub.status.busy": "2021-06-19T09:12:46.354128Z",
     "iopub.status.idle": "2021-06-19T09:12:46.896190Z",
     "shell.execute_reply": "2021-06-19T09:12:46.895422Z"
    }
   },
   "outputs": [],
   "source": [
    "import math\n",
    "import json\n",
    "import time\n",
    "import skbio\n",
    "import pysam\n",
    "import pysamstats"
   ]
  },
  {
   "cell_type": "code",
   "execution_count": 3,
   "metadata": {
    "execution": {
     "iopub.execute_input": "2021-06-19T09:12:46.900714Z",
     "iopub.status.busy": "2021-06-19T09:12:46.899915Z",
     "iopub.status.idle": "2021-06-19T09:12:46.902209Z",
     "shell.execute_reply": "2021-06-19T09:12:46.901568Z"
    }
   },
   "outputs": [],
   "source": [
    "# No edges with length < this will be considered here\n",
    "MIN_SEQ_LEN = 5000\n",
    "\n",
    "# Minimum coverage for positions where we want to look for ~50% mutation rates.\n",
    "# This is purposefully low so as to cast a wide net.\n",
    "MIN_COV = 5\n",
    "\n",
    "# Both of these are inclusive. We'll accept positions (with at least MIN_COV aligned (mis)matches)\n",
    "# where the maximum-frequency alternate nucleotide's frequency (divided by total # of aligned (mis)matches)\n",
    "# is within this inclusive range.\n",
    "#\n",
    "# ...So, for a position with exactly 5x (mis)match coverage, we'd accept a max-freq alt nucleotide freq of\n",
    "# [2, 3] but not 1, 4, or 5.\n",
    "MIN_DIPLOID_MAXALT_FREQ = 0.4\n",
    "MAX_DIPLOID_MAXALT_FREQ = 0.6\n",
    "\n",
    "# Both of these are also inclusive. All positions with at least 5x coverage and a max-frequency alternate\n",
    "# nucleotide rate in this range will be included in a denominator.\n",
    "MIN_DENOMINATOR_MAXALT_FREQ = 0.05\n",
    "MAX_DENOMINATOR_MAXALT_FREQ = 0.6"
   ]
  },
  {
   "cell_type": "code",
   "execution_count": 4,
   "metadata": {
    "execution": {
     "iopub.execute_input": "2021-06-19T09:12:46.905849Z",
     "iopub.status.busy": "2021-06-19T09:12:46.905058Z",
     "iopub.status.idle": "2021-06-19T09:12:46.991184Z",
     "shell.execute_reply": "2021-06-19T09:12:46.990409Z"
    }
   },
   "outputs": [],
   "source": [
    "bf = pysam.AlignmentFile(\"../main-workflow/output/fully-filtered-and-sorted-aln.bam\", \"rb\")"
   ]
  },
  {
   "cell_type": "markdown",
   "metadata": {},
   "source": [
    "## Get a mapping of sequence (edge) name to sequence length\n",
    "\n",
    "stolen from the diversity index notebook; should merge these into a single function\n",
    "\n",
    "also the div index notebook version of this accidentally trumps the `seq2len` variable defined in the header notebook... should fix that, but not super impt"
   ]
  },
  {
   "cell_type": "code",
   "execution_count": 5,
   "metadata": {
    "execution": {
     "iopub.execute_input": "2021-06-19T09:12:46.997405Z",
     "iopub.status.busy": "2021-06-19T09:12:46.996567Z",
     "iopub.status.idle": "2021-06-19T09:12:49.631271Z",
     "shell.execute_reply": "2021-06-19T09:12:49.631928Z"
    }
   },
   "outputs": [
    {
     "name": "stdout",
     "output_type": "stream",
     "text": [
      "edge2len contains 78,793 entries. The length of edge_1 is 39,565 bp.\n"
     ]
    }
   ],
   "source": [
    "edge2len = {}\n",
    "edgename = None\n",
    "with open(\"../main-workflow/output/all_edges.fasta\", \"r\") as fastafile:\n",
    "    \n",
    "    # Assumes that sequences are not split up over multiple lines (so a FASTA file with N sequences\n",
    "    # should have only 2N lines, maybe 2N + 1 if there's an extra empty newline at the bottom of the file)\n",
    "    for linenum, line in enumerate(fastafile):\n",
    "    \n",
    "        if line.startswith(\">\"):\n",
    "            if linenum % 2 != 0:\n",
    "                raise ValueError(\"something weird with > location in all_edges.fasta. Go yell at Marcus.\")\n",
    "            edgename = line.strip()[1:]\n",
    "        else:\n",
    "            if linenum % 2 != 1:\n",
    "                raise ValueError(\"something weird with non > location in all_edges.fasta. Go yell at Marcus.\")\n",
    "            if edgename is None:\n",
    "                raise ValueError(\"No sequence name set yet?\")\n",
    "            edge2len[edgename] = len(line.strip())\n",
    "            edgename = None\n",
    "\n",
    "print(f\"edge2len contains {len(edge2len):,} entries. The length of edge_1 is {edge2len['edge_1']:,} bp.\")"
   ]
  },
  {
   "cell_type": "code",
   "execution_count": 6,
   "metadata": {
    "execution": {
     "iopub.execute_input": "2021-06-19T09:12:49.656895Z",
     "iopub.status.busy": "2021-06-19T09:12:49.656038Z",
     "iopub.status.idle": "2021-06-19T09:12:49.658790Z",
     "shell.execute_reply": "2021-06-19T09:12:49.659427Z"
    },
    "scrolled": false
   },
   "outputs": [
    {
     "name": "stdout",
     "output_type": "stream",
     "text": [
      "43,562 / 78,793 (55.29%) edges have a length of at least 5,000 bp.\n"
     ]
    }
   ],
   "source": [
    "long_enough_seqs = []\n",
    "for edge in edge2len:\n",
    "    if edge2len[edge] >= MIN_SEQ_LEN:\n",
    "        long_enough_seqs.append(edge)\n",
    "        \n",
    "pct = 100 * (len(long_enough_seqs) / len(edge2len))\n",
    "print(f\"{len(long_enough_seqs):,} / {len(edge2len):,} ({pct:.2f}%) edges have a length of at least {MIN_SEQ_LEN:,.0f} bp.\")"
   ]
  },
  {
   "cell_type": "markdown",
   "metadata": {},
   "source": [
    "## Go through the alignment; count the number of positions with ~50% max-frequency alternate nucleotide mismatches\n",
    "\n",
    "Parts of this (e.g. processing each record in the pileup) could be abstracted to code that's shared between here, the diversity index ntbk, and the bam2pileup script I wrote for the three \"selected\" MAGs.\n",
    "\n",
    "**NOTE: This takes quite a while to run (as of writing, it took about 18.4 hours to complete).**"
   ]
  },
  {
   "cell_type": "code",
   "execution_count": null,
   "metadata": {
    "execution": {
     "iopub.execute_input": "2021-06-19T09:12:49.669922Z",
     "iopub.status.busy": "2021-06-19T09:12:49.668303Z",
     "iopub.status.idle": "2021-06-19T14:00:42.064942Z",
     "shell.execute_reply": "2021-06-19T14:00:42.049918Z"
    },
    "scrolled": true
   },
   "outputs": [
    {
     "name": "stdout",
     "output_type": "stream",
     "text": [
      "On seq edge_1 (1 / 43,562) (0.00%). 39,565 bp long. Runtime: ~0 sec. ==========\n",
      "\t39,560 MCP; 6,312 MCP w/ >= 1 mismatch; 302 'denominator' MCP; 13 'diploid' MCP; mean cov = 460.40x\n",
      "On seq edge_3 (2 / 43,562) (0.00%). 38,161 bp long. Runtime: ~2 sec. ==========\n",
      "\t36,963 MCP; 3,805 MCP w/ >= 1 mismatch; 277 'denominator' MCP; 11 'diploid' MCP; mean cov = 258.76x\n",
      "On seq edge_5 (3 / 43,562) (0.01%). 32,079 bp long. Runtime: ~3 sec. ==========\n",
      "\t10,893 MCP; 140 MCP w/ >= 1 mismatch; 139 'denominator' MCP; 4 'diploid' MCP; mean cov = 3.36x\n",
      "On seq edge_6 (4 / 43,562) (0.01%). 6,738 bp long. Runtime: ~3 sec. ==========\n",
      "\t0 MCP; 0 MCP w/ >= 1 mismatch; 0 'denominator' MCP; 0 'diploid' MCP; mean cov = 1.40x\n",
      "On seq edge_8 (5 / 43,562) (0.01%). 1,710,962 bp long. Runtime: ~4 sec. ==========\n",
      "\t1,710,962 MCP; 53,743 MCP w/ >= 1 mismatch; 1,921 'denominator' MCP; 0 'diploid' MCP; mean cov = 111.64x\n",
      "On seq edge_9 (6 / 43,562) (0.01%). 91,227 bp long. Runtime: ~39 sec. ==========\n",
      "\t39,724 MCP; 1,745 MCP w/ >= 1 mismatch; 990 'denominator' MCP; 199 'diploid' MCP; mean cov = 5.06x\n",
      "On seq edge_10 (7 / 43,562) (0.02%). 1,556,982 bp long. Runtime: ~41 sec. ==========\n",
      "\t1,534,901 MCP; 10,728 MCP w/ >= 1 mismatch; 7,914 'denominator' MCP; 331 'diploid' MCP; mean cov = 16.04x\n",
      "On seq edge_11 (8 / 43,562) (0.02%). 357,410 bp long. Runtime: ~66 sec. ==========\n",
      "\t350,937 MCP; 10,230 MCP w/ >= 1 mismatch; 4,643 'denominator' MCP; 2,786 'diploid' MCP; mean cov = 39.48x\n",
      "On seq edge_12 (9 / 43,562) (0.02%). 124,748 bp long. Runtime: ~73 sec. ==========\n",
      "\t64,760 MCP; 207 MCP w/ >= 1 mismatch; 146 'denominator' MCP; 0 'diploid' MCP; mean cov = 4.54x\n",
      "On seq edge_13 (10 / 43,562) (0.02%). 331,689 bp long. Runtime: ~75 sec. ==========\n",
      "\t331,685 MCP; 4,229 MCP w/ >= 1 mismatch; 2,458 'denominator' MCP; 832 'diploid' MCP; mean cov = 24.60x\n",
      "On seq edge_14 (11 / 43,562) (0.03%). 133,615 bp long. Runtime: ~81 sec. ==========\n",
      "\t108,570 MCP; 1,586 MCP w/ >= 1 mismatch; 1,026 'denominator' MCP; 0 'diploid' MCP; mean cov = 6.35x\n",
      "On seq edge_15 (12 / 43,562) (0.03%). 3,930,935 bp long. Runtime: ~83 sec. ==========\n",
      "\t3,873,590 MCP; 289,724 MCP w/ >= 1 mismatch; 6,541 'denominator' MCP; 238 'diploid' MCP; mean cov = 286.66x\n",
      "On seq edge_16 (13 / 43,562) (0.03%). 89,174 bp long. Runtime: ~215 sec. ==========\n",
      "\t82,008 MCP; 1,839 MCP w/ >= 1 mismatch; 1,770 'denominator' MCP; 365 'diploid' MCP; mean cov = 7.74x\n",
      "On seq edge_17 (14 / 43,562) (0.03%). 1,273,557 bp long. Runtime: ~217 sec. ==========\n",
      "\t1,168,484 MCP; 15,838 MCP w/ >= 1 mismatch; 5,221 'denominator' MCP; 4 'diploid' MCP; mean cov = 23.78x\n",
      "On seq edge_18 (15 / 43,562) (0.03%). 35,779 bp long. Runtime: ~238 sec. ==========\n",
      "\t0 MCP; 0 MCP w/ >= 1 mismatch; 0 'denominator' MCP; 0 'diploid' MCP; mean cov = 0.67x\n",
      "On seq edge_19 (16 / 43,562) (0.04%). 99,035 bp long. Runtime: ~239 sec. ==========\n",
      "\t46,104 MCP; 563 MCP w/ >= 1 mismatch; 532 'denominator' MCP; 62 'diploid' MCP; mean cov = 4.46x\n",
      "On seq edge_20 (17 / 43,562) (0.04%). 5,082 bp long. Runtime: ~241 sec. ==========\n",
      "\t0 MCP; 0 MCP w/ >= 1 mismatch; 0 'denominator' MCP; 0 'diploid' MCP; mean cov = 0.00x\n",
      "On seq edge_23 (18 / 43,562) (0.04%). 560,109 bp long. Runtime: ~241 sec. ==========\n",
      "\t551,095 MCP; 11,450 MCP w/ >= 1 mismatch; 7,909 'denominator' MCP; 103 'diploid' MCP; mean cov = 17.35x\n",
      "On seq edge_24 (19 / 43,562) (0.04%). 40,753 bp long. Runtime: ~252 sec. ==========\n",
      "\t39,052 MCP; 75 MCP w/ >= 1 mismatch; 72 'denominator' MCP; 0 'diploid' MCP; mean cov = 9.41x\n",
      "On seq edge_26 (20 / 43,562) (0.05%). 429,310 bp long. Runtime: ~253 sec. ==========\n",
      "\t407,730 MCP; 12,280 MCP w/ >= 1 mismatch; 8,928 'denominator' MCP; 677 'diploid' MCP; mean cov = 21.44x\n",
      "On seq edge_27 (21 / 43,562) (0.05%). 337,134 bp long. Runtime: ~260 sec. ==========\n",
      "\t253,928 MCP; 7,999 MCP w/ >= 1 mismatch; 6,658 'denominator' MCP; 1,038 'diploid' MCP; mean cov = 14.74x\n",
      "On seq edge_28 (22 / 43,562) (0.05%). 1,624,431 bp long. Runtime: ~266 sec. =="
     ]
    }
   ],
   "source": [
    "edge2num_mincov_positions = {}\n",
    "edge2num_mincov_positions_with_at_least_one_mismatch = {}\n",
    "edge2num_mincov_positions_with_mutrate_in_denominator_range = {}\n",
    "edge2num_mincov_putatively_diploid_positions = {}\n",
    "edge2meancov = {}\n",
    "\n",
    "num_seqs = len(long_enough_seqs)\n",
    "\n",
    "# This'll print out a ton of output for even a single contig, so I don't recommend using this in practice.\n",
    "verbose = False\n",
    "\n",
    "t1 = time.time()\n",
    "\n",
    "for si, seq in enumerate(long_enough_seqs, 1):\n",
    "    pct = 100 * (si / num_seqs)\n",
    "    print(f\"On seq {seq} ({si:,} / {num_seqs:,}) ({pct:.2f}%).\", end=\" \", flush=True)   \n",
    "    print(f\"{edge2len[seq]:,} bp long.\", end=\" \", flush=True)\n",
    "    print(f\"Runtime: ~{time.time() - t1:,.0f} sec.\", end=\" \", flush=True)\n",
    "    \n",
    "    one_tenth_len = math.floor(edge2len[seq] / 10)\n",
    "    \n",
    "    num_mincov_positions = 0\n",
    "    num_mincov_positions_with_at_least_one_mismatch = 0\n",
    "    num_mincov_positions_with_mutrate_in_denominator_range = 0\n",
    "    num_mincov_putatively_diploid_positions = 0\n",
    "    \n",
    "    total_cov = 0\n",
    "    \n",
    "    # Go through each position in the sequence's pileup (even including relatively low-coverage positions).\n",
    "    # See bam-to-jsons.py for a description of why these params are useful.\n",
    "    # Also, note that pysam coords are 0-indexed!\n",
    "    for ri, rec in enumerate(\n",
    "        pysamstats.stat_variation(\n",
    "            bf, chrom=seq, fafile=\"../main-workflow/output/all_edges.fasta\", start=0, end=edge2len[seq],\n",
    "            truncate=True, pad=True, max_depth=1e6\n",
    "        ),\n",
    "        1\n",
    "    ):\n",
    "        # very simple progress bar for my own sake. might miss a few dots here and there\n",
    "        if ri % one_tenth_len == 0:\n",
    "            print(\"=\", end=\"\", flush=True)\n",
    "            \n",
    "        matches = rec[\"matches\"]\n",
    "        mismatches = rec[\"mismatches\"]\n",
    "        # NOTE: As with \"coverage\" in the coverage plots, this doesn't take into account deletions at a\n",
    "        # given position. That info is available through pysamstats so we could use it here if desired.\n",
    "        cov = matches + mismatches\n",
    "        \n",
    "        total_cov += cov\n",
    "        \n",
    "        if verbose: print(f\"Pos {ri}... Matches: {matches} / Mismatches: {mismatches} / cov: {cov}\")\n",
    "        \n",
    "        if cov >= MIN_COV:\n",
    "            num_mincov_positions += 1\n",
    "            # Rather than looking at (mismatches / cov), we instead look at each alternate non-matching nucleotide\n",
    "            # individually.\n",
    "            nonmatches = set(\"ACGT\") - set(rec[\"ref\"])\n",
    "            max_alt_nt_freq = max(rec[alt_nt] for alt_nt in nonmatches)\n",
    "            max_alt_nt_relfreq = max_alt_nt_freq / cov\n",
    "            \n",
    "            # Keep track of # (min-cov) positions that have at least one mismatch; could be useful to know\n",
    "            if max_alt_nt_freq >= 1:\n",
    "                num_mincov_positions_with_at_least_one_mismatch += 1\n",
    "                if verbose: print(f\"\\tHas at least 1 mismatch! Ref = {rec['ref']}; A = {rec['A']}; C = {rec['C']}; G = {rec['G']}; T = {rec['T']}\")\n",
    "                \n",
    "            # The meat of this: see if this position \"counts\" as putatively diploid due to having a ~50%\n",
    "            # mutation rate\n",
    "            if max_alt_nt_relfreq >= MIN_DIPLOID_MAXALT_FREQ and max_alt_nt_relfreq <= MAX_DIPLOID_MAXALT_FREQ:\n",
    "                num_mincov_putatively_diploid_positions += 1\n",
    "                if verbose: print(f\"\\tPutatively diploid! rel freq = {max_alt_nt_relfreq}\")\n",
    "                \n",
    "            # Count, less generally, positions in a broader range -- we'll use this as the denominator\n",
    "            if max_alt_nt_relfreq >= MIN_DENOMINATOR_MAXALT_FREQ and max_alt_nt_relfreq <= MAX_DENOMINATOR_MAXALT_FREQ:\n",
    "                num_mincov_positions_with_mutrate_in_denominator_range += 1\n",
    "                if verbose: print(f\"\\tPosition {ri} has a mut rate in [5%, 60%]: {max_alt_nt_freq} / {cov} = {max_alt_nt_relfreq}\")\n",
    "    \n",
    "    assert ri == edge2len[seq]\n",
    "    meancov = total_cov / ri\n",
    "    \n",
    "    # Save info for each edge\n",
    "    edge2num_mincov_positions[seq] = num_mincov_positions\n",
    "    edge2num_mincov_positions_with_at_least_one_mismatch[seq] = num_mincov_positions_with_at_least_one_mismatch\n",
    "    edge2num_mincov_putatively_diploid_positions[seq] = num_mincov_putatively_diploid_positions\n",
    "    edge2num_mincov_positions_with_mutrate_in_denominator_range[seq] = num_mincov_positions_with_mutrate_in_denominator_range\n",
    "    edge2meancov[seq] = meancov\n",
    "    \n",
    "    # Move print info to a new line\n",
    "    print(f\"\\n\\t{num_mincov_positions:,} MCP;\", end=\" \")\n",
    "    print(f\"{num_mincov_positions_with_at_least_one_mismatch:,} MCP w/ >= 1 mismatch;\", end=\" \")\n",
    "    print(f\"{num_mincov_positions_with_mutrate_in_denominator_range:,} 'denominator' MCP;\", end=\" \")\n",
    "    print(f\"{num_mincov_putatively_diploid_positions:,} 'diploid' MCP;\", end=\" \")\n",
    "    print(f\"mean cov = {meancov:,.2f}x\")"
   ]
  },
  {
   "cell_type": "markdown",
   "metadata": {},
   "source": [
    "### Save info to a file\n",
    "\n",
    "Since this can take a few hours to compute, this helps if we have to restart the notebook halfway through / etc."
   ]
  },
  {
   "cell_type": "code",
   "execution_count": null,
   "metadata": {
    "execution": {
     "iopub.execute_input": "2021-06-19T14:00:42.070178Z",
     "iopub.status.busy": "2021-06-19T14:00:42.069799Z",
     "iopub.status.idle": "2021-06-19T14:00:42.074927Z",
     "shell.execute_reply": "2021-06-19T14:00:42.074537Z"
    }
   },
   "outputs": [],
   "source": [
    "with open(\"misc-output/prok-euk-info.txt\", \"w\") as pef:\n",
    "    pef.write(json.dumps(edge2num_mincov_positions))\n",
    "    pef.write(\"\\n\")\n",
    "    pef.write(json.dumps(edge2num_mincov_positions_with_at_least_one_mismatch))\n",
    "    pef.write(\"\\n\")\n",
    "    pef.write(json.dumps(edge2num_mincov_positions_with_mutrate_in_denominator_range))\n",
    "    pef.write(\"\\n\")\n",
    "    pef.write(json.dumps(edge2num_mincov_putatively_diploid_positions))\n",
    "    pef.write(\"\\n\")\n",
    "    pef.write(json.dumps(edge2meancov))\n",
    "    pef.write(\"\\n\")"
   ]
  },
  {
   "cell_type": "markdown",
   "metadata": {},
   "source": [
    "### Load info from that file (...) just in case we need to restart this notebook, or adjust the plotting without rerunning the above stuff\n",
    "\n",
    "This is obviously a very _ad hoc_ way of defining a file format. If this ever becomes a tool people use, it'd be a lot faster / more efficient to store this in a dedicated table structure!"
   ]
  },
  {
   "cell_type": "code",
   "execution_count": null,
   "metadata": {},
   "outputs": [],
   "source": [
    "with open(\"misc-output/prok-euk-info.txt\", \"r\") as pef:\n",
    "    for linenum, line in enumerate(pef, 1):\n",
    "        if linenum == 1:\n",
    "            edge2num_mincov_positions = json.loads(line.strip())\n",
    "        elif linenum == 2:\n",
    "            edge2num_mincov_positions_with_at_least_one_mismatch = json.loads(line.strip())\n",
    "        elif linenum == 3:\n",
    "            edge2num_mincov_positions_with_mutrate_in_denominator_range = json.loads(line.strip())\n",
    "        elif linenum == 4:\n",
    "            edge2num_mincov_putatively_diploid_positions = json.loads(line.strip())\n",
    "        elif linenum == 5:\n",
    "            edge2meancov = json.loads(line.strip())"
   ]
  },
  {
   "cell_type": "markdown",
   "metadata": {},
   "source": [
    "## Plot histograms of fractions of \"diploid\" positions across contigs\n",
    "\n",
    "We're interested in the \"diploid\" positions, but we want to normalize this somehow (so that, e.g., 2,000 \"diploid\" positions carry more weight for a contig of length 5,000 than for a contig of length 500,000).\n",
    "\n",
    "It isn't immediately clear to me what the best way to normalize this is, so we try a few different denominators:\n",
    "\n",
    "### Option 1: normalize by total # of min-cov positions\n",
    "\n",
    "$$\\frac{\\text{Number of \"diploid\" positions (with at least some minimum coverage)}}{\\text{Total number of positions with at least some minimum coverage}}$$\n",
    "\n",
    "### Option 2: normalize by total # of min-cov positions with at least one mismatch\n",
    "\n",
    "(all positions in the numerator should by definition be represented in the denominator, since we've set min coverage to 5x and thus in order for a position to be \"diploid\" it must have more than one aligned mismatch)\n",
    "\n",
    "$$\\frac{\\text{Number of \"diploid\" positions (with at least some minimum coverage)}}{\\text{Number of positions with at least one mismatch (with at least some minimum coverage)}}$$\n",
    "\n",
    "### Option 3: normalize by total # of min-cov positions with a max-alt nucleotide rate in the range $[5\\%, 60\\%]$\n",
    "\n",
    "As with Option 2, all positions in the numerator should by definition be represented in the denominator, since\n",
    "$[40\\%, 60\\%] \\subset [5\\%, 60\\%]$."
   ]
  },
  {
   "cell_type": "code",
   "execution_count": null,
   "metadata": {},
   "outputs": [],
   "source": [
    "edge2frac_diploid_to_mincov_positions = {}\n",
    "edge2frac_diploid_to_mincov_positions_with_at_least_one_mismatch = {}\n",
    "edge2frac_diploid_to_mincov_positions_in_denominator_range = {}\n",
    "edge2frac_diploid_to_mincov_positions_with_at_least_one_mismatch_only_if_den_geq5 = {}\n",
    "for e in edge2meancov.keys():\n",
    "    if edge2num_mincov_positions[e] > 0:\n",
    "        edge2frac_diploid_to_mincov_positions[e] = (\n",
    "            edge2num_mincov_putatively_diploid_positions[e] / edge2num_mincov_positions[e]\n",
    "        )\n",
    "        \n",
    "    if edge2num_mincov_positions_with_at_least_one_mismatch[e] > 0:\n",
    "        f = (\n",
    "            edge2num_mincov_putatively_diploid_positions[e] / edge2num_mincov_positions_with_at_least_one_mismatch[e]\n",
    "        )\n",
    "        edge2frac_diploid_to_mincov_positions_with_at_least_one_mismatch[e] = f\n",
    "        if edge2num_mincov_positions_with_at_least_one_mismatch[e] >= 5:\n",
    "            edge2frac_diploid_to_mincov_positions_with_at_least_one_mismatch_only_if_den_geq5[e] = f\n",
    "            \n",
    "    if edge2num_mincov_positions_with_mutrate_in_denominator_range[e] > 0:\n",
    "        edge2frac_diploid_to_mincov_positions_in_denominator_range[e] = (\n",
    "            edge2num_mincov_putatively_diploid_positions[e] / edge2num_mincov_positions_with_mutrate_in_denominator_range[e]\n",
    "        )\n",
    "            \n",
    "print(f\"{len(edge2meancov):,} unique edges that we considered above (with min len of >= {MIN_SEQ_LEN:,} bp).\")\n",
    "print(f\"{len(edge2frac_diploid_to_mincov_positions):,} unique edges with > 0 min-cov positions.\")\n",
    "print(f\"{len(edge2frac_diploid_to_mincov_positions_with_at_least_one_mismatch):,} unique edges with > 0 min-cov positions with at least one mismatch.\")\n",
    "print(f\"{len(edge2frac_diploid_to_mincov_positions_with_at_least_one_mismatch_only_if_den_geq5):,} unique edges with  >= 5 min-cov positions with at least one mismatch.\")\n",
    "print(f\"{len(edge2frac_diploid_to_mincov_positions_in_denominator_range):,} unique edges with > 0 denominator range (for new method) positions.\")"
   ]
  },
  {
   "cell_type": "code",
   "execution_count": null,
   "metadata": {},
   "outputs": [],
   "source": [
    "def fracplot(edge2frac, denominator_desc, denclause=\" and a nonzero denominator\", use_symlog=True, figfilename=None):\n",
    "    \"\"\"Utility function to make it easy to draw these histograms of fractions.\n",
    "    \n",
    "    denominator_desc should be a string that'll be placed within a \\mathrm{} within a \\frac{}.\n",
    "    So, it should probably be a raw string that uses backslashes or something to add extra space between\n",
    "    words -- see the cells that use this function for some examples.\n",
    "    \n",
    "    A lot of the code here is yanked from the diversity index notebook I wrote.\n",
    "    \"\"\"\n",
    "    fig, ax = pyplot.subplots(1)\n",
    "    num_edges = len(edge2frac)\n",
    "    print(f\"{num_edges:,} edges represented in this edge2frac object.\")\n",
    "    fracs = [100 * v for v in edge2frac.values()]\n",
    "    \n",
    "    # For reference, print info about extreme edge values, for help with sanity-checking\n",
    "    # The key=edge2frac.get thing lets us essentially just do argmax: https://stackoverflow.com/a/280156\n",
    "    sorted_edges = sorted(edge2frac.keys(), key=edge2frac.get)\n",
    "    max_edge = sorted_edges[-1]\n",
    "    min_edge = sorted_edges[0]\n",
    "    print(f\"Max frac: {max(fracs)} (edge {max_edge}); min frac: {min(fracs)} (edge {min_edge})\")\n",
    "    N = 10\n",
    "    print(f\"Top {N} edges: {sorted_edges[-N:]}\")\n",
    "    print(f\"Bottom {N} edges: {sorted_edges[:N]}\")\n",
    "    \n",
    "    xlim_max = math.ceil(max(fracs))\n",
    "    bins = range(xlim_max + 1)\n",
    "    ax.hist(\n",
    "        fracs, \n",
    "        color=\"#660066\",\n",
    "        linewidth=1,\n",
    "        edgecolor=\"#220022\",\n",
    "        bins=bins\n",
    "    )\n",
    "    if xlim_max < 20:\n",
    "        ax.set_xticks(bins)\n",
    "    else:\n",
    "        ax.set_xticks(range(0, xlim_max + 1, 10))\n",
    "    if use_symlog:\n",
    "        ax.set_yscale(\"symlog\")\n",
    "        \n",
    "    ax.set_xlim(0, xlim_max)\n",
    "\n",
    "    # Don't write the axis numbers as 10^0, 10^1, etc. -- just write as 1, 10, etc.\n",
    "    # https://stackoverflow.com/a/49751075\n",
    "    ax.yaxis.set_major_formatter(matplotlib.ticker.ScalarFormatter())\n",
    "\n",
    "    use_thousands_sep(ax.yaxis)\n",
    "\n",
    "    ax.set_ylabel(\"Number of edges with fractions in a range\")\n",
    "    ax.set_xlabel(\"Fraction of 'diploid' positions (%)\")\n",
    "    ax.set_title(\n",
    "        f\"Histogram of {num_edges:,} edges\\nwith length $\\geq$ 5,000{denclause}:\\n\" +\n",
    "        r\"$\\frac{\\mathrm{Number\\ of\\ 'diploid'\\ positions\\ with\\ \\geq\\ 5x\\ coverage}}{\\mathrm{\" +\n",
    "        denominator_desc + \"}}$\",\n",
    "        fontsize=18\n",
    "    )\n",
    "    fig.set_size_inches(10, 5)\n",
    "    if figfilename is not None:\n",
    "        fig.savefig(f\"figs/{figfilename}\", bbox_inches=\"tight\")"
   ]
  },
  {
   "cell_type": "code",
   "execution_count": null,
   "metadata": {},
   "outputs": [],
   "source": [
    "fracplot(\n",
    "    edge2frac_diploid_to_mincov_positions,\n",
    "    r\"Number\\ of\\ positions\\ with\\ \\geq\\ 5x\\ coverage\",\n",
    "    figfilename=\"prokeukfrac_den_mincov.png\"\n",
    ")"
   ]
  },
  {
   "cell_type": "code",
   "execution_count": null,
   "metadata": {},
   "outputs": [],
   "source": [
    "fracplot(\n",
    "    edge2frac_diploid_to_mincov_positions_with_at_least_one_mismatch,\n",
    "    r\"Number\\ of\\ positions\\ with\\ at\\ least\\ one\\ mismatch\\ and\\ \\geq\\ 5x\\ coverage\",\n",
    "    figfilename=\"prokeukfrac_den_mincov_and_atleast_one_mm.png\"\n",
    ")"
   ]
  },
  {
   "cell_type": "code",
   "execution_count": null,
   "metadata": {},
   "outputs": [],
   "source": [
    "fracplot(\n",
    "    edge2frac_diploid_to_mincov_positions_with_at_least_one_mismatch_only_if_den_geq5,\n",
    "    r\"Number\\ of\\ positions\\ with\\ at\\ least\\ one\\ mismatch\\ and\\ \\geq\\ 5x\\ coverage\",\n",
    "    denclause=\" and $\\geq$ 5 positions in the denominator\",\n",
    "    figfilename=\"prokeukfrac_den_mincov_and_atleast_one_mm_den_geq_5_pos.png\"\n",
    ")"
   ]
  },
  {
   "cell_type": "code",
   "execution_count": null,
   "metadata": {},
   "outputs": [],
   "source": [
    "fracplot(\n",
    "    edge2frac_diploid_to_mincov_positions_in_denominator_range,\n",
    "    r\"Number\\ of\\ positions\\ with\\ alternate\\ frequency\\ rate\\ in\\ [5\\%,\\ 60\\%]\\ and\\ \\geq\\ 5x\\ coverage\",\n",
    "    figfilename=\"prokeukfrac_newden.png\"\n",
    ")"
   ]
  },
  {
   "cell_type": "code",
   "execution_count": null,
   "metadata": {},
   "outputs": [],
   "source": [
    "def estats(e):\n",
    "    num_dip = edge2num_mincov_putatively_diploid_positions[e]\n",
    "    num_1mm = edge2num_mincov_positions_with_at_least_one_mismatch[e]\n",
    "    num_mcp = edge2num_mincov_positions[e]\n",
    "    print(\"=\" * 79)\n",
    "    print(f\"Edge {e} ({edge2len[e]:,} bp long) has ...\")\n",
    "    print(f\"{num_mcp:,} min-cov'd positions.\")\n",
    "    print(f\"{num_1mm:,} min-cov'd positions with at least one mismatch.\")\n",
    "    print(f\"{num_dip:,} 'diploid' min-cov'd positions.\")\n",
    "    try:\n",
    "        print(f\"Frac of mincov diploid to total mincov: {edge2frac_diploid_to_mincov_positions[e]}\")\n",
    "        print(f\"Frac of mincov diploid to mincov'd with at least one mismatch: {edge2frac_diploid_to_mincov_positions_with_at_least_one_mismatch[e]}\")\n",
    "        print(f\"Frac of mincov diploid to mincov'd with at least one mismatch,\\n    limited to if there are >= 5 such denominator positions: {edge2frac_diploid_to_mincov_positions_with_at_least_one_mismatch_only_if_den_geq5[e]}\")\n",
    "    except KeyError:\n",
    "        print(f\"(Looks like this edge doesn't have all fractions defined for it.)\")\n",
    "        pass"
   ]
  },
  {
   "cell_type": "code",
   "execution_count": null,
   "metadata": {},
   "outputs": [],
   "source": [
    "estats(\"edge_17771\")\n",
    "estats(\"edge_71904\")\n",
    "estats(\"edge_66025\")\n",
    "estats(\"edge_78689\")\n",
    "estats(\"edge_78501\")\n",
    "# example of an edge where we probs shouldn't care much about it, since it only has 1 min-cov'd position\n",
    "# with at least one mismatch (so although its fraction for the second plot is 100%, it's probs\n",
    "# not super interesting)\n",
    "estats(\"edge_2987\")\n",
    "# from BLASTing this, seems like it might be a bacteria?\n",
    "estats(\"edge_4916\")"
   ]
  },
  {
   "cell_type": "markdown",
   "metadata": {},
   "source": [
    "## Go through some of the highest-fraction edges and retrieve their sequences in a FASTA file\n",
    "\n",
    "So we can BLAST them, to get a sense for if they might actually correspond to sequences from eukaryotic organisms."
   ]
  },
  {
   "cell_type": "code",
   "execution_count": null,
   "metadata": {},
   "outputs": [],
   "source": [
    "# I just copied these lists from the \"top N\" output printed from the fracplot() function, but I could also\n",
    "# totally things up so that these are automatically computed\n",
    "edges_to_fetch = set(\n",
    "    ['edge_44228', 'edge_61346', 'edge_56298', 'edge_28715', 'edge_38218', 'edge_72103', 'edge_71715', 'edge_4916', 'edge_71904', 'edge_66025'] +\n",
    "    ['edge_64859', 'edge_65510', 'edge_67407', 'edge_69012', 'edge_69441', 'edge_71967', 'edge_73691', 'edge_78462', 'edge_78501', 'edge_78689']\n",
    ")\n",
    "print(f\"Trying to fetch {len(edges_to_fetch)} edge sequences.\")\n",
    "out_fasta = \"\"\n",
    "with open(\"../main-workflow/output/all_edges.fasta\", \"r\") as fastafile:\n",
    "    \n",
    "    # Assumes that sequences are not split up over multiple lines (so a FASTA file with N sequences\n",
    "    # should have only 2N lines, maybe 2N + 1 if there's an extra empty newline at the bottom of the file)\n",
    "    for linenum, line in enumerate(fastafile):\n",
    "    \n",
    "        if line.startswith(\">\"):\n",
    "            if linenum % 2 != 0:\n",
    "                raise ValueError(\"something weird with > location in all_edges.fasta. Go yell at Marcus.\")\n",
    "            edgename = line.strip()[1:]\n",
    "        else:\n",
    "            if linenum % 2 != 1:\n",
    "                raise ValueError(\"something weird with non > location in all_edges.fasta. Go yell at Marcus.\")\n",
    "            if edgename is None:\n",
    "                raise ValueError(\"No sequence name set yet?\")\n",
    "            if edgename in edges_to_fetch:\n",
    "                seq = line.strip()\n",
    "                out_fasta += f\">{edgename}\\n{seq}\\n\"\n",
    "            edgename = None\n",
    "\n",
    "with open(\"misc-output/potentially_euk_edges.fasta\", \"w\") as eukfile:\n",
    "    eukfile.write(out_fasta)\n",
    "\n",
    "print(\"Done!\")"
   ]
  },
  {
   "cell_type": "code",
   "execution_count": null,
   "metadata": {},
   "outputs": [],
   "source": []
  }
 ],
 "metadata": {
  "kernelspec": {
   "display_name": "Python 3",
   "language": "python",
   "name": "python3"
  },
  "language_info": {
   "codemirror_mode": {
    "name": "ipython",
    "version": 3
   },
   "file_extension": ".py",
   "mimetype": "text/x-python",
   "name": "python",
   "nbconvert_exporter": "python",
   "pygments_lexer": "ipython3",
   "version": "3.7.10"
  }
 },
 "nbformat": 4,
 "nbformat_minor": 4
}
