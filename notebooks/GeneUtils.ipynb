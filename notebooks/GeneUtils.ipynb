{
 "cells": [
  {
   "cell_type": "markdown",
   "metadata": {},
   "source": [
    "# Gene analysis utility functions\n",
    "\n",
    "This relies on the `Header` notebook already having been run. The `gene` objects here are named tuples from `parse_sco().itertuples()`.\n",
    "\n",
    "... TODO, this should really just be a python module, sheesh"
   ]
  },
  {
   "cell_type": "code",
   "execution_count": 2,
   "metadata": {},
   "outputs": [],
   "source": [
    "def get_pos_interval_from_gene(gene):\n",
    "    try:\n",
    "        start = int(gene.LeftEnd)\n",
    "    except ValueError:\n",
    "        # Account for the \"<2\" left end coordinate in one of the genes predicted\n",
    "        start = int(gene.LeftEnd[1:])\n",
    "        \n",
    "    try:\n",
    "        end = int(gene.RightEnd)\n",
    "    except ValueError:\n",
    "        # Account for the \">N\" right end coordinate in one of the genes predicted\n",
    "        end = int(gene.RightEnd[1:])\n",
    "\n",
    "    if gene.Strand == \"-\":\n",
    "        return range(end, start - 1, -1)\n",
    "    elif gene.Strand == \"+\":\n",
    "        return range(start, end + 1)\n",
    "    else:\n",
    "        raise ValueError(\"Unknown strand: {}\".format(gene.Strand))"
   ]
  },
  {
   "cell_type": "code",
   "execution_count": 1,
   "metadata": {},
   "outputs": [],
   "source": [
    "def validate_gene_coords(gene):\n",
    "    if gene.LeftEnd >= gene.RightEnd:\n",
    "        raise ValueError(\n",
    "            f\"Gene {gene.Index}'s coordinates seem messed up: \"\n",
    "            f\"left = {gene.LeftEnd:,}, right = {gene.RightEnd:,}\"\n",
    "        )"
   ]
  },
  {
   "cell_type": "code",
   "execution_count": 6,
   "metadata": {},
   "outputs": [],
   "source": [
    "def get_gene_left_codon_positions(gene):\n",
    "    return [\n",
    "        i for i in range(gene.LeftEnd, gene.RightEnd + 1, 3)\n",
    "    ]"
   ]
  },
  {
   "cell_type": "code",
   "execution_count": 12,
   "metadata": {},
   "outputs": [],
   "source": [
    "# TODO: Should really move this to another file, automate this process with Travis / GH Actions, etc.\n",
    "def test():\n",
    "    import parse_sco\n",
    "    camp_genes = parse_sco.parse_sco(\"../seqs/genes/edge_1671.sco\")\n",
    "    for gene in camp_genes.itertuples():\n",
    "        validate_gene_coords(gene)\n",
    "        left_cps = get_gene_left_codon_positions(gene)\n",
    "        assert len(left_cps) == (gene.RightEnd - gene.LeftEnd + 1) / 3\n",
    "# test()"
   ]
  },
  {
   "cell_type": "code",
   "execution_count": null,
   "metadata": {},
   "outputs": [],
   "source": []
  }
 ],
 "metadata": {
  "kernelspec": {
   "display_name": "Python 3",
   "language": "python",
   "name": "python3"
  },
  "language_info": {
   "codemirror_mode": {
    "name": "ipython",
    "version": 3
   },
   "file_extension": ".py",
   "mimetype": "text/x-python",
   "name": "python",
   "nbconvert_exporter": "python",
   "pygments_lexer": "ipython3",
   "version": "3.7.10"
  }
 },
 "nbformat": 4,
 "nbformat_minor": 4
}
