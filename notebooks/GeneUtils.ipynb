{
 "cells": [
  {
   "cell_type": "markdown",
   "metadata": {},
   "source": [
    "# Gene analysis utility functions\n",
    "\n",
    "This relies on the `Header` notebook already having been run.\n",
    "\n",
    "... TODO, this should really just be a python module, sheesh"
   ]
  },
  {
   "cell_type": "code",
   "execution_count": 2,
   "metadata": {},
   "outputs": [],
   "source": [
    "def get_pos_interval_from_gene(gene):\n",
    "    try:\n",
    "        start = int(gene.LeftEnd)\n",
    "    except ValueError:\n",
    "        # Account for the \"<2\" left end coordinate in one of the genes predicted\n",
    "        start = int(gene.LeftEnd[1:])\n",
    "        \n",
    "    try:\n",
    "        end = int(gene.RightEnd)\n",
    "    except ValueError:\n",
    "        # Account for the \">N\" right end coordinate in one of the genes predicted\n",
    "        end = int(gene.RightEnd[1:])\n",
    "\n",
    "    if gene.Strand == \"-\":\n",
    "        return range(end, start - 1, -1)\n",
    "    elif gene.Strand == \"+\":\n",
    "        return range(start, end + 1)\n",
    "    else:\n",
    "        raise ValueError(\"Unknown strand: {}\".format(gene.Strand))"
   ]
  }
 ],
 "metadata": {
  "kernelspec": {
   "display_name": "Python 3",
   "language": "python",
   "name": "python3"
  },
  "language_info": {
   "codemirror_mode": {
    "name": "ipython",
    "version": 3
   },
   "file_extension": ".py",
   "mimetype": "text/x-python",
   "name": "python",
   "nbconvert_exporter": "python",
   "pygments_lexer": "ipython3",
   "version": "3.7.10"
  }
 },
 "nbformat": 4,
 "nbformat_minor": 4
}
