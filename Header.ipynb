{
 "cells": [
  {
   "cell_type": "code",
   "execution_count": 1,
   "metadata": {},
   "outputs": [],
   "source": [
    "import matplotlib\n",
    "from matplotlib import pyplot\n",
    "from statistics import median, mean\n",
    "\n",
    "# Make the plots used here look kinda like ggplots\n",
    "pyplot.style.use(\"ggplot\")\n",
    "\n",
    "# Use a consistent color scheme for relating codon positions to colors.\n",
    "#\n",
    "# Uses a hopefully colorblind-friendly grayscale scheme, where CP 1 = black, CP 2 = gray, and CP 3 = white\n",
    "# (This should be accompanied by black borders around each color so that the gray/white are easily visible on\n",
    "# a light background).\n",
    "#\n",
    "# We also say CP 4 = green (which is not quite as colorblind-friendly... in the future would be good to add a\n",
    "# pattern or something). I know what you're thinking -- \"CP 4? The computer scientists have gone too\n",
    "# far this time.\" But don't worry, I know basic biology (hopefully) -- CP 4 here is shorthand that means\n",
    "# \"positions in non-coding regions of the genome\", since it can be interesting to summarize these positions\n",
    "# alongside the CPs.\n",
    "cp2color = {1: \"#000000\", 2: \"#888888\", 3: \"#ffffff\", 4: \"#29D321\"}\n",
    "BORDERCOLOR = \"#000000\"\n",
    "\n",
    "# This is the blue color used in the ggplot-style matplotlib color settings: from\n",
    "# https://gist.github.com/huyng/816622\n",
    "SCATTERPLOT_PT_COLOR = \"#348ABD\"\n",
    "\n",
    "# Maps seq names to easier-to-remember names used in the report.\n",
    "seq2name = {\"edge_6104\": \"CAMP\", \"edge_1371\": \"BUT\", \"edge_2358\": \"BACT\"}\n",
    "SEQS = [\"edge_6104\", \"edge_1371\", \"edge_2358\"]"
   ]
  },
  {
   "cell_type": "code",
   "execution_count": 2,
   "metadata": {},
   "outputs": [],
   "source": [
    "def use_thousands_sep(mpl_axis):\n",
    "    # Use thousands separators for positions.\n",
    "    # For an arbitrary pyplot figure, you can call this function with pyplot.gca().xaxis or pyplot.gca().yaxis. \n",
    "    # Modified from https://stackoverflow.com/a/25973637 -- this is modified to work better with integers\n",
    "    # (matplotlib seems to store all values as floats internally, even essentially integral things -- so we can\n",
    "    # use the float.is_integer() method to see if a value is \"close enough\" to an integer, and if so remove the\n",
    "    # trailing \".0\" that happens when you try to format a float of an integer -- see\n",
    "    # https://stackoverflow.com/a/21583817.)\n",
    "    mpl_axis.set_major_formatter(matplotlib.ticker.FuncFormatter(\n",
    "        lambda x, pos: \"{:,}\".format(int(x)) if x.is_integer() else \"{:,}\".format(x)\n",
    "    ))"
   ]
  }
 ],
 "metadata": {
  "kernelspec": {
   "display_name": "q2-fall2020",
   "language": "python",
   "name": "myenv"
  },
  "language_info": {
   "codemirror_mode": {
    "name": "ipython",
    "version": 3
   },
   "file_extension": ".py",
   "mimetype": "text/x-python",
   "name": "python",
   "nbconvert_exporter": "python",
   "pygments_lexer": "ipython3",
   "version": "3.6.10"
  }
 },
 "nbformat": 4,
 "nbformat_minor": 4
}
