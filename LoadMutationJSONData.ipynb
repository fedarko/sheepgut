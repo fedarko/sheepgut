{
 "cells": [
  {
   "cell_type": "markdown",
   "metadata": {},
   "source": [
    "## Load JSON pileup data\n",
    "\n",
    "Rather than download plaintext pileup data or a BAM file from Bloom, I converted the BAM file to four JSON files:\n",
    "\n",
    "- `seq2pos2totalcov.json`: Maps sequence name to a mapping from position (1-indexed) to the total number of aligned reads covering that position. Includes all reads in the alignment (with the exception of partially-mapped reads, which I filtered explicitly).\n",
    "\n",
    "\n",
    "- `seq2pos2matchct.json`: Maps sequence name to a mapping from position (1-indexed) to the number of aligned reads covering that position __that actually match the reference at this position__.\n",
    "\n",
    "\n",
    "- `seq2pos2mismatchct.json`: Maps sequence name to a mapping from position (1-indexed) to the number of aligned reads covering that position __that do not match the reference at this position__. This does not include deletions -- it should only include actual mismatches in the alignment.\n",
    "\n",
    "\n",
    "- `seq2pos2mismatches.json`: Maps sequence name to a mapping from position (1-indexed) to another mapping, where the keys can be any of `A`, `C`, `G`, `T` and the values are the number of time this non-matching base was seen in the reads aligned to this sequence. Nucleotides not seen at a position are omitted from the innermost mapping, so if the `mismatchct` of this position is 0 then this will be `{}`.\n",
    "\n",
    "These JSON files are in total only 349 MB, which is a lot easier to download than a ~100 GB BAM file!\n",
    "\n",
    "**NOTE: positions are stored as strings due to this being roundtripped through JSON. TODO, if we store / load as ints this should fix pyplot stuff with plotting spectra and decrease filesize.**"
   ]
  },
  {
   "cell_type": "code",
   "execution_count": null,
   "metadata": {},
   "outputs": [],
   "source": [
    "import json\n",
    "import os\n",
    "\n",
    "JSONPREFIX = \"/home/marcus/PevznerLabBigData/20201202_big_nonhaplo_oldgfa_graph/20201216_edges/\"\n",
    "\n",
    "seq2pos2totalcov = {}\n",
    "with open(os.path.join(JSONPREFIX, \"seq2pos2totalcov.json\"), \"r\") as jf:\n",
    "    seq2pos2totalcov = json.load(jf)\n",
    "\n",
    "seq2pos2matchct = {}\n",
    "with open(os.path.join(JSONPREFIX, \"seq2pos2matchct.json\"), \"r\") as jf:\n",
    "    seq2pos2matchct = json.load(jf)\n",
    "\n",
    "seq2pos2mismatchct = {}\n",
    "with open(os.path.join(JSONPREFIX, \"seq2pos2mismatchct.json\"), \"r\") as jf:\n",
    "    seq2pos2mismatchct = json.load(jf)\n",
    "    \n",
    "seq2pos2mismatches = {}\n",
    "with open(os.path.join(JSONPREFIX, \"seq2pos2mismatches.json\"), \"r\") as jf:\n",
    "    seq2pos2mismatches = json.load(jf)"
   ]
  }
 ],
 "metadata": {
  "kernelspec": {
   "display_name": "q2-fall2020",
   "language": "python",
   "name": "myenv"
  },
  "language_info": {
   "codemirror_mode": {
    "name": "ipython",
    "version": 3
   },
   "file_extension": ".py",
   "mimetype": "text/x-python",
   "name": "python",
   "nbconvert_exporter": "python",
   "pygments_lexer": "ipython3",
   "version": "3.6.10"
  }
 },
 "nbformat": 4,
 "nbformat_minor": 4
}
